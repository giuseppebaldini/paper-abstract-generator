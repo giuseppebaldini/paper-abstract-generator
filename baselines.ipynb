{
 "cells": [
  {
   "cell_type": "markdown",
   "metadata": {
    "tags": []
   },
   "source": [
    "# Baseline Models"
   ]
  },
  {
   "cell_type": "code",
   "execution_count": 1,
   "metadata": {
    "tags": []
   },
   "outputs": [
    {
     "name": "stderr",
     "output_type": "stream",
     "text": [
      "D:\\giuse\\Conda\\envs\\thesis\\lib\\site-packages\\gensim\\similarities\\__init__.py:15: UserWarning: The gensim.similarities.levenshtein submodule is disabled, because the optional Levenshtein package <https://pypi.org/project/python-Levenshtein/> is unavailable. Install Levenhstein (e.g. `pip install python-Levenshtein`) to suppress this warning.\n",
      "  warnings.warn(msg)\n"
     ]
    }
   ],
   "source": [
    "import numpy as np\n",
    "\n",
    "import gensim\n",
    "\n",
    "import math\n",
    "\n",
    "from tensorflow.keras import utils\n",
    "from tensorflow.keras.models import Sequential\n",
    "from tensorflow.keras.callbacks import ModelCheckpoint\n",
    "from tensorflow.keras.layers import GRU, LSTM, Activation, Dense, Dropout, Embedding\n",
    "from tensorflow.keras.callbacks import History "
   ]
  },
  {
   "cell_type": "code",
   "execution_count": 2,
   "metadata": {},
   "outputs": [],
   "source": [
    "w2v_model = gensim.models.KeyedVectors.load(\"w2v.model\", mmap='r')"
   ]
  },
  {
   "cell_type": "code",
   "execution_count": 3,
   "metadata": {},
   "outputs": [
    {
     "data": {
      "text/plain": [
       "(17862, 100)"
      ]
     },
     "execution_count": 3,
     "metadata": {},
     "output_type": "execute_result"
    }
   ],
   "source": [
    "vocab_size, emdedding_size = w2v_model.wv.vectors.shape\n",
    "vocab_size, emdedding_size"
   ]
  },
  {
   "cell_type": "code",
   "execution_count": 4,
   "metadata": {},
   "outputs": [],
   "source": [
    "x = np.load('data/x.npy')\n",
    "y = np.load('data/y.npy')[:,0]"
   ]
  },
  {
   "cell_type": "code",
   "execution_count": 5,
   "metadata": {},
   "outputs": [
    {
     "data": {
      "text/plain": [
       "((5841, 100), (5841,))"
      ]
     },
     "execution_count": 5,
     "metadata": {},
     "output_type": "execute_result"
    }
   ],
   "source": [
    "x.shape, y.shape"
   ]
  },
  {
   "cell_type": "code",
   "execution_count": 6,
   "metadata": {},
   "outputs": [],
   "source": [
    "# instantiate history to save losses\n",
    "history = History()"
   ]
  },
  {
   "cell_type": "markdown",
   "metadata": {
    "tags": []
   },
   "source": [
    "## Baseline #1: GRU"
   ]
  },
  {
   "cell_type": "code",
   "execution_count": 7,
   "metadata": {},
   "outputs": [],
   "source": [
    "gru = Sequential()\n",
    "\n",
    "gru.add(Embedding(input_dim=vocab_size, output_dim=emdedding_size))\n",
    "gru.add(GRU(256, input_shape=(vocab_size, emdedding_size), return_sequences=True))\n",
    "gru.add(Dropout(0.2))\n",
    "gru.add(GRU(256, return_sequences=True))\n",
    "gru.add(Dropout(0.2))\n",
    "gru.add(GRU(128))\n",
    "gru.add(Dropout(0.2))\n",
    "gru.add(Dense(vocab_size, activation='softmax'))"
   ]
  },
  {
   "cell_type": "code",
   "execution_count": 8,
   "metadata": {},
   "outputs": [],
   "source": [
    "gru.compile(loss='sparse_categorical_crossentropy', optimizer='adam')"
   ]
  },
  {
   "cell_type": "code",
   "execution_count": 9,
   "metadata": {},
   "outputs": [],
   "source": [
    "filepath = \"weights/gru.hdf5\"\n",
    "checkpoint = ModelCheckpoint(filepath, monitor='val_loss', verbose=1, save_best_only=True, mode='min')\n",
    "callbacks = [checkpoint]"
   ]
  },
  {
   "cell_type": "code",
   "execution_count": null,
   "metadata": {
    "collapsed": true,
    "jupyter": {
     "outputs_hidden": true
    },
    "tags": []
   },
   "outputs": [
    {
     "name": "stdout",
     "output_type": "stream",
     "text": [
      "Train on 4672 samples, validate on 1169 samples\n",
      "Epoch 1/10\n",
      "4608/4672 [============================>.] - ETA: 0s - loss: 8.1299\n",
      "Epoch 00001: val_loss improved from inf to 7.53704, saving model to weights/gru.hdf5\n",
      "4672/4672 [==============================] - 73s 16ms/sample - loss: 8.1188 - val_loss: 7.5370\n",
      "Epoch 2/10\n",
      "4608/4672 [============================>.] - ETA: 0s - loss: 6.7775\n",
      "Epoch 00002: val_loss did not improve from 7.53704\n",
      "4672/4672 [==============================] - 61s 13ms/sample - loss: 6.7748 - val_loss: 7.5915\n",
      "Epoch 3/10\n",
      "4608/4672 [============================>.] - ETA: 0s - loss: 6.5324\n",
      "Epoch 00003: val_loss did not improve from 7.53704\n",
      "4672/4672 [==============================] - 59s 13ms/sample - loss: 6.5316 - val_loss: 7.6017\n",
      "Epoch 4/10\n",
      "4608/4672 [============================>.] - ETA: 0s - loss: 6.3057\n",
      "Epoch 00004: val_loss did not improve from 7.53704\n",
      "4672/4672 [==============================] - 60s 13ms/sample - loss: 6.3074 - val_loss: 7.6414\n",
      "Epoch 5/10\n",
      "4608/4672 [============================>.] - ETA: 0s - loss: 6.1676\n",
      "Epoch 00005: val_loss did not improve from 7.53704\n",
      "4672/4672 [==============================] - 60s 13ms/sample - loss: 6.1658 - val_loss: 7.7669\n",
      "Epoch 6/10\n",
      "4608/4672 [============================>.] - ETA: 0s - loss: 6.0531\n",
      "Epoch 00006: val_loss did not improve from 7.53704\n",
      "4672/4672 [==============================] - 60s 13ms/sample - loss: 6.0514 - val_loss: 7.8085\n",
      "Epoch 7/10\n",
      "4608/4672 [============================>.] - ETA: 0s - loss: 5.9371\n",
      "Epoch 00007: val_loss did not improve from 7.53704\n",
      "4672/4672 [==============================] - 62s 13ms/sample - loss: 5.9398 - val_loss: 7.8485\n",
      "Epoch 8/10\n",
      "4608/4672 [============================>.] - ETA: 0s - loss: 5.7825\n",
      "Epoch 00008: val_loss did not improve from 7.53704\n",
      "4672/4672 [==============================] - 62s 13ms/sample - loss: 5.7828 - val_loss: 7.8565\n",
      "Epoch 9/10\n",
      "4608/4672 [============================>.] - ETA: 0s - loss: 5.6208"
     ]
    }
   ],
   "source": [
    "gru_loss = gru.fit(x, y, validation_split=0.2, batch_size=64, epochs=10, callbacks=callbacks)"
   ]
  },
  {
   "cell_type": "code",
   "execution_count": null,
   "metadata": {
    "collapsed": true,
    "jupyter": {
     "outputs_hidden": true
    },
    "tags": []
   },
   "outputs": [
    {
     "name": "stdout",
     "output_type": "stream",
     "text": [
      "Train on 4672 samples, validate on 1169 samples\n",
      "Epoch 1/10\n",
      "4608/4672 [============================>.] - ETA: 0s - loss: 8.1299\n",
      "Epoch 00001: val_loss improved from inf to 7.53704, saving model to weights/gru.hdf5\n",
      "4672/4672 [==============================] - 73s 16ms/sample - loss: 8.1188 - val_loss: 7.5370\n",
      "Epoch 2/10\n",
      "4608/4672 [============================>.] - ETA: 0s - loss: 6.7775\n",
      "Epoch 00002: val_loss did not improve from 7.53704\n",
      "4672/4672 [==============================] - 61s 13ms/sample - loss: 6.7748 - val_loss: 7.5915\n",
      "Epoch 3/10\n",
      "4608/4672 [============================>.] - ETA: 0s - loss: 6.5324\n",
      "Epoch 00003: val_loss did not improve from 7.53704\n",
      "4672/4672 [==============================] - 59s 13ms/sample - loss: 6.5316 - val_loss: 7.6017\n",
      "Epoch 4/10\n",
      "4608/4672 [============================>.] - ETA: 0s - loss: 6.3057\n",
      "Epoch 00004: val_loss did not improve from 7.53704\n",
      "4672/4672 [==============================] - 60s 13ms/sample - loss: 6.3074 - val_loss: 7.6414\n",
      "Epoch 5/10\n",
      "4608/4672 [============================>.] - ETA: 0s - loss: 6.1676\n",
      "Epoch 00005: val_loss did not improve from 7.53704\n",
      "4672/4672 [==============================] - 60s 13ms/sample - loss: 6.1658 - val_loss: 7.7669\n",
      "Epoch 6/10\n",
      "4608/4672 [============================>.] - ETA: 0s - loss: 6.0531\n",
      "Epoch 00006: val_loss did not improve from 7.53704\n",
      "4672/4672 [==============================] - 60s 13ms/sample - loss: 6.0514 - val_loss: 7.8085\n",
      "Epoch 7/10\n",
      "4608/4672 [============================>.] - ETA: 0s - loss: 5.9371\n",
      "Epoch 00007: val_loss did not improve from 7.53704\n",
      "4672/4672 [==============================] - 62s 13ms/sample - loss: 5.9398 - val_loss: 7.8485\n",
      "Epoch 8/10\n",
      "4608/4672 [============================>.] - ETA: 0s - loss: 5.7825\n",
      "Epoch 00008: val_loss did not improve from 7.53704\n",
      "4672/4672 [==============================] - 62s 13ms/sample - loss: 5.7828 - val_loss: 7.8565\n",
      "Epoch 9/10\n",
      "3968/4672 [========================>.....] - ETA: 8s - loss: 5.5874"
     ]
    }
   ],
   "source": [
    "gru_loss = gru.fit(x, y, validation_split=0.2, batch_size=64, epochs=5, callbacks=callbacks)"
   ]
  },
  {
   "cell_type": "markdown",
   "metadata": {
    "tags": []
   },
   "source": [
    "## Baseline #2: GRU + Word2Vec"
   ]
  },
  {
   "cell_type": "code",
   "execution_count": null,
   "metadata": {
    "tags": []
   },
   "outputs": [],
   "source": [
    "gru_w2v = Sequential()\n",
    "\n",
    "gru_w2v.add(Embedding(input_dim=vocab_size, output_dim=emdedding_size, weights=[w2v_model.wv.vectors]))\n",
    "gru_w2v.add(GRU(256, input_shape=(vocab_size, emdedding_size), return_sequences=True))\n",
    "gru_w2v.add(Dropout(0.2))\n",
    "gru_w2v.add(GRU(256, return_sequences=True))\n",
    "gru_w2v.add(Dropout(0.2))\n",
    "gru_w2v.add(GRU(128))\n",
    "gru_w2v.add(Dropout(0.2))\n",
    "gru_w2v.add(Dense(vocab_size, activation='softmax'))"
   ]
  },
  {
   "cell_type": "code",
   "execution_count": null,
   "metadata": {},
   "outputs": [],
   "source": [
    "gru_w2v.compile(loss='sparse_categorical_crossentropy', optimizer='adam')"
   ]
  },
  {
   "cell_type": "code",
   "execution_count": null,
   "metadata": {
    "tags": []
   },
   "outputs": [],
   "source": [
    "filepath = \"weights/gru_w2v.hdf5\"\n",
    "checkpoint = ModelCheckpoint(filepath, monitor='val_loss', verbose=1, save_best_only=True, mode='min')\n",
    "callbacks = [checkpoint]"
   ]
  },
  {
   "cell_type": "code",
   "execution_count": null,
   "metadata": {
    "tags": []
   },
   "outputs": [],
   "source": [
    "gru_w2v_loss = gru_w2v.fit(x, y, validation_split=0.2, batch_size=64, epochs=10, callbacks=callbacks)"
   ]
  },
  {
   "cell_type": "markdown",
   "metadata": {
    "tags": []
   },
   "source": [
    "## Baseline #3: LSTM "
   ]
  },
  {
   "cell_type": "code",
   "execution_count": null,
   "metadata": {},
   "outputs": [],
   "source": [
    "lstm = Sequential()\n",
    "\n",
    "lstm.add(Embedding(input_dim=vocab_size, output_dim=emdedding_size))\n",
    "lstm.add(GRU(256, input_shape=(vocab_size, emdedding_size), return_sequences=True))\n",
    "lstm.add(Dropout(0.2))\n",
    "lstm.add(GRU(256, return_sequences=True))\n",
    "lstm.add(Dropout(0.2))\n",
    "lstm.add(GRU(128))\n",
    "lstm.add(Dropout(0.2))\n",
    "lstm.add(Dense(vocab_size, activation='softmax'))"
   ]
  },
  {
   "cell_type": "code",
   "execution_count": null,
   "metadata": {},
   "outputs": [],
   "source": [
    "lstm.compile(loss='sparse_categorical_crossentropy', optimizer='adam')"
   ]
  },
  {
   "cell_type": "code",
   "execution_count": null,
   "metadata": {},
   "outputs": [],
   "source": [
    "filepath = \"weights/lstm.hdf5\"\n",
    "checkpoint = ModelCheckpoint(filepath, monitor='val_loss', verbose=1, save_best_only=True, mode='min')\n",
    "callbacks = [checkpoint]"
   ]
  },
  {
   "cell_type": "code",
   "execution_count": null,
   "metadata": {
    "tags": []
   },
   "outputs": [],
   "source": [
    "lstm_loss = lstm.fit(x, y, validation_split=0.2, batch_size=64, epochs=10, callbacks=callbacks)"
   ]
  },
  {
   "cell_type": "markdown",
   "metadata": {
    "tags": []
   },
   "source": [
    "## Baseline #4: LSTM + Word2Vec "
   ]
  },
  {
   "cell_type": "code",
   "execution_count": null,
   "metadata": {},
   "outputs": [],
   "source": [
    "lstm_w2v = Sequential()\n",
    "\n",
    "lstm_w2v.add(Embedding(input_dim=vocab_size, output_dim=100, weights=[w2v_model.wv.vectors]))\n",
    "lstm_w2v.add(LSTM(256, input_shape=(vocab_size, 100), return_sequences=True))\n",
    "lstm_w2v.add(Dropout(0.2))\n",
    "lstm_w2v.add(LSTM(256, return_sequences=True))\n",
    "lstm_w2v.add(Dropout(0.2))\n",
    "lstm_w2v.add(LSTM(128))\n",
    "lstm_w2v.add(Dropout(0.2))\n",
    "lstm_w2v.add(Dense(vocab_size, activation='softmax'))"
   ]
  },
  {
   "cell_type": "code",
   "execution_count": null,
   "metadata": {},
   "outputs": [],
   "source": [
    "lstm_w2v.compile(loss='sparse_categorical_crossentropy', optimizer='adam')"
   ]
  },
  {
   "cell_type": "code",
   "execution_count": null,
   "metadata": {},
   "outputs": [],
   "source": [
    "filepath = \"weights/lstm_w2v.hdf5\"\n",
    "checkpoint = ModelCheckpoint(filepath, monitor='val_loss', verbose=1, save_best_only=True, mode='min')\n",
    "callbacks = [checkpoint]"
   ]
  },
  {
   "cell_type": "code",
   "execution_count": null,
   "metadata": {
    "tags": []
   },
   "outputs": [],
   "source": [
    "lstm_w2v_loss = lstm_w2v.fit(x, y, validation_split=0.2, batch_size=64, epochs=10, callbacks=callbacks)"
   ]
  },
  {
   "cell_type": "markdown",
   "metadata": {
    "tags": []
   },
   "source": [
    "## Generation"
   ]
  },
  {
   "cell_type": "code",
   "execution_count": null,
   "metadata": {},
   "outputs": [],
   "source": [
    "def sample(preds, temperature):\n",
    "    if temperature <= 0:\n",
    "        return np.argmax(preds)\n",
    "\n",
    "    preds = np.asarray(preds).astype('float64')\n",
    "    preds = np.log(preds) / temperature\n",
    "  \n",
    "    exp_preds = np.exp(preds)\n",
    "    preds = exp_preds / np.sum(exp_preds)\n",
    "  \n",
    "    probas = np.random.multinomial(1, preds, 1)\n",
    "    return np.argmax(probas)"
   ]
  },
  {
   "cell_type": "code",
   "execution_count": null,
   "metadata": {},
   "outputs": [],
   "source": [
    "def word_to_id(word):\n",
    "    return w2v_model.wv.key_to_index[word]\n",
    "\n",
    "def id_to_word(id):\n",
    "    return w2v_model.wv.index_to_key[id]"
   ]
  },
  {
   "cell_type": "code",
   "execution_count": null,
   "metadata": {},
   "outputs": [],
   "source": [
    "def generate(model=gru, prompt='In this paper', words=20, temperature=0.2):\n",
    "    word_ids = [word_to_id(word) for word in prompt.lower().split()]\n",
    "    \n",
    "    for i in range(words):\n",
    "        prediction = model.predict(x=np.array(word_ids))\n",
    "        id = sample(prediction[-1], temperature)\n",
    "        word_ids.append(id)\n",
    "    \n",
    "    return ' '.join(id_to_word(id) for id in word_ids)"
   ]
  },
  {
   "cell_type": "code",
   "execution_count": null,
   "metadata": {
    "tags": []
   },
   "outputs": [],
   "source": [
    "generate(model=lstm, prompt='our approach', temperature=0.4)"
   ]
  },
  {
   "cell_type": "markdown",
   "metadata": {
    "tags": []
   },
   "source": [
    "## Evaluation"
   ]
  },
  {
   "cell_type": "code",
   "execution_count": null,
   "metadata": {},
   "outputs": [],
   "source": [
    "name = {gru_loss: 'GRU', gru_w2v_loss: 'GRU + Word2Vec', lstm_loss: 'LSTM', lstm_w2v_loss: 'LSTM + Word2Vec'}"
   ]
  },
  {
   "cell_type": "code",
   "execution_count": null,
   "metadata": {},
   "outputs": [],
   "source": [
    "def min_val_loss(model):\n",
    "    min model.history['val_loss']"
   ]
  },
  {
   "cell_type": "code",
   "execution_count": null,
   "metadata": {},
   "outputs": [],
   "source": [
    "for model in [gru_loss, gru_w2v_loss, lstm_loss, lstm_w2v_loss]:\n",
    "    print(\"Minimum validation loss for {}: {:.5f}\".format(name[model], min_val_loss(model)))\n",
    "    print(\"\\Perplexity for model {}: {:.2f}\".format(name[model], math.exp(min_val_loss(model))))"
   ]
  }
 ],
 "metadata": {
  "kernelspec": {
   "display_name": "Python 3",
   "language": "python",
   "name": "python3"
  },
  "language_info": {
   "codemirror_mode": {
    "name": "ipython",
    "version": 3
   },
   "file_extension": ".py",
   "mimetype": "text/x-python",
   "name": "python",
   "nbconvert_exporter": "python",
   "pygments_lexer": "ipython3",
   "version": "3.6.13"
  }
 },
 "nbformat": 4,
 "nbformat_minor": 4
}
