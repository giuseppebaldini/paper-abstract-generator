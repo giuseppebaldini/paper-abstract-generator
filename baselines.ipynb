{
 "cells": [
  {
   "cell_type": "markdown",
   "metadata": {
    "tags": []
   },
   "source": [
    "# Baseline Models"
   ]
  },
  {
   "cell_type": "code",
   "execution_count": 1,
   "metadata": {
    "tags": []
   },
   "outputs": [
    {
     "name": "stderr",
     "output_type": "stream",
     "text": [
      "D:\\giuse\\Conda\\envs\\thesis\\lib\\site-packages\\gensim\\similarities\\__init__.py:15: UserWarning: The gensim.similarities.levenshtein submodule is disabled, because the optional Levenshtein package <https://pypi.org/project/python-Levenshtein/> is unavailable. Install Levenhstein (e.g. `pip install python-Levenshtein`) to suppress this warning.\n",
      "  warnings.warn(msg)\n"
     ]
    }
   ],
   "source": [
    "import numpy as np\n",
    "\n",
    "import gensim\n",
    "\n",
    "import math\n",
    "\n",
    "from tensorflow.keras import utils\n",
    "from tensorflow.keras.models import Sequential\n",
    "from tensorflow.keras.callbacks import ModelCheckpoint\n",
    "from tensorflow.keras.layers import GRU, LSTM, Activation, Dense, Dropout, Embedding\n",
    "from tensorflow.keras.callbacks import History "
   ]
  },
  {
   "cell_type": "code",
   "execution_count": 2,
   "metadata": {},
   "outputs": [],
   "source": [
    "w2v_model = gensim.models.KeyedVectors.load(\"w2v.model\", mmap='r')"
   ]
  },
  {
   "cell_type": "code",
   "execution_count": 3,
   "metadata": {},
   "outputs": [
    {
     "data": {
      "text/plain": [
       "(17862, 100)"
      ]
     },
     "execution_count": 3,
     "metadata": {},
     "output_type": "execute_result"
    }
   ],
   "source": [
    "vocab_size, emdedding_size = w2v_model.wv.vectors.shape\n",
    "vocab_size, emdedding_size"
   ]
  },
  {
   "cell_type": "code",
   "execution_count": 4,
   "metadata": {},
   "outputs": [],
   "source": [
    "x = np.load('data/x.npy')\n",
    "y = np.load('data/y.npy')[:,0]"
   ]
  },
  {
   "cell_type": "code",
   "execution_count": 5,
   "metadata": {},
   "outputs": [
    {
     "data": {
      "text/plain": [
       "((5841, 100), (5841,))"
      ]
     },
     "execution_count": 5,
     "metadata": {},
     "output_type": "execute_result"
    }
   ],
   "source": [
    "x.shape, y.shape"
   ]
  },
  {
   "cell_type": "code",
   "execution_count": 6,
   "metadata": {},
   "outputs": [],
   "source": [
    "# instantiate history to save losses\n",
    "history = History()"
   ]
  },
  {
   "cell_type": "markdown",
   "metadata": {
    "tags": []
   },
   "source": [
    "## Baseline #1: GRU"
   ]
  },
  {
   "cell_type": "code",
   "execution_count": 25,
   "metadata": {},
   "outputs": [],
   "source": [
    "gru = Sequential()\n",
    "\n",
    "gru.add(Embedding(input_dim=vocab_size, output_dim=emdedding_size))\n",
    "gru.add(GRU(128, input_shape=(vocab_size, emdedding_size), return_sequences=True))\n",
    "gru.add(Dropout(0.3))\n",
    "gru.add(GRU(128))\n",
    "gru.add(Dropout(0.3))\n",
    "# gru.add(GRU(64))\n",
    "# gru.add(Dropout(0.3))\n",
    "gru.add(Dense(vocab_size, activation='softmax'))"
   ]
  },
  {
   "cell_type": "code",
   "execution_count": 26,
   "metadata": {},
   "outputs": [],
   "source": [
    "gru.compile(loss='sparse_categorical_crossentropy', optimizer='adam')"
   ]
  },
  {
   "cell_type": "code",
   "execution_count": 9,
   "metadata": {},
   "outputs": [],
   "source": [
    "filepath = \"weights/gru.hdf5\"\n",
    "checkpoint = ModelCheckpoint(filepath, monitor='val_loss', verbose=1, save_best_only=True, mode='min')\n",
    "callbacks = [checkpoint]"
   ]
  },
  {
   "cell_type": "code",
   "execution_count": 27,
   "metadata": {
    "collapsed": true,
    "jupyter": {
     "outputs_hidden": true
    },
    "tags": []
   },
   "outputs": [
    {
     "name": "stdout",
     "output_type": "stream",
     "text": [
      "Train on 4672 samples, validate on 1169 samples\n",
      "Epoch 1/10\n",
      "4608/4672 [============================>.] - ETA: 0s - loss: 8.2565\n",
      "Epoch 00001: val_loss did not improve from 7.43431\n",
      "4672/4672 [==============================] - 38s 8ms/sample - loss: 8.2483 - val_loss: 7.5713\n",
      "Epoch 2/10\n",
      "4608/4672 [============================>.] - ETA: 0s - loss: 6.8660\n",
      "Epoch 00002: val_loss did not improve from 7.43431\n",
      "4672/4672 [==============================] - 34s 7ms/sample - loss: 6.8639 - val_loss: 7.6153\n",
      "Epoch 3/10\n",
      "4608/4672 [============================>.] - ETA: 0s - loss: 6.6458\n",
      "Epoch 00003: val_loss did not improve from 7.43431\n",
      "4672/4672 [==============================] - 34s 7ms/sample - loss: 6.6464 - val_loss: 7.5904\n",
      "Epoch 4/10\n",
      "4608/4672 [============================>.] - ETA: 0s - loss: 6.4402\n",
      "Epoch 00004: val_loss did not improve from 7.43431\n",
      "4672/4672 [==============================] - 33s 7ms/sample - loss: 6.4403 - val_loss: 7.5655\n",
      "Epoch 5/10\n",
      "4608/4672 [============================>.] - ETA: 0s - loss: 6.2092\n",
      "Epoch 00005: val_loss did not improve from 7.43431\n",
      "4672/4672 [==============================] - 34s 7ms/sample - loss: 6.2166 - val_loss: 7.7795\n",
      "Epoch 6/10\n",
      "4608/4672 [============================>.] - ETA: 0s - loss: 6.0437\n",
      "Epoch 00006: val_loss did not improve from 7.43431\n",
      "4672/4672 [==============================] - 33s 7ms/sample - loss: 6.0368 - val_loss: 7.8998\n",
      "Epoch 7/10\n",
      "4608/4672 [============================>.] - ETA: 0s - loss: 5.9605\n",
      "Epoch 00007: val_loss did not improve from 7.43431\n",
      "4672/4672 [==============================] - 33s 7ms/sample - loss: 5.9572 - val_loss: 8.0067\n",
      "Epoch 8/10\n",
      "4608/4672 [============================>.] - ETA: 0s - loss: 5.8526\n",
      "Epoch 00008: val_loss did not improve from 7.43431\n",
      "4672/4672 [==============================] - 34s 7ms/sample - loss: 5.8592 - val_loss: 8.1381\n",
      "Epoch 9/10\n",
      "4608/4672 [============================>.] - ETA: 0s - loss: 5.7634\n",
      "Epoch 00009: val_loss did not improve from 7.43431\n",
      "4672/4672 [==============================] - 34s 7ms/sample - loss: 5.7621 - val_loss: 8.2539\n",
      "Epoch 10/10\n",
      "4608/4672 [============================>.] - ETA: 0s - loss: 5.6906\n",
      "Epoch 00010: val_loss did not improve from 7.43431\n",
      "4672/4672 [==============================] - 35s 7ms/sample - loss: 5.6834 - val_loss: 8.3978\n"
     ]
    }
   ],
   "source": [
    "gru_loss = gru.fit(x, y, validation_split=0.2, batch_size=64, epochs=10, callbacks=callbacks)"
   ]
  },
  {
   "cell_type": "code",
   "execution_count": 14,
   "metadata": {
    "collapsed": true,
    "jupyter": {
     "outputs_hidden": true
    },
    "tags": []
   },
   "outputs": [
    {
     "name": "stdout",
     "output_type": "stream",
     "text": [
      "Train on 4672 samples, validate on 1169 samples\n",
      "Epoch 1/5\n",
      "4608/4672 [============================>.] - ETA: 0s - loss: 8.2070\n",
      "Epoch 00001: val_loss did not improve from 7.53704\n",
      "4672/4672 [==============================] - 48s 10ms/sample - loss: 8.1900 - val_loss: 7.5887\n",
      "Epoch 2/5\n",
      "4608/4672 [============================>.] - ETA: 0s - loss: 6.8737\n",
      "Epoch 00002: val_loss did not improve from 7.53704\n",
      "4672/4672 [==============================] - 41s 9ms/sample - loss: 6.8751 - val_loss: 7.6231\n",
      "Epoch 3/5\n",
      "4608/4672 [============================>.] - ETA: 0s - loss: 6.6502\n",
      "Epoch 00003: val_loss did not improve from 7.53704\n",
      "4672/4672 [==============================] - 41s 9ms/sample - loss: 6.6537 - val_loss: 7.6106\n",
      "Epoch 4/5\n",
      "4608/4672 [============================>.] - ETA: 0s - loss: 6.4698\n",
      "Epoch 00004: val_loss did not improve from 7.53704\n",
      "4672/4672 [==============================] - 40s 9ms/sample - loss: 6.4722 - val_loss: 7.5743\n",
      "Epoch 5/5\n",
      "4608/4672 [============================>.] - ETA: 0s - loss: 6.2400\n",
      "Epoch 00005: val_loss did not improve from 7.53704\n",
      "4672/4672 [==============================] - 41s 9ms/sample - loss: 6.2397 - val_loss: 7.7668\n"
     ]
    }
   ],
   "source": [
    "gru_loss = gru.fit(x, y, validation_split=0.2, batch_size=64, epochs=5, callbacks=callbacks)"
   ]
  },
  {
   "cell_type": "code",
   "execution_count": 24,
   "metadata": {
    "collapsed": true,
    "jupyter": {
     "outputs_hidden": true
    },
    "tags": []
   },
   "outputs": [
    {
     "name": "stdout",
     "output_type": "stream",
     "text": [
      "Train on 4672 samples, validate on 1169 samples\n",
      "Epoch 1/10\n",
      "4608/4672 [============================>.] - ETA: 0s - loss: 8.5746\n",
      "Epoch 00001: val_loss improved from 7.53704 to 7.43431, saving model to weights/gru.hdf5\n",
      "4672/4672 [==============================] - 19s 4ms/sample - loss: 8.5571 - val_loss: 7.4343\n",
      "Epoch 2/10\n",
      "4608/4672 [============================>.] - ETA: 0s - loss: 6.8069\n",
      "Epoch 00002: val_loss did not improve from 7.43431\n",
      "4672/4672 [==============================] - 13s 3ms/sample - loss: 6.8050 - val_loss: 7.5220\n",
      "Epoch 3/10\n",
      "4608/4672 [============================>.] - ETA: 0s - loss: 6.6292\n",
      "Epoch 00003: val_loss did not improve from 7.43431\n",
      "4672/4672 [==============================] - 13s 3ms/sample - loss: 6.6298 - val_loss: 7.5766\n",
      "Epoch 4/10\n",
      "4608/4672 [============================>.] - ETA: 0s - loss: 6.5382\n",
      "Epoch 00004: val_loss did not improve from 7.43431\n",
      "4672/4672 [==============================] - 13s 3ms/sample - loss: 6.5377 - val_loss: 7.6314\n",
      "Epoch 5/10\n",
      "4608/4672 [============================>.] - ETA: 0s - loss: 6.4822\n",
      "Epoch 00005: val_loss did not improve from 7.43431\n",
      "4672/4672 [==============================] - 12s 3ms/sample - loss: 6.4832 - val_loss: 7.7078\n",
      "Epoch 6/10\n",
      "4608/4672 [============================>.] - ETA: 0s - loss: 6.4299\n",
      "Epoch 00006: val_loss did not improve from 7.43431\n",
      "4672/4672 [==============================] - 13s 3ms/sample - loss: 6.4312 - val_loss: 7.7466\n",
      "Epoch 7/10\n",
      "4608/4672 [============================>.] - ETA: 0s - loss: 6.3688\n",
      "Epoch 00007: val_loss did not improve from 7.43431\n",
      "4672/4672 [==============================] - 13s 3ms/sample - loss: 6.3668 - val_loss: 7.6766\n",
      "Epoch 8/10\n",
      "4608/4672 [============================>.] - ETA: 0s - loss: 6.2226\n",
      "Epoch 00008: val_loss did not improve from 7.43431\n",
      "4672/4672 [==============================] - 12s 3ms/sample - loss: 6.2251 - val_loss: 7.6573\n",
      "Epoch 9/10\n",
      "4608/4672 [============================>.] - ETA: 0s - loss: 6.1005\n",
      "Epoch 00009: val_loss did not improve from 7.43431\n",
      "4672/4672 [==============================] - 12s 3ms/sample - loss: 6.0955 - val_loss: 7.7262\n",
      "Epoch 10/10\n",
      "4608/4672 [============================>.] - ETA: 0s - loss: 5.9989\n",
      "Epoch 00010: val_loss did not improve from 7.43431\n",
      "4672/4672 [==============================] - 12s 3ms/sample - loss: 6.0007 - val_loss: 7.7364\n"
     ]
    }
   ],
   "source": [
    "gru_loss = gru.fit(x, y, validation_split=0.2, batch_size=64, epochs=10, callbacks=callbacks)"
   ]
  },
  {
   "cell_type": "markdown",
   "metadata": {
    "tags": []
   },
   "source": [
    "## Baseline #2: GRU + Word2Vec"
   ]
  },
  {
   "cell_type": "code",
   "execution_count": 28,
   "metadata": {
    "tags": []
   },
   "outputs": [],
   "source": [
    "gru_w2v = Sequential()\n",
    "\n",
    "gru_w2v.add(Embedding(input_dim=vocab_size, output_dim=emdedding_size, weights=[w2v_model.wv.vectors]))\n",
    "gru_w2v.add(GRU(256, input_shape=(vocab_size, emdedding_size), return_sequences=True))\n",
    "gru_w2v.add(Dropout(0.2))\n",
    "gru_w2v.add(GRU(256, return_sequences=True))\n",
    "gru_w2v.add(Dropout(0.2))\n",
    "gru_w2v.add(GRU(128))\n",
    "gru_w2v.add(Dropout(0.2))\n",
    "gru_w2v.add(Dense(vocab_size, activation='softmax'))"
   ]
  },
  {
   "cell_type": "code",
   "execution_count": 29,
   "metadata": {},
   "outputs": [],
   "source": [
    "gru_w2v.compile(loss='sparse_categorical_crossentropy', optimizer='adam')"
   ]
  },
  {
   "cell_type": "code",
   "execution_count": 30,
   "metadata": {
    "tags": []
   },
   "outputs": [],
   "source": [
    "filepath = \"weights/gru_w2v.hdf5\"\n",
    "checkpoint = ModelCheckpoint(filepath, monitor='val_loss', verbose=1, save_best_only=True, mode='min')\n",
    "callbacks = [checkpoint]"
   ]
  },
  {
   "cell_type": "code",
   "execution_count": 31,
   "metadata": {
    "tags": []
   },
   "outputs": [
    {
     "name": "stdout",
     "output_type": "stream",
     "text": [
      "Train on 4672 samples, validate on 1169 samples\n",
      "Epoch 1/20\n",
      "4608/4672 [============================>.] - ETA: 1s - loss: 8.0941\n",
      "Epoch 00001: val_loss improved from inf to 7.63390, saving model to weights/gru_w2v.hdf5\n",
      "4672/4672 [==============================] - 116s 25ms/sample - loss: 8.0816 - val_loss: 7.6339\n",
      "Epoch 2/20\n",
      "4608/4672 [============================>.] - ETA: 1s - loss: 6.7905\n",
      "Epoch 00002: val_loss did not improve from 7.63390\n",
      "4672/4672 [==============================] - 113s 24ms/sample - loss: 6.7950 - val_loss: 7.6341\n",
      "Epoch 3/20\n",
      "4608/4672 [============================>.] - ETA: 1s - loss: 6.5816\n",
      "Epoch 00003: val_loss did not improve from 7.63390\n",
      "4672/4672 [==============================] - 113s 24ms/sample - loss: 6.5853 - val_loss: 7.6705\n",
      "Epoch 4/20\n",
      "4608/4672 [============================>.] - ETA: 1s - loss: 6.5015\n",
      "Epoch 00004: val_loss did not improve from 7.63390\n",
      "4672/4672 [==============================] - 113s 24ms/sample - loss: 6.5014 - val_loss: 7.7608\n",
      "Epoch 5/20\n",
      "4608/4672 [============================>.] - ETA: 1s - loss: 6.4151\n",
      "Epoch 00005: val_loss did not improve from 7.63390\n",
      "4672/4672 [==============================] - 112s 24ms/sample - loss: 6.4194 - val_loss: 7.6387\n",
      "Epoch 6/20\n",
      "4608/4672 [============================>.] - ETA: 1s - loss: 6.2578\n",
      "Epoch 00006: val_loss improved from 7.63390 to 7.51785, saving model to weights/gru_w2v.hdf5\n",
      "4672/4672 [==============================] - 114s 24ms/sample - loss: 6.2604 - val_loss: 7.5179\n",
      "Epoch 7/20\n",
      "4608/4672 [============================>.] - ETA: 1s - loss: 6.1107\n",
      "Epoch 00007: val_loss improved from 7.51785 to 7.48169, saving model to weights/gru_w2v.hdf5\n",
      "4672/4672 [==============================] - 114s 24ms/sample - loss: 6.1151 - val_loss: 7.4817\n",
      "Epoch 8/20\n",
      "4608/4672 [============================>.] - ETA: 1s - loss: 6.0133\n",
      "Epoch 00008: val_loss did not improve from 7.48169\n",
      "4672/4672 [==============================] - 114s 24ms/sample - loss: 6.0097 - val_loss: 7.4948\n",
      "Epoch 9/20\n",
      "4608/4672 [============================>.] - ETA: 1s - loss: 5.9319\n",
      "Epoch 00009: val_loss improved from 7.48169 to 7.43547, saving model to weights/gru_w2v.hdf5\n",
      "4672/4672 [==============================] - 114s 24ms/sample - loss: 5.9230 - val_loss: 7.4355\n",
      "Epoch 10/20\n",
      "4608/4672 [============================>.] - ETA: 1s - loss: 5.8245\n",
      "Epoch 00010: val_loss improved from 7.43547 to 7.38837, saving model to weights/gru_w2v.hdf5\n",
      "4672/4672 [==============================] - 115s 25ms/sample - loss: 5.8227 - val_loss: 7.3884\n",
      "Epoch 11/20\n",
      "4608/4672 [============================>.] - ETA: 1s - loss: 5.7237\n",
      "Epoch 00011: val_loss improved from 7.38837 to 7.30014, saving model to weights/gru_w2v.hdf5\n",
      "4672/4672 [==============================] - 116s 25ms/sample - loss: 5.7217 - val_loss: 7.3001\n",
      "Epoch 12/20\n",
      "4608/4672 [============================>.] - ETA: 1s - loss: 5.5976\n",
      "Epoch 00012: val_loss improved from 7.30014 to 7.20779, saving model to weights/gru_w2v.hdf5\n",
      "4672/4672 [==============================] - 118s 25ms/sample - loss: 5.5931 - val_loss: 7.2078\n",
      "Epoch 13/20\n",
      "4608/4672 [============================>.] - ETA: 1s - loss: 5.3875\n",
      "Epoch 00013: val_loss improved from 7.20779 to 6.76515, saving model to weights/gru_w2v.hdf5\n",
      "4672/4672 [==============================] - 116s 25ms/sample - loss: 5.3856 - val_loss: 6.7651\n",
      "Epoch 14/20\n",
      "4608/4672 [============================>.] - ETA: 1s - loss: 5.1007\n",
      "Epoch 00014: val_loss improved from 6.76515 to 6.45196, saving model to weights/gru_w2v.hdf5\n",
      "4672/4672 [==============================] - 117s 25ms/sample - loss: 5.0955 - val_loss: 6.4520\n",
      "Epoch 15/20\n",
      "4608/4672 [============================>.] - ETA: 1s - loss: 4.8304\n",
      "Epoch 00015: val_loss improved from 6.45196 to 6.30446, saving model to weights/gru_w2v.hdf5\n",
      "4672/4672 [==============================] - 119s 25ms/sample - loss: 4.8243 - val_loss: 6.3045\n",
      "Epoch 16/20\n",
      "4608/4672 [============================>.] - ETA: 1s - loss: 4.5782\n",
      "Epoch 00016: val_loss improved from 6.30446 to 6.22859, saving model to weights/gru_w2v.hdf5\n",
      "4672/4672 [==============================] - 116s 25ms/sample - loss: 4.5749 - val_loss: 6.2286\n",
      "Epoch 17/20\n",
      "4608/4672 [============================>.] - ETA: 1s - loss: 4.3053\n",
      "Epoch 00017: val_loss improved from 6.22859 to 6.01786, saving model to weights/gru_w2v.hdf5\n",
      "4672/4672 [==============================] - 116s 25ms/sample - loss: 4.3034 - val_loss: 6.0179\n",
      "Epoch 18/20\n",
      "4608/4672 [============================>.] - ETA: 1s - loss: 4.0534\n",
      "Epoch 00018: val_loss improved from 6.01786 to 5.93461, saving model to weights/gru_w2v.hdf5\n",
      "4672/4672 [==============================] - 115s 25ms/sample - loss: 4.0553 - val_loss: 5.9346\n",
      "Epoch 19/20\n",
      "4608/4672 [============================>.] - ETA: 1s - loss: 3.8108\n",
      "Epoch 00019: val_loss improved from 5.93461 to 5.80991, saving model to weights/gru_w2v.hdf5\n",
      "4672/4672 [==============================] - 116s 25ms/sample - loss: 3.8090 - val_loss: 5.8099\n",
      "Epoch 20/20\n",
      "4608/4672 [============================>.] - ETA: 1s - loss: 3.5707\n",
      "Epoch 00020: val_loss improved from 5.80991 to 5.64481, saving model to weights/gru_w2v.hdf5\n",
      "4672/4672 [==============================] - 116s 25ms/sample - loss: 3.5749 - val_loss: 5.6448\n"
     ]
    }
   ],
   "source": [
    "gru_w2v_loss = gru_w2v.fit(x, y, validation_split=0.2, batch_size=64, epochs=20, callbacks=callbacks)"
   ]
  },
  {
   "cell_type": "markdown",
   "metadata": {
    "tags": []
   },
   "source": [
    "## Baseline #3: LSTM "
   ]
  },
  {
   "cell_type": "code",
   "execution_count": 32,
   "metadata": {},
   "outputs": [],
   "source": [
    "lstm = Sequential()\n",
    "\n",
    "lstm.add(Embedding(input_dim=vocab_size, output_dim=emdedding_size))\n",
    "lstm.add(GRU(256, input_shape=(vocab_size, emdedding_size), return_sequences=True))\n",
    "lstm.add(Dropout(0.2))\n",
    "lstm.add(GRU(256, return_sequences=True))\n",
    "lstm.add(Dropout(0.2))\n",
    "lstm.add(GRU(128))\n",
    "lstm.add(Dropout(0.2))\n",
    "lstm.add(Dense(vocab_size, activation='softmax'))"
   ]
  },
  {
   "cell_type": "code",
   "execution_count": 33,
   "metadata": {},
   "outputs": [],
   "source": [
    "lstm.compile(loss='sparse_categorical_crossentropy', optimizer='adam')"
   ]
  },
  {
   "cell_type": "code",
   "execution_count": 34,
   "metadata": {},
   "outputs": [],
   "source": [
    "filepath = \"weights/lstm.hdf5\"\n",
    "checkpoint = ModelCheckpoint(filepath, monitor='val_loss', verbose=1, save_best_only=True, mode='min')\n",
    "callbacks = [checkpoint]"
   ]
  },
  {
   "cell_type": "code",
   "execution_count": 35,
   "metadata": {
    "tags": []
   },
   "outputs": [
    {
     "name": "stdout",
     "output_type": "stream",
     "text": [
      "Train on 4672 samples, validate on 1169 samples\n",
      "Epoch 1/20\n",
      "4608/4672 [============================>.] - ETA: 1s - loss: 8.0984\n",
      "Epoch 00001: val_loss improved from inf to 7.54207, saving model to weights/lstm.hdf5\n",
      "4672/4672 [==============================] - 112s 24ms/sample - loss: 8.0884 - val_loss: 7.5421\n",
      "Epoch 2/20\n",
      "4608/4672 [============================>.] - ETA: 1s - loss: 6.7692\n",
      "Epoch 00002: val_loss did not improve from 7.54207\n",
      "4672/4672 [==============================] - 108s 23ms/sample - loss: 6.7673 - val_loss: 7.5893\n",
      "Epoch 3/20\n",
      "4608/4672 [============================>.] - ETA: 1s - loss: 6.5386\n",
      "Epoch 00003: val_loss did not improve from 7.54207\n",
      "4672/4672 [==============================] - 109s 23ms/sample - loss: 6.5299 - val_loss: 7.7323\n",
      "Epoch 4/20\n",
      "4608/4672 [============================>.] - ETA: 1s - loss: 6.3086\n",
      "Epoch 00004: val_loss did not improve from 7.54207\n",
      "4672/4672 [==============================] - 108s 23ms/sample - loss: 6.3078 - val_loss: 7.7210\n",
      "Epoch 5/20\n",
      "4608/4672 [============================>.] - ETA: 1s - loss: 6.1695\n",
      "Epoch 00005: val_loss did not improve from 7.54207\n",
      "4672/4672 [==============================] - 108s 23ms/sample - loss: 6.1692 - val_loss: 7.7704\n",
      "Epoch 6/20\n",
      "4608/4672 [============================>.] - ETA: 1s - loss: 6.0423\n",
      "Epoch 00006: val_loss did not improve from 7.54207\n",
      "4672/4672 [==============================] - 110s 24ms/sample - loss: 6.0404 - val_loss: 7.8485\n",
      "Epoch 7/20\n",
      "4608/4672 [============================>.] - ETA: 1s - loss: 5.9257\n",
      "Epoch 00007: val_loss did not improve from 7.54207\n",
      "4672/4672 [==============================] - 110s 24ms/sample - loss: 5.9230 - val_loss: 7.9073\n",
      "Epoch 8/20\n",
      "4608/4672 [============================>.] - ETA: 1s - loss: 5.8038\n",
      "Epoch 00008: val_loss did not improve from 7.54207\n",
      "4672/4672 [==============================] - 110s 23ms/sample - loss: 5.8068 - val_loss: 7.9379\n",
      "Epoch 9/20\n",
      "4608/4672 [============================>.] - ETA: 1s - loss: 5.7477\n",
      "Epoch 00009: val_loss did not improve from 7.54207\n",
      "4672/4672 [==============================] - 112s 24ms/sample - loss: 5.7490 - val_loss: 8.0966\n",
      "Epoch 10/20\n",
      "4608/4672 [============================>.] - ETA: 1s - loss: 5.6064\n",
      "Epoch 00010: val_loss did not improve from 7.54207\n",
      "4672/4672 [==============================] - 111s 24ms/sample - loss: 5.6112 - val_loss: 7.8498\n",
      "Epoch 11/20\n",
      "4608/4672 [============================>.] - ETA: 1s - loss: 5.4241\n",
      "Epoch 00011: val_loss did not improve from 7.54207\n",
      "4672/4672 [==============================] - 112s 24ms/sample - loss: 5.4182 - val_loss: 7.7835\n",
      "Epoch 12/20\n",
      "4608/4672 [============================>.] - ETA: 1s - loss: 5.2637\n",
      "Epoch 00012: val_loss did not improve from 7.54207\n",
      "4672/4672 [==============================] - 112s 24ms/sample - loss: 5.2618 - val_loss: 7.7185\n",
      "Epoch 13/20\n",
      "4608/4672 [============================>.] - ETA: 1s - loss: 5.0834\n",
      "Epoch 00013: val_loss did not improve from 7.54207\n",
      "4672/4672 [==============================] - 111s 24ms/sample - loss: 5.0875 - val_loss: 7.5514\n",
      "Epoch 14/20\n",
      "4608/4672 [============================>.] - ETA: 1s - loss: 4.9448\n",
      "Epoch 00014: val_loss improved from 7.54207 to 7.39421, saving model to weights/lstm.hdf5\n",
      "4672/4672 [==============================] - 111s 24ms/sample - loss: 4.9422 - val_loss: 7.3942\n",
      "Epoch 15/20\n",
      "4608/4672 [============================>.] - ETA: 1s - loss: 4.8032\n",
      "Epoch 00015: val_loss improved from 7.39421 to 7.39347, saving model to weights/lstm.hdf5\n",
      "4672/4672 [==============================] - 111s 24ms/sample - loss: 4.8079 - val_loss: 7.3935\n",
      "Epoch 16/20\n",
      "4608/4672 [============================>.] - ETA: 1s - loss: 4.6694\n",
      "Epoch 00016: val_loss did not improve from 7.39347\n",
      "4672/4672 [==============================] - 111s 24ms/sample - loss: 4.6686 - val_loss: 7.4132\n",
      "Epoch 17/20\n",
      "4608/4672 [============================>.] - ETA: 1s - loss: 4.5671\n",
      "Epoch 00017: val_loss improved from 7.39347 to 7.16493, saving model to weights/lstm.hdf5\n",
      "4672/4672 [==============================] - 111s 24ms/sample - loss: 4.5721 - val_loss: 7.1649\n",
      "Epoch 18/20\n",
      "4608/4672 [============================>.] - ETA: 1s - loss: 4.4268\n",
      "Epoch 00018: val_loss improved from 7.16493 to 7.04231, saving model to weights/lstm.hdf5\n",
      "4672/4672 [==============================] - 110s 24ms/sample - loss: 4.4276 - val_loss: 7.0423\n",
      "Epoch 19/20\n",
      "4608/4672 [============================>.] - ETA: 1s - loss: 4.3060\n",
      "Epoch 00019: val_loss improved from 7.04231 to 6.98545, saving model to weights/lstm.hdf5\n",
      "4672/4672 [==============================] - 111s 24ms/sample - loss: 4.3086 - val_loss: 6.9855\n",
      "Epoch 20/20\n",
      "4608/4672 [============================>.] - ETA: 1s - loss: 4.1780\n",
      "Epoch 00020: val_loss improved from 6.98545 to 6.84608, saving model to weights/lstm.hdf5\n",
      "4672/4672 [==============================] - 110s 24ms/sample - loss: 4.1828 - val_loss: 6.8461\n"
     ]
    }
   ],
   "source": [
    "lstm_loss = lstm.fit(x, y, validation_split=0.2, batch_size=64, epochs=10, callbacks=callbacks)"
   ]
  },
  {
   "cell_type": "markdown",
   "metadata": {
    "tags": []
   },
   "source": [
    "## Baseline #4: LSTM + Word2Vec "
   ]
  },
  {
   "cell_type": "code",
   "execution_count": 36,
   "metadata": {},
   "outputs": [],
   "source": [
    "lstm_w2v = Sequential()\n",
    "\n",
    "lstm_w2v.add(Embedding(input_dim=vocab_size, output_dim=emdedding_size, weights=[w2v_model.wv.vectors]))\n",
    "lstm_w2v.add(LSTM(256, input_shape=(vocab_size, emdedding_size), return_sequences=True))\n",
    "lstm_w2v.add(Dropout(0.2))\n",
    "lstm_w2v.add(LSTM(256, return_sequences=True))\n",
    "lstm_w2v.add(Dropout(0.2))\n",
    "lstm_w2v.add(LSTM(128))\n",
    "lstm_w2v.add(Dropout(0.2))\n",
    "lstm_w2v.add(Dense(vocab_size, activation='softmax'))"
   ]
  },
  {
   "cell_type": "code",
   "execution_count": 37,
   "metadata": {},
   "outputs": [],
   "source": [
    "lstm_w2v.compile(loss='sparse_categorical_crossentropy', optimizer='adam')"
   ]
  },
  {
   "cell_type": "code",
   "execution_count": 38,
   "metadata": {},
   "outputs": [],
   "source": [
    "filepath = \"weights/lstm_w2v.hdf5\"\n",
    "checkpoint = ModelCheckpoint(filepath, monitor='val_loss', verbose=1, save_best_only=True, mode='min')\n",
    "callbacks = [checkpoint]"
   ]
  },
  {
   "cell_type": "code",
   "execution_count": 47,
   "metadata": {
    "tags": []
   },
   "outputs": [
    {
     "name": "stdout",
     "output_type": "stream",
     "text": [
      "Train on 4672 samples, validate on 1169 samples\n",
      "Epoch 1/100\n",
      "4608/4672 [============================>.] - ETA: 1s - loss: 7.0380\n",
      "Epoch 00001: val_loss improved from inf to 7.51032, saving model to weights/lstm_w2v.hdf5\n",
      "4672/4672 [==============================] - 103s 22ms/sample - loss: 7.0408 - val_loss: 7.5103\n",
      "Epoch 2/100\n",
      "4608/4672 [============================>.] - ETA: 1s - loss: 6.6845\n",
      "Epoch 00002: val_loss did not improve from 7.51032\n",
      "4672/4672 [==============================] - 110s 24ms/sample - loss: 6.6851 - val_loss: 7.5228\n",
      "Epoch 3/100\n",
      "4608/4672 [============================>.] - ETA: 1s - loss: 6.5174\n",
      "Epoch 00003: val_loss did not improve from 7.51032\n",
      "4672/4672 [==============================] - 114s 24ms/sample - loss: 6.5126 - val_loss: 7.5829\n",
      "Epoch 4/100\n",
      "4608/4672 [============================>.] - ETA: 1s - loss: 6.4291\n",
      "Epoch 00004: val_loss did not improve from 7.51032\n",
      "4672/4672 [==============================] - 156s 33ms/sample - loss: 6.4339 - val_loss: 7.5808\n",
      "Epoch 5/100\n",
      "4608/4672 [============================>.] - ETA: 2s - loss: 6.3969\n",
      "Epoch 00005: val_loss did not improve from 7.51032\n",
      "4672/4672 [==============================] - 200s 43ms/sample - loss: 6.3954 - val_loss: 7.6108\n",
      "Epoch 6/100\n",
      "4608/4672 [============================>.] - ETA: 2s - loss: 6.3962\n",
      "Epoch 00006: val_loss did not improve from 7.51032\n",
      "4672/4672 [==============================] - 200s 43ms/sample - loss: 6.3902 - val_loss: 7.7286\n",
      "Epoch 7/100\n",
      "4608/4672 [============================>.] - ETA: 2s - loss: 6.3600\n",
      "Epoch 00007: val_loss did not improve from 7.51032\n",
      "4672/4672 [==============================] - 200s 43ms/sample - loss: 6.3583 - val_loss: 7.6522\n",
      "Epoch 8/100\n",
      "4608/4672 [============================>.] - ETA: 2s - loss: 6.3311\n",
      "Epoch 00008: val_loss did not improve from 7.51032\n",
      "4672/4672 [==============================] - 199s 43ms/sample - loss: 6.3353 - val_loss: 7.6471\n",
      "Epoch 9/100\n",
      "4608/4672 [============================>.] - ETA: 2s - loss: 6.3128\n",
      "Epoch 00009: val_loss did not improve from 7.51032\n",
      "4672/4672 [==============================] - 201s 43ms/sample - loss: 6.3130 - val_loss: 7.5839\n",
      "Epoch 10/100\n",
      "4608/4672 [============================>.] - ETA: 2s - loss: 6.1876\n",
      "Epoch 00010: val_loss did not improve from 7.51032\n",
      "4672/4672 [==============================] - 202s 43ms/sample - loss: 6.1862 - val_loss: 7.5398\n",
      "Epoch 11/100\n",
      "4608/4672 [============================>.] - ETA: 2s - loss: 6.0254\n",
      "Epoch 00011: val_loss improved from 7.51032 to 7.28065, saving model to weights/lstm_w2v.hdf5\n",
      "4672/4672 [==============================] - 200s 43ms/sample - loss: 6.0239 - val_loss: 7.2806\n",
      "Epoch 12/100\n",
      "4608/4672 [============================>.] - ETA: 2s - loss: 5.8389\n",
      "Epoch 00012: val_loss improved from 7.28065 to 7.21565, saving model to weights/lstm_w2v.hdf5\n",
      "4672/4672 [==============================] - 199s 43ms/sample - loss: 5.8367 - val_loss: 7.2156\n",
      "Epoch 13/100\n",
      "4608/4672 [============================>.] - ETA: 2s - loss: 5.6998\n",
      "Epoch 00013: val_loss improved from 7.21565 to 6.98366, saving model to weights/lstm_w2v.hdf5\n",
      "4672/4672 [==============================] - 205s 44ms/sample - loss: 5.7017 - val_loss: 6.9837\n",
      "Epoch 14/100\n",
      "4608/4672 [============================>.] - ETA: 2s - loss: 5.5838\n",
      "Epoch 00014: val_loss improved from 6.98366 to 6.90584, saving model to weights/lstm_w2v.hdf5\n",
      "4672/4672 [==============================] - 208s 44ms/sample - loss: 5.5773 - val_loss: 6.9058\n",
      "Epoch 15/100\n",
      "4608/4672 [============================>.] - ETA: 2s - loss: 5.4628\n",
      "Epoch 00015: val_loss improved from 6.90584 to 6.85932, saving model to weights/lstm_w2v.hdf5\n",
      "4672/4672 [==============================] - 204s 44ms/sample - loss: 5.4663 - val_loss: 6.8593\n",
      "Epoch 16/100\n",
      "4608/4672 [============================>.] - ETA: 2s - loss: 5.3340\n",
      "Epoch 00016: val_loss improved from 6.85932 to 6.82233, saving model to weights/lstm_w2v.hdf5\n",
      "4672/4672 [==============================] - 206s 44ms/sample - loss: 5.3327 - val_loss: 6.8223\n",
      "Epoch 17/100\n",
      "4608/4672 [============================>.] - ETA: 2s - loss: 5.2191\n",
      "Epoch 00017: val_loss improved from 6.82233 to 6.73693, saving model to weights/lstm_w2v.hdf5\n",
      "4672/4672 [==============================] - 206s 44ms/sample - loss: 5.2221 - val_loss: 6.7369\n",
      "Epoch 18/100\n",
      "4608/4672 [============================>.] - ETA: 2s - loss: 5.0866\n",
      "Epoch 00018: val_loss improved from 6.73693 to 6.65164, saving model to weights/lstm_w2v.hdf5\n",
      "4672/4672 [==============================] - 200s 43ms/sample - loss: 5.0904 - val_loss: 6.6516\n",
      "Epoch 19/100\n",
      "4608/4672 [============================>.] - ETA: 2s - loss: 4.9993\n",
      "Epoch 00019: val_loss did not improve from 6.65164\n",
      "4672/4672 [==============================] - 199s 43ms/sample - loss: 4.9979 - val_loss: 6.7772\n",
      "Epoch 20/100\n",
      "4608/4672 [============================>.] - ETA: 2s - loss: 4.9468\n",
      "Epoch 00020: val_loss improved from 6.65164 to 6.61633, saving model to weights/lstm_w2v.hdf5\n",
      "4672/4672 [==============================] - 200s 43ms/sample - loss: 4.9478 - val_loss: 6.6163\n",
      "Epoch 21/100\n",
      "4608/4672 [============================>.] - ETA: 2s - loss: 4.8880\n",
      "Epoch 00021: val_loss improved from 6.61633 to 6.57089, saving model to weights/lstm_w2v.hdf5\n",
      "4672/4672 [==============================] - 215s 46ms/sample - loss: 4.8832 - val_loss: 6.5709\n",
      "Epoch 22/100\n",
      "4608/4672 [============================>.] - ETA: 2s - loss: 4.7475\n",
      "Epoch 00022: val_loss improved from 6.57089 to 6.50326, saving model to weights/lstm_w2v.hdf5\n",
      "4672/4672 [==============================] - 204s 44ms/sample - loss: 4.7459 - val_loss: 6.5033\n",
      "Epoch 23/100\n",
      "4608/4672 [============================>.] - ETA: 2s - loss: 4.6179\n",
      "Epoch 00023: val_loss improved from 6.50326 to 6.47978, saving model to weights/lstm_w2v.hdf5\n",
      "4672/4672 [==============================] - 193s 41ms/sample - loss: 4.6163 - val_loss: 6.4798\n",
      "Epoch 24/100\n",
      "4608/4672 [============================>.] - ETA: 2s - loss: 4.5290\n",
      "Epoch 00024: val_loss improved from 6.47978 to 6.44662, saving model to weights/lstm_w2v.hdf5\n",
      "4672/4672 [==============================] - 194s 42ms/sample - loss: 4.5276 - val_loss: 6.4466\n",
      "Epoch 25/100\n",
      "4608/4672 [============================>.] - ETA: 2s - loss: 4.4672\n",
      "Epoch 00025: val_loss improved from 6.44662 to 6.35434, saving model to weights/lstm_w2v.hdf5\n",
      "4672/4672 [==============================] - 203s 44ms/sample - loss: 4.4711 - val_loss: 6.3543\n",
      "Epoch 26/100\n",
      "4608/4672 [============================>.] - ETA: 2s - loss: 4.3544\n",
      "Epoch 00026: val_loss did not improve from 6.35434\n",
      "4672/4672 [==============================] - 202s 43ms/sample - loss: 4.3520 - val_loss: 6.4237\n",
      "Epoch 27/100\n",
      "4608/4672 [============================>.] - ETA: 2s - loss: 4.2762\n",
      "Epoch 00027: val_loss did not improve from 6.35434\n",
      "4672/4672 [==============================] - 207s 44ms/sample - loss: 4.2819 - val_loss: 6.4657\n",
      "Epoch 28/100\n",
      "4608/4672 [============================>.] - ETA: 2s - loss: 4.1843\n",
      "Epoch 00028: val_loss improved from 6.35434 to 6.17821, saving model to weights/lstm_w2v.hdf5\n",
      "4672/4672 [==============================] - 204s 44ms/sample - loss: 4.1828 - val_loss: 6.1782\n",
      "Epoch 29/100\n",
      "4608/4672 [============================>.] - ETA: 2s - loss: 4.1430\n",
      "Epoch 00029: val_loss did not improve from 6.17821\n",
      "4672/4672 [==============================] - 204s 44ms/sample - loss: 4.1433 - val_loss: 6.3612\n",
      "Epoch 30/100\n",
      "4608/4672 [============================>.] - ETA: 2s - loss: 4.0660\n",
      "Epoch 00030: val_loss did not improve from 6.17821\n",
      "4672/4672 [==============================] - 205s 44ms/sample - loss: 4.0656 - val_loss: 6.2350\n",
      "Epoch 31/100\n",
      "4608/4672 [============================>.] - ETA: 2s - loss: 3.9647\n",
      "Epoch 00031: val_loss did not improve from 6.17821\n",
      "4672/4672 [==============================] - 200s 43ms/sample - loss: 3.9650 - val_loss: 6.2000\n",
      "Epoch 32/100\n",
      "4608/4672 [============================>.] - ETA: 1s - loss: 3.8859\n",
      "Epoch 00032: val_loss improved from 6.17821 to 6.13874, saving model to weights/lstm_w2v.hdf5\n",
      "4672/4672 [==============================] - 144s 31ms/sample - loss: 3.8867 - val_loss: 6.1387\n",
      "Epoch 33/100\n",
      "4608/4672 [============================>.] - ETA: 1s - loss: 3.7562\n",
      "Epoch 00033: val_loss improved from 6.13874 to 6.11140, saving model to weights/lstm_w2v.hdf5\n",
      "4672/4672 [==============================] - 145s 31ms/sample - loss: 3.7579 - val_loss: 6.1114\n",
      "Epoch 34/100\n",
      "4608/4672 [============================>.] - ETA: 1s - loss: 3.6807\n",
      "Epoch 00034: val_loss improved from 6.11140 to 6.08567, saving model to weights/lstm_w2v.hdf5\n",
      "4672/4672 [==============================] - 146s 31ms/sample - loss: 3.6791 - val_loss: 6.0857\n",
      "Epoch 35/100\n",
      "4608/4672 [============================>.] - ETA: 1s - loss: 3.5901\n",
      "Epoch 00035: val_loss did not improve from 6.08567\n",
      "4672/4672 [==============================] - 145s 31ms/sample - loss: 3.5911 - val_loss: 6.1210\n",
      "Epoch 36/100\n",
      "4608/4672 [============================>.] - ETA: 1s - loss: 3.6138\n",
      "Epoch 00036: val_loss improved from 6.08567 to 6.02712, saving model to weights/lstm_w2v.hdf5\n",
      "4672/4672 [==============================] - 145s 31ms/sample - loss: 3.6163 - val_loss: 6.0271\n",
      "Epoch 37/100\n",
      "4608/4672 [============================>.] - ETA: 1s - loss: 3.5189\n",
      "Epoch 00037: val_loss did not improve from 6.02712\n",
      "4672/4672 [==============================] - 145s 31ms/sample - loss: 3.5189 - val_loss: 6.0485\n",
      "Epoch 38/100\n",
      "4608/4672 [============================>.] - ETA: 1s - loss: 3.4260\n",
      "Epoch 00038: val_loss did not improve from 6.02712\n",
      "4672/4672 [==============================] - 145s 31ms/sample - loss: 3.4252 - val_loss: 6.2226\n",
      "Epoch 39/100\n",
      "4608/4672 [============================>.] - ETA: 1s - loss: 3.3495\n",
      "Epoch 00039: val_loss improved from 6.02712 to 6.01853, saving model to weights/lstm_w2v.hdf5\n",
      "4672/4672 [==============================] - 144s 31ms/sample - loss: 3.3498 - val_loss: 6.0185\n",
      "Epoch 40/100\n",
      "4608/4672 [============================>.] - ETA: 1s - loss: 3.2385\n",
      "Epoch 00040: val_loss improved from 6.01853 to 5.95976, saving model to weights/lstm_w2v.hdf5\n",
      "4672/4672 [==============================] - 145s 31ms/sample - loss: 3.2383 - val_loss: 5.9598\n",
      "Epoch 41/100\n",
      "4608/4672 [============================>.] - ETA: 1s - loss: 3.2348\n",
      "Epoch 00041: val_loss improved from 5.95976 to 5.85070, saving model to weights/lstm_w2v.hdf5\n",
      "4672/4672 [==============================] - 145s 31ms/sample - loss: 3.2319 - val_loss: 5.8507\n",
      "Epoch 42/100\n",
      "4608/4672 [============================>.] - ETA: 1s - loss: 3.1965\n",
      "Epoch 00042: val_loss did not improve from 5.85070\n",
      "4672/4672 [==============================] - 144s 31ms/sample - loss: 3.2007 - val_loss: 5.9384\n",
      "Epoch 43/100\n",
      "4608/4672 [============================>.] - ETA: 1s - loss: 3.0527\n",
      "Epoch 00043: val_loss improved from 5.85070 to 5.80538, saving model to weights/lstm_w2v.hdf5\n",
      "4672/4672 [==============================] - 149s 32ms/sample - loss: 3.0623 - val_loss: 5.8054\n",
      "Epoch 44/100\n",
      "4608/4672 [============================>.] - ETA: 1s - loss: 3.0469\n",
      "Epoch 00044: val_loss did not improve from 5.80538\n",
      "4672/4672 [==============================] - 146s 31ms/sample - loss: 3.0412 - val_loss: 5.8258\n",
      "Epoch 45/100\n",
      "4608/4672 [============================>.] - ETA: 1s - loss: 2.9836\n",
      "Epoch 00045: val_loss improved from 5.80538 to 5.68059, saving model to weights/lstm_w2v.hdf5\n",
      "4672/4672 [==============================] - 145s 31ms/sample - loss: 2.9740 - val_loss: 5.6806\n",
      "Epoch 46/100\n",
      "4608/4672 [============================>.] - ETA: 1s - loss: 2.9030\n",
      "Epoch 00046: val_loss did not improve from 5.68059\n",
      "4672/4672 [==============================] - 143s 31ms/sample - loss: 2.9079 - val_loss: 5.7748\n",
      "Epoch 47/100\n",
      "4608/4672 [============================>.] - ETA: 1s - loss: 2.8307\n",
      "Epoch 00047: val_loss did not improve from 5.68059\n",
      "4672/4672 [==============================] - 143s 31ms/sample - loss: 2.8275 - val_loss: 5.9031\n",
      "Epoch 48/100\n",
      "4608/4672 [============================>.] - ETA: 1s - loss: 2.7701\n",
      "Epoch 00048: val_loss did not improve from 5.68059\n",
      "4672/4672 [==============================] - 144s 31ms/sample - loss: 2.7664 - val_loss: 5.7319\n",
      "Epoch 49/100\n",
      "4608/4672 [============================>.] - ETA: 1s - loss: 2.7007\n",
      "Epoch 00049: val_loss did not improve from 5.68059\n",
      "4672/4672 [==============================] - 144s 31ms/sample - loss: 2.6968 - val_loss: 5.6891\n",
      "Epoch 50/100\n",
      "4608/4672 [============================>.] - ETA: 1s - loss: 2.6598\n",
      "Epoch 00050: val_loss improved from 5.68059 to 5.65056, saving model to weights/lstm_w2v.hdf5\n",
      "4672/4672 [==============================] - 143s 31ms/sample - loss: 2.6569 - val_loss: 5.6506\n",
      "Epoch 51/100\n",
      "4608/4672 [============================>.] - ETA: 1s - loss: 2.6096\n",
      "Epoch 00051: val_loss improved from 5.65056 to 5.58991, saving model to weights/lstm_w2v.hdf5\n",
      "4672/4672 [==============================] - 144s 31ms/sample - loss: 2.5988 - val_loss: 5.5899\n",
      "Epoch 52/100\n",
      "4608/4672 [============================>.] - ETA: 1s - loss: 2.5561\n",
      "Epoch 00052: val_loss did not improve from 5.58991\n",
      "4672/4672 [==============================] - 144s 31ms/sample - loss: 2.5581 - val_loss: 5.7894\n",
      "Epoch 53/100\n",
      "4608/4672 [============================>.] - ETA: 1s - loss: 2.5072\n",
      "Epoch 00053: val_loss did not improve from 5.58991\n",
      "4672/4672 [==============================] - 143s 31ms/sample - loss: 2.5111 - val_loss: 5.6797\n",
      "Epoch 54/100\n",
      "4608/4672 [============================>.] - ETA: 1s - loss: 2.4610\n",
      "Epoch 00054: val_loss did not improve from 5.58991\n",
      "4672/4672 [==============================] - 144s 31ms/sample - loss: 2.4625 - val_loss: 5.7426\n",
      "Epoch 55/100\n",
      "4608/4672 [============================>.] - ETA: 1s - loss: 2.4073\n",
      "Epoch 00055: val_loss did not improve from 5.58991\n",
      "4672/4672 [==============================] - 144s 31ms/sample - loss: 2.4068 - val_loss: 5.6916\n",
      "Epoch 56/100\n",
      "4608/4672 [============================>.] - ETA: 1s - loss: 2.3885\n",
      "Epoch 00056: val_loss did not improve from 5.58991\n",
      "4672/4672 [==============================] - 144s 31ms/sample - loss: 2.3858 - val_loss: 5.7407\n",
      "Epoch 57/100\n",
      "4608/4672 [============================>.] - ETA: 1s - loss: 2.3515\n",
      "Epoch 00057: val_loss did not improve from 5.58991\n",
      "4672/4672 [==============================] - 142s 30ms/sample - loss: 2.3498 - val_loss: 5.7678\n",
      "Epoch 58/100\n",
      "4608/4672 [============================>.] - ETA: 1s - loss: 2.3385\n",
      "Epoch 00058: val_loss did not improve from 5.58991\n",
      "4672/4672 [==============================] - 144s 31ms/sample - loss: 2.3459 - val_loss: 5.6822\n",
      "Epoch 59/100\n",
      "4608/4672 [============================>.] - ETA: 1s - loss: 2.2839\n",
      "Epoch 00059: val_loss did not improve from 5.58991\n",
      "4672/4672 [==============================] - 144s 31ms/sample - loss: 2.2864 - val_loss: 5.6040\n",
      "Epoch 60/100\n",
      "4608/4672 [============================>.] - ETA: 1s - loss: 2.2470\n",
      "Epoch 00060: val_loss did not improve from 5.58991\n",
      "4672/4672 [==============================] - 143s 31ms/sample - loss: 2.2470 - val_loss: 5.6993\n",
      "Epoch 61/100\n",
      "4608/4672 [============================>.] - ETA: 1s - loss: 2.1980\n",
      "Epoch 00061: val_loss did not improve from 5.58991\n",
      "4672/4672 [==============================] - 144s 31ms/sample - loss: 2.2011 - val_loss: 5.6921\n",
      "Epoch 62/100\n",
      "4608/4672 [============================>.] - ETA: 1s - loss: 2.1548\n",
      "Epoch 00062: val_loss did not improve from 5.58991\n",
      "4672/4672 [==============================] - 144s 31ms/sample - loss: 2.1543 - val_loss: 5.7950\n",
      "Epoch 63/100\n",
      "4608/4672 [============================>.] - ETA: 1s - loss: 2.1701\n",
      "Epoch 00063: val_loss did not improve from 5.58991\n",
      "4672/4672 [==============================] - 144s 31ms/sample - loss: 2.1670 - val_loss: 5.7377\n",
      "Epoch 64/100\n",
      "4608/4672 [============================>.] - ETA: 1s - loss: 2.0835\n",
      "Epoch 00064: val_loss did not improve from 5.58991\n",
      "4672/4672 [==============================] - 143s 31ms/sample - loss: 2.0863 - val_loss: 5.6871\n",
      "Epoch 65/100\n",
      "4608/4672 [============================>.] - ETA: 1s - loss: 2.0708\n",
      "Epoch 00065: val_loss improved from 5.58991 to 5.58048, saving model to weights/lstm_w2v.hdf5\n",
      "4672/4672 [==============================] - 145s 31ms/sample - loss: 2.0726 - val_loss: 5.5805\n",
      "Epoch 66/100\n",
      "4608/4672 [============================>.] - ETA: 1s - loss: 2.0168\n",
      "Epoch 00066: val_loss did not improve from 5.58048\n",
      "4672/4672 [==============================] - 144s 31ms/sample - loss: 2.0181 - val_loss: 5.5940\n",
      "Epoch 67/100\n",
      "4608/4672 [============================>.] - ETA: 1s - loss: 1.9520\n",
      "Epoch 00067: val_loss did not improve from 5.58048\n",
      "4672/4672 [==============================] - 143s 31ms/sample - loss: 1.9547 - val_loss: 5.5854\n",
      "Epoch 68/100\n",
      "4608/4672 [============================>.] - ETA: 1s - loss: 1.9013\n",
      "Epoch 00068: val_loss improved from 5.58048 to 5.49935, saving model to weights/lstm_w2v.hdf5\n",
      "4672/4672 [==============================] - 144s 31ms/sample - loss: 1.9067 - val_loss: 5.4994\n",
      "Epoch 69/100\n",
      "4608/4672 [============================>.] - ETA: 1s - loss: 1.8678\n",
      "Epoch 00069: val_loss did not improve from 5.49935\n",
      "4672/4672 [==============================] - 144s 31ms/sample - loss: 1.8652 - val_loss: 5.5021\n",
      "Epoch 70/100\n",
      "4608/4672 [============================>.] - ETA: 1s - loss: 1.8420\n",
      "Epoch 00070: val_loss did not improve from 5.49935\n",
      "4672/4672 [==============================] - 144s 31ms/sample - loss: 1.8458 - val_loss: 5.5116\n",
      "Epoch 71/100\n",
      "4608/4672 [============================>.] - ETA: 1s - loss: 1.7983\n",
      "Epoch 00071: val_loss did not improve from 5.49935\n",
      "4672/4672 [==============================] - 143s 31ms/sample - loss: 1.8043 - val_loss: 5.5974\n",
      "Epoch 72/100\n",
      "4608/4672 [============================>.] - ETA: 1s - loss: 1.8044\n",
      "Epoch 00072: val_loss did not improve from 5.49935\n",
      "4672/4672 [==============================] - 144s 31ms/sample - loss: 1.8072 - val_loss: 5.7047\n",
      "Epoch 73/100\n",
      "4608/4672 [============================>.] - ETA: 1s - loss: 1.7666\n",
      "Epoch 00073: val_loss did not improve from 5.49935\n",
      "4672/4672 [==============================] - 144s 31ms/sample - loss: 1.7634 - val_loss: 5.6062\n",
      "Epoch 74/100\n",
      "4608/4672 [============================>.] - ETA: 1s - loss: 1.7324\n",
      "Epoch 00074: val_loss did not improve from 5.49935\n",
      "4672/4672 [==============================] - 143s 31ms/sample - loss: 1.7390 - val_loss: 5.6415\n",
      "Epoch 75/100\n",
      "4608/4672 [============================>.] - ETA: 1s - loss: 1.6880\n",
      "Epoch 00075: val_loss did not improve from 5.49935\n",
      "4672/4672 [==============================] - 143s 31ms/sample - loss: 1.6858 - val_loss: 5.5748\n",
      "Epoch 76/100\n",
      "4608/4672 [============================>.] - ETA: 1s - loss: 1.6571\n",
      "Epoch 00076: val_loss did not improve from 5.49935\n",
      "4672/4672 [==============================] - 144s 31ms/sample - loss: 1.6526 - val_loss: 5.5567\n",
      "Epoch 77/100\n",
      "4608/4672 [============================>.] - ETA: 1s - loss: 1.5992\n",
      "Epoch 00077: val_loss did not improve from 5.49935\n",
      "4672/4672 [==============================] - 144s 31ms/sample - loss: 1.6037 - val_loss: 5.5723\n",
      "Epoch 78/100\n",
      "4608/4672 [============================>.] - ETA: 1s - loss: 1.5591\n",
      "Epoch 00078: val_loss did not improve from 5.49935\n",
      "4672/4672 [==============================] - 143s 31ms/sample - loss: 1.5621 - val_loss: 5.5673\n",
      "Epoch 79/100\n",
      "4608/4672 [============================>.] - ETA: 1s - loss: 1.5316\n",
      "Epoch 00079: val_loss did not improve from 5.49935\n",
      "4672/4672 [==============================] - 145s 31ms/sample - loss: 1.5324 - val_loss: 5.5782\n",
      "Epoch 80/100\n",
      "4608/4672 [============================>.] - ETA: 1s - loss: 1.4705\n",
      "Epoch 00080: val_loss did not improve from 5.49935\n",
      "4672/4672 [==============================] - 144s 31ms/sample - loss: 1.4709 - val_loss: 5.6194\n",
      "Epoch 81/100\n",
      "4608/4672 [============================>.] - ETA: 1s - loss: 1.4507\n",
      "Epoch 00081: val_loss did not improve from 5.49935\n",
      "4672/4672 [==============================] - 143s 31ms/sample - loss: 1.4529 - val_loss: 5.5362\n",
      "Epoch 82/100\n",
      "4608/4672 [============================>.] - ETA: 1s - loss: 1.4331\n",
      "Epoch 00082: val_loss did not improve from 5.49935\n",
      "4672/4672 [==============================] - 143s 31ms/sample - loss: 1.4359 - val_loss: 5.5526\n",
      "Epoch 83/100\n",
      "4608/4672 [============================>.] - ETA: 1s - loss: 1.3821\n",
      "Epoch 00083: val_loss did not improve from 5.49935\n",
      "4672/4672 [==============================] - 144s 31ms/sample - loss: 1.3828 - val_loss: 5.5209\n",
      "Epoch 84/100\n",
      "4608/4672 [============================>.] - ETA: 1s - loss: 1.3389\n",
      "Epoch 00084: val_loss did not improve from 5.49935\n",
      "4672/4672 [==============================] - 144s 31ms/sample - loss: 1.3410 - val_loss: 5.6348\n",
      "Epoch 85/100\n",
      "4608/4672 [============================>.] - ETA: 1s - loss: 1.3303\n",
      "Epoch 00085: val_loss did not improve from 5.49935\n",
      "4672/4672 [==============================] - 143s 31ms/sample - loss: 1.3279 - val_loss: 5.5145\n",
      "Epoch 86/100\n",
      "4608/4672 [============================>.] - ETA: 1s - loss: 1.3106\n",
      "Epoch 00086: val_loss improved from 5.49935 to 5.45812, saving model to weights/lstm_w2v.hdf5\n",
      "4672/4672 [==============================] - 145s 31ms/sample - loss: 1.3132 - val_loss: 5.4581\n",
      "Epoch 87/100\n",
      "4608/4672 [============================>.] - ETA: 1s - loss: 1.2690\n",
      "Epoch 00087: val_loss did not improve from 5.45812\n",
      "4672/4672 [==============================] - 144s 31ms/sample - loss: 1.2734 - val_loss: 5.5098\n",
      "Epoch 88/100\n",
      "4608/4672 [============================>.] - ETA: 1s - loss: 1.2569\n",
      "Epoch 00088: val_loss did not improve from 5.45812\n",
      "4672/4672 [==============================] - 143s 31ms/sample - loss: 1.2628 - val_loss: 5.5972\n",
      "Epoch 89/100\n",
      "4608/4672 [============================>.] - ETA: 1s - loss: 1.2226\n",
      "Epoch 00089: val_loss did not improve from 5.45812\n",
      "4672/4672 [==============================] - 144s 31ms/sample - loss: 1.2189 - val_loss: 5.5036\n",
      "Epoch 90/100\n",
      "4608/4672 [============================>.] - ETA: 1s - loss: 1.1934\n",
      "Epoch 00090: val_loss did not improve from 5.45812\n",
      "4672/4672 [==============================] - 144s 31ms/sample - loss: 1.1942 - val_loss: 5.5256\n",
      "Epoch 91/100\n",
      "4608/4672 [============================>.] - ETA: 1s - loss: 1.1891\n",
      "Epoch 00091: val_loss did not improve from 5.45812\n",
      "4672/4672 [==============================] - 144s 31ms/sample - loss: 1.1859 - val_loss: 5.5053\n",
      "Epoch 92/100\n",
      "4608/4672 [============================>.] - ETA: 1s - loss: 1.1372\n",
      "Epoch 00092: val_loss did not improve from 5.45812\n",
      "4672/4672 [==============================] - 143s 31ms/sample - loss: 1.1371 - val_loss: 5.6002\n",
      "Epoch 93/100\n",
      "4608/4672 [============================>.] - ETA: 1s - loss: 1.1043\n",
      "Epoch 00093: val_loss did not improve from 5.45812\n",
      "4672/4672 [==============================] - 144s 31ms/sample - loss: 1.1039 - val_loss: 5.6014\n",
      "Epoch 94/100\n",
      "4608/4672 [============================>.] - ETA: 1s - loss: 1.0540\n",
      "Epoch 00094: val_loss did not improve from 5.45812\n",
      "4672/4672 [==============================] - 144s 31ms/sample - loss: 1.0551 - val_loss: 5.6114\n",
      "Epoch 95/100\n",
      "4608/4672 [============================>.] - ETA: 1s - loss: 1.0312\n",
      "Epoch 00095: val_loss did not improve from 5.45812\n",
      "4672/4672 [==============================] - 144s 31ms/sample - loss: 1.0342 - val_loss: 5.5519\n",
      "Epoch 96/100\n",
      "4608/4672 [============================>.] - ETA: 1s - loss: 0.9882\n",
      "Epoch 00096: val_loss did not improve from 5.45812\n",
      "4672/4672 [==============================] - 144s 31ms/sample - loss: 0.9880 - val_loss: 5.5728\n",
      "Epoch 97/100\n",
      "4608/4672 [============================>.] - ETA: 1s - loss: 0.9357\n",
      "Epoch 00097: val_loss did not improve from 5.45812\n",
      "4672/4672 [==============================] - 144s 31ms/sample - loss: 0.9388 - val_loss: 5.6349\n",
      "Epoch 98/100\n",
      "4608/4672 [============================>.] - ETA: 1s - loss: 0.9067\n",
      "Epoch 00098: val_loss did not improve from 5.45812\n",
      "4672/4672 [==============================] - 145s 31ms/sample - loss: 0.9069 - val_loss: 5.6022\n",
      "Epoch 99/100\n",
      "4608/4672 [============================>.] - ETA: 1s - loss: 0.8791\n",
      "Epoch 00099: val_loss did not improve from 5.45812\n",
      "4672/4672 [==============================] - 143s 31ms/sample - loss: 0.8794 - val_loss: 5.5573\n",
      "Epoch 100/100\n",
      "4608/4672 [============================>.] - ETA: 1s - loss: 0.8725\n",
      "Epoch 00100: val_loss did not improve from 5.45812\n",
      "4672/4672 [==============================] - 145s 31ms/sample - loss: 0.8729 - val_loss: 5.4880\n"
     ]
    }
   ],
   "source": [
    "lstm_w2v_loss = lstm_w2v.fit(x, y, validation_split=0.2, batch_size=64, epochs=100, callbacks=callbacks)"
   ]
  },
  {
   "cell_type": "markdown",
   "metadata": {
    "tags": []
   },
   "source": [
    "## Generation"
   ]
  },
  {
   "cell_type": "code",
   "execution_count": 40,
   "metadata": {},
   "outputs": [],
   "source": [
    "def sample(preds, temperature):\n",
    "    if temperature <= 0:\n",
    "        return np.argmax(preds)\n",
    "\n",
    "    preds = np.asarray(preds).astype('float64')\n",
    "    preds = np.log(preds) / temperature\n",
    "  \n",
    "    exp_preds = np.exp(preds)\n",
    "    preds = exp_preds / np.sum(exp_preds)\n",
    "  \n",
    "    probas = np.random.multinomial(1, preds, 1)\n",
    "    return np.argmax(probas)"
   ]
  },
  {
   "cell_type": "code",
   "execution_count": 41,
   "metadata": {},
   "outputs": [],
   "source": [
    "def word_to_id(word):\n",
    "    return w2v_model.wv.key_to_index[word]\n",
    "\n",
    "def id_to_word(id):\n",
    "    return w2v_model.wv.index_to_key[id]"
   ]
  },
  {
   "cell_type": "code",
   "execution_count": 42,
   "metadata": {},
   "outputs": [],
   "source": [
    "def generate(model=gru, prompt='In this paper', words=20, temperature=0.2):\n",
    "    word_ids = [word_to_id(word) for word in prompt.lower().split()]\n",
    "    \n",
    "    for i in range(words):\n",
    "        prediction = model.predict(x=np.array(word_ids))\n",
    "        id = sample(prediction[-1], temperature)\n",
    "        word_ids.append(id)\n",
    "    \n",
    "    return ' '.join(id_to_word(id) for id in word_ids)"
   ]
  },
  {
   "cell_type": "code",
   "execution_count": 46,
   "metadata": {
    "tags": []
   },
   "outputs": [
    {
     "data": {
      "text/plain": [
       "'in this paper we present a novel approach faroese bots websites guards ideologies satisfies unibuc mance cialis automatizes royal utilit toute som bcp yifan entitled distorted approximation subtree'"
      ]
     },
     "execution_count": 46,
     "metadata": {},
     "output_type": "execute_result"
    }
   ],
   "source": [
    "generate(model=gru_w2v, prompt='In this paper we present a novel approach')"
   ]
  },
  {
   "cell_type": "markdown",
   "metadata": {
    "tags": []
   },
   "source": [
    "## Evaluation"
   ]
  },
  {
   "cell_type": "code",
   "execution_count": 60,
   "metadata": {},
   "outputs": [],
   "source": [
    "models = {gru_loss: 'GRU', gru_w2v_loss: 'GRU + Word2Vec', lstm_loss: 'LSTM', lstm_w2v_loss: 'LSTM + Word2Vec'}"
   ]
  },
  {
   "cell_type": "code",
   "execution_count": 66,
   "metadata": {},
   "outputs": [],
   "source": [
    "# get minimimum validation loss for a model \n",
    "def min_val_loss(model, max_epochs=100):\n",
    "    return min(model.history['val_loss'][:max_epochs])"
   ]
  },
  {
   "cell_type": "code",
   "execution_count": 70,
   "metadata": {},
   "outputs": [
    {
     "name": "stdout",
     "output_type": "stream",
     "text": [
      "Minimum validation loss for GRU: 7.56549\n",
      "Perplexity for model GRU: 1930.41\n",
      "\n",
      "Minimum validation loss for GRU + Word2Vec: 5.64481\n",
      "Perplexity for model GRU + Word2Vec: 282.82\n",
      "\n",
      "Minimum validation loss for LSTM: 6.84608\n",
      "Perplexity for model LSTM: 940.19\n",
      "\n",
      "Minimum validation loss for LSTM + Word2Vec: 5.65056\n",
      "Perplexity for model LSTM + Word2Vec: 234.66\n",
      "\n"
     ]
    }
   ],
   "source": [
    "for m in models.keys():\n",
    "    print(\"Minimum validation loss for {}: {:.5f}\".format(models[m], min_val_loss(m, 50)))\n",
    "    print(\"Perplexity for model {}: {:.2f}\\n\".format(models[m], math.exp(min_val_loss(m))))"
   ]
  }
 ],
 "metadata": {
  "kernelspec": {
   "display_name": "Python 3",
   "language": "python",
   "name": "python3"
  },
  "language_info": {
   "codemirror_mode": {
    "name": "ipython",
    "version": 3
   },
   "file_extension": ".py",
   "mimetype": "text/x-python",
   "name": "python",
   "nbconvert_exporter": "python",
   "pygments_lexer": "ipython3",
   "version": "3.6.13"
  }
 },
 "nbformat": 4,
 "nbformat_minor": 4
}
