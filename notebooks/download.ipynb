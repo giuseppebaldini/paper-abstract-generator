{
 "cells": [
  {
   "cell_type": "markdown",
   "id": "8ffab04c-7aaa-4f73-a089-fe32d423c166",
   "metadata": {},
   "source": [
    "# Download"
   ]
  },
  {
   "cell_type": "code",
   "execution_count": 4,
   "id": "4aaf26c7-a7ad-4c1a-8908-d9e42f72afc4",
   "metadata": {},
   "outputs": [],
   "source": [
    "import requests\n",
    "import shutil\n",
    "import gzip"
   ]
  },
  {
   "cell_type": "code",
   "execution_count": 10,
   "id": "8d6ce001-3181-431b-b42d-8476f7b7d1f2",
   "metadata": {},
   "outputs": [],
   "source": [
    "# download zipped anthology file from ACL website\n",
    "url = 'https://aclanthology.org/anthology+abstracts.bib.gz'\n",
    "r = requests.get(url, allow_redirects=True)\n",
    "in_filepath = 'data/anthology+abstracts.bib.gz'\n",
    "\n",
    "with open(in_filepath, 'wb') as f:\n",
    "    write_data = f.write(r.content)"
   ]
  },
  {
   "cell_type": "code",
   "execution_count": 11,
   "id": "7773ebaa-c11e-4b7f-ae4f-6a8f7ed859e4",
   "metadata": {},
   "outputs": [],
   "source": [
    "# unzip anthology file and save in data folder\n",
    "out_filepath = 'data/anthology+abstracts.bib'\n",
    "\n",
    "with gzip.open(in_filepath, 'rb') as f_in:\n",
    "    with open(out_filepath, 'wb') as f_out:\n",
    "        shutil.copyfileobj(f_in, f_out)"
   ]
  }
 ],
 "metadata": {
  "kernelspec": {
   "display_name": "Python 3",
   "language": "python",
   "name": "python3"
  },
  "language_info": {
   "codemirror_mode": {
    "name": "ipython",
    "version": 3
   },
   "file_extension": ".py",
   "mimetype": "text/x-python",
   "name": "python",
   "nbconvert_exporter": "python",
   "pygments_lexer": "ipython3",
   "version": "3.6.13"
  }
 },
 "nbformat": 4,
 "nbformat_minor": 5
}
