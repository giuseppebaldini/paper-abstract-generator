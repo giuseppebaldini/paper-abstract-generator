{
 "cells": [
  {
   "cell_type": "markdown",
   "id": "0f2731b1-f80b-4587-9834-5f7d3402ee79",
   "metadata": {
    "tags": []
   },
   "source": [
    "# Conditioned LSTM"
   ]
  },
  {
   "cell_type": "code",
   "execution_count": 1,
   "id": "6c322678-97e7-44ed-8155-d14cfd47a726",
   "metadata": {},
   "outputs": [
    {
     "name": "stderr",
     "output_type": "stream",
     "text": [
      "D:\\giuse\\Conda\\envs\\thesis\\lib\\site-packages\\gensim\\similarities\\__init__.py:15: UserWarning: The gensim.similarities.levenshtein submodule is disabled, because the optional Levenshtein package <https://pypi.org/project/python-Levenshtein/> is unavailable. Install Levenhstein (e.g. `pip install python-Levenshtein`) to suppress this warning.\n",
      "  warnings.warn(msg)\n"
     ]
    }
   ],
   "source": [
    "import math\n",
    "import random\n",
    "\n",
    "import numpy as np\n",
    "\n",
    "import torch\n",
    "from torch import nn\n",
    "import torch.nn.functional as F\n",
    "from torch.utils.data.sampler import SubsetRandomSampler\n",
    "\n",
    "import matplotlib.pyplot as plt\n",
    "\n",
    "from sklearn.decomposition import PCA\n",
    "\n",
    "import gensim\n",
    "from gensim.models import KeyedVectors\n",
    "from gensim.models.lsimodel import LsiModel\n",
    "from gensim.corpora.dictionary import Dictionary\n",
    "from gensim.models.phrases import Phrases, ENGLISH_CONNECTOR_WORDS"
   ]
  },
  {
   "cell_type": "markdown",
   "id": "e3f89a46-8f42-477f-90ff-592fffa0b62b",
   "metadata": {
    "tags": []
   },
   "source": [
    "## Data"
   ]
  },
  {
   "cell_type": "code",
   "execution_count": 2,
   "id": "fe343191-55af-48bb-b966-55ad552efcb3",
   "metadata": {},
   "outputs": [],
   "source": [
    "with open('data/tokenized.txt','r') as f:\n",
    "    tokenized = eval(f.read())\n",
    "    \n",
    "with open('data/tokens.txt','r') as f:\n",
    "    tokens = eval(f.read())"
   ]
  },
  {
   "cell_type": "code",
   "execution_count": 3,
   "id": "f210f4c1-b171-4e41-be01-ee4dd311b430",
   "metadata": {},
   "outputs": [],
   "source": [
    "x_arr = np.load('data/x.npy')\n",
    "y_arr = np.load('data/y.npy')"
   ]
  },
  {
   "cell_type": "code",
   "execution_count": 4,
   "id": "89c71560-f7a1-437a-b023-fd9004a7b611",
   "metadata": {},
   "outputs": [
    {
     "data": {
      "text/plain": [
       "(5841, 100)"
      ]
     },
     "execution_count": 4,
     "metadata": {},
     "output_type": "execute_result"
    }
   ],
   "source": [
    "x_arr.shape"
   ]
  },
  {
   "cell_type": "code",
   "execution_count": 5,
   "id": "d4b21bf4-ad35-4c76-abc0-307060aa3463",
   "metadata": {},
   "outputs": [],
   "source": [
    "valid_split = 0.2"
   ]
  },
  {
   "cell_type": "code",
   "execution_count": 6,
   "id": "f4084a92-0f22-4e42-ab06-95ebeffccf4f",
   "metadata": {},
   "outputs": [],
   "source": [
    "dataset_len = len(x_arr)\n",
    "ids = list(range(dataset_len))"
   ]
  },
  {
   "cell_type": "code",
   "execution_count": 7,
   "id": "e13ec988-2ff5-47f3-b15c-c48307304e1a",
   "metadata": {},
   "outputs": [],
   "source": [
    "val_len = int(np.floor(valid_split * dataset_len))\n",
    "val_ids = np.random.choice(ids, size=val_len, replace=False)"
   ]
  },
  {
   "cell_type": "code",
   "execution_count": 8,
   "id": "dd395d6c-bada-4844-a2e0-4926815bf17f",
   "metadata": {},
   "outputs": [],
   "source": [
    "x_val = np.array(x_arr)[val_ids] \n",
    "y_val = np.array(y_arr)[val_ids]"
   ]
  },
  {
   "cell_type": "code",
   "execution_count": 9,
   "id": "11ca0ddd-101d-437c-a1d6-8b43eb9da709",
   "metadata": {},
   "outputs": [
    {
     "data": {
      "text/plain": [
       "((1168, 100), (1168, 100))"
      ]
     },
     "execution_count": 9,
     "metadata": {},
     "output_type": "execute_result"
    }
   ],
   "source": [
    "x_val.shape, y_val.shape"
   ]
  },
  {
   "cell_type": "code",
   "execution_count": 10,
   "id": "67520dd9-c365-44c1-8f2d-9ebed3878bda",
   "metadata": {},
   "outputs": [],
   "source": [
    "x_train = np.delete(x_arr, val_ids, axis=0)\n",
    "y_train = np.delete(y_arr, val_ids, axis=0)"
   ]
  },
  {
   "cell_type": "code",
   "execution_count": 11,
   "id": "c5147fa1-457d-44b2-a9da-c58739c7ba9e",
   "metadata": {},
   "outputs": [
    {
     "data": {
      "text/plain": [
       "((4673, 100), (4673, 100))"
      ]
     },
     "execution_count": 11,
     "metadata": {},
     "output_type": "execute_result"
    }
   ],
   "source": [
    "x_train.shape, y_train.shape"
   ]
  },
  {
   "cell_type": "code",
   "execution_count": 12,
   "id": "129df162-b5dd-4fc5-9ffa-63b8765ec982",
   "metadata": {},
   "outputs": [],
   "source": [
    "def batches(x_arr, y_arr, batch_size):\n",
    "    \n",
    "    pos = 0\n",
    "    \n",
    "    for n in range(batch_size, x_arr.shape[0], batch_size):\n",
    "        x = x_arr[pos:n]\n",
    "        y = y_arr[pos:n]\n",
    "        pos = n\n",
    "        \n",
    "        yield x, y"
   ]
  },
  {
   "cell_type": "code",
   "execution_count": 13,
   "id": "27066b95-79ce-4403-97d8-1b918ca73497",
   "metadata": {},
   "outputs": [],
   "source": [
    "x_data = {'train': x_train , 'val': x_val}\n",
    "y_data = {'train': y_train , 'val': y_val}"
   ]
  },
  {
   "cell_type": "markdown",
   "id": "e9823008-e8f0-46e4-a20d-c6a7915b97b3",
   "metadata": {
    "tags": []
   },
   "source": [
    "## Word Embeddings"
   ]
  },
  {
   "cell_type": "markdown",
   "id": "1b3cc00f-6613-4965-aeb1-532785684f6e",
   "metadata": {
    "tags": []
   },
   "source": [
    "### Word2Vec"
   ]
  },
  {
   "cell_type": "code",
   "execution_count": 14,
   "id": "0b4ae5c6-cf7a-4286-ab02-9700f0eb6c57",
   "metadata": {},
   "outputs": [],
   "source": [
    "w2v_model = gensim.models.KeyedVectors.load(\"w2v.model\", mmap='r')"
   ]
  },
  {
   "cell_type": "code",
   "execution_count": 15,
   "id": "b755d9f8-b239-4ae6-a05e-0484e125cc9c",
   "metadata": {},
   "outputs": [
    {
     "data": {
      "text/plain": [
       "(17862, 100)"
      ]
     },
     "execution_count": 15,
     "metadata": {},
     "output_type": "execute_result"
    }
   ],
   "source": [
    "vocab_size, emdedding_size = w2v_model.wv.vectors.shape\n",
    "vocab_size, emdedding_size"
   ]
  },
  {
   "cell_type": "code",
   "execution_count": 16,
   "id": "b2fa4c61-c375-42d9-8c23-a6a39478fbb7",
   "metadata": {},
   "outputs": [
    {
     "data": {
      "text/plain": [
       "100"
      ]
     },
     "execution_count": 16,
     "metadata": {},
     "output_type": "execute_result"
    }
   ],
   "source": [
    "embedding_size = w2v_model.wv.vectors.shape[1]\n",
    "embedding_size"
   ]
  },
  {
   "cell_type": "code",
   "execution_count": 17,
   "id": "f3f57a05-44f3-4f17-81db-49792038b2a9",
   "metadata": {},
   "outputs": [],
   "source": [
    "w2v_tensors = torch.FloatTensor(w2v_model.wv.vectors)"
   ]
  },
  {
   "cell_type": "markdown",
   "id": "560d8edf-17a3-4c57-a2f7-754da054d4da",
   "metadata": {},
   "source": [
    "### ngram Word2Vec"
   ]
  },
  {
   "cell_type": "code",
   "execution_count": null,
   "id": "269db124-8bde-4788-983e-0879d03a5f81",
   "metadata": {},
   "outputs": [],
   "source": [
    "ngram_transformer = Phrases(tokenized, connector_words=ENGLISH_CONNECTOR_WORDS)"
   ]
  },
  {
   "cell_type": "code",
   "execution_count": null,
   "id": "52ec960c-708c-40d5-a95f-f69159c36c1e",
   "metadata": {},
   "outputs": [],
   "source": [
    "ngram_w2v = gensim.models.Word2Vec(ngram_transformer[tokenized], min_count=1, vector_size=128, epochs=100)\n",
    "ngram_w2v.save(\"ngram_w2v.model\")"
   ]
  },
  {
   "cell_type": "code",
   "execution_count": null,
   "id": "a1484744-8c3c-4b78-9a00-6c1e36c4ebbb",
   "metadata": {},
   "outputs": [],
   "source": [
    "ngram_vectors = ngram_w2v.wv.vectors"
   ]
  },
  {
   "cell_type": "code",
   "execution_count": null,
   "id": "1c54cab7-a5b6-4545-8bb1-9d8a9f281ad1",
   "metadata": {},
   "outputs": [],
   "source": [
    "ngram_vectors.shape"
   ]
  },
  {
   "cell_type": "code",
   "execution_count": null,
   "id": "e57fc083-6ccd-4cf0-825d-2075e062ade1",
   "metadata": {},
   "outputs": [],
   "source": [
    "ngram_tensors = torch.FloatTensor(ngram_vectors)"
   ]
  },
  {
   "cell_type": "markdown",
   "id": "8c0a8372-24fd-40e9-a4ea-d3d0294d5995",
   "metadata": {
    "jp-MarkdownHeadingCollapsed": true,
    "tags": []
   },
   "source": [
    "## Topic Modelling"
   ]
  },
  {
   "cell_type": "markdown",
   "id": "b6557fe4-f6e8-4784-85f6-259ecb9ae92e",
   "metadata": {
    "tags": []
   },
   "source": [
    "### Parameters"
   ]
  },
  {
   "cell_type": "code",
   "execution_count": 18,
   "id": "6f8fcd3e-895e-4874-b6d1-b6a78ccd101d",
   "metadata": {},
   "outputs": [],
   "source": [
    "# model params used as params for LSA and PCA\n",
    "n_hidden = 256\n",
    "batch_size = 64\n",
    "n_layers = 3"
   ]
  },
  {
   "cell_type": "markdown",
   "id": "801312e8-aed1-41a9-85cb-9b220b850255",
   "metadata": {
    "tags": []
   },
   "source": [
    "### Corpus"
   ]
  },
  {
   "cell_type": "code",
   "execution_count": 19,
   "id": "74c738d7-37a5-4109-a15b-644e15e3b41e",
   "metadata": {
    "tags": []
   },
   "outputs": [],
   "source": [
    "dct = Dictionary(tokenized)\n",
    "dct.filter_extremes(no_below=5, no_above=0.3)"
   ]
  },
  {
   "cell_type": "code",
   "execution_count": 20,
   "id": "80adadbb-835d-4055-a762-47c687301689",
   "metadata": {},
   "outputs": [
    {
     "data": {
      "text/plain": [
       "5485"
      ]
     },
     "execution_count": 20,
     "metadata": {},
     "output_type": "execute_result"
    }
   ],
   "source": [
    "len(dct)"
   ]
  },
  {
   "cell_type": "code",
   "execution_count": 21,
   "id": "4073c810-0ca7-427f-9688-9962f7fd728b",
   "metadata": {},
   "outputs": [
    {
     "name": "stdout",
     "output_type": "stream",
     "text": [
      "Dictionary(5485 unique tokens: ['across', 'all', 'annotation', 'arabic', 'baselines']...)\n"
     ]
    }
   ],
   "source": [
    "print(dct)"
   ]
  },
  {
   "cell_type": "code",
   "execution_count": 22,
   "id": "3864db32-5e75-4e37-bd9e-dec3019ef8b8",
   "metadata": {},
   "outputs": [],
   "source": [
    "corpus = [dct.doc2bow(a) for a in tokenized]"
   ]
  },
  {
   "cell_type": "markdown",
   "id": "e03e1a2d-98a7-45c5-8dd6-7851aa323e51",
   "metadata": {},
   "source": [
    "### Latent Semantic Analysis (LSA)"
   ]
  },
  {
   "cell_type": "code",
   "execution_count": 23,
   "id": "9ffbc817-9458-491f-a8d1-ee7d9fabb6bc",
   "metadata": {},
   "outputs": [],
   "source": [
    "lsi = LsiModel(corpus, id2word=dct, num_topics=n_hidden, decay=0.2)"
   ]
  },
  {
   "cell_type": "code",
   "execution_count": 24,
   "id": "ef742f30-a219-408b-a39a-bc77dc2e8637",
   "metadata": {},
   "outputs": [
    {
     "data": {
      "text/plain": [
       "[(0,\n",
       "  '0.862*\"e\" + 0.293*\"de\" + 0.163*\"d\" + 0.125*\"les\" + 0.122*\"la\" + 0.121*\"des\" + 0.108*\"l\" + 0.095*\"et\" + 0.087*\"s\" + 0.081*\"le\"'),\n",
       " (1,\n",
       "  '0.177*\"word\" + 0.151*\"text\" + 0.137*\"learning\" + 0.135*\"using\" + 0.134*\"information\" + 0.132*\"it\" + 0.130*\"performance\" + 0.126*\"tasks\" + 0.122*\"training\" + 0.121*\"or\"'),\n",
       " (2,\n",
       "  '-0.777*\"word\" + -0.237*\"embeddings\" + -0.202*\"words\" + 0.142*\"text\" + -0.107*\"languages\" + 0.100*\"domain\" + 0.096*\"knowledge\" + 0.094*\"dataset\" + 0.091*\"question\" + 0.083*\"training\"'),\n",
       " (3,\n",
       "  '-0.663*\"translation\" + -0.271*\"english\" + -0.271*\"machine\" + -0.168*\"nmt\" + -0.158*\"languages\" + 0.126*\"information\" + -0.118*\"parallel\" + -0.117*\"mt\" + 0.110*\"knowledge\" + -0.095*\"source\"'),\n",
       " (4,\n",
       "  '0.305*\"corpus\" + -0.185*\"neural\" + -0.184*\"training\" + 0.180*\"languages\" + -0.162*\"translation\" + 0.154*\"speech\" + -0.152*\"tasks\" + -0.144*\"propose\" + 0.135*\"system\" + -0.134*\"sentence\"')]"
      ]
     },
     "execution_count": 24,
     "metadata": {},
     "output_type": "execute_result"
    }
   ],
   "source": [
    "lsi.show_topics(5)"
   ]
  },
  {
   "cell_type": "code",
   "execution_count": 25,
   "id": "5b70180a-f67f-4092-9569-40997bf0b218",
   "metadata": {},
   "outputs": [
    {
     "data": {
      "text/plain": [
       "[('translation', -0.6633132991127613),\n",
       " ('english', -0.2709260369674919),\n",
       " ('machine', -0.27050187298386497),\n",
       " ('nmt', -0.16819503585105858),\n",
       " ('languages', -0.1580022213937852),\n",
       " ('information', 0.12648816557146414),\n",
       " ('parallel', -0.11846718912255286),\n",
       " ('mt', -0.11738592587911673),\n",
       " ('knowledge', 0.11032660817455142),\n",
       " ('source', -0.09548557038185532)]"
      ]
     },
     "execution_count": 25,
     "metadata": {},
     "output_type": "execute_result"
    }
   ],
   "source": [
    "lsi.show_topic(3, topn=10)"
   ]
  },
  {
   "cell_type": "code",
   "execution_count": 26,
   "id": "a6d2d4cc-f09c-4096-9c53-1e6d7d05eafe",
   "metadata": {},
   "outputs": [],
   "source": [
    "trans_topics = np.transpose(lsi.projection.u)"
   ]
  },
  {
   "cell_type": "markdown",
   "id": "0ae62faf-ac59-4f61-87a7-bf2de09c82cb",
   "metadata": {},
   "source": [
    "### Principal Component Analysis (PCA)"
   ]
  },
  {
   "cell_type": "code",
   "execution_count": 27,
   "id": "88fd01de-ac01-43ef-a370-6bd234108e6d",
   "metadata": {},
   "outputs": [],
   "source": [
    "pca_topics = PCA(n_components=n_layers*batch_size, svd_solver='full').fit_transform(trans_topics)"
   ]
  },
  {
   "cell_type": "code",
   "execution_count": 28,
   "id": "8d50757e-d8ca-482a-88b7-99636cf4f4c6",
   "metadata": {},
   "outputs": [],
   "source": [
    "pca_trans = np.transpose(pca_topics)"
   ]
  },
  {
   "cell_type": "markdown",
   "id": "d19a1e13-b90c-4616-9120-cbd7498a29fc",
   "metadata": {
    "tags": []
   },
   "source": [
    "## Models"
   ]
  },
  {
   "cell_type": "markdown",
   "id": "e1a02c32-c923-46f1-9228-c75df69508c7",
   "metadata": {},
   "source": [
    "### LSTM"
   ]
  },
  {
   "cell_type": "code",
   "execution_count": 29,
   "id": "39435312-dd5f-4751-a2b6-ae70dcd5b66f",
   "metadata": {
    "tags": []
   },
   "outputs": [],
   "source": [
    "class LSTM(nn.Module):\n",
    "    \n",
    "    def __init__(self, n_hidden=256, n_layers=2, drop_prob=0.2, lr=0.001):\n",
    "        super().__init__()\n",
    "\n",
    "        self.drop_prob = drop_prob\n",
    "        self.n_layers = n_layers\n",
    "        self.n_hidden = n_hidden\n",
    "        self.lr = lr\n",
    "        \n",
    "        self.emb_layer = nn.Embedding(vocab_size, embedding_size)\n",
    "\n",
    "        # LSTM\n",
    "        self.lstm = nn.LSTM(embedding_size, n_hidden, n_layers, \n",
    "                            dropout=drop_prob, batch_first=True)\n",
    "        \n",
    "        # dropout layer\n",
    "        self.dropout = nn.Dropout(drop_prob)\n",
    "        \n",
    "        # fully-connected layer\n",
    "        self.fc = nn.Linear(n_hidden, vocab_size)      \n",
    "    \n",
    "    def forward(self, x, hidden):\n",
    "        ''' Forward pass through the network. \n",
    "            These inputs are x, and the hidden/cell state `hidden`. '''\n",
    "        \n",
    "        x = x.long()\n",
    "\n",
    "        # pass input through embedding layer\n",
    "        embedded = self.emb_layer(x)     \n",
    "        \n",
    "        # get outputs and new hidden state from the lstm\n",
    "        lstm_output, hidden = self.lstm(embedded, hidden)\n",
    "        \n",
    "        # pass through a dropout layer\n",
    "        out = self.dropout(lstm_output)\n",
    "        \n",
    "        # flatten out\n",
    "        out = out.reshape(-1, self.n_hidden) \n",
    "\n",
    "        # put \"out\" through the fully-connected layer\n",
    "        out = self.fc(out)\n",
    "\n",
    "        # return the final output and the hidden state\n",
    "        return out, hidden\n",
    "    \n",
    "    \n",
    "    def init_hidden(self, batch_size):\n",
    "        ''' initializes hidden state '''\n",
    "\n",
    "        hidden = (torch.zeros(self.n_layers, batch_size, self.n_hidden),\n",
    "                 torch.zeros(self.n_layers, batch_size, self.n_hidden))\n",
    "\n",
    "        return hidden"
   ]
  },
  {
   "cell_type": "code",
   "execution_count": 30,
   "id": "dbd655cd-b894-46cc-85c7-f3c5096c39a0",
   "metadata": {},
   "outputs": [
    {
     "name": "stdout",
     "output_type": "stream",
     "text": [
      "LSTM(\n",
      "  (emb_layer): Embedding(17862, 100)\n",
      "  (lstm): LSTM(100, 256, num_layers=3, batch_first=True, dropout=0.2)\n",
      "  (dropout): Dropout(p=0.2, inplace=False)\n",
      "  (fc): Linear(in_features=256, out_features=17862, bias=True)\n",
      ")\n"
     ]
    }
   ],
   "source": [
    "# instantiate the model\n",
    "lstm = LSTM(n_hidden=n_hidden, n_layers=n_layers)\n",
    "\n",
    "print(lstm)"
   ]
  },
  {
   "cell_type": "markdown",
   "id": "eb82a109-0dc1-4cef-9de3-ec6ebfd01039",
   "metadata": {},
   "source": [
    "### LSTM + Word2Vec"
   ]
  },
  {
   "cell_type": "code",
   "execution_count": 31,
   "id": "bd666eda-cd61-4695-8136-2de8fc400a02",
   "metadata": {
    "tags": []
   },
   "outputs": [],
   "source": [
    "class LSTM_Word2Vec(nn.Module):\n",
    "    \n",
    "    def __init__(self, n_hidden=256, n_layers=2, drop_prob=0.2, lr=0.001):\n",
    "        super().__init__()\n",
    "\n",
    "        self.drop_prob = drop_prob\n",
    "        self.n_layers = n_layers\n",
    "        self.n_hidden = n_hidden\n",
    "        self.lr = lr\n",
    "        \n",
    "        self.emb_layer = nn.Embedding.from_pretrained(w2v_tensors)\n",
    "\n",
    "        # LSTM\n",
    "        self.lstm = nn.LSTM(embedding_size, n_hidden, n_layers, \n",
    "                            dropout=drop_prob, batch_first=True)\n",
    "        \n",
    "        # dropout layer\n",
    "        self.dropout = nn.Dropout(drop_prob)\n",
    "        \n",
    "        # fully-connected layer\n",
    "        self.fc = nn.Linear(n_hidden, vocab_size)      \n",
    "    \n",
    "    def forward(self, x, hidden):\n",
    "        ''' Forward pass through the network. \n",
    "            These inputs are x, and the hidden/cell state `hidden`. '''\n",
    "        \n",
    "        x = x.long()\n",
    "\n",
    "        # pass input through embedding layer\n",
    "        embedded = self.emb_layer(x)     \n",
    "        \n",
    "        # get outputs and new hidden state from the lstm\n",
    "        lstm_output, hidden = self.lstm(embedded, hidden)\n",
    "        \n",
    "        # pass through a dropout layer\n",
    "        out = self.dropout(lstm_output)\n",
    "        \n",
    "        # flatten out\n",
    "        out = out.reshape(-1, self.n_hidden) \n",
    "\n",
    "        # put \"out\" through the fully-connected layer\n",
    "        out = self.fc(out)\n",
    "\n",
    "        # return the final output and the hidden state\n",
    "        return out, hidden\n",
    "    \n",
    "    \n",
    "    def init_hidden(self, batch_size):\n",
    "        ''' initializes hidden state '''\n",
    "\n",
    "        hidden = (torch.zeros(self.n_layers, batch_size, self.n_hidden),\n",
    "                 torch.zeros(self.n_layers, batch_size, self.n_hidden))\n",
    "\n",
    "        return hidden"
   ]
  },
  {
   "cell_type": "code",
   "execution_count": 32,
   "id": "f12ca673-c356-4ca4-99f7-c8d5e7bae887",
   "metadata": {
    "tags": []
   },
   "outputs": [
    {
     "name": "stdout",
     "output_type": "stream",
     "text": [
      "LSTM_Word2Vec(\n",
      "  (emb_layer): Embedding(17862, 100)\n",
      "  (lstm): LSTM(100, 256, num_layers=3, batch_first=True)\n",
      "  (dropout): Dropout(p=0, inplace=False)\n",
      "  (fc): Linear(in_features=256, out_features=17862, bias=True)\n",
      ")\n"
     ]
    }
   ],
   "source": [
    "# instantiate the model\n",
    "lstm_w2v = LSTM_Word2Vec(n_hidden=n_hidden, n_layers=n_layers, drop_prob=0)\n",
    "\n",
    "print(lstm_w2v)"
   ]
  },
  {
   "cell_type": "markdown",
   "id": "ca08093e-f769-4dc9-8c2e-2753e70772d7",
   "metadata": {
    "tags": []
   },
   "source": [
    "### Conditioned LSTM"
   ]
  },
  {
   "cell_type": "code",
   "execution_count": 33,
   "id": "82a6de5d-722f-447c-be5e-3c1b4f8b9dfa",
   "metadata": {
    "tags": []
   },
   "outputs": [],
   "source": [
    "class Conditioned_LSTM(nn.Module):\n",
    "    \n",
    "    def __init__(self, n_hidden=256, n_layers=2, drop_prob=0.2, lr=0.001):\n",
    "        super().__init__()\n",
    "\n",
    "        self.drop_prob = drop_prob\n",
    "        self.n_layers = n_layers\n",
    "        self.n_hidden = n_hidden\n",
    "        self.lr = lr\n",
    "        \n",
    "        self.emb_layer = nn.Embedding(vocab_size, embedding_size)\n",
    "\n",
    "        # LSTM\n",
    "        self.lstm = nn.LSTM(embedding_size, n_hidden, n_layers, \n",
    "                            dropout=drop_prob, batch_first=True)\n",
    "        \n",
    "        # dropout layer\n",
    "        self.dropout = nn.Dropout(drop_prob)\n",
    "        \n",
    "        # fully-connected layer\n",
    "        self.fc = nn.Linear(n_hidden, vocab_size)      \n",
    "    \n",
    "    def forward(self, x, hidden):\n",
    "        ''' Forward pass through the network. \n",
    "            These inputs are x, and the hidden/cell state `hidden`. '''\n",
    "        \n",
    "        x = x.long()\n",
    "\n",
    "        # pass input through embedding layer\n",
    "        embedded = self.emb_layer(x)     \n",
    "        \n",
    "        # get outputs and new hidden state from the lstm\n",
    "        lstm_output, hidden = self.lstm(embedded, hidden)\n",
    "        \n",
    "        # pass through a dropout layer\n",
    "        out = self.dropout(lstm_output)\n",
    "        \n",
    "        # flatten out\n",
    "        out = out.reshape(-1, self.n_hidden) \n",
    "\n",
    "        # put \"out\" through the fully-connected layer\n",
    "        out = self.fc(out)\n",
    "\n",
    "        # return the final output and the hidden state\n",
    "        return out, hidden\n",
    "    \n",
    "    \n",
    "    def init_hidden(self, batch_size):\n",
    "        ''' initializes hidden state '''\n",
    "\n",
    "        hidden = (torch.FloatTensor(pca_trans.reshape(self.n_layers, batch_size, self.n_hidden)),\n",
    "                 torch.zeros(self.n_layers, batch_size, self.n_hidden))\n",
    "\n",
    "        return hidden"
   ]
  },
  {
   "cell_type": "code",
   "execution_count": 34,
   "id": "385453f3-8dc1-46e1-b9c2-d37088ab4ee6",
   "metadata": {},
   "outputs": [
    {
     "name": "stdout",
     "output_type": "stream",
     "text": [
      "Conditioned_LSTM(\n",
      "  (emb_layer): Embedding(17862, 100)\n",
      "  (lstm): LSTM(100, 256, num_layers=3, batch_first=True, dropout=0.2)\n",
      "  (dropout): Dropout(p=0.2, inplace=False)\n",
      "  (fc): Linear(in_features=256, out_features=17862, bias=True)\n",
      ")\n"
     ]
    }
   ],
   "source": [
    "# instantiate the model\n",
    "cond_lstm = Conditioned_LSTM(n_hidden=n_hidden, n_layers=n_layers)\n",
    "\n",
    "print(cond_lstm)"
   ]
  },
  {
   "cell_type": "markdown",
   "id": "f7e4e0f1-f4e5-46cf-afed-4f9941b79994",
   "metadata": {
    "tags": []
   },
   "source": [
    "### Condtiioned LSTM + Word2Vec"
   ]
  },
  {
   "cell_type": "code",
   "execution_count": 35,
   "id": "6a9b0329-f90a-4121-9308-931b5c2b6b5c",
   "metadata": {
    "tags": []
   },
   "outputs": [],
   "source": [
    "class Conditioned_LSTM_Word2Vec(nn.Module):\n",
    "    \n",
    "    def __init__(self, n_hidden=256, n_layers=2, drop_prob=0.2, lr=0.001):\n",
    "        super().__init__()\n",
    "\n",
    "        self.drop_prob = drop_prob\n",
    "        self.n_layers = n_layers\n",
    "        self.n_hidden = n_hidden\n",
    "        self.lr = lr\n",
    "        \n",
    "        self.emb_layer = nn.Embedding.from_pretrained(w2v_tensors)\n",
    "\n",
    "        # LSTM\n",
    "        self.lstm = nn.LSTM(embedding_size, n_hidden, n_layers, \n",
    "                            dropout=drop_prob, batch_first=True)\n",
    "        \n",
    "        # dropout layer\n",
    "        self.dropout = nn.Dropout(drop_prob)\n",
    "        \n",
    "        # fully-connected layer\n",
    "        self.fc = nn.Linear(n_hidden, vocab_size)      \n",
    "    \n",
    "    def forward(self, x, hidden):\n",
    "        ''' Forward pass through the network. \n",
    "            These inputs are x, and the hidden/cell state `hidden`. '''\n",
    "        \n",
    "        x = x.long()\n",
    "\n",
    "        # pass input through embedding layer\n",
    "        embedded = self.emb_layer(x)     \n",
    "        \n",
    "        # get outputs and new hidden state from the lstm\n",
    "        lstm_output, hidden = self.lstm(embedded, hidden)\n",
    "        \n",
    "        # pass through a dropout layer\n",
    "        out = self.dropout(lstm_output)\n",
    "        \n",
    "        # flatten out\n",
    "        out = out.reshape(-1, self.n_hidden) \n",
    "\n",
    "        # put \"out\" through the fully-connected layer\n",
    "        out = self.fc(out)\n",
    "\n",
    "        # return the final output and the hidden state\n",
    "        return out, hidden\n",
    "    \n",
    "    \n",
    "    def init_hidden(self, batch_size):\n",
    "        ''' initializes hidden state '''\n",
    "\n",
    "        hidden = (torch.FloatTensor(pca_trans.reshape(self.n_layers, batch_size, self.n_hidden)),\n",
    "                 torch.zeros(self.n_layers, batch_size, self.n_hidden))\n",
    "\n",
    "        return hidden"
   ]
  },
  {
   "cell_type": "code",
   "execution_count": 36,
   "id": "318c4949-55c3-40d9-a382-9cc1ef9b9d62",
   "metadata": {
    "tags": []
   },
   "outputs": [
    {
     "name": "stdout",
     "output_type": "stream",
     "text": [
      "Conditioned_LSTM_Word2Vec(\n",
      "  (emb_layer): Embedding(17862, 100)\n",
      "  (lstm): LSTM(100, 256, num_layers=3, batch_first=True)\n",
      "  (dropout): Dropout(p=0, inplace=False)\n",
      "  (fc): Linear(in_features=256, out_features=17862, bias=True)\n",
      ")\n"
     ]
    }
   ],
   "source": [
    "# instantiate the model\n",
    "cond_lstm_w2v = Conditioned_LSTM_Word2Vec(n_hidden=n_hidden, n_layers=n_layers, drop_prob=0)\n",
    "\n",
    "print(cond_lstm_w2v)"
   ]
  },
  {
   "cell_type": "markdown",
   "id": "09aa0ae6-4c96-4ad1-970e-98dea4b9bfa8",
   "metadata": {
    "tags": []
   },
   "source": [
    "## Training"
   ]
  },
  {
   "cell_type": "code",
   "execution_count": 37,
   "id": "d3dc1f2f-8f97-402d-a896-af196d1e88d9",
   "metadata": {},
   "outputs": [],
   "source": [
    "def train(model, epochs=10, batch_size=32, lr=0.001, clip=1, print_every=32):\n",
    "    \n",
    "    # optimizer\n",
    "    opt = torch.optim.Adam(model.parameters(), lr=lr)\n",
    "    \n",
    "    # loss criterion\n",
    "    criterion = nn.CrossEntropyLoss()\n",
    "    \n",
    "    # loss values\n",
    "    train_loss = []\n",
    "    val_loss = []\n",
    "    \n",
    "    # dict to assing to right loss list according to phase\n",
    "    losses = {'train': train_loss , 'val': val_loss}\n",
    "\n",
    "    for e in range(epochs):\n",
    "        \n",
    "        for phase in ['train', 'val']:\n",
    "            model.train(True) if phase == 'train' else model.train(False)\n",
    "            \n",
    "            batch = 0\n",
    "\n",
    "            train_epoch_loss = []\n",
    "            val_epoch_loss = []\n",
    "            \n",
    "            # dict to assing to right epoch loss list according to phase\n",
    "            epoch_loss = {'train': train_epoch_loss , 'val': val_epoch_loss} \n",
    "\n",
    "            for x, y in batches(x_data[phase], y_data[phase], batch_size):\n",
    "\n",
    "                batch += 1\n",
    "\n",
    "                # initialize hidden state\n",
    "                h = model.init_hidden(batch_size)\n",
    "\n",
    "                # convert numpy arrays to PyTorch arrays\n",
    "                inputs, targets = torch.from_numpy(x), torch.from_numpy(y)\n",
    "\n",
    "                # detach hidden states\n",
    "                h = tuple([each.data for each in h])\n",
    "\n",
    "                # zero accumulated gradients\n",
    "                model.zero_grad()\n",
    "\n",
    "                # get the output from the model\n",
    "                output, h = model(inputs, h)\n",
    "\n",
    "                # calculate the loss\n",
    "                loss = criterion(output, targets.view(-1).long())\n",
    "\n",
    "                if phase == 'train':\n",
    "                    # back-propagate error\n",
    "                    loss.backward()\n",
    "\n",
    "                    # `clip_grad_norm` helps prevent exploding gradient\n",
    "                    nn.utils.clip_grad_norm_(model.parameters(), clip)\n",
    "\n",
    "                    # update weigths\n",
    "                    opt.step()\n",
    "                \n",
    "                # add current batch loss to epoch loss list\n",
    "                epoch_loss[phase].append(loss.item())\n",
    "\n",
    "                # show epoch - batch - loss every n batches\n",
    "                if batch % print_every == 0:\n",
    "\n",
    "                    tot_batches = int(x_data[phase].shape[0] / batch_size)\n",
    "\n",
    "                    print(\"Epoch: {}/{} -\".format(e+1, epochs),\n",
    "                          \"Batch: {}/{} -\".format(batch, tot_batches),\n",
    "                          \"{} loss: {:.5f}\".format(phase.capitalize(), loss))\n",
    "                    \n",
    "            # calculate average epoch loss\n",
    "            avg_epoch_loss = sum(epoch_loss[phase])/len(epoch_loss[phase])\n",
    "                    \n",
    "            # print average train and val loss at the end of each epoch\n",
    "            print(\"\\nEpoch: {}/{} -\".format(e+1, epochs),\n",
    "                  \"Average {} loss: {:.5f}\\n\".format(phase, avg_epoch_loss))           \n",
    "\n",
    "            # save average epoch loss for training and validation\n",
    "            losses[phase].append(avg_epoch_loss)\n",
    "\n",
    "    return train_loss, val_loss"
   ]
  },
  {
   "cell_type": "code",
   "execution_count": null,
   "id": "58eb0a03-1ec7-49c7-9dfc-530a10219de9",
   "metadata": {},
   "outputs": [],
   "source": [
    "epochs = 10\n",
    "path = 'weights/cond_lstm.pt'\n",
    "loss = 0.2\n",
    "\n",
    "optimizer = torch.optim.Adam(cond_lstm.parameters(), lr=0.001)\n",
    "criterion = nn.CrossEntropyLoss()"
   ]
  },
  {
   "cell_type": "code",
   "execution_count": null,
   "id": "c9171143-818e-423f-a030-0a1fe9393c0e",
   "metadata": {},
   "outputs": [],
   "source": [
    "# save checkpoints\n",
    "torch.save({\n",
    "            'epoch': epochs,\n",
    "            'model_state_dict': cond_lstm.state_dict(),\n",
    "            'optimizer_state_dict': optimizer.state_dict(),\n",
    "            'loss': criterion\n",
    "            }, path)"
   ]
  },
  {
   "cell_type": "code",
   "execution_count": null,
   "id": "83fc79af-27cf-4951-9d4d-6f47b15a8e3b",
   "metadata": {
    "tags": []
   },
   "outputs": [],
   "source": [
    "# ones\n",
    "train_loss, val_loss = train(cond_lstm, batch_size=batch_size, epochs=20, print_every=5)"
   ]
  },
  {
   "cell_type": "code",
   "execution_count": null,
   "id": "b900b276-f2c6-430c-97c8-8a5aac95971e",
   "metadata": {
    "tags": []
   },
   "outputs": [],
   "source": [
    "# ones\n",
    "train_loss_w2v, val_loss_w2v = train(cond_lstm_w2v, batch_size=batch_size, epochs=20, print_every=5)"
   ]
  },
  {
   "cell_type": "code",
   "execution_count": null,
   "id": "5544417b-2df0-41f9-96f1-641e75a94c02",
   "metadata": {
    "tags": []
   },
   "outputs": [],
   "source": [
    "# ones (50)\n",
    "train_loss_w2v, val_loss_w2v = train(cond_lstm_w2v, batch_size=batch_size, epochs=50, print_every=9)"
   ]
  },
  {
   "cell_type": "markdown",
   "id": "f74fe5a2-a60b-475c-a82e-9d323b290fea",
   "metadata": {},
   "source": [
    "### In progress ..."
   ]
  },
  {
   "cell_type": "code",
   "execution_count": 38,
   "id": "c81288f1-04b8-4918-b58e-0c5d53f999ad",
   "metadata": {
    "collapsed": true,
    "jupyter": {
     "outputs_hidden": true
    },
    "tags": []
   },
   "outputs": [
    {
     "name": "stdout",
     "output_type": "stream",
     "text": [
      "Epoch: 1/10 - Batch: 9/73 - Train loss: 8.46450\n",
      "Epoch: 1/10 - Batch: 18/73 - Train loss: 7.20999\n",
      "Epoch: 1/10 - Batch: 27/73 - Train loss: 7.08247\n",
      "Epoch: 1/10 - Batch: 36/73 - Train loss: 7.03150\n",
      "Epoch: 1/10 - Batch: 45/73 - Train loss: 6.88186\n",
      "Epoch: 1/10 - Batch: 54/73 - Train loss: 6.87250\n",
      "Epoch: 1/10 - Batch: 63/73 - Train loss: 6.84805\n",
      "Epoch: 1/10 - Batch: 72/73 - Train loss: 6.87861\n",
      "\n",
      "Epoch: 1/10 - Average train loss: 7.43174\n",
      "\n",
      "Epoch: 1/10 - Batch: 9/18 - Val loss: 7.05984\n",
      "Epoch: 1/10 - Batch: 18/18 - Val loss: 7.06798\n",
      "\n",
      "Epoch: 1/10 - Average val loss: 7.00296\n",
      "\n",
      "Epoch: 2/10 - Batch: 9/73 - Train loss: 6.86131\n",
      "Epoch: 2/10 - Batch: 18/73 - Train loss: 7.04414\n",
      "Epoch: 2/10 - Batch: 27/73 - Train loss: 6.94994\n",
      "Epoch: 2/10 - Batch: 36/73 - Train loss: 6.95191\n",
      "Epoch: 2/10 - Batch: 45/73 - Train loss: 6.82791\n",
      "Epoch: 2/10 - Batch: 54/73 - Train loss: 6.82035\n",
      "Epoch: 2/10 - Batch: 63/73 - Train loss: 6.80660\n",
      "Epoch: 2/10 - Batch: 72/73 - Train loss: 6.83378\n",
      "\n",
      "Epoch: 2/10 - Average train loss: 6.99658\n",
      "\n",
      "Epoch: 2/10 - Batch: 9/18 - Val loss: 7.05332\n",
      "Epoch: 2/10 - Batch: 18/18 - Val loss: 7.06366\n",
      "\n",
      "Epoch: 2/10 - Average val loss: 6.99680\n",
      "\n",
      "Epoch: 3/10 - Batch: 9/73 - Train loss: 6.84921\n",
      "Epoch: 3/10 - Batch: 18/73 - Train loss: 7.04115\n",
      "Epoch: 3/10 - Batch: 27/73 - Train loss: 6.94621\n",
      "Epoch: 3/10 - Batch: 36/73 - Train loss: 6.93883\n",
      "Epoch: 3/10 - Batch: 45/73 - Train loss: 6.82572\n",
      "Epoch: 3/10 - Batch: 54/73 - Train loss: 6.81538\n",
      "Epoch: 3/10 - Batch: 63/73 - Train loss: 6.79122\n",
      "Epoch: 3/10 - Batch: 72/73 - Train loss: 6.82790\n",
      "\n",
      "Epoch: 3/10 - Average train loss: 6.98343\n",
      "\n",
      "Epoch: 3/10 - Batch: 9/18 - Val loss: 7.05709\n",
      "Epoch: 3/10 - Batch: 18/18 - Val loss: 7.06887\n",
      "\n",
      "Epoch: 3/10 - Average val loss: 6.99920\n",
      "\n",
      "Epoch: 4/10 - Batch: 9/73 - Train loss: 6.84522\n",
      "Epoch: 4/10 - Batch: 18/73 - Train loss: 7.03295\n",
      "Epoch: 4/10 - Batch: 27/73 - Train loss: 6.93234\n",
      "Epoch: 4/10 - Batch: 36/73 - Train loss: 6.92282\n",
      "Epoch: 4/10 - Batch: 45/73 - Train loss: 6.81074\n",
      "Epoch: 4/10 - Batch: 54/73 - Train loss: 6.80506\n",
      "Epoch: 4/10 - Batch: 63/73 - Train loss: 6.78781\n",
      "Epoch: 4/10 - Batch: 72/73 - Train loss: 6.81371\n",
      "\n",
      "Epoch: 4/10 - Average train loss: 6.97593\n",
      "\n",
      "Epoch: 4/10 - Batch: 9/18 - Val loss: 7.06067\n",
      "Epoch: 4/10 - Batch: 18/18 - Val loss: 7.07281\n",
      "\n",
      "Epoch: 4/10 - Average val loss: 7.00171\n",
      "\n",
      "Epoch: 5/10 - Batch: 9/73 - Train loss: 6.84075\n",
      "Epoch: 5/10 - Batch: 18/73 - Train loss: 7.02575\n",
      "Epoch: 5/10 - Batch: 27/73 - Train loss: 6.93301\n",
      "Epoch: 5/10 - Batch: 36/73 - Train loss: 6.92466\n",
      "Epoch: 5/10 - Batch: 45/73 - Train loss: 6.81853\n",
      "Epoch: 5/10 - Batch: 54/73 - Train loss: 6.80370\n",
      "Epoch: 5/10 - Batch: 63/73 - Train loss: 6.79590\n",
      "\n",
      "Epoch: 5/10 - Average train loss: 6.97355\n",
      "\n",
      "Epoch: 5/10 - Batch: 9/18 - Val loss: 7.06570\n",
      "Epoch: 5/10 - Batch: 18/18 - Val loss: 7.07733\n",
      "\n",
      "Epoch: 5/10 - Average val loss: 7.00536\n",
      "\n",
      "Epoch: 6/10 - Batch: 9/73 - Train loss: 6.84125\n",
      "Epoch: 6/10 - Batch: 18/73 - Train loss: 7.02584\n",
      "Epoch: 6/10 - Batch: 27/73 - Train loss: 6.93462\n",
      "Epoch: 6/10 - Batch: 36/73 - Train loss: 6.91144\n",
      "Epoch: 6/10 - Batch: 45/73 - Train loss: 6.81351\n",
      "Epoch: 6/10 - Batch: 54/73 - Train loss: 6.79848\n",
      "Epoch: 6/10 - Batch: 63/73 - Train loss: 6.78281\n",
      "Epoch: 6/10 - Batch: 72/73 - Train loss: 6.80887\n",
      "\n",
      "Epoch: 6/10 - Average train loss: 6.97019\n",
      "\n",
      "Epoch: 6/10 - Batch: 9/18 - Val loss: 7.06984\n",
      "Epoch: 6/10 - Batch: 18/18 - Val loss: 7.08214\n",
      "\n",
      "Epoch: 6/10 - Average val loss: 7.00894\n",
      "\n",
      "Epoch: 7/10 - Batch: 9/73 - Train loss: 6.83598\n",
      "Epoch: 7/10 - Batch: 18/73 - Train loss: 7.02362\n",
      "Epoch: 7/10 - Batch: 27/73 - Train loss: 6.92152\n",
      "Epoch: 7/10 - Batch: 36/73 - Train loss: 6.91451\n",
      "Epoch: 7/10 - Batch: 45/73 - Train loss: 6.80535\n",
      "Epoch: 7/10 - Batch: 54/73 - Train loss: 6.79606\n",
      "Epoch: 7/10 - Batch: 63/73 - Train loss: 6.78162\n",
      "Epoch: 7/10 - Batch: 72/73 - Train loss: 6.81001\n",
      "\n",
      "Epoch: 7/10 - Average train loss: 6.96690\n",
      "\n",
      "Epoch: 7/10 - Batch: 9/18 - Val loss: 7.07281\n",
      "Epoch: 7/10 - Batch: 18/18 - Val loss: 7.08519\n",
      "\n",
      "Epoch: 7/10 - Average val loss: 7.01150\n",
      "\n",
      "Epoch: 8/10 - Batch: 9/73 - Train loss: 6.83221\n",
      "Epoch: 8/10 - Batch: 18/73 - Train loss: 7.01650\n",
      "Epoch: 8/10 - Batch: 27/73 - Train loss: 6.92468\n",
      "Epoch: 8/10 - Batch: 36/73 - Train loss: 6.91993\n",
      "Epoch: 8/10 - Batch: 45/73 - Train loss: 6.80761\n",
      "Epoch: 8/10 - Batch: 54/73 - Train loss: 6.79650\n",
      "Epoch: 8/10 - Batch: 63/73 - Train loss: 6.77712\n",
      "Epoch: 8/10 - Batch: 72/73 - Train loss: 6.81122\n",
      "\n",
      "Epoch: 8/10 - Average train loss: 6.96414\n",
      "\n",
      "Epoch: 8/10 - Batch: 9/18 - Val loss: 7.07606\n",
      "Epoch: 8/10 - Batch: 18/18 - Val loss: 7.08784\n",
      "\n",
      "Epoch: 8/10 - Average val loss: 7.01348\n",
      "\n",
      "Epoch: 9/10 - Batch: 9/73 - Train loss: 6.83437\n",
      "Epoch: 9/10 - Batch: 18/73 - Train loss: 7.01695\n",
      "Epoch: 9/10 - Batch: 27/73 - Train loss: 6.92273\n",
      "Epoch: 9/10 - Batch: 36/73 - Train loss: 6.91102\n",
      "Epoch: 9/10 - Batch: 45/73 - Train loss: 6.81139\n",
      "Epoch: 9/10 - Batch: 54/73 - Train loss: 6.79533\n",
      "Epoch: 9/10 - Batch: 63/73 - Train loss: 6.77789\n",
      "Epoch: 9/10 - Batch: 72/73 - Train loss: 6.80438\n",
      "\n",
      "Epoch: 9/10 - Average train loss: 6.96151\n",
      "\n",
      "Epoch: 9/10 - Batch: 9/18 - Val loss: 7.07579\n",
      "Epoch: 9/10 - Batch: 18/18 - Val loss: 7.08816\n",
      "\n",
      "Epoch: 9/10 - Average val loss: 7.01277\n",
      "\n",
      "Epoch: 10/10 - Batch: 9/73 - Train loss: 6.83128\n",
      "Epoch: 10/10 - Batch: 18/73 - Train loss: 7.00943\n",
      "Epoch: 10/10 - Batch: 27/73 - Train loss: 6.91784\n",
      "Epoch: 10/10 - Batch: 36/73 - Train loss: 6.90414\n",
      "Epoch: 10/10 - Batch: 45/73 - Train loss: 6.80192\n",
      "Epoch: 10/10 - Batch: 54/73 - Train loss: 6.79597\n",
      "Epoch: 10/10 - Batch: 63/73 - Train loss: 6.77461\n",
      "Epoch: 10/10 - Batch: 72/73 - Train loss: 6.80261\n",
      "\n",
      "Epoch: 10/10 - Average train loss: 6.95775\n",
      "\n",
      "Epoch: 10/10 - Batch: 9/18 - Val loss: 7.07640\n",
      "Epoch: 10/10 - Batch: 18/18 - Val loss: 7.08862\n",
      "\n",
      "Epoch: 10/10 - Average val loss: 7.01271\n",
      "\n"
     ]
    }
   ],
   "source": [
    "train_loss_base, val_loss_base = train(lstm, batch_size=batch_size, epochs=10, print_every=9)"
   ]
  },
  {
   "cell_type": "code",
   "execution_count": 40,
   "id": "d9c4aad8-2e56-4b3a-af68-e8b1b583acfd",
   "metadata": {
    "collapsed": true,
    "jupyter": {
     "outputs_hidden": true
    },
    "tags": []
   },
   "outputs": [
    {
     "name": "stdout",
     "output_type": "stream",
     "text": [
      "Epoch: 1/20 - Batch: 9/73 - Train loss: 6.83064\n",
      "Epoch: 1/20 - Batch: 18/73 - Train loss: 7.16712\n",
      "Epoch: 1/20 - Batch: 27/73 - Train loss: 6.99470\n",
      "Epoch: 1/20 - Batch: 36/73 - Train loss: 6.96883\n",
      "Epoch: 1/20 - Batch: 45/73 - Train loss: 6.83091\n",
      "Epoch: 1/20 - Batch: 54/73 - Train loss: 6.81606\n",
      "Epoch: 1/20 - Batch: 63/73 - Train loss: 6.79231\n",
      "Epoch: 1/20 - Batch: 72/73 - Train loss: 6.81642\n",
      "\n",
      "Epoch: 1/20 - Average train loss: 7.05078\n",
      "\n",
      "Epoch: 1/20 - Batch: 9/18 - Val loss: 7.05578\n",
      "Epoch: 1/20 - Batch: 18/18 - Val loss: 7.06100\n",
      "\n",
      "Epoch: 1/20 - Average val loss: 6.99340\n",
      "\n",
      "Epoch: 2/20 - Batch: 9/73 - Train loss: 6.77742\n",
      "Epoch: 2/20 - Batch: 18/73 - Train loss: 6.97837\n",
      "Epoch: 2/20 - Batch: 27/73 - Train loss: 6.89206\n",
      "Epoch: 2/20 - Batch: 36/73 - Train loss: 6.88186\n",
      "Epoch: 2/20 - Batch: 45/73 - Train loss: 6.78793\n",
      "Epoch: 2/20 - Batch: 54/73 - Train loss: 6.77578\n",
      "Epoch: 2/20 - Batch: 63/73 - Train loss: 6.76455\n",
      "Epoch: 2/20 - Batch: 72/73 - Train loss: 6.78660\n",
      "\n",
      "Epoch: 2/20 - Average train loss: 6.93124\n",
      "\n",
      "Epoch: 2/20 - Batch: 9/18 - Val loss: 6.98865\n",
      "Epoch: 2/20 - Batch: 18/18 - Val loss: 7.02272\n",
      "\n",
      "Epoch: 2/20 - Average val loss: 6.95624\n",
      "\n",
      "Epoch: 3/20 - Batch: 9/73 - Train loss: 6.79461\n",
      "Epoch: 3/20 - Batch: 18/73 - Train loss: 6.97449\n",
      "Epoch: 3/20 - Batch: 27/73 - Train loss: 6.88435\n",
      "Epoch: 3/20 - Batch: 36/73 - Train loss: 6.87371\n",
      "Epoch: 3/20 - Batch: 45/73 - Train loss: 6.78202\n",
      "Epoch: 3/20 - Batch: 54/73 - Train loss: 6.76854\n",
      "Epoch: 3/20 - Batch: 63/73 - Train loss: 6.75384\n",
      "Epoch: 3/20 - Batch: 72/73 - Train loss: 6.77786\n",
      "\n",
      "Epoch: 3/20 - Average train loss: 6.86073\n",
      "\n",
      "Epoch: 3/20 - Batch: 9/18 - Val loss: 6.91752\n",
      "Epoch: 3/20 - Batch: 18/18 - Val loss: 6.97735\n",
      "\n",
      "Epoch: 3/20 - Average val loss: 6.90712\n",
      "\n",
      "Epoch: 4/20 - Batch: 9/73 - Train loss: 6.78976\n",
      "Epoch: 4/20 - Batch: 18/73 - Train loss: 6.96419\n",
      "Epoch: 4/20 - Batch: 27/73 - Train loss: 6.87333\n",
      "Epoch: 4/20 - Batch: 36/73 - Train loss: 6.84602\n",
      "Epoch: 4/20 - Batch: 45/73 - Train loss: 6.76814\n",
      "Epoch: 4/20 - Batch: 54/73 - Train loss: 6.75781\n",
      "Epoch: 4/20 - Batch: 63/73 - Train loss: 6.72868\n",
      "Epoch: 4/20 - Batch: 72/73 - Train loss: 6.72978\n",
      "\n",
      "Epoch: 4/20 - Average train loss: 6.82985\n",
      "\n",
      "Epoch: 4/20 - Batch: 9/18 - Val loss: 6.86756\n",
      "Epoch: 4/20 - Batch: 18/18 - Val loss: 6.92596\n",
      "\n",
      "Epoch: 4/20 - Average val loss: 6.85980\n",
      "\n",
      "Epoch: 5/20 - Batch: 9/73 - Train loss: 6.71591\n",
      "Epoch: 5/20 - Batch: 18/73 - Train loss: 6.84503\n",
      "Epoch: 5/20 - Batch: 27/73 - Train loss: 6.71083\n",
      "Epoch: 5/20 - Batch: 36/73 - Train loss: 6.63642\n",
      "Epoch: 5/20 - Batch: 45/73 - Train loss: 6.50192\n",
      "Epoch: 5/20 - Batch: 54/73 - Train loss: 6.43574\n",
      "Epoch: 5/20 - Batch: 63/73 - Train loss: 6.41931\n",
      "Epoch: 5/20 - Batch: 72/73 - Train loss: 6.37838\n",
      "\n",
      "Epoch: 5/20 - Average train loss: 6.62359\n",
      "\n",
      "Epoch: 5/20 - Batch: 9/18 - Val loss: 6.55535\n",
      "Epoch: 5/20 - Batch: 18/18 - Val loss: 6.59706\n",
      "\n",
      "Epoch: 5/20 - Average val loss: 6.53098\n",
      "\n",
      "Epoch: 6/20 - Batch: 9/73 - Train loss: 6.37039\n",
      "Epoch: 6/20 - Batch: 18/73 - Train loss: 6.54029\n",
      "Epoch: 6/20 - Batch: 27/73 - Train loss: 6.39976\n",
      "Epoch: 6/20 - Batch: 36/73 - Train loss: 6.38008\n",
      "Epoch: 6/20 - Batch: 45/73 - Train loss: 6.21473\n",
      "Epoch: 6/20 - Batch: 54/73 - Train loss: 6.17283\n",
      "Epoch: 6/20 - Batch: 63/73 - Train loss: 6.18531\n",
      "Epoch: 6/20 - Batch: 72/73 - Train loss: 6.15092\n",
      "\n",
      "Epoch: 6/20 - Average train loss: 6.34454\n",
      "\n",
      "Epoch: 6/20 - Batch: 9/18 - Val loss: 6.37064\n",
      "Epoch: 6/20 - Batch: 18/18 - Val loss: 6.39151\n",
      "\n",
      "Epoch: 6/20 - Average val loss: 6.32803\n",
      "\n",
      "Epoch: 7/20 - Batch: 9/73 - Train loss: 6.14235\n",
      "Epoch: 7/20 - Batch: 18/73 - Train loss: 6.32079\n",
      "Epoch: 7/20 - Batch: 27/73 - Train loss: 6.16030\n",
      "Epoch: 7/20 - Batch: 36/73 - Train loss: 6.17419\n",
      "Epoch: 7/20 - Batch: 45/73 - Train loss: 5.98879\n",
      "Epoch: 7/20 - Batch: 54/73 - Train loss: 5.95728\n",
      "Epoch: 7/20 - Batch: 63/73 - Train loss: 5.97690\n",
      "Epoch: 7/20 - Batch: 72/73 - Train loss: 5.94644\n",
      "\n",
      "Epoch: 7/20 - Average train loss: 6.12880\n",
      "\n",
      "Epoch: 7/20 - Batch: 9/18 - Val loss: 6.19068\n",
      "Epoch: 7/20 - Batch: 18/18 - Val loss: 6.19900\n",
      "\n",
      "Epoch: 7/20 - Average val loss: 6.13778\n",
      "\n",
      "Epoch: 8/20 - Batch: 9/73 - Train loss: 5.92002\n",
      "Epoch: 8/20 - Batch: 18/73 - Train loss: 6.12502\n",
      "Epoch: 8/20 - Batch: 27/73 - Train loss: 5.93254\n",
      "Epoch: 8/20 - Batch: 36/73 - Train loss: 5.98418\n",
      "Epoch: 8/20 - Batch: 45/73 - Train loss: 5.77382\n",
      "Epoch: 8/20 - Batch: 54/73 - Train loss: 5.75365\n",
      "Epoch: 8/20 - Batch: 63/73 - Train loss: 5.78282\n",
      "Epoch: 8/20 - Batch: 72/73 - Train loss: 5.75795\n",
      "\n",
      "Epoch: 8/20 - Average train loss: 5.92746\n",
      "\n",
      "Epoch: 8/20 - Batch: 9/18 - Val loss: 6.04166\n",
      "Epoch: 8/20 - Batch: 18/18 - Val loss: 6.04685\n",
      "\n",
      "Epoch: 8/20 - Average val loss: 5.97639\n",
      "\n",
      "Epoch: 9/20 - Batch: 9/73 - Train loss: 5.72282\n",
      "Epoch: 9/20 - Batch: 18/73 - Train loss: 5.95288\n",
      "Epoch: 9/20 - Batch: 27/73 - Train loss: 5.74167\n",
      "Epoch: 9/20 - Batch: 36/73 - Train loss: 5.82084\n",
      "Epoch: 9/20 - Batch: 45/73 - Train loss: 5.59598\n",
      "Epoch: 9/20 - Batch: 54/73 - Train loss: 5.59377\n",
      "Epoch: 9/20 - Batch: 63/73 - Train loss: 5.62982\n",
      "Epoch: 9/20 - Batch: 72/73 - Train loss: 5.60888\n",
      "\n",
      "Epoch: 9/20 - Average train loss: 5.75900\n",
      "\n",
      "Epoch: 9/20 - Batch: 9/18 - Val loss: 5.94312\n",
      "Epoch: 9/20 - Batch: 18/18 - Val loss: 5.93702\n",
      "\n",
      "Epoch: 9/20 - Average val loss: 5.86447\n",
      "\n",
      "Epoch: 10/20 - Batch: 9/73 - Train loss: 5.57447\n",
      "Epoch: 10/20 - Batch: 18/73 - Train loss: 5.81473\n",
      "Epoch: 10/20 - Batch: 27/73 - Train loss: 5.58452\n",
      "Epoch: 10/20 - Batch: 36/73 - Train loss: 5.68014\n",
      "Epoch: 10/20 - Batch: 45/73 - Train loss: 5.44767\n",
      "Epoch: 10/20 - Batch: 54/73 - Train loss: 5.45836\n",
      "Epoch: 10/20 - Batch: 63/73 - Train loss: 5.49920\n",
      "Epoch: 10/20 - Batch: 72/73 - Train loss: 5.48873\n",
      "\n",
      "Epoch: 10/20 - Average train loss: 5.62135\n",
      "\n",
      "Epoch: 10/20 - Batch: 9/18 - Val loss: 5.86128\n",
      "Epoch: 10/20 - Batch: 18/18 - Val loss: 5.84615\n",
      "\n",
      "Epoch: 10/20 - Average val loss: 5.77457\n",
      "\n",
      "Epoch: 11/20 - Batch: 9/73 - Train loss: 5.45129\n",
      "Epoch: 11/20 - Batch: 18/73 - Train loss: 5.69872\n",
      "Epoch: 11/20 - Batch: 27/73 - Train loss: 5.45018\n",
      "Epoch: 11/20 - Batch: 36/73 - Train loss: 5.55370\n",
      "Epoch: 11/20 - Batch: 45/73 - Train loss: 5.33305\n",
      "Epoch: 11/20 - Batch: 54/73 - Train loss: 5.34734\n",
      "Epoch: 11/20 - Batch: 63/73 - Train loss: 5.38154\n",
      "Epoch: 11/20 - Batch: 72/73 - Train loss: 5.37558\n",
      "\n",
      "Epoch: 11/20 - Average train loss: 5.50186\n",
      "\n",
      "Epoch: 11/20 - Batch: 9/18 - Val loss: 5.80279\n",
      "Epoch: 11/20 - Batch: 18/18 - Val loss: 5.77818\n",
      "\n",
      "Epoch: 11/20 - Average val loss: 5.70485\n",
      "\n",
      "Epoch: 12/20 - Batch: 9/73 - Train loss: 5.33155\n",
      "Epoch: 12/20 - Batch: 18/73 - Train loss: 5.59794\n",
      "Epoch: 12/20 - Batch: 27/73 - Train loss: 5.34159\n",
      "Epoch: 12/20 - Batch: 36/73 - Train loss: 5.44845\n",
      "Epoch: 12/20 - Batch: 45/73 - Train loss: 5.21682\n",
      "Epoch: 12/20 - Batch: 54/73 - Train loss: 5.25178\n",
      "Epoch: 12/20 - Batch: 63/73 - Train loss: 5.27976\n",
      "Epoch: 12/20 - Batch: 72/73 - Train loss: 5.27916\n",
      "\n",
      "Epoch: 12/20 - Average train loss: 5.39456\n",
      "\n",
      "Epoch: 12/20 - Batch: 9/18 - Val loss: 5.75780\n",
      "Epoch: 12/20 - Batch: 18/18 - Val loss: 5.72249\n",
      "\n",
      "Epoch: 12/20 - Average val loss: 5.65307\n",
      "\n",
      "Epoch: 13/20 - Batch: 9/73 - Train loss: 5.22195\n",
      "Epoch: 13/20 - Batch: 18/73 - Train loss: 5.50995\n",
      "Epoch: 13/20 - Batch: 27/73 - Train loss: 5.23386\n",
      "Epoch: 13/20 - Batch: 36/73 - Train loss: 5.34079\n",
      "Epoch: 13/20 - Batch: 45/73 - Train loss: 5.10646\n",
      "Epoch: 13/20 - Batch: 54/73 - Train loss: 5.14106\n",
      "Epoch: 13/20 - Batch: 63/73 - Train loss: 5.17812\n",
      "Epoch: 13/20 - Batch: 72/73 - Train loss: 5.18849\n",
      "\n",
      "Epoch: 13/20 - Average train loss: 5.29707\n",
      "\n",
      "Epoch: 13/20 - Batch: 9/18 - Val loss: 5.71472\n",
      "Epoch: 13/20 - Batch: 18/18 - Val loss: 5.67677\n",
      "\n",
      "Epoch: 13/20 - Average val loss: 5.60778\n",
      "\n",
      "Epoch: 14/20 - Batch: 9/73 - Train loss: 5.12880\n",
      "Epoch: 14/20 - Batch: 18/73 - Train loss: 5.41836\n",
      "Epoch: 14/20 - Batch: 27/73 - Train loss: 5.13934\n",
      "Epoch: 14/20 - Batch: 36/73 - Train loss: 5.23872\n",
      "Epoch: 14/20 - Batch: 45/73 - Train loss: 5.01866\n",
      "Epoch: 14/20 - Batch: 54/73 - Train loss: 5.05647\n",
      "Epoch: 14/20 - Batch: 63/73 - Train loss: 5.07473\n",
      "Epoch: 14/20 - Batch: 72/73 - Train loss: 5.09762\n",
      "\n",
      "Epoch: 14/20 - Average train loss: 5.20346\n",
      "\n",
      "Epoch: 14/20 - Batch: 9/18 - Val loss: 5.67430\n",
      "Epoch: 14/20 - Batch: 18/18 - Val loss: 5.62815\n",
      "\n",
      "Epoch: 14/20 - Average val loss: 5.56138\n",
      "\n",
      "Epoch: 15/20 - Batch: 9/73 - Train loss: 5.04986\n",
      "Epoch: 15/20 - Batch: 18/73 - Train loss: 5.32876\n",
      "Epoch: 15/20 - Batch: 27/73 - Train loss: 5.04246\n",
      "Epoch: 15/20 - Batch: 36/73 - Train loss: 5.15554\n",
      "Epoch: 15/20 - Batch: 45/73 - Train loss: 4.93959\n",
      "Epoch: 15/20 - Batch: 54/73 - Train loss: 4.97355\n",
      "Epoch: 15/20 - Batch: 63/73 - Train loss: 4.99141\n",
      "Epoch: 15/20 - Batch: 72/73 - Train loss: 5.01661\n",
      "\n",
      "Epoch: 15/20 - Average train loss: 5.11816\n",
      "\n",
      "Epoch: 15/20 - Batch: 9/18 - Val loss: 5.64941\n",
      "Epoch: 15/20 - Batch: 18/18 - Val loss: 5.59300\n",
      "\n",
      "Epoch: 15/20 - Average val loss: 5.52837\n",
      "\n",
      "Epoch: 16/20 - Batch: 9/73 - Train loss: 4.96639\n",
      "Epoch: 16/20 - Batch: 18/73 - Train loss: 5.24546\n",
      "Epoch: 16/20 - Batch: 27/73 - Train loss: 4.95580\n",
      "Epoch: 16/20 - Batch: 36/73 - Train loss: 5.07931\n",
      "Epoch: 16/20 - Batch: 45/73 - Train loss: 4.85913\n",
      "Epoch: 16/20 - Batch: 54/73 - Train loss: 4.90511\n",
      "Epoch: 16/20 - Batch: 63/73 - Train loss: 4.91164\n",
      "Epoch: 16/20 - Batch: 72/73 - Train loss: 4.94520\n",
      "\n",
      "Epoch: 16/20 - Average train loss: 5.04174\n",
      "\n",
      "Epoch: 16/20 - Batch: 9/18 - Val loss: 5.63719\n",
      "Epoch: 16/20 - Batch: 18/18 - Val loss: 5.57358\n",
      "\n",
      "Epoch: 16/20 - Average val loss: 5.50846\n",
      "\n",
      "Epoch: 17/20 - Batch: 9/73 - Train loss: 4.88901\n",
      "Epoch: 17/20 - Batch: 18/73 - Train loss: 5.17059\n",
      "Epoch: 17/20 - Batch: 27/73 - Train loss: 4.88674\n",
      "Epoch: 17/20 - Batch: 36/73 - Train loss: 5.00307\n",
      "Epoch: 17/20 - Batch: 45/73 - Train loss: 4.79462\n",
      "Epoch: 17/20 - Batch: 54/73 - Train loss: 4.84044\n",
      "Epoch: 17/20 - Batch: 63/73 - Train loss: 4.83729\n",
      "Epoch: 17/20 - Batch: 72/73 - Train loss: 4.87984\n",
      "\n",
      "Epoch: 17/20 - Average train loss: 4.97144\n",
      "\n",
      "Epoch: 17/20 - Batch: 9/18 - Val loss: 5.61905\n",
      "Epoch: 17/20 - Batch: 18/18 - Val loss: 5.55197\n",
      "\n",
      "Epoch: 17/20 - Average val loss: 5.48505\n",
      "\n",
      "Epoch: 18/20 - Batch: 9/73 - Train loss: 4.82706\n",
      "Epoch: 18/20 - Batch: 18/73 - Train loss: 5.10563\n",
      "Epoch: 18/20 - Batch: 27/73 - Train loss: 4.81496\n",
      "Epoch: 18/20 - Batch: 36/73 - Train loss: 4.90733\n",
      "Epoch: 18/20 - Batch: 45/73 - Train loss: 4.72068\n",
      "Epoch: 18/20 - Batch: 54/73 - Train loss: 4.78502\n",
      "Epoch: 18/20 - Batch: 63/73 - Train loss: 4.78412\n",
      "Epoch: 18/20 - Batch: 72/73 - Train loss: 4.82054\n",
      "\n",
      "Epoch: 18/20 - Average train loss: 4.90706\n",
      "\n",
      "Epoch: 18/20 - Batch: 9/18 - Val loss: 5.61918\n",
      "Epoch: 18/20 - Batch: 18/18 - Val loss: 5.54930\n",
      "\n",
      "Epoch: 18/20 - Average val loss: 5.48075\n",
      "\n",
      "Epoch: 19/20 - Batch: 9/73 - Train loss: 4.76815\n",
      "Epoch: 19/20 - Batch: 18/73 - Train loss: 5.04080\n",
      "Epoch: 19/20 - Batch: 27/73 - Train loss: 4.74706\n",
      "Epoch: 19/20 - Batch: 36/73 - Train loss: 4.85752\n",
      "Epoch: 19/20 - Batch: 45/73 - Train loss: 4.67127\n",
      "Epoch: 19/20 - Batch: 54/73 - Train loss: 4.71650\n",
      "Epoch: 19/20 - Batch: 63/73 - Train loss: 4.71949\n",
      "Epoch: 19/20 - Batch: 72/73 - Train loss: 4.76715\n",
      "\n",
      "Epoch: 19/20 - Average train loss: 4.84474\n",
      "\n",
      "Epoch: 19/20 - Batch: 9/18 - Val loss: 5.62329\n",
      "Epoch: 19/20 - Batch: 18/18 - Val loss: 5.55156\n",
      "\n",
      "Epoch: 19/20 - Average val loss: 5.47653\n",
      "\n",
      "Epoch: 20/20 - Batch: 9/73 - Train loss: 4.71804\n",
      "Epoch: 20/20 - Batch: 18/73 - Train loss: 4.97632\n",
      "Epoch: 20/20 - Batch: 27/73 - Train loss: 4.70141\n",
      "Epoch: 20/20 - Batch: 36/73 - Train loss: 4.80317\n",
      "Epoch: 20/20 - Batch: 45/73 - Train loss: 4.61447\n",
      "Epoch: 20/20 - Batch: 63/73 - Train loss: 4.64880\n",
      "Epoch: 20/20 - Batch: 72/73 - Train loss: 4.71232\n",
      "\n",
      "Epoch: 20/20 - Average train loss: 4.78562\n",
      "\n",
      "Epoch: 20/20 - Batch: 9/18 - Val loss: 5.60623\n",
      "Epoch: 20/20 - Batch: 18/18 - Val loss: 5.53615\n",
      "\n",
      "Epoch: 20/20 - Average val loss: 5.45915\n",
      "\n"
     ]
    }
   ],
   "source": [
    "train_loss_base_w2v, val_loss_base_w2v = train(lstm_w2v, batch_size=batch_size, epochs=20, print_every=9)"
   ]
  },
  {
   "cell_type": "code",
   "execution_count": 41,
   "id": "93a47e1c-d344-4325-8dad-665000eba6b7",
   "metadata": {
    "tags": []
   },
   "outputs": [
    {
     "name": "stdout",
     "output_type": "stream",
     "text": [
      "Epoch: 1/20 - Batch: 9/73 - Train loss: 8.38676\n",
      "Epoch: 1/20 - Batch: 18/73 - Train loss: 7.18190\n"
     ]
    },
    {
     "ename": "KeyboardInterrupt",
     "evalue": "",
     "output_type": "error",
     "traceback": [
      "\u001b[1;31m---------------------------------------------------------------------------\u001b[0m",
      "\u001b[1;31mKeyboardInterrupt\u001b[0m                         Traceback (most recent call last)",
      "\u001b[1;32m<ipython-input-41-89f32ef8aa72>\u001b[0m in \u001b[0;36m<module>\u001b[1;34m\u001b[0m\n\u001b[1;32m----> 1\u001b[1;33m \u001b[0mtrain_loss\u001b[0m\u001b[1;33m,\u001b[0m \u001b[0mval_loss\u001b[0m \u001b[1;33m=\u001b[0m \u001b[0mtrain\u001b[0m\u001b[1;33m(\u001b[0m\u001b[0mcond_lstm\u001b[0m\u001b[1;33m,\u001b[0m \u001b[0mbatch_size\u001b[0m\u001b[1;33m=\u001b[0m\u001b[0mbatch_size\u001b[0m\u001b[1;33m,\u001b[0m \u001b[0mepochs\u001b[0m\u001b[1;33m=\u001b[0m\u001b[1;36m20\u001b[0m\u001b[1;33m,\u001b[0m \u001b[0mprint_every\u001b[0m\u001b[1;33m=\u001b[0m\u001b[1;36m9\u001b[0m\u001b[1;33m)\u001b[0m\u001b[1;33m\u001b[0m\u001b[1;33m\u001b[0m\u001b[0m\n\u001b[0m",
      "\u001b[1;32m<ipython-input-37-662712391db8>\u001b[0m in \u001b[0;36mtrain\u001b[1;34m(model, epochs, batch_size, lr, clip, print_every)\u001b[0m\n\u001b[0;32m     51\u001b[0m                 \u001b[1;32mif\u001b[0m \u001b[0mphase\u001b[0m \u001b[1;33m==\u001b[0m \u001b[1;34m'train'\u001b[0m\u001b[1;33m:\u001b[0m\u001b[1;33m\u001b[0m\u001b[1;33m\u001b[0m\u001b[0m\n\u001b[0;32m     52\u001b[0m                     \u001b[1;31m# back-propagate error\u001b[0m\u001b[1;33m\u001b[0m\u001b[1;33m\u001b[0m\u001b[1;33m\u001b[0m\u001b[0m\n\u001b[1;32m---> 53\u001b[1;33m                     \u001b[0mloss\u001b[0m\u001b[1;33m.\u001b[0m\u001b[0mbackward\u001b[0m\u001b[1;33m(\u001b[0m\u001b[1;33m)\u001b[0m\u001b[1;33m\u001b[0m\u001b[1;33m\u001b[0m\u001b[0m\n\u001b[0m\u001b[0;32m     54\u001b[0m \u001b[1;33m\u001b[0m\u001b[0m\n\u001b[0;32m     55\u001b[0m                     \u001b[1;31m# `clip_grad_norm` helps prevent exploding gradient\u001b[0m\u001b[1;33m\u001b[0m\u001b[1;33m\u001b[0m\u001b[1;33m\u001b[0m\u001b[0m\n",
      "\u001b[1;32mD:\\giuse\\Conda\\envs\\thesis\\lib\\site-packages\\torch\\tensor.py\u001b[0m in \u001b[0;36mbackward\u001b[1;34m(self, gradient, retain_graph, create_graph)\u001b[0m\n\u001b[0;32m    164\u001b[0m                 \u001b[0mproducts\u001b[0m\u001b[1;33m.\u001b[0m \u001b[0mDefaults\u001b[0m \u001b[0mto\u001b[0m\u001b[0;31m \u001b[0m\u001b[0;31m`\u001b[0m\u001b[0;31m`\u001b[0m\u001b[1;32mFalse\u001b[0m\u001b[0;31m`\u001b[0m\u001b[0;31m`\u001b[0m\u001b[1;33m.\u001b[0m\u001b[1;33m\u001b[0m\u001b[1;33m\u001b[0m\u001b[0m\n\u001b[0;32m    165\u001b[0m         \"\"\"\n\u001b[1;32m--> 166\u001b[1;33m         \u001b[0mtorch\u001b[0m\u001b[1;33m.\u001b[0m\u001b[0mautograd\u001b[0m\u001b[1;33m.\u001b[0m\u001b[0mbackward\u001b[0m\u001b[1;33m(\u001b[0m\u001b[0mself\u001b[0m\u001b[1;33m,\u001b[0m \u001b[0mgradient\u001b[0m\u001b[1;33m,\u001b[0m \u001b[0mretain_graph\u001b[0m\u001b[1;33m,\u001b[0m \u001b[0mcreate_graph\u001b[0m\u001b[1;33m)\u001b[0m\u001b[1;33m\u001b[0m\u001b[1;33m\u001b[0m\u001b[0m\n\u001b[0m\u001b[0;32m    167\u001b[0m \u001b[1;33m\u001b[0m\u001b[0m\n\u001b[0;32m    168\u001b[0m     \u001b[1;32mdef\u001b[0m \u001b[0mregister_hook\u001b[0m\u001b[1;33m(\u001b[0m\u001b[0mself\u001b[0m\u001b[1;33m,\u001b[0m \u001b[0mhook\u001b[0m\u001b[1;33m)\u001b[0m\u001b[1;33m:\u001b[0m\u001b[1;33m\u001b[0m\u001b[1;33m\u001b[0m\u001b[0m\n",
      "\u001b[1;32mD:\\giuse\\Conda\\envs\\thesis\\lib\\site-packages\\torch\\autograd\\__init__.py\u001b[0m in \u001b[0;36mbackward\u001b[1;34m(tensors, grad_tensors, retain_graph, create_graph, grad_variables)\u001b[0m\n\u001b[0;32m     97\u001b[0m     Variable._execution_engine.run_backward(\n\u001b[0;32m     98\u001b[0m         \u001b[0mtensors\u001b[0m\u001b[1;33m,\u001b[0m \u001b[0mgrad_tensors\u001b[0m\u001b[1;33m,\u001b[0m \u001b[0mretain_graph\u001b[0m\u001b[1;33m,\u001b[0m \u001b[0mcreate_graph\u001b[0m\u001b[1;33m,\u001b[0m\u001b[1;33m\u001b[0m\u001b[1;33m\u001b[0m\u001b[0m\n\u001b[1;32m---> 99\u001b[1;33m         allow_unreachable=True)  # allow_unreachable flag\n\u001b[0m\u001b[0;32m    100\u001b[0m \u001b[1;33m\u001b[0m\u001b[0m\n\u001b[0;32m    101\u001b[0m \u001b[1;33m\u001b[0m\u001b[0m\n",
      "\u001b[1;31mKeyboardInterrupt\u001b[0m: "
     ]
    }
   ],
   "source": [
    "train_loss, val_loss = train(cond_lstm, batch_size=batch_size, epochs=20, print_every=9)"
   ]
  },
  {
   "cell_type": "code",
   "execution_count": null,
   "id": "51cb7d2b-d2a1-486c-a354-c78b2548f41c",
   "metadata": {
    "tags": []
   },
   "outputs": [],
   "source": [
    "train_loss_w2v, val_loss_w2v = train(cond_lstm_w2v, batch_size=batch_size, epochs=20, print_every=9)"
   ]
  },
  {
   "cell_type": "markdown",
   "id": "ba89627b-3be6-44f7-9fda-4fdf55d6c71f",
   "metadata": {
    "tags": []
   },
   "source": [
    "### Saving / Loading"
   ]
  },
  {
   "cell_type": "code",
   "execution_count": null,
   "id": "8800402e-da35-4466-9735-896cf7640a50",
   "metadata": {},
   "outputs": [],
   "source": [
    "torch.save(cond_lstm_w2v.state_dict(), path)"
   ]
  },
  {
   "cell_type": "code",
   "execution_count": null,
   "id": "fc5115f3-1009-448a-9560-4200dc90928f",
   "metadata": {},
   "outputs": [],
   "source": [
    "cond_lstm_w2v.load_state_dict(torch.load(path))"
   ]
  },
  {
   "cell_type": "code",
   "execution_count": null,
   "id": "b514b226-8530-4fcf-9bf1-1b91cef49268",
   "metadata": {},
   "outputs": [],
   "source": [
    "cond_lstm_w2v.eval()"
   ]
  },
  {
   "cell_type": "code",
   "execution_count": null,
   "id": "a7f627ac-1cca-4628-97a9-731307742eb1",
   "metadata": {
    "tags": []
   },
   "outputs": [],
   "source": [
    "for param_tensor in cond_lstm_w2v.state_dict():\n",
    "    print(param_tensor, \"\\t\", cond_lstm_w2v.state_dict()[param_tensor].size())"
   ]
  },
  {
   "cell_type": "markdown",
   "id": "28c49c0a-0714-4859-96f7-011e26392d20",
   "metadata": {
    "tags": []
   },
   "source": [
    "## Generation"
   ]
  },
  {
   "cell_type": "code",
   "execution_count": null,
   "id": "9fec25ee-1384-4327-bf8f-2b574865057a",
   "metadata": {},
   "outputs": [],
   "source": [
    "# TODO: change to ngram_w2v\n",
    "def word_to_id(word):\n",
    "    return w2v_model.wv.key_to_index[word]\n",
    "\n",
    "def id_to_word(id):\n",
    "    return w2v_model.wv.index_to_key[id]"
   ]
  },
  {
   "cell_type": "code",
   "execution_count": null,
   "id": "1542bc82-cb1a-4ddc-af39-be52eb00bf72",
   "metadata": {},
   "outputs": [],
   "source": [
    "# predict next token\n",
    "def predict(model, t, h=None): # default value as None for first iteration\n",
    "         \n",
    "    # tensor inputs\n",
    "    x = np.array([[word_to_id(t)]])\n",
    "    inputs = torch.from_numpy(x)\n",
    "\n",
    "    # detach hidden state from history\n",
    "    h = tuple([each.data for each in h])\n",
    "\n",
    "    # get the output of the model\n",
    "    out, h = model(inputs, h)\n",
    "\n",
    "    # get the token probabilities\n",
    "    p = F.softmax(out, dim=1).data\n",
    "    \n",
    "    p = p.numpy()\n",
    "    p = p.reshape(p.shape[1],)\n",
    "\n",
    "    # get indices of top n values\n",
    "    top_ids = p.argsort()[-10:][::-1]\n",
    "\n",
    "    # sample id of next word from top n values\n",
    "    next_id = top_ids[random.sample([0,1,2,3,4,5,6,7,8,9],1)[0]]\n",
    "\n",
    "    # return the value of the predicted word and the hidden state\n",
    "    return id_to_word(next_id), h"
   ]
  },
  {
   "cell_type": "code",
   "execution_count": null,
   "id": "6d200b9a-586c-46af-89f6-2e2f05839baa",
   "metadata": {},
   "outputs": [],
   "source": [
    "gen_batch_size = 1"
   ]
  },
  {
   "cell_type": "code",
   "execution_count": null,
   "id": "2cdc8a3c-73b7-4139-8c51-38f9fecf82cd",
   "metadata": {},
   "outputs": [],
   "source": [
    "# PCA for generation batch size\n",
    "gen_pca_topics = PCA(n_components=n_layers * gen_batch_size, svd_solver='full').fit_transform(trans_topics)\n",
    "gen_pca_trans = np.transpose(gen_pca_topics)"
   ]
  },
  {
   "cell_type": "code",
   "execution_count": null,
   "id": "913b9806-ea23-469f-89a6-0d7ff46a33ec",
   "metadata": {},
   "outputs": [],
   "source": [
    "# function to generate text\n",
    "def generate(model=cond_lstm, n=10, prompt='in this paper'):\n",
    "    \n",
    "    model.eval()\n",
    "    \n",
    "    h = (torch.FloatTensor(gen_pca_trans.reshape(n_layers, gen_batch_size, n_hidden)),\n",
    "         torch.zeros(n_layers, gen_batch_size, n_hidden))\n",
    "\n",
    "    words = prompt.split()\n",
    "\n",
    "    # predict next token\n",
    "    for t in prompt.split():\n",
    "        token, h = predict(model, t, h)\n",
    "    \n",
    "    words.append(token)\n",
    "\n",
    "    # predict subsequent tokens\n",
    "    for i in range(n-1):\n",
    "        token, h = predict(model, words[-1], h)\n",
    "        words.append(token)\n",
    "\n",
    "    return ' '.join(words)"
   ]
  },
  {
   "cell_type": "code",
   "execution_count": null,
   "id": "ac48455d-a6fa-4a85-9ea2-09575bcbb6fc",
   "metadata": {},
   "outputs": [],
   "source": [
    "generate()"
   ]
  },
  {
   "cell_type": "code",
   "execution_count": null,
   "id": "adab21b4-3b4c-42bb-be3c-a66726aaaafe",
   "metadata": {},
   "outputs": [],
   "source": [
    "generate(model=cond_lstm, n=50)"
   ]
  },
  {
   "cell_type": "code",
   "execution_count": null,
   "id": "be8a26be-7a2e-4e3c-be86-fff764e819fd",
   "metadata": {},
   "outputs": [],
   "source": [
    "generate(model=cond_lstm_w2v, n=100, prompt='here we propose a better approach to')"
   ]
  },
  {
   "cell_type": "markdown",
   "id": "65fdc3ce-eab1-456c-bdea-bc9c0fd56dc9",
   "metadata": {
    "tags": []
   },
   "source": [
    "## Evaluation"
   ]
  },
  {
   "cell_type": "code",
   "execution_count": null,
   "id": "78c1fb7f-38c5-4b5d-b974-884aba2e49e6",
   "metadata": {},
   "outputs": [],
   "source": [
    "models = {lstm: 'LSTM', lstm_w2v: 'LSTM + Word2Vec', cond_lstm: 'Conditioned LSTM', cond_lstm_w2v: 'Conditioned LSTM + Word2Vec'}\n",
    "loss = {lstm: val_loss_base, lstm_cond_lstm: val_loss_base_w2v, cond_lstm: val_loss, cond_lstm_w2v: val_loss_w2v}"
   ]
  },
  {
   "cell_type": "code",
   "execution_count": null,
   "id": "36ea3e07-fa5c-48b8-9950-0299976cedec",
   "metadata": {},
   "outputs": [],
   "source": [
    "# get minimimum validation loss within a set num of epochs\n",
    "def min_val_loss(model, max_epochs=100):\n",
    "    return min(loss[model][:max_epochs])"
   ]
  },
  {
   "cell_type": "code",
   "execution_count": null,
   "id": "215f2919-77c9-487f-acb4-2bca4b25fa40",
   "metadata": {},
   "outputs": [],
   "source": [
    "for m in models.keys():\n",
    "    print(\"Minimum validation loss for {}: {:.5f}\".format(models[m], min_val_loss(m, 50)))\n",
    "    print(\"Perplexity for model {}: {:.2f}\\n\".format(models[m], math.exp(min_val_loss(m, 50))))"
   ]
  }
 ],
 "metadata": {
  "kernelspec": {
   "display_name": "Python 3",
   "language": "python",
   "name": "python3"
  },
  "language_info": {
   "codemirror_mode": {
    "name": "ipython",
    "version": 3
   },
   "file_extension": ".py",
   "mimetype": "text/x-python",
   "name": "python",
   "nbconvert_exporter": "python",
   "pygments_lexer": "ipython3",
   "version": "3.6.13"
  }
 },
 "nbformat": 4,
 "nbformat_minor": 5
}
