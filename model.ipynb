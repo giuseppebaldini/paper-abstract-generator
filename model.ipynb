{
 "cells": [
  {
   "cell_type": "markdown",
   "id": "0f2731b1-f80b-4587-9834-5f7d3402ee79",
   "metadata": {},
   "source": [
    "# Conditional LSTM"
   ]
  },
  {
   "cell_type": "code",
   "execution_count": 70,
   "id": "6c322678-97e7-44ed-8155-d14cfd47a726",
   "metadata": {},
   "outputs": [],
   "source": [
    "import random\n",
    "import itertools\n",
    "\n",
    "import numpy as np\n",
    "\n",
    "import torch\n",
    "from torch import nn\n",
    "import torch.nn.functional as F\n",
    "\n",
    "from sklearn.decomposition import PCA\n",
    "\n",
    "import preprocessing\n",
    "\n",
    "from nltk.tokenize import RegexpTokenizer\n",
    "\n",
    "import gensim\n",
    "from gensim.models import KeyedVectors\n",
    "from gensim.models.lsimodel import LsiModel\n",
    "from gensim.corpora.dictionary import Dictionary\n",
    "from gensim.models.phrases import Phrases, ENGLISH_CONNECTOR_WORDS"
   ]
  },
  {
   "cell_type": "markdown",
   "id": "5cac9ef4-d424-4830-a904-8ffcbae0c133",
   "metadata": {
    "tags": []
   },
   "source": [
    "## Preprocessing"
   ]
  },
  {
   "cell_type": "code",
   "execution_count": 2,
   "id": "fe343191-55af-48bb-b966-55ad552efcb3",
   "metadata": {},
   "outputs": [],
   "source": [
    "tokenized = preprocessing.tokenized"
   ]
  },
  {
   "cell_type": "code",
   "execution_count": 3,
   "id": "c5429687-ca25-4206-a822-f7cdc5062eff",
   "metadata": {},
   "outputs": [],
   "source": [
    "abstracts = []\n",
    "\n",
    "for a in tokenized:\n",
    "    joined = ' '.join(a)\n",
    "    abstracts.append(joined)"
   ]
  },
  {
   "cell_type": "code",
   "execution_count": 4,
   "id": "4af0b257-6d6b-4275-9d77-6709061c6360",
   "metadata": {},
   "outputs": [],
   "source": [
    "avg_words = int(len(preprocessing.tokens)/len(abstracts))"
   ]
  },
  {
   "cell_type": "code",
   "execution_count": 5,
   "id": "08e068ac-fa9a-463e-84a8-7b090d0a322e",
   "metadata": {},
   "outputs": [],
   "source": [
    "seq_len = avg_words + 1\n",
    "\n",
    "def sequence(l, n):\n",
    "    for i in range(0, len(l), n): \n",
    "        yield l[i:i + n]\n",
    "        \n",
    "seqs = list(sequence(preprocessing.tokens, seq_len))"
   ]
  },
  {
   "cell_type": "code",
   "execution_count": 6,
   "id": "29944832-1ae3-4c01-91df-b71c148a41f5",
   "metadata": {},
   "outputs": [],
   "source": [
    "# create inputs and targets (x and y)\n",
    "x = []\n",
    "y = []\n",
    "\n",
    "for s in seqs:\n",
    "    x.append(\" \".join(s[:-1]))\n",
    "    y.append(\" \".join(s[1:]))"
   ]
  },
  {
   "cell_type": "code",
   "execution_count": 7,
   "id": "fe2261ca-1b39-45cb-9c33-db5a846ecbd7",
   "metadata": {},
   "outputs": [
    {
     "data": {
      "text/plain": [
       "(6643, 'bmw')"
      ]
     },
     "execution_count": 7,
     "metadata": {},
     "output_type": "execute_result"
    }
   ],
   "source": [
    "# create integer-to-token mapping\n",
    "int2token = {}\n",
    "counter = 0\n",
    "\n",
    "for w in set(\" \".join(abstracts).split()):\n",
    "    int2token[counter] = w\n",
    "    counter += 1\n",
    "\n",
    "# create token-to-integer mapping\n",
    "token2int = {t: a for a, t in int2token.items()}\n",
    "\n",
    "token2int[\"the\"], int2token[42]"
   ]
  },
  {
   "cell_type": "code",
   "execution_count": 8,
   "id": "3519a103-be94-4618-b692-fd37a944ee99",
   "metadata": {},
   "outputs": [
    {
     "data": {
      "text/plain": [
       "37613"
      ]
     },
     "execution_count": 8,
     "metadata": {},
     "output_type": "execute_result"
    }
   ],
   "source": [
    "vocab_size = len(int2token)\n",
    "vocab_size"
   ]
  },
  {
   "cell_type": "code",
   "execution_count": 9,
   "id": "cce3a579-a521-48a5-aba1-8b01e7e1f19a",
   "metadata": {},
   "outputs": [],
   "source": [
    "def get_integer_seq(seq):\n",
    "    return [token2int[w] for w in seq.split()]\n",
    "\n",
    "# convert text sequences to integer sequences\n",
    "x_int_all = [get_integer_seq(i) for i in x]\n",
    "y_int_all = [get_integer_seq(i) for i in y]"
   ]
  },
  {
   "cell_type": "code",
   "execution_count": 10,
   "id": "7b325c81-603e-4424-b0b3-4c571d2b2c57",
   "metadata": {
    "tags": []
   },
   "outputs": [
    {
     "data": {
      "text/plain": [
       "(262490, 262490)"
      ]
     },
     "execution_count": 10,
     "metadata": {},
     "output_type": "execute_result"
    }
   ],
   "source": [
    "len(x_int_all),len(y_int_all)"
   ]
  },
  {
   "cell_type": "code",
   "execution_count": 11,
   "id": "2057e88f-3e11-4c92-a4a7-411ce3f85b33",
   "metadata": {},
   "outputs": [],
   "source": [
    "# delete all sequences not == len_seq\n",
    "\n",
    "x_int = list(filter(lambda x: (len(x) == seq_len-1), x_int_all))\n",
    "y_int = list(filter(lambda y: (len(y) == seq_len-1), y_int_all))"
   ]
  },
  {
   "cell_type": "code",
   "execution_count": 12,
   "id": "73e76882-4f7a-4d84-a9de-9d10e83984e8",
   "metadata": {},
   "outputs": [
    {
     "data": {
      "text/plain": [
       "(262489, 262489)"
      ]
     },
     "execution_count": 12,
     "metadata": {},
     "output_type": "execute_result"
    }
   ],
   "source": [
    "len(x_int),len(y_int)"
   ]
  },
  {
   "cell_type": "code",
   "execution_count": 13,
   "id": "e948cd60-1d6e-41d3-9146-27c717950f45",
   "metadata": {},
   "outputs": [],
   "source": [
    "# convert lists to numpy arrays\n",
    "x_int = np.array(x_int)\n",
    "y_int = np.array(y_int)"
   ]
  },
  {
   "cell_type": "code",
   "execution_count": 14,
   "id": "129df162-b5dd-4fc5-9ffa-63b8765ec982",
   "metadata": {},
   "outputs": [],
   "source": [
    "def get_batches(arr_x, arr_y, batch_size):\n",
    "         \n",
    "    # iterate through the arrays\n",
    "    prv = 0\n",
    "    for n in range(batch_size, arr_x.shape[0], batch_size):\n",
    "        x = arr_x[prv:n]\n",
    "        y = arr_y[prv:n]\n",
    "        prv = n\n",
    "        yield x, y"
   ]
  },
  {
   "cell_type": "markdown",
   "id": "e9823008-e8f0-46e4-a20d-c6a7915b97b3",
   "metadata": {
    "tags": []
   },
   "source": [
    "## Multiword ngrams word2vec embeddings"
   ]
  },
  {
   "cell_type": "code",
   "execution_count": 40,
   "id": "84ca2582-e386-4dde-b64b-2768f87863c5",
   "metadata": {
    "tags": []
   },
   "outputs": [],
   "source": [
    "ngram_transformer = Phrases(tokenized, connector_words=ENGLISH_CONNECTOR_WORDS)"
   ]
  },
  {
   "cell_type": "code",
   "execution_count": 45,
   "id": "3f56b9e9-2303-4c59-9bad-a100d501fbba",
   "metadata": {
    "tags": []
   },
   "outputs": [],
   "source": [
    "ngram_w2v = gensim.models.Word2Vec(ngram_transformer[tokenized], min_count=1, vector_size=256, epochs=1)\n",
    "ngram_w2v.save(\"ngram_w2v.model\")"
   ]
  },
  {
   "cell_type": "code",
   "execution_count": 46,
   "id": "0a45933b-98af-4087-a392-3cdcc0fdf5d5",
   "metadata": {},
   "outputs": [
    {
     "data": {
      "text/plain": [
       "<gensim.models.keyedvectors.KeyedVectors at 0x1d72a7fe748>"
      ]
     },
     "execution_count": 46,
     "metadata": {},
     "output_type": "execute_result"
    }
   ],
   "source": [
    "ngram_w2v.wv"
   ]
  },
  {
   "cell_type": "code",
   "execution_count": 47,
   "id": "d6ad5ef3-243d-42b8-858d-aa33b49e441e",
   "metadata": {},
   "outputs": [],
   "source": [
    "emb_ngram_vectors = ngram_w2v.wv.vectors"
   ]
  },
  {
   "cell_type": "code",
   "execution_count": 48,
   "id": "b5508300-ce48-4a73-9c50-edbb9dd06959",
   "metadata": {},
   "outputs": [
    {
     "data": {
      "text/plain": [
       "(96047, 256)"
      ]
     },
     "execution_count": 48,
     "metadata": {},
     "output_type": "execute_result"
    }
   ],
   "source": [
    "emb_ngram_vectors.shape"
   ]
  },
  {
   "cell_type": "code",
   "execution_count": 49,
   "id": "f3f57a05-44f3-4f17-81db-49792038b2a9",
   "metadata": {},
   "outputs": [],
   "source": [
    "emb_ngram_tensors = torch.FloatTensor(emb_ngram_vectors)"
   ]
  },
  {
   "cell_type": "markdown",
   "id": "8f6afdc0-f0ee-44fc-810a-2eb2f2cd67e0",
   "metadata": {
    "tags": []
   },
   "source": [
    "## Topic Modelling"
   ]
  },
  {
   "cell_type": "markdown",
   "id": "801312e8-aed1-41a9-85cb-9b220b850255",
   "metadata": {},
   "source": [
    "### Corpus"
   ]
  },
  {
   "cell_type": "code",
   "execution_count": 50,
   "id": "74c738d7-37a5-4109-a15b-644e15e3b41e",
   "metadata": {},
   "outputs": [],
   "source": [
    "dct = Dictionary(tokenized)\n",
    "dct.filter_extremes(no_below=5, no_above=0.3)"
   ]
  },
  {
   "cell_type": "code",
   "execution_count": 51,
   "id": "80adadbb-835d-4055-a762-47c687301689",
   "metadata": {},
   "outputs": [
    {
     "data": {
      "text/plain": [
       "37582"
      ]
     },
     "execution_count": 51,
     "metadata": {},
     "output_type": "execute_result"
    }
   ],
   "source": [
    "len(dct)"
   ]
  },
  {
   "cell_type": "code",
   "execution_count": 52,
   "id": "4073c810-0ca7-427f-9688-9962f7fd728b",
   "metadata": {},
   "outputs": [
    {
     "name": "stdout",
     "output_type": "stream",
     "text": [
      "Dictionary(37582 unique tokens: ['adaptation', 'address', 'albert', 'approach', 'art']...)\n"
     ]
    }
   ],
   "source": [
    "print(dct)"
   ]
  },
  {
   "cell_type": "code",
   "execution_count": 53,
   "id": "3864db32-5e75-4e37-bd9e-dec3019ef8b8",
   "metadata": {},
   "outputs": [],
   "source": [
    "corpus = [dct.doc2bow(a) for a in tokenized]"
   ]
  },
  {
   "cell_type": "markdown",
   "id": "be4c389e-0e7b-4075-a25b-35fd0c3ec7c3",
   "metadata": {},
   "source": [
    "### Latent Semantic Analysis (LSA)"
   ]
  },
  {
   "cell_type": "code",
   "execution_count": 58,
   "id": "6a23f290-e1c1-4802-a2d2-78c99c312940",
   "metadata": {},
   "outputs": [],
   "source": [
    "lsi = LsiModel(corpus, id2word=dct, num_topics=20, decay=0.2)"
   ]
  },
  {
   "cell_type": "code",
   "execution_count": 59,
   "id": "320931a9-1e16-4890-8fbc-dcd1311646c7",
   "metadata": {
    "collapsed": true,
    "jupyter": {
     "outputs_hidden": true
    },
    "tags": []
   },
   "outputs": [
    {
     "data": {
      "text/plain": [
       "[(0,\n",
       "  '0.862*\"e\" + 0.299*\"de\" + 0.155*\"d\" + 0.132*\"la\" + 0.123*\"des\" + 0.122*\"les\" + 0.101*\"l\" + 0.097*\"et\" + 0.088*\"s\" + 0.082*\"le\"'),\n",
       " (1,\n",
       "  '0.218*\"word\" + 0.143*\"using\" + 0.138*\"corpus\" + 0.137*\"it\" + 0.134*\"text\" + 0.132*\"information\" + 0.128*\"translation\" + 0.123*\"neural\" + 0.122*\"or\" + 0.121*\"system\"'),\n",
       " (2,\n",
       "  '-0.761*\"word\" + -0.264*\"embeddings\" + 0.249*\"corpus\" + -0.178*\"words\" + 0.125*\"annotation\" + 0.115*\"system\" + -0.093*\"representations\" + -0.091*\"embedding\" + 0.091*\"translation\" + 0.085*\"text\"'),\n",
       " (3,\n",
       "  '0.619*\"translation\" + 0.287*\"machine\" + -0.248*\"corpus\" + 0.229*\"neural\" + 0.205*\"nmt\" + 0.157*\"system\" + -0.132*\"annotation\" + 0.122*\"english\" + -0.117*\"text\" + 0.099*\"mt\"'),\n",
       " (4,\n",
       "  '0.458*\"corpus\" + 0.302*\"word\" + 0.289*\"translation\" + -0.195*\"neural\" + 0.171*\"languages\" + 0.160*\"annotation\" + -0.153*\"learning\" + 0.152*\"english\" + -0.129*\"state\" + -0.123*\"network\"'),\n",
       " (5,\n",
       "  '-0.537*\"sentiment\" + 0.301*\"corpus\" + -0.269*\"analysis\" + 0.228*\"semantic\" + -0.140*\"text\" + -0.137*\"or\" + -0.134*\"translation\" + 0.122*\"system\" + -0.108*\"will\" + 0.106*\"relation\"'),\n",
       " (6,\n",
       "  '0.418*\"corpus\" + -0.406*\"semantic\" + 0.233*\"sentiment\" + 0.203*\"neural\" + -0.179*\"knowledge\" + -0.153*\"languages\" + -0.126*\"relations\" + 0.125*\"domain\" + 0.120*\"network\" + -0.117*\"between\"'),\n",
       " (7,\n",
       "  '0.688*\"system\" + -0.181*\"neural\" + 0.165*\"systems\" + -0.164*\"corpus\" + -0.160*\"semantic\" + -0.140*\"sentence\" + -0.140*\"annotation\" + -0.139*\"translation\" + -0.135*\"attention\" + 0.129*\"word\"'),\n",
       " (8,\n",
       "  '0.548*\"languages\" + -0.223*\"information\" + 0.214*\"training\" + -0.180*\"system\" + 0.161*\"learning\" + 0.151*\"approach\" + 0.141*\"cross\" + 0.139*\"english\" + -0.138*\"word\" + -0.131*\"corpus\"'),\n",
       " (9,\n",
       "  '-0.353*\"semantic\" + 0.292*\"learning\" + -0.247*\"sentiment\" + -0.234*\"features\" + -0.230*\"system\" + 0.172*\"knowledge\" + -0.169*\"sentence\" + 0.160*\"nlp\" + -0.146*\"information\" + 0.141*\"training\"'),\n",
       " (10,\n",
       "  '0.402*\"knowledge\" + 0.363*\"domain\" + -0.210*\"neural\" + -0.188*\"speech\" + 0.188*\"text\" + -0.160*\"features\" + -0.157*\"languages\" + 0.155*\"method\" + 0.155*\"translation\" + 0.146*\"sentiment\"'),\n",
       " (11,\n",
       "  '-0.567*\"text\" + 0.328*\"sentiment\" + 0.267*\"domain\" + 0.213*\"semantic\" + -0.208*\"information\" + 0.188*\"learning\" + -0.180*\"languages\" + 0.156*\"knowledge\" + 0.130*\"analysis\" + 0.119*\"system\"'),\n",
       " (12,\n",
       "  '-0.381*\"information\" + -0.345*\"knowledge\" + 0.337*\"semantic\" + 0.336*\"text\" + -0.207*\"languages\" + 0.194*\"learning\" + -0.189*\"de\" + -0.185*\"it\" + 0.129*\"e\" + 0.109*\"tasks\"'),\n",
       " (13,\n",
       "  '0.433*\"text\" + 0.201*\"semantic\" + 0.193*\"knowledge\" + -0.185*\"evaluation\" + 0.177*\"de\" + 0.171*\"neural\" + -0.163*\"method\" + 0.143*\"features\" + 0.140*\"et\" + -0.130*\"approach\"'),\n",
       " (14,\n",
       "  '0.466*\"et\" + 0.383*\"de\" + -0.330*\"e\" + 0.217*\"al\" + -0.203*\"neural\" + 0.174*\"d\" + 0.170*\"des\" + -0.142*\"knowledge\" + 0.121*\"en\" + 0.114*\"la\"'),\n",
       " (15,\n",
       "  '0.336*\"features\" + -0.308*\"question\" + 0.307*\"learning\" + 0.276*\"information\" + -0.230*\"questions\" + -0.188*\"text\" + -0.158*\"et\" + -0.157*\"sentiment\" + -0.151*\"answer\" + 0.151*\"it\"'),\n",
       " (16,\n",
       "  '-0.580*\"de\" + 0.370*\"et\" + 0.232*\"al\" + -0.193*\"d\" + 0.179*\"les\" + 0.156*\"e\" + -0.126*\"learning\" + -0.125*\"semantic\" + 0.123*\"nmt\" + 0.110*\"domain\"'),\n",
       " (17,\n",
       "  '-0.473*\"annotation\" + 0.260*\"features\" + -0.242*\"information\" + 0.230*\"words\" + -0.188*\"learning\" + -0.150*\"sentiment\" + 0.145*\"domain\" + -0.145*\"system\" + 0.130*\"have\" + -0.124*\"tasks\"'),\n",
       " (18,\n",
       "  '-0.381*\"features\" + 0.366*\"domain\" + -0.245*\"knowledge\" + 0.224*\"it\" + 0.187*\"words\" + 0.181*\"system\" + -0.166*\"using\" + 0.126*\"parsing\" + -0.125*\"annotation\" + 0.108*\"information\"'),\n",
       " (19,\n",
       "  '0.428*\"annotation\" + 0.263*\"domain\" + -0.242*\"corpus\" + -0.222*\"method\" + -0.221*\"semantic\" + 0.214*\"features\" + -0.194*\"learning\" + -0.174*\"using\" + -0.167*\"sentiment\" + 0.152*\"de\"')]"
      ]
     },
     "execution_count": 59,
     "metadata": {},
     "output_type": "execute_result"
    }
   ],
   "source": [
    "lsi.show_topics(20)"
   ]
  },
  {
   "cell_type": "code",
   "execution_count": 61,
   "id": "36da2234-e893-4f90-82e3-f45cae8734df",
   "metadata": {
    "tags": []
   },
   "outputs": [
    {
     "data": {
      "text/plain": [
       "[('features', -0.3812280153671461),\n",
       " ('domain', 0.3664241332007311),\n",
       " ('knowledge', -0.24539420945523566),\n",
       " ('it', 0.22406247594077064),\n",
       " ('words', 0.18685416476785296),\n",
       " ('system', 0.1808808794074729),\n",
       " ('using', -0.16605763582043478),\n",
       " ('parsing', 0.1259840150474611),\n",
       " ('annotation', -0.12515906329679294),\n",
       " ('information', 0.1075151959073353)]"
      ]
     },
     "execution_count": 61,
     "metadata": {},
     "output_type": "execute_result"
    }
   ],
   "source": [
    "lsi.show_topic(18, topn=10)"
   ]
  },
  {
   "cell_type": "code",
   "execution_count": 62,
   "id": "a6ba013f-0207-4346-a922-8f83271b4a70",
   "metadata": {},
   "outputs": [
    {
     "data": {
      "text/plain": [
       "<gensim.interfaces.TransformedCorpus at 0x1d72a800358>"
      ]
     },
     "execution_count": 62,
     "metadata": {},
     "output_type": "execute_result"
    }
   ],
   "source": [
    "lsi[corpus]"
   ]
  },
  {
   "cell_type": "code",
   "execution_count": 63,
   "id": "0e86a9f8-69a5-4484-953b-a5374b71eb1a",
   "metadata": {},
   "outputs": [],
   "source": [
    "topic_representation = lsi.projection.u"
   ]
  },
  {
   "cell_type": "code",
   "execution_count": 65,
   "id": "27085349-f8e1-412d-b6c1-d662b59af280",
   "metadata": {},
   "outputs": [
    {
     "data": {
      "text/plain": [
       "(37582, 20)"
      ]
     },
     "execution_count": 65,
     "metadata": {},
     "output_type": "execute_result"
    }
   ],
   "source": [
    "topic_representation.shape"
   ]
  },
  {
   "cell_type": "code",
   "execution_count": 66,
   "id": "44c4a76b-9554-4484-977e-94498c31dd3c",
   "metadata": {},
   "outputs": [],
   "source": [
    "topic_vectors = torch.FloatTensor(topic_representation)"
   ]
  },
  {
   "cell_type": "markdown",
   "id": "9eaa74f5-3f63-414f-bc5f-c96ed8b909ca",
   "metadata": {},
   "source": [
    "### PCA"
   ]
  },
  {
   "cell_type": "code",
   "execution_count": null,
   "id": "7d3ae756-fc0a-4749-8d5e-2ff2974d7351",
   "metadata": {},
   "outputs": [],
   "source": [
    "trans_topics = np.transpose(topic_representation)\n",
    "trans_topics.shape"
   ]
  },
  {
   "cell_type": "code",
   "execution_count": null,
   "id": "06385ae2-3efb-41cf-addd-c05801390ab0",
   "metadata": {},
   "outputs": [],
   "source": [
    "pca = PCA(n_components=64)\n",
    "pca_topics = pca.fit_transform(trans_topics)\n",
    "pca_topics.shape"
   ]
  },
  {
   "cell_type": "code",
   "execution_count": null,
   "id": "86aa179f-85a3-44bb-96da-4cad18b1861a",
   "metadata": {
    "tags": []
   },
   "outputs": [],
   "source": [
    "pca_trans = np.transpose(pca_topics)"
   ]
  },
  {
   "cell_type": "code",
   "execution_count": null,
   "id": "407451da-3962-4e32-951a-8ddf01129eff",
   "metadata": {},
   "outputs": [],
   "source": [
    "pca_topics_reshaped = pca_trans.reshape(2, 32, 256)\n",
    "type(pca_topics_reshaped)"
   ]
  },
  {
   "cell_type": "markdown",
   "id": "aeb5c04b-471d-4557-ba19-badf9bad12d8",
   "metadata": {
    "tags": []
   },
   "source": [
    "## Conditioned LSTM"
   ]
  },
  {
   "cell_type": "code",
   "execution_count": 74,
   "id": "82a6de5d-722f-447c-be5e-3c1b4f8b9dfa",
   "metadata": {},
   "outputs": [],
   "source": [
    "class ConditionedLSTM(nn.Module):\n",
    "    \n",
    "    def __init__(self, n_hidden=256, n_layers=2, drop_prob=0.2, lr=0.001):\n",
    "        super().__init__()\n",
    "\n",
    "        self.drop_prob = drop_prob\n",
    "        self.n_layers = n_layers\n",
    "        self.n_hidden = n_hidden\n",
    "        self.lr = lr\n",
    "        \n",
    "        vocab_size = emb_ngram_vectors.shape[0]\n",
    "        \n",
    "        self.emb_layer = nn.Embedding.from_pretrained(emb_ngram_tensors)\n",
    "\n",
    "        ## define the LSTM\n",
    "        self.lstm = nn.LSTM(256, n_hidden, n_layers, \n",
    "                            dropout=drop_prob, batch_first=True)\n",
    "        \n",
    "        ## define a dropout layer\n",
    "        self.dropout = nn.Dropout(drop_prob)\n",
    "        \n",
    "        ## define the fully-connected layer\n",
    "        self.fc = nn.Linear(n_hidden, vocab_size)      \n",
    "    \n",
    "    def forward(self, x, hidden):\n",
    "        ''' Forward pass through the network. \n",
    "            These inputs are x, and the hidden/cell state `hidden`. '''\n",
    "        \n",
    "        x = x.long()\n",
    "\n",
    "        ## pass input through embedding layer\n",
    "        embedded = self.emb_layer(x)     \n",
    "        \n",
    "        ## Get the outputs and the new hidden state from the lstm\n",
    "        lstm_output, hidden = self.lstm(embedded, hidden)\n",
    "        \n",
    "        ## pass through a dropout layer\n",
    "        out = self.dropout(lstm_output)\n",
    "        \n",
    "        #out = out.contiguous().view(-1, self.n_hidden) \n",
    "        out = out.reshape(-1, self.n_hidden) \n",
    "\n",
    "        ## put \"out\" through the fully-connected layer\n",
    "        out = self.fc(out)\n",
    "\n",
    "        # return the final output and the hidden state\n",
    "        return out, hidden\n",
    "    \n",
    "    \n",
    "    def init_hidden(self, batch_size):\n",
    "        ''' initializes hidden state '''\n",
    "\n",
    "        hidden = (torch.FloatTensor(pca_trans.reshape(self.n_layers, batch_size, self.n_hidden)),\n",
    "                 torch.ones(self.n_layers, batch_size, self.n_hidden))\n",
    "\n",
    "        return hidden"
   ]
  },
  {
   "cell_type": "code",
   "execution_count": 71,
   "id": "b8b2143a-22ba-4535-801d-37fb06ec47df",
   "metadata": {},
   "outputs": [],
   "source": [
    "n_hidden = 256\n",
    "batch_size = 64\n",
    "n_layers = 2"
   ]
  },
  {
   "cell_type": "code",
   "execution_count": 72,
   "id": "0ad5be56-300f-4513-9a3d-61e6281d095d",
   "metadata": {},
   "outputs": [],
   "source": [
    "# LSA\n",
    "lsi = LsiModel(corpus, id2word=dct, num_topics=n_hidden, decay=0.2)\n",
    "trans_topics = np.transpose(lsi.projection.u)\n",
    "\n",
    "# PCA\n",
    "pca_topics = PCA(n_components=n_layers * batch_size, svd_solver='full').fit_transform(trans_topics)\n",
    "pca_trans = np.transpose(pca_topics)"
   ]
  },
  {
   "cell_type": "code",
   "execution_count": 75,
   "id": "318c4949-55c3-40d9-a382-9cc1ef9b9d62",
   "metadata": {},
   "outputs": [
    {
     "name": "stdout",
     "output_type": "stream",
     "text": [
      "ConditionedLSTM(\n",
      "  (emb_layer): Embedding(96047, 256)\n",
      "  (lstm): LSTM(256, 256, num_layers=2, batch_first=True, dropout=0.2)\n",
      "  (dropout): Dropout(p=0.2, inplace=False)\n",
      "  (fc): Linear(in_features=256, out_features=96047, bias=True)\n",
      ")\n"
     ]
    }
   ],
   "source": [
    "# instantiate the model\n",
    "model = ConditionedLSTM(n_hidden=n_hidden, n_layers=n_layers)\n",
    "\n",
    "model.cpu()\n",
    "\n",
    "print(model)"
   ]
  },
  {
   "cell_type": "code",
   "execution_count": 76,
   "id": "be4497a4-357f-47eb-9466-5e3001770e69",
   "metadata": {},
   "outputs": [],
   "source": [
    "def train(model, epochs=10, batch_size=32, lr=0.001, clip=1, print_every=32):\n",
    "    \n",
    "    # optimizer\n",
    "    opt = torch.optim.Adam(model.parameters(), lr=lr)\n",
    "    \n",
    "    # loss\n",
    "    criterion = nn.CrossEntropyLoss()\n",
    "    \n",
    "    # push model to CPU\n",
    "    model.cpu()\n",
    "    \n",
    "    counter = 0\n",
    "\n",
    "    model.train()\n",
    "\n",
    "    for e in range(epochs):\n",
    "        \n",
    "        for x, y in get_batches(x_int, y_int, batch_size):\n",
    "            counter+= 1\n",
    "            \n",
    "            # initialize hidden state\n",
    "            h = model.init_hidden(batch_size)\n",
    "            \n",
    "            # convert numpy arrays to PyTorch arrays\n",
    "            inputs, targets = torch.from_numpy(x), torch.from_numpy(y)\n",
    "            \n",
    "            # push tensors to GPU\n",
    "            inputs, targets = inputs.cpu(), targets.cpu()\n",
    "\n",
    "            # detach hidden states\n",
    "            h = tuple([each.data for each in h])\n",
    "\n",
    "            # zero accumulated gradients\n",
    "            model.zero_grad()\n",
    "            \n",
    "            # get the output from the model\n",
    "            output, h = model(inputs, h)\n",
    "            \n",
    "            # calculate the loss and perform backprop\n",
    "            loss = criterion(output, targets.view(-1).long())\n",
    "\n",
    "            # back-propagate error\n",
    "            loss.backward()\n",
    "\n",
    "            # `clip_grad_norm` helps prevent the exploding gradient problem in RNNs / LSTMs.\n",
    "            nn.utils.clip_grad_norm_(model.parameters(), clip)\n",
    "\n",
    "            # update weigths\n",
    "            opt.step()            \n",
    "            \n",
    "            if counter % print_every == 0:\n",
    "            \n",
    "              print(\"Epoch: {}/{} -\".format(e+1, epochs),\n",
    "                    \"Step: {} -\".format(counter),\n",
    "                    \"Loss: {}\".format(loss))"
   ]
  },
  {
   "cell_type": "code",
   "execution_count": null,
   "id": "16d0cf0d-d128-4eb5-b5b9-8209f006a0ce",
   "metadata": {
    "tags": []
   },
   "outputs": [
    {
     "name": "stdout",
     "output_type": "stream",
     "text": [
      "Epoch: 1/20 - Step: 1 - Loss: 11.38554573059082\n",
      "Epoch: 1/20 - Step: 2 - Loss: 11.302265167236328\n",
      "Epoch: 1/20 - Step: 3 - Loss: 11.047433853149414\n",
      "Epoch: 1/20 - Step: 4 - Loss: 10.560470581054688\n",
      "Epoch: 1/20 - Step: 5 - Loss: 9.89930248260498\n",
      "Epoch: 1/20 - Step: 6 - Loss: 9.482451438903809\n",
      "Epoch: 1/20 - Step: 7 - Loss: 8.86239242553711\n",
      "Epoch: 1/20 - Step: 8 - Loss: 8.3535795211792\n",
      "Epoch: 1/20 - Step: 9 - Loss: 8.093708038330078\n",
      "Epoch: 1/20 - Step: 10 - Loss: 8.015609741210938\n",
      "Epoch: 1/20 - Step: 11 - Loss: 7.797346115112305\n",
      "Epoch: 1/20 - Step: 12 - Loss: 7.644443035125732\n",
      "Epoch: 1/20 - Step: 13 - Loss: 7.502872467041016\n",
      "Epoch: 1/20 - Step: 14 - Loss: 7.452314853668213\n",
      "Epoch: 1/20 - Step: 15 - Loss: 7.36575174331665\n",
      "Epoch: 1/20 - Step: 16 - Loss: 7.312478065490723\n",
      "Epoch: 1/20 - Step: 17 - Loss: 7.242730617523193\n",
      "Epoch: 1/20 - Step: 18 - Loss: 7.165928363800049\n",
      "Epoch: 1/20 - Step: 19 - Loss: 7.219583988189697\n",
      "Epoch: 1/20 - Step: 20 - Loss: 7.175887107849121\n",
      "Epoch: 1/20 - Step: 21 - Loss: 7.142906665802002\n",
      "Epoch: 1/20 - Step: 22 - Loss: 7.162370681762695\n",
      "Epoch: 1/20 - Step: 23 - Loss: 7.135434150695801\n",
      "Epoch: 1/20 - Step: 24 - Loss: 10.762295722961426\n",
      "Epoch: 1/20 - Step: 25 - Loss: 7.695539474487305\n",
      "Epoch: 1/20 - Step: 26 - Loss: 7.279770374298096\n",
      "Epoch: 1/20 - Step: 27 - Loss: 7.168511390686035\n",
      "Epoch: 1/20 - Step: 28 - Loss: 7.130860328674316\n",
      "Epoch: 1/20 - Step: 29 - Loss: 7.055013179779053\n",
      "Epoch: 1/20 - Step: 30 - Loss: 7.038212776184082\n",
      "Epoch: 1/20 - Step: 31 - Loss: 7.110690593719482\n",
      "Epoch: 1/20 - Step: 32 - Loss: 7.034388065338135\n",
      "Epoch: 1/20 - Step: 33 - Loss: 7.004818916320801\n",
      "Epoch: 1/20 - Step: 34 - Loss: 7.194708824157715\n",
      "Epoch: 1/20 - Step: 35 - Loss: 7.020744800567627\n",
      "Epoch: 1/20 - Step: 36 - Loss: 7.326902389526367\n",
      "Epoch: 1/20 - Step: 37 - Loss: 7.28972864151001\n",
      "Epoch: 1/20 - Step: 38 - Loss: 6.9677019119262695\n",
      "Epoch: 1/20 - Step: 39 - Loss: 7.076814651489258\n",
      "Epoch: 1/20 - Step: 40 - Loss: 6.9988908767700195\n",
      "Epoch: 1/20 - Step: 41 - Loss: 6.963558673858643\n",
      "Epoch: 1/20 - Step: 42 - Loss: 7.064135551452637\n",
      "Epoch: 1/20 - Step: 43 - Loss: 7.0478949546813965\n",
      "Epoch: 1/20 - Step: 44 - Loss: 7.0715484619140625\n",
      "Epoch: 1/20 - Step: 45 - Loss: 7.076051712036133\n",
      "Epoch: 1/20 - Step: 46 - Loss: 7.103519439697266\n",
      "Epoch: 1/20 - Step: 47 - Loss: 7.0493011474609375\n",
      "Epoch: 1/20 - Step: 48 - Loss: 6.985195159912109\n",
      "Epoch: 1/20 - Step: 49 - Loss: 7.104393005371094\n",
      "Epoch: 1/20 - Step: 50 - Loss: 7.033870220184326\n",
      "Epoch: 1/20 - Step: 51 - Loss: 7.043140888214111\n",
      "Epoch: 1/20 - Step: 52 - Loss: 7.000222682952881\n",
      "Epoch: 1/20 - Step: 53 - Loss: 7.137409210205078\n",
      "Epoch: 1/20 - Step: 54 - Loss: 7.304923057556152\n",
      "Epoch: 1/20 - Step: 55 - Loss: 7.041315078735352\n",
      "Epoch: 1/20 - Step: 56 - Loss: 6.941804885864258\n",
      "Epoch: 1/20 - Step: 57 - Loss: 6.8633599281311035\n",
      "Epoch: 1/20 - Step: 58 - Loss: 7.0934529304504395\n",
      "Epoch: 1/20 - Step: 59 - Loss: 6.856671333312988\n",
      "Epoch: 1/20 - Step: 60 - Loss: 7.127148628234863\n",
      "Epoch: 1/20 - Step: 61 - Loss: 6.960978031158447\n",
      "Epoch: 1/20 - Step: 62 - Loss: 7.032107830047607\n",
      "Epoch: 1/20 - Step: 63 - Loss: 7.0585503578186035\n",
      "Epoch: 1/20 - Step: 64 - Loss: 7.110705375671387\n",
      "Epoch: 1/20 - Step: 65 - Loss: 7.449728965759277\n",
      "Epoch: 1/20 - Step: 66 - Loss: 7.087429523468018\n",
      "Epoch: 1/20 - Step: 67 - Loss: 6.7097601890563965\n",
      "Epoch: 1/20 - Step: 68 - Loss: 6.79175329208374\n",
      "Epoch: 1/20 - Step: 69 - Loss: 6.649896144866943\n",
      "Epoch: 1/20 - Step: 70 - Loss: 6.626749038696289\n"
     ]
    }
   ],
   "source": [
    "train(model, batch_size=batch_size, epochs=20, print_every=1)"
   ]
  },
  {
   "cell_type": "code",
   "execution_count": null,
   "id": "1542bc82-cb1a-4ddc-af39-be52eb00bf72",
   "metadata": {},
   "outputs": [],
   "source": [
    "# predict next token\n",
    "def predict(model, tkn, h=None):\n",
    "         \n",
    "    # tensor inputs\n",
    "    x = np.array([[token2int[tkn]]])\n",
    "    inputs = torch.from_numpy(x)\n",
    "  \n",
    "    # push to CPU\n",
    "    inputs = inputs.cpu()\n",
    "\n",
    "    # detach hidden state from history\n",
    "    h = tuple([each.data for each in h])\n",
    "\n",
    "    # get the output of the model\n",
    "    out, h = model(inputs, h)\n",
    "\n",
    "    # get the token probabilities\n",
    "    p = F.softmax(out, dim=1).data\n",
    "\n",
    "    p = p.cpu()\n",
    "\n",
    "    p = p.numpy()\n",
    "    p = p.reshape(p.shape[1],)\n",
    "\n",
    "    # get indices of top 3 values\n",
    "    top_n_idx = p.argsort()[-3:][::-1]\n",
    "\n",
    "    # randomly select one of the three indices\n",
    "    sampled_token_index = top_n_idx[random.sample([0,1,2],1)[0]]\n",
    "\n",
    "    # return the encoded value of the predicted char and the hidden state\n",
    "    return int2token[sampled_token_index], h"
   ]
  },
  {
   "cell_type": "code",
   "execution_count": null,
   "id": "913b9806-ea23-469f-89a6-0d7ff46a33ec",
   "metadata": {},
   "outputs": [],
   "source": [
    "# function to generate text\n",
    "def generate(model, size, prompt='in this paper'):\n",
    "        \n",
    "    # push to CPU\n",
    "    model.cpu()\n",
    "    \n",
    "    model.eval()\n",
    "\n",
    "    # batch size is 1\n",
    "    h = model.init_hidden(1)\n",
    "\n",
    "    toks = prompt.split()\n",
    "\n",
    "    # predict next token\n",
    "    for t in prompt.split():\n",
    "      token, h = predict(model, t, h)\n",
    "    \n",
    "    toks.append(token)\n",
    "\n",
    "    # predict subsequent tokens\n",
    "    for i in range(size-1):\n",
    "        token, h = predict(model, toks[-1], h)\n",
    "        toks.append(token)\n",
    "\n",
    "    return ' '.join(toks)"
   ]
  },
  {
   "cell_type": "code",
   "execution_count": null,
   "id": "645a8dd9-4a9c-4059-8c23-28e753ca0cdd",
   "metadata": {},
   "outputs": [],
   "source": [
    "generate(model, 50)"
   ]
  }
 ],
 "metadata": {
  "kernelspec": {
   "display_name": "Python 3",
   "language": "python",
   "name": "python3"
  },
  "language_info": {
   "codemirror_mode": {
    "name": "ipython",
    "version": 3
   },
   "file_extension": ".py",
   "mimetype": "text/x-python",
   "name": "python",
   "nbconvert_exporter": "python",
   "pygments_lexer": "ipython3",
   "version": "3.6.13"
  }
 },
 "nbformat": 4,
 "nbformat_minor": 5
}
