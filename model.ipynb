{
 "cells": [
  {
   "cell_type": "markdown",
   "id": "0f2731b1-f80b-4587-9834-5f7d3402ee79",
   "metadata": {
    "tags": []
   },
   "source": [
    "# Conditioned LSTM"
   ]
  },
  {
   "cell_type": "code",
   "execution_count": 1,
   "id": "6c322678-97e7-44ed-8155-d14cfd47a726",
   "metadata": {},
   "outputs": [
    {
     "name": "stderr",
     "output_type": "stream",
     "text": [
      "D:\\giuse\\Conda\\envs\\thesis\\lib\\site-packages\\gensim\\similarities\\__init__.py:15: UserWarning: The gensim.similarities.levenshtein submodule is disabled, because the optional Levenshtein package <https://pypi.org/project/python-Levenshtein/> is unavailable. Install Levenhstein (e.g. `pip install python-Levenshtein`) to suppress this warning.\n",
      "  warnings.warn(msg)\n"
     ]
    }
   ],
   "source": [
    "import math\n",
    "import random\n",
    "\n",
    "import numpy as np\n",
    "\n",
    "import torch\n",
    "from torch import nn\n",
    "import torch.nn.functional as F\n",
    "\n",
    "import matplotlib.pyplot as plt\n",
    "\n",
    "from sklearn.decomposition import PCA\n",
    "\n",
    "import gensim\n",
    "from gensim.models import KeyedVectors\n",
    "from gensim.models.lsimodel import LsiModel\n",
    "from gensim.corpora.dictionary import Dictionary"
   ]
  },
  {
   "cell_type": "markdown",
   "id": "e3f89a46-8f42-477f-90ff-592fffa0b62b",
   "metadata": {
    "tags": []
   },
   "source": [
    "## Data"
   ]
  },
  {
   "cell_type": "code",
   "execution_count": 2,
   "id": "fe343191-55af-48bb-b966-55ad552efcb3",
   "metadata": {},
   "outputs": [],
   "source": [
    "with open('data/tokenized.txt','r') as f:\n",
    "    tokenized = eval(f.read())"
   ]
  },
  {
   "cell_type": "code",
   "execution_count": 3,
   "id": "f210f4c1-b171-4e41-be01-ee4dd311b430",
   "metadata": {},
   "outputs": [],
   "source": [
    "x_arr = np.load('data/x.npy')\n",
    "y_arr = np.load('data/y.npy')"
   ]
  },
  {
   "cell_type": "code",
   "execution_count": 4,
   "id": "89c71560-f7a1-437a-b023-fd9004a7b611",
   "metadata": {},
   "outputs": [
    {
     "data": {
      "text/plain": [
       "(17628, 133)"
      ]
     },
     "execution_count": 4,
     "metadata": {},
     "output_type": "execute_result"
    }
   ],
   "source": [
    "x_arr.shape"
   ]
  },
  {
   "cell_type": "code",
   "execution_count": 5,
   "id": "d4b21bf4-ad35-4c76-abc0-307060aa3463",
   "metadata": {},
   "outputs": [],
   "source": [
    "valid_split = 0.2"
   ]
  },
  {
   "cell_type": "code",
   "execution_count": 6,
   "id": "f4084a92-0f22-4e42-ab06-95ebeffccf4f",
   "metadata": {},
   "outputs": [],
   "source": [
    "dataset_len = len(x_arr)\n",
    "ids = list(range(dataset_len))"
   ]
  },
  {
   "cell_type": "code",
   "execution_count": 7,
   "id": "e13ec988-2ff5-47f3-b15c-c48307304e1a",
   "metadata": {},
   "outputs": [],
   "source": [
    "val_len = int(np.floor(valid_split * dataset_len))\n",
    "val_ids = np.random.choice(ids, size=val_len, replace=False)"
   ]
  },
  {
   "cell_type": "code",
   "execution_count": 8,
   "id": "dd395d6c-bada-4844-a2e0-4926815bf17f",
   "metadata": {},
   "outputs": [],
   "source": [
    "x_val = np.array(x_arr)[val_ids] \n",
    "y_val = np.array(y_arr)[val_ids]"
   ]
  },
  {
   "cell_type": "code",
   "execution_count": 9,
   "id": "11ca0ddd-101d-437c-a1d6-8b43eb9da709",
   "metadata": {},
   "outputs": [
    {
     "data": {
      "text/plain": [
       "((3525, 133), (3525, 133))"
      ]
     },
     "execution_count": 9,
     "metadata": {},
     "output_type": "execute_result"
    }
   ],
   "source": [
    "x_val.shape, y_val.shape"
   ]
  },
  {
   "cell_type": "code",
   "execution_count": 10,
   "id": "67520dd9-c365-44c1-8f2d-9ebed3878bda",
   "metadata": {},
   "outputs": [],
   "source": [
    "x_train = np.delete(x_arr, val_ids, axis=0)\n",
    "y_train = np.delete(y_arr, val_ids, axis=0)"
   ]
  },
  {
   "cell_type": "code",
   "execution_count": 11,
   "id": "c5147fa1-457d-44b2-a9da-c58739c7ba9e",
   "metadata": {},
   "outputs": [
    {
     "data": {
      "text/plain": [
       "((14103, 133), (14103, 133))"
      ]
     },
     "execution_count": 11,
     "metadata": {},
     "output_type": "execute_result"
    }
   ],
   "source": [
    "x_train.shape, y_train.shape"
   ]
  },
  {
   "cell_type": "code",
   "execution_count": 12,
   "id": "129df162-b5dd-4fc5-9ffa-63b8765ec982",
   "metadata": {},
   "outputs": [],
   "source": [
    "def batches(x_arr, y_arr, batch_size):\n",
    "    \n",
    "    pos = 0\n",
    "    \n",
    "    for n in range(batch_size, x_arr.shape[0], batch_size):\n",
    "        x = x_arr[pos:n]\n",
    "        y = y_arr[pos:n]\n",
    "        pos = n\n",
    "        \n",
    "        yield x, y"
   ]
  },
  {
   "cell_type": "code",
   "execution_count": 13,
   "id": "27066b95-79ce-4403-97d8-1b918ca73497",
   "metadata": {},
   "outputs": [],
   "source": [
    "x_data = {'train': x_train , 'val': x_val}\n",
    "y_data = {'train': y_train , 'val': y_val}"
   ]
  },
  {
   "cell_type": "markdown",
   "id": "e9823008-e8f0-46e4-a20d-c6a7915b97b3",
   "metadata": {
    "tags": []
   },
   "source": [
    "## Word Embeddings"
   ]
  },
  {
   "cell_type": "code",
   "execution_count": 14,
   "id": "0b4ae5c6-cf7a-4286-ab02-9700f0eb6c57",
   "metadata": {},
   "outputs": [],
   "source": [
    "w2v_model = gensim.models.KeyedVectors.load('w2v.model', mmap='r')"
   ]
  },
  {
   "cell_type": "code",
   "execution_count": 15,
   "id": "b755d9f8-b239-4ae6-a05e-0484e125cc9c",
   "metadata": {},
   "outputs": [
    {
     "data": {
      "text/plain": [
       "(33831, 128)"
      ]
     },
     "execution_count": 15,
     "metadata": {},
     "output_type": "execute_result"
    }
   ],
   "source": [
    "vocab_size, emdedding_size = w2v_model.wv.vectors.shape\n",
    "vocab_size, emdedding_size"
   ]
  },
  {
   "cell_type": "code",
   "execution_count": 16,
   "id": "b2fa4c61-c375-42d9-8c23-a6a39478fbb7",
   "metadata": {},
   "outputs": [
    {
     "data": {
      "text/plain": [
       "128"
      ]
     },
     "execution_count": 16,
     "metadata": {},
     "output_type": "execute_result"
    }
   ],
   "source": [
    "embedding_size = w2v_model.wv.vectors.shape[1]\n",
    "embedding_size"
   ]
  },
  {
   "cell_type": "code",
   "execution_count": 17,
   "id": "f3f57a05-44f3-4f17-81db-49792038b2a9",
   "metadata": {},
   "outputs": [],
   "source": [
    "w2v_tensors = torch.FloatTensor(w2v_model.wv.vectors)"
   ]
  },
  {
   "cell_type": "markdown",
   "id": "8c0a8372-24fd-40e9-a4ea-d3d0294d5995",
   "metadata": {
    "tags": []
   },
   "source": [
    "## Topic Modelling"
   ]
  },
  {
   "cell_type": "markdown",
   "id": "b6557fe4-f6e8-4784-85f6-259ecb9ae92e",
   "metadata": {
    "tags": []
   },
   "source": [
    "### Parameters"
   ]
  },
  {
   "cell_type": "code",
   "execution_count": 18,
   "id": "6f8fcd3e-895e-4874-b6d1-b6a78ccd101d",
   "metadata": {},
   "outputs": [],
   "source": [
    "# model parameters used for LSA and PCA\n",
    "n_hidden = 256\n",
    "batch_size = 64\n",
    "n_layers = 3"
   ]
  },
  {
   "cell_type": "markdown",
   "id": "801312e8-aed1-41a9-85cb-9b220b850255",
   "metadata": {
    "tags": []
   },
   "source": [
    "### Corpus"
   ]
  },
  {
   "cell_type": "code",
   "execution_count": 19,
   "id": "74c738d7-37a5-4109-a15b-644e15e3b41e",
   "metadata": {
    "tags": []
   },
   "outputs": [],
   "source": [
    "dct = Dictionary(tokenized)\n",
    "dct.filter_extremes(no_below=5, no_above=0.1)"
   ]
  },
  {
   "cell_type": "code",
   "execution_count": 20,
   "id": "80adadbb-835d-4055-a762-47c687301689",
   "metadata": {},
   "outputs": [
    {
     "data": {
      "text/plain": [
       "10435"
      ]
     },
     "execution_count": 20,
     "metadata": {},
     "output_type": "execute_result"
    }
   ],
   "source": [
    "len(dct)"
   ]
  },
  {
   "cell_type": "code",
   "execution_count": 21,
   "id": "4073c810-0ca7-427f-9688-9962f7fd728b",
   "metadata": {},
   "outputs": [
    {
     "name": "stdout",
     "output_type": "stream",
     "text": [
      "Dictionary(10435 unique tokens: ['adaptation', 'address', 'albert', 'attention', 'auxiliary']...)\n"
     ]
    }
   ],
   "source": [
    "print(dct)"
   ]
  },
  {
   "cell_type": "code",
   "execution_count": 200,
   "id": "3864db32-5e75-4e37-bd9e-dec3019ef8b8",
   "metadata": {},
   "outputs": [
    {
     "data": {
      "text/plain": [
       "tuple"
      ]
     },
     "execution_count": 200,
     "metadata": {},
     "output_type": "execute_result"
    }
   ],
   "source": [
    "corpus = [dct.doc2bow(a) for a in tokenized]"
   ]
  },
  {
   "cell_type": "markdown",
   "id": "e03e1a2d-98a7-45c5-8dd6-7851aa323e51",
   "metadata": {},
   "source": [
    "### Latent Semantic Analysis (LSA)"
   ]
  },
  {
   "cell_type": "code",
   "execution_count": 23,
   "id": "9ffbc817-9458-491f-a8d1-ee7d9fabb6bc",
   "metadata": {},
   "outputs": [],
   "source": [
    "lsi = LsiModel(corpus, id2word=dct, num_topics=n_hidden, decay=0.2)"
   ]
  },
  {
   "cell_type": "code",
   "execution_count": 24,
   "id": "ef742f30-a219-408b-a39a-bc77dc2e8637",
   "metadata": {},
   "outputs": [
    {
     "data": {
      "text/plain": [
       "[(0,\n",
       "  '0.607*\"de\" + 0.316*\"d\" + 0.257*\"la\" + 0.253*\"des\" + 0.241*\"les\" + 0.205*\"et\" + 0.204*\"l\" + 0.144*\"le\" + 0.137*\"r\" + 0.135*\"un\"'),\n",
       " (1,\n",
       "  '0.118*\"attention\" + 0.114*\"question\" + 0.104*\"generation\" + 0.098*\"pre\" + 0.096*\"sentences\" + 0.093*\"entity\" + 0.093*\"speech\" + 0.092*\"sentiment\" + 0.091*\"quality\" + 0.090*\"target\"'),\n",
       " (2,\n",
       "  '-0.546*\"question\" + -0.320*\"questions\" + -0.248*\"answer\" + -0.221*\"answering\" + 0.189*\"sentiment\" + 0.188*\"speech\" + -0.187*\"qa\" + -0.181*\"generation\" + 0.122*\"social\" + 0.121*\"detection\"'),\n",
       " (3,\n",
       "  '-0.258*\"social\" + -0.230*\"news\" + -0.226*\"sentiment\" + -0.197*\"user\" + 0.193*\"cross\" + -0.189*\"media\" + -0.180*\"detection\" + 0.162*\"lingual\" + -0.157*\"question\" + 0.157*\"target\"'),\n",
       " (4,\n",
       "  '-0.330*\"speech\" + 0.314*\"attention\" + 0.296*\"sentiment\" + 0.255*\"entity\" + 0.200*\"graph\" + 0.169*\"relation\" + -0.162*\"resource\" + 0.155*\"extraction\" + 0.147*\"entities\" + -0.146*\"quality\"')]"
      ]
     },
     "execution_count": 24,
     "metadata": {},
     "output_type": "execute_result"
    }
   ],
   "source": [
    "lsi.show_topics(5)"
   ]
  },
  {
   "cell_type": "code",
   "execution_count": 162,
   "id": "5b70180a-f67f-4092-9569-40997bf0b218",
   "metadata": {},
   "outputs": [
    {
     "data": {
      "text/plain": [
       "[('social', -0.25794907374180537),\n",
       " ('news', -0.23017367810397968),\n",
       " ('sentiment', -0.22566767338805596),\n",
       " ('user', -0.19738698810528404),\n",
       " ('cross', 0.19303718978296186),\n",
       " ('media', -0.18930381963194298),\n",
       " ('detection', -0.1803576343787139),\n",
       " ('lingual', 0.16228186894560276),\n",
       " ('question', -0.1571902667860817),\n",
       " ('target', 0.15669335826614586)]"
      ]
     },
     "execution_count": 162,
     "metadata": {},
     "output_type": "execute_result"
    }
   ],
   "source": [
    "lsi.show_topic(3, topn=10)"
   ]
  },
  {
   "cell_type": "code",
   "execution_count": 26,
   "id": "a6d2d4cc-f09c-4096-9c53-1e6d7d05eafe",
   "metadata": {},
   "outputs": [],
   "source": [
    "trans_topics = np.transpose(lsi.projection.u)"
   ]
  },
  {
   "cell_type": "markdown",
   "id": "0ae62faf-ac59-4f61-87a7-bf2de09c82cb",
   "metadata": {},
   "source": [
    "### Principal Component Analysis (PCA)"
   ]
  },
  {
   "cell_type": "code",
   "execution_count": 27,
   "id": "88fd01de-ac01-43ef-a370-6bd234108e6d",
   "metadata": {},
   "outputs": [],
   "source": [
    "pca_topics = PCA(n_components=n_layers*batch_size, svd_solver='full').fit_transform(trans_topics)"
   ]
  },
  {
   "cell_type": "code",
   "execution_count": 28,
   "id": "8d50757e-d8ca-482a-88b7-99636cf4f4c6",
   "metadata": {},
   "outputs": [],
   "source": [
    "pca_trans = np.transpose(pca_topics)"
   ]
  },
  {
   "cell_type": "markdown",
   "id": "d19a1e13-b90c-4616-9120-cbd7498a29fc",
   "metadata": {
    "tags": []
   },
   "source": [
    "## Models"
   ]
  },
  {
   "cell_type": "markdown",
   "id": "ca08093e-f769-4dc9-8c2e-2753e70772d7",
   "metadata": {
    "tags": []
   },
   "source": [
    "### Conditioned LSTM"
   ]
  },
  {
   "cell_type": "code",
   "execution_count": 29,
   "id": "82a6de5d-722f-447c-be5e-3c1b4f8b9dfa",
   "metadata": {
    "tags": []
   },
   "outputs": [],
   "source": [
    "class Conditioned_LSTM(nn.Module):\n",
    "    \n",
    "    def __init__(self, n_hidden=256, n_layers=2, drop_prob=0.2, lr=0.001):\n",
    "        super().__init__()\n",
    "\n",
    "        self.drop_prob = drop_prob\n",
    "        self.n_layers = n_layers\n",
    "        self.n_hidden = n_hidden\n",
    "        self.lr = lr\n",
    "        \n",
    "        self.emb_layer = nn.Embedding(vocab_size, embedding_size)\n",
    "\n",
    "        # LSTM\n",
    "        self.lstm = nn.LSTM(embedding_size, n_hidden, n_layers, \n",
    "                            dropout=drop_prob, batch_first=True)\n",
    "        \n",
    "        # dropout layer\n",
    "        self.dropout = nn.Dropout(drop_prob)\n",
    "        \n",
    "        # fully-connected layer\n",
    "        self.fc = nn.Linear(n_hidden, vocab_size)      \n",
    "    \n",
    "    def forward(self, x, hidden):\n",
    "        \n",
    "        x = x.long()\n",
    "\n",
    "        # pass input through embedding layer\n",
    "        embedded = self.emb_layer(x)     \n",
    "        \n",
    "        # get outputs and new hidden state from the lstm\n",
    "        lstm_output, hidden = self.lstm(embedded, hidden)\n",
    "        \n",
    "        # pass through a dropout layer\n",
    "        out = self.dropout(lstm_output)\n",
    "        \n",
    "        # flatten out\n",
    "        out = out.reshape(-1, self.n_hidden) \n",
    "\n",
    "        # put \"out\" through the fully-connected layer\n",
    "        out = self.fc(out)\n",
    "\n",
    "        # return the final output and the hidden state\n",
    "        return out, hidden\n",
    "    \n",
    "    \n",
    "    def init_hidden(self, batch_size):\n",
    "\n",
    "        hidden = (torch.FloatTensor(pca_trans.reshape(self.n_layers, batch_size, self.n_hidden)),\n",
    "                  torch.FloatTensor(pca_trans.reshape(self.n_layers, batch_size, self.n_hidden)))\n",
    "\n",
    "        return hidden"
   ]
  },
  {
   "cell_type": "code",
   "execution_count": 30,
   "id": "385453f3-8dc1-46e1-b9c2-d37088ab4ee6",
   "metadata": {},
   "outputs": [
    {
     "name": "stdout",
     "output_type": "stream",
     "text": [
      "Conditioned_LSTM(\n",
      "  (emb_layer): Embedding(33831, 128)\n",
      "  (lstm): LSTM(128, 256, num_layers=3, batch_first=True, dropout=0.2)\n",
      "  (dropout): Dropout(p=0.2, inplace=False)\n",
      "  (fc): Linear(in_features=256, out_features=33831, bias=True)\n",
      ")\n"
     ]
    }
   ],
   "source": [
    "# instantiate the model\n",
    "cond_lstm = Conditioned_LSTM(n_hidden=n_hidden, n_layers=n_layers)\n",
    "\n",
    "print(cond_lstm)"
   ]
  },
  {
   "cell_type": "markdown",
   "id": "f7e4e0f1-f4e5-46cf-afed-4f9941b79994",
   "metadata": {
    "tags": []
   },
   "source": [
    "### Condtiioned LSTM + Word2Vec"
   ]
  },
  {
   "cell_type": "code",
   "execution_count": 31,
   "id": "6a9b0329-f90a-4121-9308-931b5c2b6b5c",
   "metadata": {
    "tags": []
   },
   "outputs": [],
   "source": [
    "class Conditioned_LSTM_Word2Vec(nn.Module):\n",
    "    \n",
    "    def __init__(self, n_hidden=256, n_layers=2, drop_prob=0.2, lr=0.001):\n",
    "        super().__init__()\n",
    "\n",
    "        self.drop_prob = drop_prob\n",
    "        self.n_layers = n_layers\n",
    "        self.n_hidden = n_hidden\n",
    "        self.lr = lr\n",
    "        \n",
    "        self.emb_layer = nn.Embedding.from_pretrained(w2v_tensors)\n",
    "\n",
    "        # LSTM\n",
    "        self.lstm = nn.LSTM(embedding_size, n_hidden, n_layers, \n",
    "                            dropout=drop_prob, batch_first=True)\n",
    "        \n",
    "        # dropout layer\n",
    "        self.dropout = nn.Dropout(drop_prob)\n",
    "        \n",
    "        # fully-connected layer\n",
    "        self.fc = nn.Linear(n_hidden, vocab_size)      \n",
    "    \n",
    "    def forward(self, x, hidden):\n",
    "        \n",
    "        x = x.long()\n",
    "\n",
    "        # pass input through embedding layer\n",
    "        embedded = self.emb_layer(x)     \n",
    "        \n",
    "        # get outputs and new hidden state from the lstm\n",
    "        lstm_output, hidden = self.lstm(embedded, hidden)\n",
    "        \n",
    "        # pass through a dropout layer\n",
    "        out = self.dropout(lstm_output)\n",
    "        \n",
    "        # flatten out\n",
    "        out = out.reshape(-1, self.n_hidden) \n",
    "\n",
    "        # put \"out\" through the fully-connected layer\n",
    "        out = self.fc(out)\n",
    "\n",
    "        # return the final output and the hidden state\n",
    "        return out, hidden\n",
    "    \n",
    "    \n",
    "    def init_hidden(self, batch_size):\n",
    "\n",
    "        hidden = (torch.FloatTensor(pca_trans.reshape(self.n_layers, batch_size, self.n_hidden)),\n",
    "                  torch.FloatTensor(pca_trans.reshape(self.n_layers, batch_size, self.n_hidden)))\n",
    "\n",
    "        return hidden"
   ]
  },
  {
   "cell_type": "code",
   "execution_count": 32,
   "id": "318c4949-55c3-40d9-a382-9cc1ef9b9d62",
   "metadata": {
    "tags": []
   },
   "outputs": [
    {
     "name": "stdout",
     "output_type": "stream",
     "text": [
      "Conditioned_LSTM_Word2Vec(\n",
      "  (emb_layer): Embedding(33831, 128)\n",
      "  (lstm): LSTM(128, 256, num_layers=3, batch_first=True)\n",
      "  (dropout): Dropout(p=0, inplace=False)\n",
      "  (fc): Linear(in_features=256, out_features=33831, bias=True)\n",
      ")\n"
     ]
    }
   ],
   "source": [
    "# instantiate the model\n",
    "cond_lstm_w2v = Conditioned_LSTM_Word2Vec(n_hidden=n_hidden, n_layers=n_layers, drop_prob=0)\n",
    "\n",
    "print(cond_lstm_w2v)"
   ]
  },
  {
   "cell_type": "markdown",
   "id": "09aa0ae6-4c96-4ad1-970e-98dea4b9bfa8",
   "metadata": {
    "tags": []
   },
   "source": [
    "## Training"
   ]
  },
  {
   "cell_type": "code",
   "execution_count": 33,
   "id": "d3dc1f2f-8f97-402d-a896-af196d1e88d9",
   "metadata": {},
   "outputs": [],
   "source": [
    "def train(model, epochs=10, batch_size=32, lr=0.001, clip=1, print_every=32):\n",
    "    \n",
    "    # optimizer\n",
    "    opt = torch.optim.Adam(model.parameters(), lr=lr)\n",
    "    \n",
    "    # loss criterion\n",
    "    criterion = nn.CrossEntropyLoss()\n",
    "    \n",
    "    # loss values\n",
    "    train_loss = []\n",
    "    val_loss = []\n",
    "    \n",
    "    # dict to assing to right loss list according to phase\n",
    "    losses = {'train': train_loss , 'val': val_loss}\n",
    "\n",
    "    for e in range(epochs):\n",
    "        \n",
    "        for phase in ['train', 'val']:\n",
    "            model.train(True) if phase == 'train' else model.train(False)\n",
    "            \n",
    "            batch = 0\n",
    "\n",
    "            train_epoch_loss = []\n",
    "            val_epoch_loss = []\n",
    "            \n",
    "            # dict to assing to right epoch loss list according to phase\n",
    "            epoch_loss = {'train': train_epoch_loss , 'val': val_epoch_loss} \n",
    "\n",
    "            for x, y in batches(x_data[phase], y_data[phase], batch_size):\n",
    "\n",
    "                batch += 1\n",
    "\n",
    "                # initialize hidden state\n",
    "                h = model.init_hidden(batch_size)\n",
    "\n",
    "                # convert numpy arrays to PyTorch arrays\n",
    "                inputs, targets = torch.from_numpy(x), torch.from_numpy(y)\n",
    "\n",
    "                # detach hidden states\n",
    "                h = tuple([each.data for each in h])\n",
    "\n",
    "                # zero accumulated gradients\n",
    "                model.zero_grad()\n",
    "\n",
    "                # get the output from the model\n",
    "                output, h = model(inputs, h)\n",
    "\n",
    "                # calculate the loss\n",
    "                loss = criterion(output, targets.view(-1).long())\n",
    "\n",
    "                if phase == 'train':\n",
    "                    # back-propagate error\n",
    "                    loss.backward()\n",
    "\n",
    "                    # `clip_grad_norm` helps prevent exploding gradient\n",
    "                    nn.utils.clip_grad_norm_(model.parameters(), clip)\n",
    "\n",
    "                    # update weigths\n",
    "                    opt.step()\n",
    "                \n",
    "                # add current batch loss to epoch loss list\n",
    "                epoch_loss[phase].append(loss.item())\n",
    "\n",
    "                # show epoch - batch - loss every n batches\n",
    "                if batch % print_every == 0:\n",
    "\n",
    "                    tot_batches = int(x_data[phase].shape[0] / batch_size)\n",
    "\n",
    "                    print(\"Epoch: {}/{} -\".format(e+1, epochs),\n",
    "                          \"Batch: {}/{} -\".format(batch, tot_batches),\n",
    "                          \"{} loss: {:.5f}\".format(phase.capitalize(), loss))\n",
    "                    \n",
    "            # calculate average epoch loss\n",
    "            avg_epoch_loss = sum(epoch_loss[phase])/len(epoch_loss[phase])\n",
    "                    \n",
    "            # print average train and val loss at the end of each epoch\n",
    "            print(\"\\nEpoch: {}/{} -\".format(e+1, epochs),\n",
    "                  \"Average {} loss: {:.5f}\\n\".format(phase, avg_epoch_loss))           \n",
    "\n",
    "            # save average epoch loss for training and validation\n",
    "            losses[phase].append(avg_epoch_loss)\n",
    "\n",
    "    return train_loss, val_loss"
   ]
  },
  {
   "cell_type": "code",
   "execution_count": 34,
   "id": "58eb0a03-1ec7-49c7-9dfc-530a10219de9",
   "metadata": {},
   "outputs": [],
   "source": [
    "checkpoint_path = 'weights/training_checkpoints.pt'\n",
    "epochs = 10\n",
    "\n",
    "# optimizers\n",
    "lstm_opt = torch.optim.Adam(cond_lstm.parameters(), lr=0.001)\n",
    "lstm_w2v_opt = torch.optim.Adam(cond_lstm_w2v.parameters(), lr=0.001)\n",
    "\n",
    "# loss criterion\n",
    "criterion = nn.CrossEntropyLoss()"
   ]
  },
  {
   "cell_type": "code",
   "execution_count": 35,
   "id": "c9171143-818e-423f-a030-0a1fe9393c0e",
   "metadata": {},
   "outputs": [
    {
     "name": "stderr",
     "output_type": "stream",
     "text": [
      "D:\\giuse\\Conda\\envs\\thesis\\lib\\site-packages\\torch\\serialization.py:292: UserWarning: Couldn't retrieve source code for container of type CrossEntropyLoss. It won't be checked for correctness upon loading.\n",
      "  \"type \" + obj.__name__ + \". It won't be checked \"\n"
     ]
    }
   ],
   "source": [
    "# save checkpoints\n",
    "torch.save({\n",
    "            'epoch': epochs,\n",
    "            'loss': criterion,\n",
    "            'lstm_state_dict': cond_lstm.state_dict(),\n",
    "            'lstm_w2v_state_dict': cond_lstm_w2v.state_dict(),\n",
    "            'lst_opt_state_dict': lstm_opt.state_dict(),\n",
    "            'lst_opt_w2v_state_dict': lstm_w2v_opt.state_dict(),\n",
    "            }, checkpoint_path)"
   ]
  },
  {
   "cell_type": "code",
   "execution_count": 38,
   "id": "83fc79af-27cf-4951-9d4d-6f47b15a8e3b",
   "metadata": {
    "collapsed": true,
    "jupyter": {
     "outputs_hidden": true
    },
    "tags": []
   },
   "outputs": [
    {
     "name": "stdout",
     "output_type": "stream",
     "text": [
      "Epoch: 1/20 - Batch: 27/220 - Train loss: 6.90484\n",
      "Epoch: 1/20 - Batch: 54/220 - Train loss: 6.90856\n",
      "Epoch: 1/20 - Batch: 81/220 - Train loss: 7.00684\n",
      "Epoch: 1/20 - Batch: 108/220 - Train loss: 7.09564\n",
      "Epoch: 1/20 - Batch: 135/220 - Train loss: 6.92284\n",
      "Epoch: 1/20 - Batch: 162/220 - Train loss: 6.96157\n",
      "Epoch: 1/20 - Batch: 189/220 - Train loss: 7.00223\n",
      "Epoch: 1/20 - Batch: 216/220 - Train loss: 7.11695\n",
      "\n",
      "Epoch: 1/20 - Average train loss: 7.01820\n",
      "\n",
      "Epoch: 1/20 - Batch: 27/55 - Val loss: 6.99480\n",
      "Epoch: 1/20 - Batch: 54/55 - Val loss: 6.89165\n",
      "\n",
      "Epoch: 1/20 - Average val loss: 6.97588\n",
      "\n",
      "Epoch: 2/20 - Batch: 27/220 - Train loss: 6.80712\n",
      "Epoch: 2/20 - Batch: 54/220 - Train loss: 6.84844\n",
      "Epoch: 2/20 - Batch: 81/220 - Train loss: 6.94332\n",
      "Epoch: 2/20 - Batch: 108/220 - Train loss: 6.97183\n",
      "Epoch: 2/20 - Batch: 135/220 - Train loss: 6.82876\n",
      "Epoch: 2/20 - Batch: 162/220 - Train loss: 6.85239\n",
      "Epoch: 2/20 - Batch: 189/220 - Train loss: 6.81584\n",
      "Epoch: 2/20 - Batch: 216/220 - Train loss: 6.74818\n",
      "\n",
      "Epoch: 2/20 - Average train loss: 6.88906\n",
      "\n",
      "Epoch: 2/20 - Batch: 27/55 - Val loss: 6.71416\n",
      "Epoch: 2/20 - Batch: 54/55 - Val loss: 6.60908\n",
      "\n",
      "Epoch: 2/20 - Average val loss: 6.69926\n",
      "\n",
      "Epoch: 3/20 - Batch: 27/220 - Train loss: 6.46956\n",
      "Epoch: 3/20 - Batch: 54/220 - Train loss: 6.42263\n",
      "Epoch: 3/20 - Batch: 81/220 - Train loss: 6.46480\n",
      "Epoch: 3/20 - Batch: 108/220 - Train loss: 6.51231\n",
      "Epoch: 3/20 - Batch: 135/220 - Train loss: 6.21928\n",
      "Epoch: 3/20 - Batch: 162/220 - Train loss: 6.32962\n",
      "Epoch: 3/20 - Batch: 189/220 - Train loss: 6.28430\n",
      "Epoch: 3/20 - Batch: 216/220 - Train loss: 5.97005\n",
      "\n",
      "Epoch: 3/20 - Average train loss: 6.35259\n",
      "\n",
      "Epoch: 3/20 - Batch: 27/55 - Val loss: 6.13543\n",
      "Epoch: 3/20 - Batch: 54/55 - Val loss: 6.04280\n",
      "\n",
      "Epoch: 3/20 - Average val loss: 6.13324\n",
      "\n",
      "Epoch: 4/20 - Batch: 27/220 - Train loss: 6.01140\n",
      "Epoch: 4/20 - Batch: 54/220 - Train loss: 5.98601\n",
      "Epoch: 4/20 - Batch: 81/220 - Train loss: 6.04254\n",
      "Epoch: 4/20 - Batch: 108/220 - Train loss: 6.14997\n",
      "Epoch: 4/20 - Batch: 135/220 - Train loss: 5.82582\n",
      "Epoch: 4/20 - Batch: 162/220 - Train loss: 6.01197\n",
      "Epoch: 4/20 - Batch: 189/220 - Train loss: 5.96806\n",
      "Epoch: 4/20 - Batch: 216/220 - Train loss: 5.64235\n",
      "\n",
      "Epoch: 4/20 - Average train loss: 5.94780\n",
      "\n",
      "Epoch: 4/20 - Batch: 27/55 - Val loss: 5.82440\n",
      "Epoch: 4/20 - Batch: 54/55 - Val loss: 5.73112\n",
      "\n",
      "Epoch: 4/20 - Average val loss: 5.82748\n",
      "\n",
      "Epoch: 5/20 - Batch: 27/220 - Train loss: 5.71941\n",
      "Epoch: 5/20 - Batch: 54/220 - Train loss: 5.69600\n",
      "Epoch: 5/20 - Batch: 81/220 - Train loss: 5.77444\n",
      "Epoch: 5/20 - Batch: 108/220 - Train loss: 5.92604\n",
      "Epoch: 5/20 - Batch: 135/220 - Train loss: 5.57698\n",
      "Epoch: 5/20 - Batch: 162/220 - Train loss: 5.80915\n",
      "Epoch: 5/20 - Batch: 189/220 - Train loss: 5.76869\n",
      "Epoch: 5/20 - Batch: 216/220 - Train loss: 5.42832\n",
      "\n",
      "Epoch: 5/20 - Average train loss: 5.69520\n",
      "\n",
      "Epoch: 5/20 - Batch: 27/55 - Val loss: 5.63943\n",
      "Epoch: 5/20 - Batch: 54/55 - Val loss: 5.53965\n",
      "\n",
      "Epoch: 5/20 - Average val loss: 5.64208\n",
      "\n",
      "Epoch: 6/20 - Batch: 27/220 - Train loss: 5.53333\n",
      "Epoch: 6/20 - Batch: 54/220 - Train loss: 5.52160\n",
      "Epoch: 6/20 - Batch: 81/220 - Train loss: 5.58943\n",
      "Epoch: 6/20 - Batch: 108/220 - Train loss: 5.76979\n",
      "Epoch: 6/20 - Batch: 135/220 - Train loss: 5.41169\n",
      "Epoch: 6/20 - Batch: 162/220 - Train loss: 5.66354\n",
      "Epoch: 6/20 - Batch: 189/220 - Train loss: 5.63389\n",
      "Epoch: 6/20 - Batch: 216/220 - Train loss: 5.28951\n",
      "\n",
      "Epoch: 6/20 - Average train loss: 5.52367\n",
      "\n",
      "Epoch: 6/20 - Batch: 27/55 - Val loss: 5.51567\n",
      "Epoch: 6/20 - Batch: 54/55 - Val loss: 5.40903\n",
      "\n",
      "Epoch: 6/20 - Average val loss: 5.51584\n",
      "\n",
      "Epoch: 7/20 - Batch: 27/220 - Train loss: 5.39902\n",
      "Epoch: 7/20 - Batch: 54/220 - Train loss: 5.38502\n",
      "Epoch: 7/20 - Batch: 81/220 - Train loss: 5.46074\n",
      "Epoch: 7/20 - Batch: 108/220 - Train loss: 5.65406\n",
      "Epoch: 7/20 - Batch: 135/220 - Train loss: 5.29507\n",
      "Epoch: 7/20 - Batch: 162/220 - Train loss: 5.54992\n",
      "Epoch: 7/20 - Batch: 189/220 - Train loss: 5.52567\n",
      "Epoch: 7/20 - Batch: 216/220 - Train loss: 5.15976\n",
      "\n",
      "Epoch: 7/20 - Average train loss: 5.39319\n",
      "\n",
      "Epoch: 7/20 - Batch: 27/55 - Val loss: 5.41946\n",
      "Epoch: 7/20 - Batch: 54/55 - Val loss: 5.30715\n",
      "\n",
      "Epoch: 7/20 - Average val loss: 5.41652\n",
      "\n",
      "Epoch: 8/20 - Batch: 27/220 - Train loss: 5.29573\n",
      "Epoch: 8/20 - Batch: 54/220 - Train loss: 5.28486\n",
      "Epoch: 8/20 - Batch: 81/220 - Train loss: 5.35579\n",
      "Epoch: 8/20 - Batch: 108/220 - Train loss: 5.55338\n",
      "Epoch: 8/20 - Batch: 135/220 - Train loss: 5.18501\n",
      "Epoch: 8/20 - Batch: 162/220 - Train loss: 5.46134\n",
      "Epoch: 8/20 - Batch: 189/220 - Train loss: 5.43371\n",
      "Epoch: 8/20 - Batch: 216/220 - Train loss: 5.06375\n",
      "\n",
      "Epoch: 8/20 - Average train loss: 5.28744\n",
      "\n",
      "Epoch: 8/20 - Batch: 27/55 - Val loss: 5.34621\n",
      "Epoch: 8/20 - Batch: 54/55 - Val loss: 5.22706\n",
      "\n",
      "Epoch: 8/20 - Average val loss: 5.33925\n",
      "\n",
      "Epoch: 9/20 - Batch: 27/220 - Train loss: 5.19337\n",
      "Epoch: 9/20 - Batch: 54/220 - Train loss: 5.19256\n",
      "Epoch: 9/20 - Batch: 81/220 - Train loss: 5.25914\n",
      "Epoch: 9/20 - Batch: 108/220 - Train loss: 5.45395\n",
      "Epoch: 9/20 - Batch: 135/220 - Train loss: 5.09434\n",
      "Epoch: 9/20 - Batch: 162/220 - Train loss: 5.38426\n",
      "Epoch: 9/20 - Batch: 189/220 - Train loss: 5.37121\n",
      "Epoch: 9/20 - Batch: 216/220 - Train loss: 4.98101\n",
      "\n",
      "Epoch: 9/20 - Average train loss: 5.19769\n",
      "\n",
      "Epoch: 9/20 - Batch: 27/55 - Val loss: 5.28768\n",
      "Epoch: 9/20 - Batch: 54/55 - Val loss: 5.16293\n",
      "\n",
      "Epoch: 9/20 - Average val loss: 5.27607\n",
      "\n",
      "Epoch: 10/20 - Batch: 27/220 - Train loss: 5.11907\n",
      "Epoch: 10/20 - Batch: 54/220 - Train loss: 5.10847\n",
      "Epoch: 10/20 - Batch: 81/220 - Train loss: 5.19241\n",
      "Epoch: 10/20 - Batch: 108/220 - Train loss: 5.37689\n",
      "Epoch: 10/20 - Batch: 135/220 - Train loss: 5.02670\n",
      "Epoch: 10/20 - Batch: 162/220 - Train loss: 5.30687\n",
      "Epoch: 10/20 - Batch: 189/220 - Train loss: 5.29922\n",
      "Epoch: 10/20 - Batch: 216/220 - Train loss: 4.90713\n",
      "\n",
      "Epoch: 10/20 - Average train loss: 5.12033\n",
      "\n",
      "Epoch: 10/20 - Batch: 27/55 - Val loss: 5.24005\n",
      "Epoch: 10/20 - Batch: 54/55 - Val loss: 5.10813\n",
      "\n",
      "Epoch: 10/20 - Average val loss: 5.22382\n",
      "\n",
      "Epoch: 11/20 - Batch: 27/220 - Train loss: 5.05424\n",
      "Epoch: 11/20 - Batch: 54/220 - Train loss: 5.05809\n",
      "Epoch: 11/20 - Batch: 81/220 - Train loss: 5.13733\n",
      "Epoch: 11/20 - Batch: 108/220 - Train loss: 5.30213\n",
      "Epoch: 11/20 - Batch: 135/220 - Train loss: 4.95490\n",
      "Epoch: 11/20 - Batch: 162/220 - Train loss: 5.25270\n",
      "Epoch: 11/20 - Batch: 189/220 - Train loss: 5.25815\n",
      "Epoch: 11/20 - Batch: 216/220 - Train loss: 4.83302\n",
      "\n",
      "Epoch: 11/20 - Average train loss: 5.05303\n",
      "\n",
      "Epoch: 11/20 - Batch: 27/55 - Val loss: 5.20550\n",
      "Epoch: 11/20 - Batch: 54/55 - Val loss: 5.06701\n",
      "\n",
      "Epoch: 11/20 - Average val loss: 5.18548\n",
      "\n",
      "Epoch: 12/20 - Batch: 27/220 - Train loss: 4.99226\n",
      "Epoch: 12/20 - Batch: 54/220 - Train loss: 4.99444\n",
      "Epoch: 12/20 - Batch: 81/220 - Train loss: 5.06701\n",
      "Epoch: 12/20 - Batch: 108/220 - Train loss: 5.25437\n",
      "Epoch: 12/20 - Batch: 135/220 - Train loss: 4.90411\n",
      "Epoch: 12/20 - Batch: 162/220 - Train loss: 5.18960\n",
      "Epoch: 12/20 - Batch: 189/220 - Train loss: 5.19432\n",
      "Epoch: 12/20 - Batch: 216/220 - Train loss: 4.78332\n",
      "\n",
      "Epoch: 12/20 - Average train loss: 4.99398\n",
      "\n",
      "Epoch: 12/20 - Batch: 27/55 - Val loss: 5.17409\n",
      "Epoch: 12/20 - Batch: 54/55 - Val loss: 5.03328\n",
      "\n",
      "Epoch: 12/20 - Average val loss: 5.15291\n",
      "\n",
      "Epoch: 13/20 - Batch: 27/220 - Train loss: 4.95364\n",
      "Epoch: 13/20 - Batch: 54/220 - Train loss: 4.93516\n",
      "Epoch: 13/20 - Batch: 81/220 - Train loss: 5.02350\n",
      "Epoch: 13/20 - Batch: 108/220 - Train loss: 5.20737\n",
      "Epoch: 13/20 - Batch: 135/220 - Train loss: 4.84518\n",
      "Epoch: 13/20 - Batch: 162/220 - Train loss: 5.14020\n",
      "Epoch: 13/20 - Batch: 189/220 - Train loss: 5.14642\n",
      "Epoch: 13/20 - Batch: 216/220 - Train loss: 4.72353\n",
      "\n",
      "Epoch: 13/20 - Average train loss: 4.94107\n",
      "\n",
      "Epoch: 13/20 - Batch: 27/55 - Val loss: 5.14125\n",
      "Epoch: 13/20 - Batch: 54/55 - Val loss: 5.00563\n",
      "\n",
      "Epoch: 13/20 - Average val loss: 5.12252\n",
      "\n",
      "Epoch: 14/20 - Batch: 27/220 - Train loss: 4.90212\n",
      "Epoch: 14/20 - Batch: 54/220 - Train loss: 4.89298\n",
      "Epoch: 14/20 - Batch: 81/220 - Train loss: 4.97095\n",
      "Epoch: 14/20 - Batch: 108/220 - Train loss: 5.16296\n",
      "Epoch: 14/20 - Batch: 135/220 - Train loss: 4.81558\n",
      "Epoch: 14/20 - Batch: 162/220 - Train loss: 5.09998\n",
      "Epoch: 14/20 - Batch: 189/220 - Train loss: 5.09324\n",
      "Epoch: 14/20 - Batch: 216/220 - Train loss: 4.67658\n",
      "\n",
      "Epoch: 14/20 - Average train loss: 4.89220\n",
      "\n",
      "Epoch: 14/20 - Batch: 27/55 - Val loss: 5.11736\n",
      "Epoch: 14/20 - Batch: 54/55 - Val loss: 4.97912\n",
      "\n",
      "Epoch: 14/20 - Average val loss: 5.09560\n",
      "\n",
      "Epoch: 15/20 - Batch: 27/220 - Train loss: 4.86438\n",
      "Epoch: 15/20 - Batch: 54/220 - Train loss: 4.85668\n",
      "Epoch: 15/20 - Batch: 81/220 - Train loss: 4.93045\n",
      "Epoch: 15/20 - Batch: 108/220 - Train loss: 5.11790\n",
      "Epoch: 15/20 - Batch: 135/220 - Train loss: 4.78421\n",
      "Epoch: 15/20 - Batch: 162/220 - Train loss: 5.05647\n",
      "Epoch: 15/20 - Batch: 189/220 - Train loss: 5.06201\n",
      "Epoch: 15/20 - Batch: 216/220 - Train loss: 4.64399\n",
      "\n",
      "Epoch: 15/20 - Average train loss: 4.85074\n",
      "\n",
      "Epoch: 15/20 - Batch: 27/55 - Val loss: 5.09813\n",
      "Epoch: 15/20 - Batch: 54/55 - Val loss: 4.95640\n",
      "\n",
      "Epoch: 15/20 - Average val loss: 5.07670\n",
      "\n",
      "Epoch: 16/20 - Batch: 27/220 - Train loss: 4.82683\n",
      "Epoch: 16/20 - Batch: 54/220 - Train loss: 4.80302\n",
      "Epoch: 16/20 - Batch: 81/220 - Train loss: 4.89114\n",
      "Epoch: 16/20 - Batch: 108/220 - Train loss: 5.07389\n",
      "Epoch: 16/20 - Batch: 135/220 - Train loss: 4.73688\n",
      "Epoch: 16/20 - Batch: 162/220 - Train loss: 5.02061\n",
      "Epoch: 16/20 - Batch: 189/220 - Train loss: 5.00507\n",
      "Epoch: 16/20 - Batch: 216/220 - Train loss: 4.59809\n",
      "\n",
      "Epoch: 16/20 - Average train loss: 4.80965\n",
      "\n",
      "Epoch: 16/20 - Batch: 27/55 - Val loss: 5.08395\n",
      "Epoch: 16/20 - Batch: 54/55 - Val loss: 4.93967\n",
      "\n",
      "Epoch: 16/20 - Average val loss: 5.05997\n",
      "\n",
      "Epoch: 17/20 - Batch: 27/220 - Train loss: 4.78480\n",
      "Epoch: 17/20 - Batch: 54/220 - Train loss: 4.77930\n",
      "Epoch: 17/20 - Batch: 81/220 - Train loss: 4.85896\n",
      "Epoch: 17/20 - Batch: 108/220 - Train loss: 5.03805\n",
      "Epoch: 17/20 - Batch: 135/220 - Train loss: 4.69501\n",
      "Epoch: 17/20 - Batch: 162/220 - Train loss: 4.98518\n",
      "Epoch: 17/20 - Batch: 189/220 - Train loss: 4.99487\n",
      "Epoch: 17/20 - Batch: 216/220 - Train loss: 4.56531\n",
      "\n",
      "Epoch: 17/20 - Average train loss: 4.77233\n",
      "\n",
      "Epoch: 17/20 - Batch: 27/55 - Val loss: 5.06720\n",
      "Epoch: 17/20 - Batch: 54/55 - Val loss: 4.92100\n",
      "\n",
      "Epoch: 17/20 - Average val loss: 5.04439\n",
      "\n",
      "Epoch: 18/20 - Batch: 27/220 - Train loss: 4.75554\n",
      "Epoch: 18/20 - Batch: 54/220 - Train loss: 4.75109\n",
      "Epoch: 18/20 - Batch: 81/220 - Train loss: 4.83586\n",
      "Epoch: 18/20 - Batch: 108/220 - Train loss: 5.00288\n",
      "Epoch: 18/20 - Batch: 135/220 - Train loss: 4.68125\n",
      "Epoch: 18/20 - Batch: 162/220 - Train loss: 4.93854\n",
      "Epoch: 18/20 - Batch: 189/220 - Train loss: 4.95574\n",
      "Epoch: 18/20 - Batch: 216/220 - Train loss: 4.51735\n",
      "\n",
      "Epoch: 18/20 - Average train loss: 4.73641\n",
      "\n",
      "Epoch: 18/20 - Batch: 27/55 - Val loss: 5.05713\n",
      "Epoch: 18/20 - Batch: 54/55 - Val loss: 4.90988\n",
      "\n",
      "Epoch: 18/20 - Average val loss: 5.03316\n",
      "\n",
      "Epoch: 19/20 - Batch: 27/220 - Train loss: 4.71767\n",
      "Epoch: 19/20 - Batch: 54/220 - Train loss: 4.71006\n",
      "Epoch: 19/20 - Batch: 81/220 - Train loss: 4.78056\n",
      "Epoch: 19/20 - Batch: 108/220 - Train loss: 4.95541\n",
      "Epoch: 19/20 - Batch: 135/220 - Train loss: 4.63721\n",
      "Epoch: 19/20 - Batch: 162/220 - Train loss: 4.92563\n",
      "Epoch: 19/20 - Batch: 189/220 - Train loss: 4.91736\n",
      "Epoch: 19/20 - Batch: 216/220 - Train loss: 4.49679\n",
      "\n",
      "Epoch: 19/20 - Average train loss: 4.70457\n",
      "\n",
      "Epoch: 19/20 - Batch: 27/55 - Val loss: 5.05141\n",
      "Epoch: 19/20 - Batch: 54/55 - Val loss: 4.89851\n",
      "\n",
      "Epoch: 19/20 - Average val loss: 5.02554\n",
      "\n",
      "Epoch: 20/20 - Batch: 27/220 - Train loss: 4.67882\n",
      "Epoch: 20/20 - Batch: 54/220 - Train loss: 4.67985\n",
      "Epoch: 20/20 - Batch: 81/220 - Train loss: 4.74922\n",
      "Epoch: 20/20 - Batch: 108/220 - Train loss: 4.93530\n",
      "Epoch: 20/20 - Batch: 135/220 - Train loss: 4.60506\n",
      "Epoch: 20/20 - Batch: 162/220 - Train loss: 4.89999\n",
      "Epoch: 20/20 - Batch: 189/220 - Train loss: 4.88778\n",
      "Epoch: 20/20 - Batch: 216/220 - Train loss: 4.46224\n",
      "\n",
      "Epoch: 20/20 - Average train loss: 4.67259\n",
      "\n",
      "Epoch: 20/20 - Batch: 27/55 - Val loss: 5.04309\n",
      "Epoch: 20/20 - Batch: 54/55 - Val loss: 4.88629\n",
      "\n",
      "Epoch: 20/20 - Average val loss: 5.01551\n",
      "\n"
     ]
    }
   ],
   "source": [
    "# TO DELETE\n",
    "# train_loss, val_loss = train(cond_lstm, batch_size=batch_size, epochs=20, print_every=27)"
   ]
  },
  {
   "cell_type": "code",
   "execution_count": 36,
   "id": "2ead137d-07c6-4f65-a355-4f457d60814f",
   "metadata": {
    "collapsed": true,
    "jupyter": {
     "outputs_hidden": true
    },
    "tags": []
   },
   "outputs": [
    {
     "name": "stdout",
     "output_type": "stream",
     "text": [
      "Epoch: 1/20 - Batch: 27/220 - Train loss: 6.94394\n",
      "Epoch: 1/20 - Batch: 54/220 - Train loss: 7.46500\n",
      "Epoch: 1/20 - Batch: 81/220 - Train loss: 7.02347\n",
      "Epoch: 1/20 - Batch: 108/220 - Train loss: 7.03634\n",
      "Epoch: 1/20 - Batch: 135/220 - Train loss: 6.96275\n",
      "Epoch: 1/20 - Batch: 162/220 - Train loss: 7.11021\n",
      "Epoch: 1/20 - Batch: 189/220 - Train loss: 7.02176\n",
      "Epoch: 1/20 - Batch: 216/220 - Train loss: 7.22654\n",
      "\n",
      "Epoch: 1/20 - Average train loss: 7.19274\n",
      "\n",
      "Epoch: 1/20 - Batch: 27/55 - Val loss: 6.93077\n",
      "Epoch: 1/20 - Batch: 54/55 - Val loss: 6.98899\n",
      "\n",
      "Epoch: 1/20 - Average val loss: 6.98778\n",
      "\n",
      "Epoch: 2/20 - Batch: 27/220 - Train loss: 6.83380\n",
      "Epoch: 2/20 - Batch: 54/220 - Train loss: 7.35449\n",
      "Epoch: 2/20 - Batch: 81/220 - Train loss: 6.99110\n",
      "Epoch: 2/20 - Batch: 108/220 - Train loss: 7.00515\n",
      "Epoch: 2/20 - Batch: 135/220 - Train loss: 6.93535\n",
      "Epoch: 2/20 - Batch: 162/220 - Train loss: 7.08040\n",
      "Epoch: 2/20 - Batch: 189/220 - Train loss: 6.99813\n",
      "Epoch: 2/20 - Batch: 216/220 - Train loss: 7.20359\n",
      "\n",
      "Epoch: 2/20 - Average train loss: 7.00146\n",
      "\n",
      "Epoch: 2/20 - Batch: 27/55 - Val loss: 6.93691\n",
      "Epoch: 2/20 - Batch: 54/55 - Val loss: 6.99584\n",
      "\n",
      "Epoch: 2/20 - Average val loss: 6.99251\n",
      "\n",
      "Epoch: 3/20 - Batch: 27/220 - Train loss: 6.82754\n",
      "Epoch: 3/20 - Batch: 54/220 - Train loss: 7.34864\n",
      "Epoch: 3/20 - Batch: 81/220 - Train loss: 6.98328\n",
      "Epoch: 3/20 - Batch: 108/220 - Train loss: 6.99706\n",
      "Epoch: 3/20 - Batch: 135/220 - Train loss: 6.92409\n",
      "Epoch: 3/20 - Batch: 162/220 - Train loss: 7.07974\n",
      "Epoch: 3/20 - Batch: 189/220 - Train loss: 6.98708\n",
      "Epoch: 3/20 - Batch: 216/220 - Train loss: 7.19367\n",
      "\n",
      "Epoch: 3/20 - Average train loss: 6.99377\n",
      "\n",
      "Epoch: 3/20 - Batch: 27/55 - Val loss: 6.94128\n",
      "Epoch: 3/20 - Batch: 54/55 - Val loss: 7.00050\n",
      "\n",
      "Epoch: 3/20 - Average val loss: 6.99625\n",
      "\n",
      "Epoch: 4/20 - Batch: 27/220 - Train loss: 6.82290\n",
      "Epoch: 4/20 - Batch: 54/220 - Train loss: 7.34297\n",
      "Epoch: 4/20 - Batch: 81/220 - Train loss: 6.98041\n",
      "Epoch: 4/20 - Batch: 108/220 - Train loss: 6.99645\n",
      "Epoch: 4/20 - Batch: 135/220 - Train loss: 6.92311\n",
      "Epoch: 4/20 - Batch: 162/220 - Train loss: 7.07807\n",
      "Epoch: 4/20 - Batch: 189/220 - Train loss: 6.98117\n",
      "Epoch: 4/20 - Batch: 216/220 - Train loss: 7.18824\n",
      "\n",
      "Epoch: 4/20 - Average train loss: 6.98879\n",
      "\n",
      "Epoch: 4/20 - Batch: 27/55 - Val loss: 6.94127\n",
      "Epoch: 4/20 - Batch: 54/55 - Val loss: 7.00124\n",
      "\n",
      "Epoch: 4/20 - Average val loss: 6.99622\n",
      "\n",
      "Epoch: 5/20 - Batch: 27/220 - Train loss: 6.81285\n",
      "Epoch: 5/20 - Batch: 54/220 - Train loss: 7.33374\n",
      "Epoch: 5/20 - Batch: 81/220 - Train loss: 6.97570\n",
      "Epoch: 5/20 - Batch: 108/220 - Train loss: 6.99060\n",
      "Epoch: 5/20 - Batch: 135/220 - Train loss: 6.91857\n",
      "Epoch: 5/20 - Batch: 162/220 - Train loss: 7.06680\n",
      "Epoch: 5/20 - Batch: 189/220 - Train loss: 6.97421\n",
      "Epoch: 5/20 - Batch: 216/220 - Train loss: 7.17908\n",
      "\n",
      "Epoch: 5/20 - Average train loss: 6.98229\n",
      "\n",
      "Epoch: 5/20 - Batch: 27/55 - Val loss: 6.94196\n",
      "Epoch: 5/20 - Batch: 54/55 - Val loss: 7.00235\n",
      "\n",
      "Epoch: 5/20 - Average val loss: 6.99700\n",
      "\n",
      "Epoch: 6/20 - Batch: 27/220 - Train loss: 6.81148\n",
      "Epoch: 6/20 - Batch: 54/220 - Train loss: 7.33509\n",
      "Epoch: 6/20 - Batch: 81/220 - Train loss: 6.97139\n",
      "Epoch: 6/20 - Batch: 108/220 - Train loss: 6.98684\n",
      "Epoch: 6/20 - Batch: 135/220 - Train loss: 6.91326\n",
      "Epoch: 6/20 - Batch: 162/220 - Train loss: 7.04655\n",
      "Epoch: 6/20 - Batch: 189/220 - Train loss: 6.92390\n",
      "Epoch: 6/20 - Batch: 216/220 - Train loss: 7.07711\n",
      "\n",
      "Epoch: 6/20 - Average train loss: 6.96347\n",
      "\n",
      "Epoch: 6/20 - Batch: 27/55 - Val loss: 6.82482\n",
      "Epoch: 6/20 - Batch: 54/55 - Val loss: 6.87768\n",
      "\n",
      "Epoch: 6/20 - Average val loss: 6.87510\n",
      "\n",
      "Epoch: 7/20 - Batch: 27/220 - Train loss: 6.66268\n",
      "Epoch: 7/20 - Batch: 54/220 - Train loss: 7.13230\n",
      "Epoch: 7/20 - Batch: 81/220 - Train loss: 6.78338\n",
      "Epoch: 7/20 - Batch: 108/220 - Train loss: 6.76592\n",
      "Epoch: 7/20 - Batch: 135/220 - Train loss: 6.64731\n",
      "Epoch: 7/20 - Batch: 162/220 - Train loss: 6.79056\n",
      "Epoch: 7/20 - Batch: 189/220 - Train loss: 6.68377\n",
      "Epoch: 7/20 - Batch: 216/220 - Train loss: 6.78158\n",
      "\n",
      "Epoch: 7/20 - Average train loss: 6.74698\n",
      "\n",
      "Epoch: 7/20 - Batch: 27/55 - Val loss: 6.59501\n",
      "Epoch: 7/20 - Batch: 54/55 - Val loss: 6.64092\n",
      "\n",
      "Epoch: 7/20 - Average val loss: 6.63828\n",
      "\n",
      "Epoch: 8/20 - Batch: 27/220 - Train loss: 6.43787\n",
      "Epoch: 8/20 - Batch: 54/220 - Train loss: 6.82686\n",
      "Epoch: 8/20 - Batch: 81/220 - Train loss: 6.57892\n",
      "Epoch: 8/20 - Batch: 108/220 - Train loss: 6.59091\n",
      "Epoch: 8/20 - Batch: 135/220 - Train loss: 6.45233\n",
      "Epoch: 8/20 - Batch: 162/220 - Train loss: 6.58035\n",
      "Epoch: 8/20 - Batch: 189/220 - Train loss: 6.46495\n",
      "Epoch: 8/20 - Batch: 216/220 - Train loss: 6.32706\n",
      "\n",
      "Epoch: 8/20 - Average train loss: 6.51953\n",
      "\n",
      "Epoch: 8/20 - Batch: 27/55 - Val loss: 6.35838\n",
      "Epoch: 8/20 - Batch: 54/55 - Val loss: 6.33967\n",
      "\n",
      "Epoch: 8/20 - Average val loss: 6.36008\n",
      "\n",
      "Epoch: 9/20 - Batch: 27/220 - Train loss: 6.20030\n",
      "Epoch: 9/20 - Batch: 54/220 - Train loss: 6.27186\n",
      "Epoch: 9/20 - Batch: 81/220 - Train loss: 6.33078\n",
      "Epoch: 9/20 - Batch: 108/220 - Train loss: 6.38380\n",
      "Epoch: 9/20 - Batch: 135/220 - Train loss: 6.19178\n",
      "Epoch: 9/20 - Batch: 162/220 - Train loss: 6.31387\n",
      "Epoch: 9/20 - Batch: 189/220 - Train loss: 6.23652\n",
      "Epoch: 9/20 - Batch: 216/220 - Train loss: 6.02161\n",
      "\n",
      "Epoch: 9/20 - Average train loss: 6.25421\n",
      "\n",
      "Epoch: 9/20 - Batch: 27/55 - Val loss: 6.13735\n",
      "Epoch: 9/20 - Batch: 54/55 - Val loss: 6.10132\n",
      "\n",
      "Epoch: 9/20 - Average val loss: 6.13092\n",
      "\n",
      "Epoch: 10/20 - Batch: 27/220 - Train loss: 5.97990\n",
      "Epoch: 10/20 - Batch: 54/220 - Train loss: 6.00716\n",
      "Epoch: 10/20 - Batch: 81/220 - Train loss: 6.14822\n",
      "Epoch: 10/20 - Batch: 108/220 - Train loss: 6.19631\n",
      "Epoch: 10/20 - Batch: 135/220 - Train loss: 5.99457\n",
      "Epoch: 10/20 - Batch: 162/220 - Train loss: 6.13118\n",
      "Epoch: 10/20 - Batch: 189/220 - Train loss: 6.04713\n",
      "Epoch: 10/20 - Batch: 216/220 - Train loss: 5.82447\n",
      "\n",
      "Epoch: 10/20 - Average train loss: 6.04775\n",
      "\n",
      "Epoch: 10/20 - Batch: 27/55 - Val loss: 5.95829\n",
      "Epoch: 10/20 - Batch: 54/55 - Val loss: 5.91536\n",
      "\n",
      "Epoch: 10/20 - Average val loss: 5.95108\n",
      "\n",
      "Epoch: 11/20 - Batch: 27/220 - Train loss: 5.80310\n",
      "Epoch: 11/20 - Batch: 54/220 - Train loss: 5.80564\n",
      "Epoch: 11/20 - Batch: 81/220 - Train loss: 5.97026\n",
      "Epoch: 11/20 - Batch: 108/220 - Train loss: 6.05380\n",
      "Epoch: 11/20 - Batch: 135/220 - Train loss: 5.82239\n",
      "Epoch: 11/20 - Batch: 162/220 - Train loss: 5.98603\n",
      "Epoch: 11/20 - Batch: 189/220 - Train loss: 5.88525\n",
      "Epoch: 11/20 - Batch: 216/220 - Train loss: 5.65908\n",
      "\n",
      "Epoch: 11/20 - Average train loss: 5.87805\n",
      "\n",
      "Epoch: 11/20 - Batch: 27/55 - Val loss: 5.81733\n",
      "Epoch: 11/20 - Batch: 54/55 - Val loss: 5.77507\n",
      "\n",
      "Epoch: 11/20 - Average val loss: 5.81082\n",
      "\n",
      "Epoch: 12/20 - Batch: 27/220 - Train loss: 5.65960\n",
      "Epoch: 12/20 - Batch: 54/220 - Train loss: 5.65339\n",
      "Epoch: 12/20 - Batch: 81/220 - Train loss: 5.83079\n",
      "Epoch: 12/20 - Batch: 108/220 - Train loss: 5.92474\n",
      "Epoch: 12/20 - Batch: 135/220 - Train loss: 5.68649\n",
      "Epoch: 12/20 - Batch: 162/220 - Train loss: 5.87430\n",
      "Epoch: 12/20 - Batch: 189/220 - Train loss: 5.77060\n",
      "Epoch: 12/20 - Batch: 216/220 - Train loss: 5.51315\n",
      "\n",
      "Epoch: 12/20 - Average train loss: 5.74077\n",
      "\n",
      "Epoch: 12/20 - Batch: 27/55 - Val loss: 5.70088\n",
      "Epoch: 12/20 - Batch: 54/55 - Val loss: 5.66332\n",
      "\n",
      "Epoch: 12/20 - Average val loss: 5.69764\n",
      "\n",
      "Epoch: 13/20 - Batch: 27/220 - Train loss: 5.54195\n",
      "Epoch: 13/20 - Batch: 54/220 - Train loss: 5.52806\n",
      "Epoch: 13/20 - Batch: 81/220 - Train loss: 5.70756\n",
      "Epoch: 13/20 - Batch: 108/220 - Train loss: 5.84301\n",
      "Epoch: 13/20 - Batch: 135/220 - Train loss: 5.56874\n",
      "Epoch: 13/20 - Batch: 162/220 - Train loss: 5.78473\n",
      "Epoch: 13/20 - Batch: 189/220 - Train loss: 5.67042\n",
      "Epoch: 13/20 - Batch: 216/220 - Train loss: 5.40035\n",
      "\n",
      "Epoch: 13/20 - Average train loss: 5.62642\n",
      "\n",
      "Epoch: 13/20 - Batch: 27/55 - Val loss: 5.60806\n",
      "Epoch: 13/20 - Batch: 54/55 - Val loss: 5.57362\n",
      "\n",
      "Epoch: 13/20 - Average val loss: 5.60554\n",
      "\n",
      "Epoch: 14/20 - Batch: 27/220 - Train loss: 5.44341\n",
      "Epoch: 14/20 - Batch: 54/220 - Train loss: 5.41002\n",
      "Epoch: 14/20 - Batch: 81/220 - Train loss: 5.60713\n",
      "Epoch: 14/20 - Batch: 108/220 - Train loss: 5.75325\n",
      "Epoch: 14/20 - Batch: 135/220 - Train loss: 5.47868\n",
      "Epoch: 14/20 - Batch: 162/220 - Train loss: 5.70102\n",
      "Epoch: 14/20 - Batch: 189/220 - Train loss: 5.57820\n",
      "Epoch: 14/20 - Batch: 216/220 - Train loss: 5.30720\n",
      "\n",
      "Epoch: 14/20 - Average train loss: 5.52770\n",
      "\n",
      "Epoch: 14/20 - Batch: 27/55 - Val loss: 5.53447\n",
      "Epoch: 14/20 - Batch: 54/55 - Val loss: 5.49860\n",
      "\n",
      "Epoch: 14/20 - Average val loss: 5.53068\n",
      "\n",
      "Epoch: 15/20 - Batch: 27/220 - Train loss: 5.35313\n",
      "Epoch: 15/20 - Batch: 54/220 - Train loss: 5.31490\n",
      "Epoch: 15/20 - Batch: 81/220 - Train loss: 5.52558\n",
      "Epoch: 15/20 - Batch: 108/220 - Train loss: 5.68763\n",
      "Epoch: 15/20 - Batch: 135/220 - Train loss: 5.38757\n",
      "Epoch: 15/20 - Batch: 162/220 - Train loss: 5.62352\n",
      "Epoch: 15/20 - Batch: 189/220 - Train loss: 5.51870\n",
      "Epoch: 15/20 - Batch: 216/220 - Train loss: 5.22134\n",
      "\n",
      "Epoch: 15/20 - Average train loss: 5.44231\n",
      "\n",
      "Epoch: 15/20 - Batch: 27/55 - Val loss: 5.47939\n",
      "Epoch: 15/20 - Batch: 54/55 - Val loss: 5.43744\n",
      "\n",
      "Epoch: 15/20 - Average val loss: 5.47112\n",
      "\n",
      "Epoch: 16/20 - Batch: 27/220 - Train loss: 5.27047\n",
      "Epoch: 16/20 - Batch: 54/220 - Train loss: 5.22551\n",
      "Epoch: 16/20 - Batch: 81/220 - Train loss: 5.45501\n",
      "Epoch: 16/20 - Batch: 108/220 - Train loss: 5.63232\n",
      "Epoch: 16/20 - Batch: 135/220 - Train loss: 5.31575\n",
      "Epoch: 16/20 - Batch: 162/220 - Train loss: 5.55408\n",
      "Epoch: 16/20 - Batch: 189/220 - Train loss: 5.44537\n",
      "Epoch: 16/20 - Batch: 216/220 - Train loss: 5.13405\n",
      "\n",
      "Epoch: 16/20 - Average train loss: 5.36665\n",
      "\n",
      "Epoch: 16/20 - Batch: 27/55 - Val loss: 5.42531\n",
      "Epoch: 16/20 - Batch: 54/55 - Val loss: 5.37842\n",
      "\n",
      "Epoch: 16/20 - Average val loss: 5.41421\n",
      "\n",
      "Epoch: 17/20 - Batch: 27/220 - Train loss: 5.20704\n",
      "Epoch: 17/20 - Batch: 54/220 - Train loss: 5.14451\n",
      "Epoch: 17/20 - Batch: 81/220 - Train loss: 5.38356\n",
      "Epoch: 17/20 - Batch: 108/220 - Train loss: 5.57275\n",
      "Epoch: 17/20 - Batch: 135/220 - Train loss: 5.24277\n",
      "Epoch: 17/20 - Batch: 162/220 - Train loss: 5.49960\n",
      "Epoch: 17/20 - Batch: 189/220 - Train loss: 5.38907\n",
      "Epoch: 17/20 - Batch: 216/220 - Train loss: 5.07851\n",
      "\n",
      "Epoch: 17/20 - Average train loss: 5.29764\n",
      "\n",
      "Epoch: 17/20 - Batch: 27/55 - Val loss: 5.38019\n",
      "Epoch: 17/20 - Batch: 54/55 - Val loss: 5.32570\n",
      "\n",
      "Epoch: 17/20 - Average val loss: 5.36497\n",
      "\n",
      "Epoch: 18/20 - Batch: 27/220 - Train loss: 5.14721\n",
      "Epoch: 18/20 - Batch: 54/220 - Train loss: 5.06633\n",
      "Epoch: 18/20 - Batch: 81/220 - Train loss: 5.32877\n",
      "Epoch: 18/20 - Batch: 108/220 - Train loss: 5.51741\n",
      "Epoch: 18/20 - Batch: 135/220 - Train loss: 5.18255\n",
      "Epoch: 18/20 - Batch: 162/220 - Train loss: 5.44793\n",
      "Epoch: 18/20 - Batch: 189/220 - Train loss: 5.33683\n",
      "Epoch: 18/20 - Batch: 216/220 - Train loss: 5.01145\n",
      "\n",
      "Epoch: 18/20 - Average train loss: 5.23363\n",
      "\n",
      "Epoch: 18/20 - Batch: 27/55 - Val loss: 5.33505\n",
      "Epoch: 18/20 - Batch: 54/55 - Val loss: 5.27623\n",
      "\n",
      "Epoch: 18/20 - Average val loss: 5.31565\n",
      "\n",
      "Epoch: 19/20 - Batch: 27/220 - Train loss: 5.08362\n",
      "Epoch: 19/20 - Batch: 54/220 - Train loss: 4.99855\n",
      "Epoch: 19/20 - Batch: 81/220 - Train loss: 5.27482\n",
      "Epoch: 19/20 - Batch: 108/220 - Train loss: 5.47782\n",
      "Epoch: 19/20 - Batch: 135/220 - Train loss: 5.11537\n",
      "Epoch: 19/20 - Batch: 162/220 - Train loss: 5.40204\n",
      "Epoch: 19/20 - Batch: 189/220 - Train loss: 5.28121\n",
      "Epoch: 19/20 - Batch: 216/220 - Train loss: 4.94702\n",
      "\n",
      "Epoch: 19/20 - Average train loss: 5.17537\n",
      "\n",
      "Epoch: 19/20 - Batch: 27/55 - Val loss: 5.29449\n",
      "Epoch: 19/20 - Batch: 54/55 - Val loss: 5.23417\n",
      "\n",
      "Epoch: 19/20 - Average val loss: 5.27533\n",
      "\n",
      "Epoch: 20/20 - Batch: 27/220 - Train loss: 5.03199\n",
      "Epoch: 20/20 - Batch: 54/220 - Train loss: 4.93168\n",
      "Epoch: 20/20 - Batch: 81/220 - Train loss: 5.22022\n",
      "Epoch: 20/20 - Batch: 108/220 - Train loss: 5.41601\n",
      "Epoch: 20/20 - Batch: 135/220 - Train loss: 5.07687\n",
      "Epoch: 20/20 - Batch: 162/220 - Train loss: 5.34606\n",
      "Epoch: 20/20 - Batch: 189/220 - Train loss: 5.23285\n",
      "Epoch: 20/20 - Batch: 216/220 - Train loss: 4.89395\n",
      "\n",
      "Epoch: 20/20 - Average train loss: 5.12179\n",
      "\n",
      "Epoch: 20/20 - Batch: 27/55 - Val loss: 5.26428\n",
      "Epoch: 20/20 - Batch: 54/55 - Val loss: 5.19733\n",
      "\n",
      "Epoch: 20/20 - Average val loss: 5.24062\n",
      "\n"
     ]
    }
   ],
   "source": [
    "train_loss, val_loss = train(cond_lstm, batch_size=batch_size, epochs=20, print_every=27)"
   ]
  },
  {
   "cell_type": "code",
   "execution_count": 52,
   "id": "331c2da1-1270-4c3f-b46f-c170a4f06c67",
   "metadata": {
    "collapsed": true,
    "jupyter": {
     "outputs_hidden": true
    },
    "tags": []
   },
   "outputs": [
    {
     "name": "stdout",
     "output_type": "stream",
     "text": [
      "Epoch: 1/20 - Batch: 27/220 - Train loss: 6.94467\n",
      "Epoch: 1/20 - Batch: 54/220 - Train loss: 6.89420\n",
      "Epoch: 1/20 - Batch: 81/220 - Train loss: 6.97950\n",
      "Epoch: 1/20 - Batch: 108/220 - Train loss: 7.03187\n",
      "Epoch: 1/20 - Batch: 135/220 - Train loss: 6.90102\n",
      "Epoch: 1/20 - Batch: 162/220 - Train loss: 6.92901\n",
      "Epoch: 1/20 - Batch: 189/220 - Train loss: 7.00218\n",
      "Epoch: 1/20 - Batch: 216/220 - Train loss: 7.10326\n",
      "\n",
      "Epoch: 1/20 - Average train loss: 7.15523\n",
      "\n",
      "Epoch: 1/20 - Batch: 27/55 - Val loss: 7.00852\n",
      "Epoch: 1/20 - Batch: 54/55 - Val loss: 6.89758\n",
      "\n",
      "Epoch: 1/20 - Average val loss: 6.99487\n",
      "\n",
      "Epoch: 2/20 - Batch: 27/220 - Train loss: 6.84926\n",
      "Epoch: 2/20 - Batch: 54/220 - Train loss: 6.85337\n",
      "Epoch: 2/20 - Batch: 81/220 - Train loss: 6.95939\n",
      "Epoch: 2/20 - Batch: 108/220 - Train loss: 7.00601\n",
      "Epoch: 2/20 - Batch: 135/220 - Train loss: 6.88898\n",
      "Epoch: 2/20 - Batch: 162/220 - Train loss: 6.91657\n",
      "Epoch: 2/20 - Batch: 189/220 - Train loss: 6.98525\n",
      "Epoch: 2/20 - Batch: 216/220 - Train loss: 7.08495\n",
      "\n",
      "Epoch: 2/20 - Average train loss: 6.97194\n",
      "\n",
      "Epoch: 2/20 - Batch: 27/55 - Val loss: 7.01796\n",
      "Epoch: 2/20 - Batch: 54/55 - Val loss: 6.90504\n",
      "\n",
      "Epoch: 2/20 - Average val loss: 7.00469\n",
      "\n",
      "Epoch: 3/20 - Batch: 27/220 - Train loss: 6.85485\n",
      "Epoch: 3/20 - Batch: 54/220 - Train loss: 6.85565\n",
      "Epoch: 3/20 - Batch: 81/220 - Train loss: 6.96292\n",
      "Epoch: 3/20 - Batch: 108/220 - Train loss: 7.00938\n",
      "Epoch: 3/20 - Batch: 135/220 - Train loss: 6.88952\n",
      "Epoch: 3/20 - Batch: 162/220 - Train loss: 6.92037\n",
      "Epoch: 3/20 - Batch: 189/220 - Train loss: 6.98713\n",
      "Epoch: 3/20 - Batch: 216/220 - Train loss: 7.08046\n",
      "\n",
      "Epoch: 3/20 - Average train loss: 6.97468\n",
      "\n",
      "Epoch: 3/20 - Batch: 27/55 - Val loss: 7.01060\n",
      "Epoch: 3/20 - Batch: 54/55 - Val loss: 6.89723\n",
      "\n",
      "Epoch: 3/20 - Average val loss: 6.99677\n",
      "\n",
      "Epoch: 4/20 - Batch: 27/220 - Train loss: 6.80537\n",
      "Epoch: 4/20 - Batch: 54/220 - Train loss: 6.75442\n",
      "Epoch: 4/20 - Batch: 81/220 - Train loss: 6.82581\n",
      "Epoch: 4/20 - Batch: 108/220 - Train loss: 6.83126\n",
      "Epoch: 4/20 - Batch: 135/220 - Train loss: 6.66101\n",
      "Epoch: 4/20 - Batch: 162/220 - Train loss: 6.67692\n",
      "Epoch: 4/20 - Batch: 189/220 - Train loss: 6.70263\n",
      "Epoch: 4/20 - Batch: 216/220 - Train loss: 6.70915\n",
      "\n",
      "Epoch: 4/20 - Average train loss: 6.79002\n",
      "\n",
      "Epoch: 4/20 - Batch: 27/55 - Val loss: 6.68076\n",
      "Epoch: 4/20 - Batch: 54/55 - Val loss: 6.56268\n",
      "\n",
      "Epoch: 4/20 - Average val loss: 6.66567\n",
      "\n",
      "Epoch: 5/20 - Batch: 27/220 - Train loss: 6.47633\n",
      "Epoch: 5/20 - Batch: 54/220 - Train loss: 6.43594\n",
      "Epoch: 5/20 - Batch: 81/220 - Train loss: 6.51028\n",
      "Epoch: 5/20 - Batch: 108/220 - Train loss: 6.56101\n",
      "Epoch: 5/20 - Batch: 135/220 - Train loss: 6.35229\n",
      "Epoch: 5/20 - Batch: 162/220 - Train loss: 6.40840\n",
      "Epoch: 5/20 - Batch: 189/220 - Train loss: 6.40337\n",
      "Epoch: 5/20 - Batch: 216/220 - Train loss: 6.20952\n",
      "\n",
      "Epoch: 5/20 - Average train loss: 6.45804\n",
      "\n",
      "Epoch: 5/20 - Batch: 27/55 - Val loss: 6.33233\n",
      "Epoch: 5/20 - Batch: 54/55 - Val loss: 6.22627\n",
      "\n",
      "Epoch: 5/20 - Average val loss: 6.31869\n",
      "\n",
      "Epoch: 6/20 - Batch: 27/220 - Train loss: 6.17296\n",
      "Epoch: 6/20 - Batch: 54/220 - Train loss: 6.13783\n",
      "Epoch: 6/20 - Batch: 81/220 - Train loss: 6.20153\n",
      "Epoch: 6/20 - Batch: 108/220 - Train loss: 6.27713\n",
      "Epoch: 6/20 - Batch: 135/220 - Train loss: 6.02165\n",
      "Epoch: 6/20 - Batch: 162/220 - Train loss: 6.12327\n",
      "Epoch: 6/20 - Batch: 189/220 - Train loss: 6.11777\n",
      "Epoch: 6/20 - Batch: 216/220 - Train loss: 5.84795\n",
      "\n",
      "Epoch: 6/20 - Average train loss: 6.12656\n",
      "\n",
      "Epoch: 6/20 - Batch: 27/55 - Val loss: 6.02175\n",
      "Epoch: 6/20 - Batch: 54/55 - Val loss: 5.92366\n",
      "\n",
      "Epoch: 6/20 - Average val loss: 6.01562\n",
      "\n",
      "Epoch: 7/20 - Batch: 27/220 - Train loss: 5.88047\n",
      "Epoch: 7/20 - Batch: 54/220 - Train loss: 5.84162\n",
      "Epoch: 7/20 - Batch: 81/220 - Train loss: 5.90543\n",
      "Epoch: 7/20 - Batch: 108/220 - Train loss: 6.03078\n",
      "Epoch: 7/20 - Batch: 135/220 - Train loss: 5.74907\n",
      "Epoch: 7/20 - Batch: 162/220 - Train loss: 5.91132\n",
      "Epoch: 7/20 - Batch: 189/220 - Train loss: 5.90592\n",
      "Epoch: 7/20 - Batch: 216/220 - Train loss: 5.61986\n",
      "\n",
      "Epoch: 7/20 - Average train loss: 5.85311\n",
      "\n",
      "Epoch: 7/20 - Batch: 27/55 - Val loss: 5.81385\n",
      "Epoch: 7/20 - Batch: 54/55 - Val loss: 5.71291\n",
      "\n",
      "Epoch: 7/20 - Average val loss: 5.81305\n",
      "\n",
      "Epoch: 8/20 - Batch: 27/220 - Train loss: 5.67253\n",
      "Epoch: 8/20 - Batch: 54/220 - Train loss: 5.64975\n",
      "Epoch: 8/20 - Batch: 81/220 - Train loss: 5.71101\n",
      "Epoch: 8/20 - Batch: 108/220 - Train loss: 5.88112\n",
      "Epoch: 8/20 - Batch: 135/220 - Train loss: 5.55971\n",
      "Epoch: 8/20 - Batch: 162/220 - Train loss: 5.76410\n",
      "Epoch: 8/20 - Batch: 189/220 - Train loss: 5.75344\n",
      "Epoch: 8/20 - Batch: 216/220 - Train loss: 5.44817\n",
      "\n",
      "Epoch: 8/20 - Average train loss: 5.66614\n",
      "\n",
      "Epoch: 8/20 - Batch: 27/55 - Val loss: 5.66842\n",
      "Epoch: 8/20 - Batch: 54/55 - Val loss: 5.56914\n",
      "\n",
      "Epoch: 8/20 - Average val loss: 5.67149\n",
      "\n",
      "Epoch: 9/20 - Batch: 27/220 - Train loss: 5.52769\n",
      "Epoch: 9/20 - Batch: 54/220 - Train loss: 5.51219\n",
      "Epoch: 9/20 - Batch: 81/220 - Train loss: 5.56784\n",
      "Epoch: 9/20 - Batch: 108/220 - Train loss: 5.75778\n",
      "Epoch: 9/20 - Batch: 135/220 - Train loss: 5.42075\n",
      "Epoch: 9/20 - Batch: 162/220 - Train loss: 5.65939\n",
      "Epoch: 9/20 - Batch: 189/220 - Train loss: 5.64176\n",
      "Epoch: 9/20 - Batch: 216/220 - Train loss: 5.31608\n",
      "\n",
      "Epoch: 9/20 - Average train loss: 5.52686\n",
      "\n",
      "Epoch: 9/20 - Batch: 27/55 - Val loss: 5.56459\n",
      "Epoch: 9/20 - Batch: 54/55 - Val loss: 5.46413\n",
      "\n",
      "Epoch: 9/20 - Average val loss: 5.56864\n",
      "\n",
      "Epoch: 10/20 - Batch: 27/220 - Train loss: 5.41093\n",
      "Epoch: 10/20 - Batch: 54/220 - Train loss: 5.38941\n",
      "Epoch: 10/20 - Batch: 81/220 - Train loss: 5.46140\n",
      "Epoch: 10/20 - Batch: 108/220 - Train loss: 5.65598\n",
      "Epoch: 10/20 - Batch: 135/220 - Train loss: 5.31206\n",
      "Epoch: 10/20 - Batch: 162/220 - Train loss: 5.56745\n",
      "Epoch: 10/20 - Batch: 189/220 - Train loss: 5.54431\n",
      "Epoch: 10/20 - Batch: 216/220 - Train loss: 5.20039\n",
      "\n",
      "Epoch: 10/20 - Average train loss: 5.41370\n",
      "\n",
      "Epoch: 10/20 - Batch: 27/55 - Val loss: 5.48523\n",
      "Epoch: 10/20 - Batch: 54/55 - Val loss: 5.38089\n",
      "\n",
      "Epoch: 10/20 - Average val loss: 5.48680\n",
      "\n",
      "Epoch: 11/20 - Batch: 27/220 - Train loss: 5.30520\n",
      "Epoch: 11/20 - Batch: 54/220 - Train loss: 5.28363\n",
      "Epoch: 11/20 - Batch: 81/220 - Train loss: 5.36771\n",
      "Epoch: 11/20 - Batch: 108/220 - Train loss: 5.56483\n",
      "Epoch: 11/20 - Batch: 135/220 - Train loss: 5.21004\n",
      "Epoch: 11/20 - Batch: 162/220 - Train loss: 5.48022\n",
      "Epoch: 11/20 - Batch: 189/220 - Train loss: 5.45599\n",
      "Epoch: 11/20 - Batch: 216/220 - Train loss: 5.10297\n",
      "\n",
      "Epoch: 11/20 - Average train loss: 5.31254\n",
      "\n",
      "Epoch: 11/20 - Batch: 27/55 - Val loss: 5.40906\n",
      "Epoch: 11/20 - Batch: 54/55 - Val loss: 5.29736\n",
      "\n",
      "Epoch: 11/20 - Average val loss: 5.40741\n",
      "\n",
      "Epoch: 12/20 - Batch: 27/220 - Train loss: 5.20931\n",
      "Epoch: 12/20 - Batch: 54/220 - Train loss: 5.18968\n",
      "Epoch: 12/20 - Batch: 81/220 - Train loss: 5.28156\n",
      "Epoch: 12/20 - Batch: 108/220 - Train loss: 5.48537\n",
      "Epoch: 12/20 - Batch: 135/220 - Train loss: 5.11947\n",
      "Epoch: 12/20 - Batch: 162/220 - Train loss: 5.40094\n",
      "Epoch: 12/20 - Batch: 189/220 - Train loss: 5.38004\n",
      "Epoch: 12/20 - Batch: 216/220 - Train loss: 5.00827\n",
      "\n",
      "Epoch: 12/20 - Average train loss: 5.22055\n",
      "\n",
      "Epoch: 12/20 - Batch: 27/55 - Val loss: 5.34076\n",
      "Epoch: 12/20 - Batch: 54/55 - Val loss: 5.22556\n",
      "\n",
      "Epoch: 12/20 - Average val loss: 5.33739\n",
      "\n",
      "Epoch: 13/20 - Batch: 27/220 - Train loss: 5.12338\n",
      "Epoch: 13/20 - Batch: 54/220 - Train loss: 5.11042\n",
      "Epoch: 13/20 - Batch: 81/220 - Train loss: 5.20050\n",
      "Epoch: 13/20 - Batch: 108/220 - Train loss: 5.40584\n",
      "Epoch: 13/20 - Batch: 135/220 - Train loss: 5.04033\n",
      "Epoch: 13/20 - Batch: 162/220 - Train loss: 5.32976\n",
      "Epoch: 13/20 - Batch: 189/220 - Train loss: 5.30863\n",
      "Epoch: 13/20 - Batch: 216/220 - Train loss: 4.92638\n",
      "\n",
      "Epoch: 13/20 - Average train loss: 5.13714\n",
      "\n",
      "Epoch: 13/20 - Batch: 27/55 - Val loss: 5.28261\n",
      "Epoch: 13/20 - Batch: 54/55 - Val loss: 5.16231\n",
      "\n",
      "Epoch: 13/20 - Average val loss: 5.27703\n",
      "\n",
      "Epoch: 14/20 - Batch: 27/220 - Train loss: 5.05279\n",
      "Epoch: 14/20 - Batch: 54/220 - Train loss: 5.03926\n",
      "Epoch: 14/20 - Batch: 81/220 - Train loss: 5.13164\n",
      "Epoch: 14/20 - Batch: 108/220 - Train loss: 5.33732\n",
      "Epoch: 14/20 - Batch: 135/220 - Train loss: 4.97400\n",
      "Epoch: 14/20 - Batch: 162/220 - Train loss: 5.26594\n",
      "Epoch: 14/20 - Batch: 189/220 - Train loss: 5.24254\n",
      "Epoch: 14/20 - Batch: 216/220 - Train loss: 4.85629\n",
      "\n",
      "Epoch: 14/20 - Average train loss: 5.06618\n",
      "\n",
      "Epoch: 14/20 - Batch: 27/55 - Val loss: 5.23752\n",
      "Epoch: 14/20 - Batch: 54/55 - Val loss: 5.11154\n",
      "\n",
      "Epoch: 14/20 - Average val loss: 5.22802\n",
      "\n",
      "Epoch: 15/20 - Batch: 27/220 - Train loss: 4.98711\n",
      "Epoch: 15/20 - Batch: 54/220 - Train loss: 4.97509\n",
      "Epoch: 15/20 - Batch: 81/220 - Train loss: 5.06980\n",
      "Epoch: 15/20 - Batch: 108/220 - Train loss: 5.27000\n",
      "Epoch: 15/20 - Batch: 135/220 - Train loss: 4.90966\n",
      "Epoch: 15/20 - Batch: 162/220 - Train loss: 5.20715\n",
      "Epoch: 15/20 - Batch: 189/220 - Train loss: 5.18862\n",
      "Epoch: 15/20 - Batch: 216/220 - Train loss: 4.79945\n",
      "\n",
      "Epoch: 15/20 - Average train loss: 5.00127\n",
      "\n",
      "Epoch: 15/20 - Batch: 27/55 - Val loss: 5.20585\n",
      "Epoch: 15/20 - Batch: 54/55 - Val loss: 5.07259\n",
      "\n",
      "Epoch: 15/20 - Average val loss: 5.19247\n",
      "\n",
      "Epoch: 16/20 - Batch: 27/220 - Train loss: 4.93343\n",
      "Epoch: 16/20 - Batch: 54/220 - Train loss: 4.91665\n",
      "Epoch: 16/20 - Batch: 81/220 - Train loss: 5.01549\n",
      "Epoch: 16/20 - Batch: 108/220 - Train loss: 5.21161\n",
      "Epoch: 16/20 - Batch: 135/220 - Train loss: 4.85099\n",
      "Epoch: 16/20 - Batch: 162/220 - Train loss: 5.15050\n",
      "Epoch: 16/20 - Batch: 189/220 - Train loss: 5.13887\n",
      "Epoch: 16/20 - Batch: 216/220 - Train loss: 4.73391\n",
      "\n",
      "Epoch: 16/20 - Average train loss: 4.94293\n",
      "\n",
      "Epoch: 16/20 - Batch: 27/55 - Val loss: 5.16883\n",
      "Epoch: 16/20 - Batch: 54/55 - Val loss: 5.03066\n",
      "\n",
      "Epoch: 16/20 - Average val loss: 5.15181\n",
      "\n",
      "Epoch: 17/20 - Batch: 27/220 - Train loss: 4.88210\n",
      "Epoch: 17/20 - Batch: 54/220 - Train loss: 4.86527\n",
      "Epoch: 17/20 - Batch: 81/220 - Train loss: 4.96610\n",
      "Epoch: 17/20 - Batch: 108/220 - Train loss: 5.15559\n",
      "Epoch: 17/20 - Batch: 135/220 - Train loss: 4.79911\n",
      "Epoch: 17/20 - Batch: 162/220 - Train loss: 5.10085\n",
      "Epoch: 17/20 - Batch: 189/220 - Train loss: 5.09233\n",
      "Epoch: 17/20 - Batch: 216/220 - Train loss: 4.68000\n",
      "\n",
      "Epoch: 17/20 - Average train loss: 4.88909\n",
      "\n",
      "Epoch: 17/20 - Batch: 27/55 - Val loss: 5.14199\n",
      "Epoch: 17/20 - Batch: 54/55 - Val loss: 4.99914\n",
      "\n",
      "Epoch: 17/20 - Average val loss: 5.12229\n",
      "\n",
      "Epoch: 18/20 - Batch: 27/220 - Train loss: 4.83650\n",
      "Epoch: 18/20 - Batch: 54/220 - Train loss: 4.82300\n",
      "Epoch: 18/20 - Batch: 81/220 - Train loss: 4.92071\n",
      "Epoch: 18/20 - Batch: 108/220 - Train loss: 5.10626\n",
      "Epoch: 18/20 - Batch: 135/220 - Train loss: 4.75432\n",
      "Epoch: 18/20 - Batch: 162/220 - Train loss: 5.05436\n",
      "Epoch: 18/20 - Batch: 189/220 - Train loss: 5.04850\n",
      "Epoch: 18/20 - Batch: 216/220 - Train loss: 4.62686\n",
      "\n",
      "Epoch: 18/20 - Average train loss: 4.84195\n",
      "\n",
      "Epoch: 18/20 - Batch: 27/55 - Val loss: 5.12486\n",
      "Epoch: 18/20 - Batch: 54/55 - Val loss: 4.97618\n",
      "\n",
      "Epoch: 18/20 - Average val loss: 5.10114\n",
      "\n",
      "Epoch: 19/20 - Batch: 27/220 - Train loss: 4.79421\n",
      "Epoch: 19/20 - Batch: 54/220 - Train loss: 4.78636\n",
      "Epoch: 19/20 - Batch: 81/220 - Train loss: 4.87916\n",
      "Epoch: 19/20 - Batch: 108/220 - Train loss: 5.05542\n",
      "Epoch: 19/20 - Batch: 135/220 - Train loss: 4.71352\n",
      "Epoch: 19/20 - Batch: 162/220 - Train loss: 5.00700\n",
      "Epoch: 19/20 - Batch: 189/220 - Train loss: 5.01170\n",
      "Epoch: 19/20 - Batch: 216/220 - Train loss: 4.58392\n",
      "\n",
      "Epoch: 19/20 - Average train loss: 4.79775\n",
      "\n",
      "Epoch: 19/20 - Batch: 27/55 - Val loss: 5.11101\n",
      "Epoch: 19/20 - Batch: 54/55 - Val loss: 4.95930\n",
      "\n",
      "Epoch: 19/20 - Average val loss: 5.08600\n",
      "\n",
      "Epoch: 20/20 - Batch: 27/220 - Train loss: 4.75777\n",
      "Epoch: 20/20 - Batch: 54/220 - Train loss: 4.74485\n",
      "Epoch: 20/20 - Batch: 81/220 - Train loss: 4.84391\n",
      "Epoch: 20/20 - Batch: 108/220 - Train loss: 5.02235\n",
      "Epoch: 20/20 - Batch: 135/220 - Train loss: 4.69375\n",
      "Epoch: 20/20 - Batch: 162/220 - Train loss: 4.96803\n",
      "Epoch: 20/20 - Batch: 189/220 - Train loss: 4.97388\n",
      "Epoch: 20/20 - Batch: 216/220 - Train loss: 4.54326\n",
      "\n",
      "Epoch: 20/20 - Average train loss: 4.76042\n",
      "\n",
      "Epoch: 20/20 - Batch: 27/55 - Val loss: 5.09239\n",
      "Epoch: 20/20 - Batch: 54/55 - Val loss: 4.93841\n",
      "\n",
      "Epoch: 20/20 - Average val loss: 5.06577\n",
      "\n"
     ]
    }
   ],
   "source": [
    "train_loss_w2v, val_loss_w2v = train(cond_lstm_w2v, batch_size=batch_size, epochs=20, print_every=27)"
   ]
  },
  {
   "cell_type": "markdown",
   "id": "ba89627b-3be6-44f7-9fda-4fdf55d6c71f",
   "metadata": {
    "tags": []
   },
   "source": [
    "### Saving / Loading"
   ]
  },
  {
   "cell_type": "code",
   "execution_count": 56,
   "id": "e4453c45-a930-4d8b-bc28-4fd11a4cd468",
   "metadata": {},
   "outputs": [],
   "source": [
    "weights_path = 'weights/cond_lstm_w2v.pt'"
   ]
  },
  {
   "cell_type": "code",
   "execution_count": 57,
   "id": "8800402e-da35-4466-9735-896cf7640a50",
   "metadata": {},
   "outputs": [],
   "source": [
    "torch.save(cond_lstm_w2v.state_dict(), weights_path)"
   ]
  },
  {
   "cell_type": "code",
   "execution_count": 58,
   "id": "fc5115f3-1009-448a-9560-4200dc90928f",
   "metadata": {},
   "outputs": [
    {
     "data": {
      "text/plain": [
       "<All keys matched successfully>"
      ]
     },
     "execution_count": 58,
     "metadata": {},
     "output_type": "execute_result"
    }
   ],
   "source": [
    "cond_lstm_w2v.load_state_dict(torch.load(weights_path))"
   ]
  },
  {
   "cell_type": "markdown",
   "id": "4cdbbe97-0834-42a8-bb3a-e8a7e07c1458",
   "metadata": {},
   "source": [
    "### Graphs"
   ]
  },
  {
   "cell_type": "code",
   "execution_count": 164,
   "id": "b6d099f8-fcdf-4e86-abe7-74943f63bc88",
   "metadata": {
    "collapsed": true,
    "jupyter": {
     "outputs_hidden": true
    },
    "tags": []
   },
   "outputs": [
    {
     "data": {
      "text/plain": [
       "([7.192744077335704,\n",
       "  7.001464646512812,\n",
       "  6.993771587718617,\n",
       "  6.988789254968816,\n",
       "  6.982287261702798,\n",
       "  6.963468779217113,\n",
       "  6.74697754166343,\n",
       "  6.5195257143540815,\n",
       "  6.2542088010094385,\n",
       "  6.047751118920067,\n",
       "  5.878048027645458,\n",
       "  5.74076516194777,\n",
       "  5.626420890201222,\n",
       "  5.5276961066506125,\n",
       "  5.442306908694181,\n",
       "  5.366653793508356,\n",
       "  5.297639699415727,\n",
       "  5.233629018610174,\n",
       "  5.1753698674115265,\n",
       "  5.12178896557201],\n",
       " [6.98778190612793,\n",
       "  6.992512113397772,\n",
       "  6.996249493685636,\n",
       "  6.9962212909351695,\n",
       "  6.996997313065962,\n",
       "  6.875098583915017,\n",
       "  6.638282316381281,\n",
       "  6.360084577040239,\n",
       "  6.130921606584029,\n",
       "  5.951080721074884,\n",
       "  5.810819591175426,\n",
       "  5.697640670429577,\n",
       "  5.605538593639027,\n",
       "  5.530676009438254,\n",
       "  5.471121640638872,\n",
       "  5.4142057852311565,\n",
       "  5.364971108870073,\n",
       "  5.315647749467329,\n",
       "  5.275325454365124,\n",
       "  5.240615584633567])"
      ]
     },
     "execution_count": 164,
     "metadata": {},
     "output_type": "execute_result"
    }
   ],
   "source": [
    "train_loss, val_loss "
   ]
  },
  {
   "cell_type": "code",
   "execution_count": 165,
   "id": "54c51e5c-2b74-4cf5-8c2e-eb9dd801bb6b",
   "metadata": {
    "collapsed": true,
    "jupyter": {
     "outputs_hidden": true
    },
    "tags": []
   },
   "outputs": [
    {
     "data": {
      "text/plain": [
       "([7.155226031216708,\n",
       "  6.9719382589513605,\n",
       "  6.974679099429737,\n",
       "  6.790019997683438,\n",
       "  6.458037547631697,\n",
       "  6.126556474512274,\n",
       "  5.853110153024847,\n",
       "  5.6661373528567225,\n",
       "  5.526860568740151,\n",
       "  5.413695066625421,\n",
       "  5.312535361810164,\n",
       "  5.22055108980699,\n",
       "  5.137143674763766,\n",
       "  5.066176596554842,\n",
       "  5.001273636384444,\n",
       "  4.942927423390475,\n",
       "  4.8890940471128985,\n",
       "  4.8419455116445365,\n",
       "  4.797754567319696,\n",
       "  4.760415124893188],\n",
       " [6.994870706038042,\n",
       "  7.004690699143843,\n",
       "  6.99676533612338,\n",
       "  6.665666103363037,\n",
       "  6.3186883232810285,\n",
       "  6.015620431033048,\n",
       "  5.813047192313454,\n",
       "  5.67148740941828,\n",
       "  5.568636547435414,\n",
       "  5.486801086772572,\n",
       "  5.407413664731112,\n",
       "  5.337385429035534,\n",
       "  5.277027754350142,\n",
       "  5.228021621704102,\n",
       "  5.192472700639205,\n",
       "  5.151810004494407,\n",
       "  5.122291720997204,\n",
       "  5.101137343319979,\n",
       "  5.08600345958363,\n",
       "  5.065771007537842])"
      ]
     },
     "execution_count": 165,
     "metadata": {},
     "output_type": "execute_result"
    }
   ],
   "source": [
    "train_loss_w2v, val_loss_w2v"
   ]
  },
  {
   "cell_type": "markdown",
   "id": "91386743-60e1-496e-b89c-af5e2b8397d3",
   "metadata": {
    "tags": []
   },
   "source": [
    "#### Model losses"
   ]
  },
  {
   "cell_type": "code",
   "execution_count": 201,
   "id": "0d48cb0f-1907-46d8-a5e7-b5d84d143626",
   "metadata": {},
   "outputs": [
    {
     "data": {
      "image/png": "[encoded data removed]",
      "text/plain": [
       "<Figure size 432x288 with 1 Axes>"
      ]
     },
     "metadata": {
      "needs_background": "light"
     },
     "output_type": "display_data"
    }
   ],
   "source": [
    "plt.plot(train_loss)\n",
    "plt.plot(val_loss, 'r')\n",
    "\n",
    "plt.title('Conditioned LSTM Loss')\n",
    "plt.ylabel('Loss')\n",
    "plt.xlabel('Epoch')\n",
    "plt.legend(['Training', 'Validation'], loc='lower left')\n",
    "\n",
    "plt.yticks(range(2,9,1))\n",
    "plt.xticks(range(0,20,2))\n",
    "plt.grid(linestyle='--')\n",
    "\n",
    "plt.savefig('plots/cond_lstm_loss.png')"
   ]
  },
  {
   "cell_type": "code",
   "execution_count": 202,
   "id": "615d1f46-eb0d-4c02-86e2-06cac356d20e",
   "metadata": {},
   "outputs": [
    {
     "data": {
      "image/png": "[encoded data removed]",
      "text/plain": [
       "<Figure size 432x288 with 1 Axes>"
      ]
     },
     "metadata": {
      "needs_background": "light"
     },
     "output_type": "display_data"
    }
   ],
   "source": [
    "plt.plot(train_loss_w2v)\n",
    "plt.plot(val_loss_w2v, 'r')\n",
    "\n",
    "plt.title('Conditioned LSTM + Word2Vec Loss')\n",
    "plt.ylabel('Loss')\n",
    "plt.xlabel('Epoch')\n",
    "plt.legend(['Training', 'Validation'], loc='lower left')\n",
    "\n",
    "plt.yticks(range(2,9,1))\n",
    "plt.xticks(range(0,20,2))\n",
    "plt.grid(linestyle='--')\n",
    "\n",
    "plt.savefig('plots/cond_lstm_w2v_loss.png')"
   ]
  },
  {
   "cell_type": "markdown",
   "id": "28c49c0a-0714-4859-96f7-011e26392d20",
   "metadata": {
    "tags": []
   },
   "source": [
    "## Generation"
   ]
  },
  {
   "cell_type": "code",
   "execution_count": 41,
   "id": "9fec25ee-1384-4327-bf8f-2b574865057a",
   "metadata": {},
   "outputs": [],
   "source": [
    "def word_to_id(word):\n",
    "    return w2v_model.wv.key_to_index[word]\n",
    "\n",
    "def id_to_word(id):\n",
    "    return w2v_model.wv.index_to_key[id]"
   ]
  },
  {
   "cell_type": "code",
   "execution_count": 132,
   "id": "1542bc82-cb1a-4ddc-af39-be52eb00bf72",
   "metadata": {},
   "outputs": [],
   "source": [
    "# predict next token using top k sampling\n",
    "def predict(model, top_k, t, h=None): # default value as None for first iteration\n",
    "         \n",
    "    # tensor inputs\n",
    "    x = np.array([[word_to_id(t)]])\n",
    "    inputs = torch.from_numpy(x)\n",
    "\n",
    "    # detach hidden state from history\n",
    "    h = tuple([each.data for each in h])\n",
    "\n",
    "    # get the output of the model\n",
    "    out, h = model(inputs, h)\n",
    "\n",
    "    # get the token probabilities\n",
    "    p = F.softmax(out, dim=1).data\n",
    "    \n",
    "    p = p.numpy()\n",
    "    p = p.reshape(p.shape[1],)\n",
    "\n",
    "    # get indices of top n values\n",
    "    top_ids = p.argsort()[-top_k:][::-1]\n",
    "\n",
    "    # sample id of next word from top n values\n",
    "    next_id = top_ids[random.sample(range(top_k),1)[0]]\n",
    "\n",
    "    # return the value of the predicted word and the hidden state\n",
    "    return id_to_word(next_id), h"
   ]
  },
  {
   "cell_type": "code",
   "execution_count": 133,
   "id": "6d200b9a-586c-46af-89f6-2e2f05839baa",
   "metadata": {},
   "outputs": [],
   "source": [
    "gen_batch_size = 1"
   ]
  },
  {
   "cell_type": "code",
   "execution_count": 134,
   "id": "2cdc8a3c-73b7-4139-8c51-38f9fecf82cd",
   "metadata": {},
   "outputs": [],
   "source": [
    "# PCA for generation batch size\n",
    "gen_pca_topics = PCA(n_components=n_layers * gen_batch_size, svd_solver='full').fit_transform(trans_topics)\n",
    "gen_pca_trans = np.transpose(gen_pca_topics)"
   ]
  },
  {
   "cell_type": "code",
   "execution_count": 169,
   "id": "913b9806-ea23-469f-89a6-0d7ff46a33ec",
   "metadata": {},
   "outputs": [],
   "source": [
    "# function to generate text\n",
    "def generate(model=cond_lstm, prompt='in this paper', n=10, top_k=10):\n",
    "    \n",
    "    model.eval()\n",
    "    \n",
    "    h = (torch.FloatTensor(gen_pca_trans.reshape(n_layers, gen_batch_size, n_hidden)),\n",
    "         torch.zeros(n_layers, gen_batch_size, n_hidden))\n",
    "\n",
    "    words = prompt.split()\n",
    "\n",
    "    for t in prompt.split():\n",
    "        token, h = predict(model, top_k, t, h)\n",
    "    \n",
    "    words.append(token)\n",
    "\n",
    "    # predict subsequent token\n",
    "    for i in range(n-1):\n",
    "        token, h = predict(model, top_k, words[-1], h)\n",
    "        words.append(token)\n",
    "\n",
    "    return ' '.join(words)"
   ]
  },
  {
   "cell_type": "code",
   "execution_count": 53,
   "id": "adab21b4-3b4c-42bb-be3c-a66726aaaafe",
   "metadata": {},
   "outputs": [
    {
     "data": {
      "text/plain": [
       "'in this paper presents it is a large number for the corpus and the first annotated corpus our corpus includes to build and'"
      ]
     },
     "execution_count": 53,
     "metadata": {},
     "output_type": "execute_result"
    }
   ],
   "source": [
    "generate(model=cond_lstm_w2v, n=20)"
   ]
  },
  {
   "cell_type": "code",
   "execution_count": 55,
   "id": "be8a26be-7a2e-4e3c-be86-fff764e819fd",
   "metadata": {},
   "outputs": [
    {
     "data": {
      "text/plain": [
       "'here we propose a better approach to identify relevant information with high resource text generation we present this approach based on two tasks that do the system used at each time step for training for each task this is a simple solution and provides an overview is available for english in the english chinese hindi chinese text'"
      ]
     },
     "execution_count": 55,
     "metadata": {},
     "output_type": "execute_result"
    }
   ],
   "source": [
    "generate(model=cond_lstm_w2v, n=50, prompt='here we propose a better approach to')"
   ]
  },
  {
   "cell_type": "code",
   "execution_count": 74,
   "id": "d63faca4-ea0b-4ba4-b0d6-9a910fb7facb",
   "metadata": {},
   "outputs": [
    {
     "data": {
      "text/plain": [
       "'even though our approach is giving good results we use an attention approach for training the model with a large margin which can also effectively exploit new data in which training and evaluation systems are based on simple models trained at different domains this paper proposes to evaluate several neural neural approaches that require large amounts corpus as well as it will lead the need towards many research purposes to address these limitations for different language generation datasets and is often used in various datasets and the performance that in order of their data will serve this paper will provide valuable research annotation resources in nlp we describe our'"
      ]
     },
     "execution_count": 74,
     "metadata": {},
     "output_type": "execute_result"
    }
   ],
   "source": [
    "generate(model=cond_lstm_w2v, n=100, prompt='even though our approach is giving good results we')"
   ]
  },
  {
   "cell_type": "code",
   "execution_count": 83,
   "id": "d2ecbe7d-80f3-4b16-9838-08e0574e1c4d",
   "metadata": {},
   "outputs": [
    {
     "data": {
      "text/plain": [
       "'even though our approach is giving satisfactory results it could be improved by using both the training time of text specific and a new data based evaluation study that can provide high correlation for out of source data and other language models in order in terms for low language pairs and are used to be made available we describe some challenges on this domain to facilitate the evaluation the paper analysis on a wide number to study and compare them as features for the annotation process the dataset was created at different languages'"
      ]
     },
     "execution_count": 83,
     "metadata": {},
     "output_type": "execute_result"
    }
   ],
   "source": [
    "generate(model=cond_lstm_w2v, n=80, prompt='even though our approach is giving satisfactory results it could be improved by')"
   ]
  },
  {
   "cell_type": "code",
   "execution_count": 90,
   "id": "073d50ba-4166-4543-9009-59588b57b630",
   "metadata": {},
   "outputs": [
    {
     "data": {
      "text/plain": [
       "'in summary the present study demonstrated that by using an attention architecture that enables an efficient training strategy in a supervised model to produce multiple training sets for both different word types and words from different words the proposed system consists the proposed system which uses a model which can capture and learn knowledge for each document'"
      ]
     },
     "execution_count": 90,
     "metadata": {},
     "output_type": "execute_result"
    }
   ],
   "source": [
    "generate(model=cond_lstm_w2v, n=50, prompt='in summary the present study demonstrated that')"
   ]
  },
  {
   "cell_type": "code",
   "execution_count": 140,
   "id": "e6cdec93-f9be-43e8-8453-49c5e85ee2f2",
   "metadata": {
    "tags": []
   },
   "outputs": [
    {
     "data": {
      "text/plain": [
       "'in this paper we present a novel approach that incorporates multi sentence relation based on an input tree and an attention mechanism for automatically linking this problem the model predicts two semantic structures to the source word and propose two types and propose to evaluate different strategies for a language based approach and that our algorithm can generate'"
      ]
     },
     "execution_count": 140,
     "metadata": {},
     "output_type": "execute_result"
    }
   ],
   "source": [
    "generate(model=cond_lstm_w2v, n=50, prompt='in this paper we present a novel approach')"
   ]
  },
  {
   "cell_type": "code",
   "execution_count": 166,
   "id": "c719f92b-9460-40a6-a65e-c0394202eed7",
   "metadata": {
    "tags": []
   },
   "outputs": [
    {
     "data": {
      "text/plain": [
       "'in this paper we present a novel approach for the first step of the task of identifying the sentiment and semantic relations of a sentence and a given sentence in the same sentence we present an ensemble method that uses the word level and the word embeddings and the word level and a set and then used the'"
      ]
     },
     "execution_count": 166,
     "metadata": {},
     "output_type": "execute_result"
    }
   ],
   "source": [
    "generate(model=cond_lstm_w2v, n=50, prompt='in this paper we present a novel approach', top_k=2)"
   ]
  },
  {
   "cell_type": "code",
   "execution_count": 190,
   "id": "e0bb15ff-befc-40fb-95ba-33d33e199d29",
   "metadata": {},
   "outputs": [
    {
     "data": {
      "text/plain": [
       "'we present three experiments that use the word and cross sentence level analysis we introduce three models of syntactic relations from wikipedia to annotate tweets in english we have created an effective system that combines the word embedding space in this model to generate new word sentences we also present state for'"
      ]
     },
     "execution_count": 190,
     "metadata": {},
     "output_type": "execute_result"
    }
   ],
   "source": [
    "generate(model=cond_lstm_w2v, n=50, prompt='we present', top_k=10)"
   ]
  },
  {
   "cell_type": "markdown",
   "id": "65fdc3ce-eab1-456c-bdea-bc9c0fd56dc9",
   "metadata": {
    "tags": []
   },
   "source": [
    "## Evaluation"
   ]
  },
  {
   "cell_type": "code",
   "execution_count": 191,
   "id": "78c1fb7f-38c5-4b5d-b974-884aba2e49e6",
   "metadata": {
    "tags": []
   },
   "outputs": [],
   "source": [
    "name = {cond_lstm: 'Conditioned LSTM', cond_lstm_w2v: 'Conditioned LSTM + Word2Vec'}\n",
    "loss = {cond_lstm: val_loss, cond_lstm_w2v: val_loss_w2v}"
   ]
  },
  {
   "cell_type": "markdown",
   "id": "b1c8013e-ea4c-4250-9b51-5bbc19f7a3f8",
   "metadata": {
    "tags": []
   },
   "source": [
    "### Quantitative"
   ]
  },
  {
   "cell_type": "code",
   "execution_count": 192,
   "id": "36ea3e07-fa5c-48b8-9950-0299976cedec",
   "metadata": {},
   "outputs": [],
   "source": [
    "# get minimimum validation loss within a set num of epochs\n",
    "def min_val_loss(model, max_epochs=100):\n",
    "    return min(loss[model][:max_epochs])"
   ]
  },
  {
   "cell_type": "code",
   "execution_count": 193,
   "id": "215f2919-77c9-487f-acb4-2bca4b25fa40",
   "metadata": {},
   "outputs": [
    {
     "name": "stdout",
     "output_type": "stream",
     "text": [
      "Minimum validation loss for Conditioned LSTM: 5.24062\n",
      "Perplexity for model Conditioned LSTM: 188.79\n",
      "\n",
      "Minimum validation loss for Conditioned LSTM + Word2Vec: 5.06577\n",
      "Perplexity for model Conditioned LSTM + Word2Vec: 158.50\n",
      "\n"
     ]
    }
   ],
   "source": [
    "for m in name.keys():\n",
    "    print(\"Minimum validation loss for {}: {:.5f}\".format(name[m], min_val_loss(m, 50)))\n",
    "    print(\"Perplexity for model {}: {:.2f}\\n\".format(name[m], math.exp(min_val_loss(m, 50))))"
   ]
  },
  {
   "cell_type": "markdown",
   "id": "0fc14719-f50a-458f-ad9e-6c15de0fee50",
   "metadata": {
    "tags": []
   },
   "source": [
    "### Qualitative"
   ]
  },
  {
   "cell_type": "code",
   "execution_count": 194,
   "id": "101f1ae7-0124-4df1-a862-6f3d7d13534a",
   "metadata": {},
   "outputs": [],
   "source": [
    "models = [cond_lstm, cond_lstm_w2v]\n",
    "prompts = ['a', 'the']\n",
    "n_list = [10, 20]\n",
    "k_list = [5, 10]"
   ]
  },
  {
   "cell_type": "code",
   "execution_count": 195,
   "id": "a317c9df-c32b-42d9-98f4-1fd2fedc937d",
   "metadata": {
    "tags": []
   },
   "outputs": [
    {
     "name": "stdout",
     "output_type": "stream",
     "text": [
      "a novel neural model for training and inference of our system\n",
      "a variety of methods and to improve these approaches in this\n",
      "a number and the annotation process and an evaluation study in this work the first attempt to provide a detailed description\n",
      "a new task to detect a question and their correct information this task has gained considerable performance due at building data\n",
      "the use in our work on our study of the annotation\n",
      "the use the results are presented at different aspects for both\n",
      "the most challenging tasks and a variety for the task of a sentence this approach has shown significant improvements in the\n",
      "the main problem that a word can provide more reliable responses to text based methods this is a case and a\n",
      "a novel model that uses neural machine networks a novel approach\n",
      "a novel framework that uses a simple attention based attention architecture\n",
      "a new system that is used as an annotation system for a given corpus for this shared problem for speech detection\n",
      "a single dataset and that a system learns an external knowledge bases to improve a new step in addition of an\n",
      "the results are also publicly used by english english english and\n",
      "the use in addition it was evaluated in three subtasks b\n",
      "the results and that of these methods were evaluated on the benchmark datasets with a large margin this work introduces two\n",
      "the use task that allows in many cases of automatic machine recognition and language adaptation for this time s knowledge can\n"
     ]
    }
   ],
   "source": [
    "for model in models:\n",
    "    for prompt in prompts:\n",
    "        for n in n_list:\n",
    "            for top_k in k_list:\n",
    "                print(generate(model=model, prompt=prompt, n=n, top_k=top_k))"
   ]
  }
 ],
 "metadata": {
  "kernelspec": {
   "display_name": "Python 3",
   "language": "python",
   "name": "python3"
  },
  "language_info": {
   "codemirror_mode": {
    "name": "ipython",
    "version": 3
   },
   "file_extension": ".py",
   "mimetype": "text/x-python",
   "name": "python",
   "nbconvert_exporter": "python",
   "pygments_lexer": "ipython3",
   "version": "3.6.13"
  }
 },
 "nbformat": 4,
 "nbformat_minor": 5
}
