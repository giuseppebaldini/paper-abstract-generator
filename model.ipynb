{
 "cells": [
  {
   "cell_type": "markdown",
   "id": "0f2731b1-f80b-4587-9834-5f7d3402ee79",
   "metadata": {},
   "source": [
    "# Conditional LSTM"
   ]
  },
  {
   "cell_type": "code",
   "execution_count": 1,
   "id": "6c322678-97e7-44ed-8155-d14cfd47a726",
   "metadata": {},
   "outputs": [
    {
     "name": "stderr",
     "output_type": "stream",
     "text": [
      "D:\\giuse\\Conda\\envs\\thesis\\lib\\site-packages\\gensim\\similarities\\__init__.py:15: UserWarning: The gensim.similarities.levenshtein submodule is disabled, because the optional Levenshtein package <https://pypi.org/project/python-Levenshtein/> is unavailable. Install Levenhstein (e.g. `pip install python-Levenshtein`) to suppress this warning.\n",
      "  warnings.warn(msg)\n"
     ]
    }
   ],
   "source": [
    "import random\n",
    "import itertools\n",
    "\n",
    "import numpy as np\n",
    "\n",
    "import torch\n",
    "from torch import nn\n",
    "import torch.nn.functional as F\n",
    "\n",
    "from sklearn.decomposition import PCA\n",
    "\n",
    "from nltk.tokenize import RegexpTokenizer\n",
    "\n",
    "import gensim\n",
    "from gensim.models import KeyedVectors\n",
    "from gensim.models.lsimodel import LsiModel\n",
    "from gensim.corpora.dictionary import Dictionary"
   ]
  },
  {
   "cell_type": "markdown",
   "id": "5cac9ef4-d424-4830-a904-8ffcbae0c133",
   "metadata": {
    "tags": []
   },
   "source": [
    "## Preprocessing"
   ]
  },
  {
   "cell_type": "code",
   "execution_count": 2,
   "id": "fe343191-55af-48bb-b966-55ad552efcb3",
   "metadata": {},
   "outputs": [],
   "source": [
    "with open('data/tokenized.txt','r') as f:\n",
    "    tokenized = eval(f.read())\n",
    "    \n",
    "with open('data/tokens.txt','r') as f:\n",
    "    tokens = eval(f.read())"
   ]
  },
  {
   "cell_type": "code",
   "execution_count": 3,
   "id": "c5429687-ca25-4206-a822-f7cdc5062eff",
   "metadata": {},
   "outputs": [],
   "source": [
    "abstracts = []\n",
    "\n",
    "for a in tokenized:\n",
    "    joined = ' '.join(a)\n",
    "    abstracts.append(joined)"
   ]
  },
  {
   "cell_type": "code",
   "execution_count": 4,
   "id": "4af0b257-6d6b-4275-9d77-6709061c6360",
   "metadata": {},
   "outputs": [],
   "source": [
    "avg_words = int(len(preprocessing.tokens)/len(abstracts))"
   ]
  },
  {
   "cell_type": "code",
   "execution_count": 186,
   "id": "08e068ac-fa9a-463e-84a8-7b090d0a322e",
   "metadata": {},
   "outputs": [
    {
     "data": {
      "text/plain": [
       "1486"
      ]
     },
     "execution_count": 186,
     "metadata": {},
     "output_type": "execute_result"
    }
   ],
   "source": [
    "seq_len = 100\n",
    "\n",
    "def sequence(l, n):\n",
    "    for i in range(0, len(l), n): \n",
    "        yield l[i:i + n]\n",
    "        \n",
    "seqs = list(sequence(tokens, seq_len))\n",
    "len(seqs)"
   ]
  },
  {
   "cell_type": "code",
   "execution_count": 175,
   "id": "29944832-1ae3-4c01-91df-b71c148a41f5",
   "metadata": {},
   "outputs": [],
   "source": [
    "# create inputs and targets (x and y)\n",
    "x = []\n",
    "y = []\n",
    "\n",
    "for s in seqs:\n",
    "    x.append(\" \".join(s[:-1]))\n",
    "    y.append(\" \".join(s[1:]))"
   ]
  },
  {
   "cell_type": "code",
   "execution_count": 179,
   "id": "255c2ecf-e431-4b42-b6a6-4d7479667147",
   "metadata": {},
   "outputs": [
    {
     "data": {
      "text/plain": [
       "'for humans the main functions of a dictionary is to store information concerning words and to reveal it when needed while readers are interested in the meaning of words writers look for answers concerning usage spelling grammar or word forms lemma we will focus here on this latter task help authors to find the word they are looking for word they may know but whose form is eluding them put differently we try to build a resource helping authors to overcome the tip of the tongue problem tot obviously in order to access a word it must be stored somewhere brain resource yet this is by no means sufficient we will illustrate this here by comparing wordnet wn to an equivalent lexical resource bootstrapped from wikipedia wipi both may contain a given word but ease and success of access may be different depending on other factors like quality of the query proximity type of connections etc next we will show under what conditions wn is suitable for word access and finally we will present a roadmap showing the obstacles to be overcome to build a resource allowing the text producer to find the word s he is looking for'"
      ]
     },
     "execution_count": 179,
     "metadata": {},
     "output_type": "execute_result"
    }
   ],
   "source": [
    "abstracts[-1]"
   ]
  },
  {
   "cell_type": "code",
   "execution_count": 180,
   "id": "c84c307c-b23c-43e5-90f5-b80defc2088e",
   "metadata": {},
   "outputs": [
    {
     "data": {
      "text/plain": [
       "9569"
      ]
     },
     "execution_count": 180,
     "metadata": {},
     "output_type": "execute_result"
    }
   ],
   "source": [
    "len(set(tokens))"
   ]
  },
  {
   "cell_type": "code",
   "execution_count": 148,
   "id": "fe2261ca-1b39-45cb-9c33-db5a846ecbd7",
   "metadata": {},
   "outputs": [
    {
     "data": {
      "text/plain": [
       "(2963, 'signals')"
      ]
     },
     "execution_count": 148,
     "metadata": {},
     "output_type": "execute_result"
    }
   ],
   "source": [
    "# create integer-to-token mapping\n",
    "int2token = {}\n",
    "counter = 0\n",
    "\n",
    "for w in set(\" \".join(abstracts).split()):\n",
    "    int2token[counter] = w\n",
    "    counter += 1\n",
    "\n",
    "# create token-to-integer mapping\n",
    "token2int = {t: a for a, t in int2token.items()}\n",
    "\n",
    "token2int[\"the\"], int2token[42]"
   ]
  },
  {
   "cell_type": "code",
   "execution_count": 149,
   "id": "3519a103-be94-4618-b692-fd37a944ee99",
   "metadata": {},
   "outputs": [
    {
     "data": {
      "text/plain": [
       "9569"
      ]
     },
     "execution_count": 149,
     "metadata": {},
     "output_type": "execute_result"
    }
   ],
   "source": [
    "vocab_size = len(int2token)\n",
    "vocab_size"
   ]
  },
  {
   "cell_type": "code",
   "execution_count": 150,
   "id": "cce3a579-a521-48a5-aba1-8b01e7e1f19a",
   "metadata": {},
   "outputs": [],
   "source": [
    "def get_integer_seq(seq):\n",
    "    return [token2int[w] for w in seq.split()]\n",
    "\n",
    "# convert text sequences to integer sequences\n",
    "x_int_all = [get_integer_seq(i) for i in x]\n",
    "y_int_all = [get_integer_seq(i) for i in y]"
   ]
  },
  {
   "cell_type": "code",
   "execution_count": 151,
   "id": "7b325c81-603e-4424-b0b3-4c571d2b2c57",
   "metadata": {
    "tags": []
   },
   "outputs": [
    {
     "data": {
      "text/plain": [
       "(1486, 1486)"
      ]
     },
     "execution_count": 151,
     "metadata": {},
     "output_type": "execute_result"
    }
   ],
   "source": [
    "len(x_int_all),len(y_int_all)"
   ]
  },
  {
   "cell_type": "code",
   "execution_count": 152,
   "id": "2057e88f-3e11-4c92-a4a7-411ce3f85b33",
   "metadata": {},
   "outputs": [],
   "source": [
    "# delete all sequences not == len_seq\n",
    "\n",
    "x_int = list(filter(lambda x: (len(x) == seq_len-1), x_int_all))\n",
    "y_int = list(filter(lambda y: (len(y) == seq_len-1), y_int_all))"
   ]
  },
  {
   "cell_type": "code",
   "execution_count": 153,
   "id": "73e76882-4f7a-4d84-a9de-9d10e83984e8",
   "metadata": {},
   "outputs": [
    {
     "data": {
      "text/plain": [
       "(1485, 1485)"
      ]
     },
     "execution_count": 153,
     "metadata": {},
     "output_type": "execute_result"
    }
   ],
   "source": [
    "len(x_int),len(y_int)"
   ]
  },
  {
   "cell_type": "code",
   "execution_count": 154,
   "id": "e948cd60-1d6e-41d3-9146-27c717950f45",
   "metadata": {},
   "outputs": [],
   "source": [
    "# convert lists to numpy arrays\n",
    "x_int = np.array(x_int)\n",
    "y_int = np.array(y_int)"
   ]
  },
  {
   "cell_type": "code",
   "execution_count": 155,
   "id": "129df162-b5dd-4fc5-9ffa-63b8765ec982",
   "metadata": {},
   "outputs": [],
   "source": [
    "def get_batches(arr_x, arr_y, batch_size):\n",
    "         \n",
    "    # iterate through the arrays\n",
    "    prv = 0\n",
    "    for n in range(batch_size, arr_x.shape[0], batch_size):\n",
    "        x = arr_x[prv:n]\n",
    "        y = arr_y[prv:n]\n",
    "        prv = n\n",
    "        yield x, y"
   ]
  },
  {
   "cell_type": "markdown",
   "id": "e9823008-e8f0-46e4-a20d-c6a7915b97b3",
   "metadata": {
    "tags": []
   },
   "source": [
    "## Word2Vec embeddings"
   ]
  },
  {
   "cell_type": "code",
   "execution_count": 183,
   "id": "1b3a7c75-ff33-4315-af3c-d1dea6f3559b",
   "metadata": {},
   "outputs": [],
   "source": [
    "# TODO: adjust sentence_len to avg of abstract length\n",
    "sentence_len = 100\n",
    "\n",
    "sent_split = zip(*[iter(tokens)] * sentence_len)\n",
    "sentences = [list(s) for s in sent_split]"
   ]
  },
  {
   "cell_type": "code",
   "execution_count": 187,
   "id": "0fda03c5-a221-4685-9093-aa4695dade79",
   "metadata": {},
   "outputs": [
    {
     "data": {
      "text/plain": [
       "1486"
      ]
     },
     "execution_count": 187,
     "metadata": {},
     "output_type": "execute_result"
    }
   ],
   "source": [
    "len(seqs)"
   ]
  },
  {
   "cell_type": "code",
   "execution_count": 188,
   "id": "047fc657-6568-4780-9e62-1a88cdadde4a",
   "metadata": {},
   "outputs": [],
   "source": [
    "w2v_model = gensim.models.Word2Vec(seqs, vector_size=100, min_count=1, epochs=1)"
   ]
  },
  {
   "cell_type": "code",
   "execution_count": 189,
   "id": "b755d9f8-b239-4ae6-a05e-0484e125cc9c",
   "metadata": {},
   "outputs": [
    {
     "name": "stdout",
     "output_type": "stream",
     "text": [
      "9569 100\n"
     ]
    }
   ],
   "source": [
    "vocab_size, emdedding_size = w2v_model.wv.vectors.shape\n",
    "print(vocab_size,emdedding_size)"
   ]
  },
  {
   "cell_type": "code",
   "execution_count": 190,
   "id": "d6ad5ef3-243d-42b8-858d-aa33b49e441e",
   "metadata": {},
   "outputs": [],
   "source": [
    "w2v_vectors = w2v_model.wv.vectors"
   ]
  },
  {
   "cell_type": "code",
   "execution_count": 191,
   "id": "b5508300-ce48-4a73-9c50-edbb9dd06959",
   "metadata": {},
   "outputs": [
    {
     "data": {
      "text/plain": [
       "(9569, 100)"
      ]
     },
     "execution_count": 191,
     "metadata": {},
     "output_type": "execute_result"
    }
   ],
   "source": [
    "w2v_vectors.shape"
   ]
  },
  {
   "cell_type": "code",
   "execution_count": 192,
   "id": "f3f57a05-44f3-4f17-81db-49792038b2a9",
   "metadata": {},
   "outputs": [],
   "source": [
    "w2v_tensors = torch.FloatTensor(w2v_vectors)"
   ]
  },
  {
   "cell_type": "markdown",
   "id": "8f6afdc0-f0ee-44fc-810a-2eb2f2cd67e0",
   "metadata": {
    "tags": []
   },
   "source": [
    "## Topic Modelling"
   ]
  },
  {
   "cell_type": "markdown",
   "id": "801312e8-aed1-41a9-85cb-9b220b850255",
   "metadata": {},
   "source": [
    "### Corpus"
   ]
  },
  {
   "cell_type": "code",
   "execution_count": 161,
   "id": "74c738d7-37a5-4109-a15b-644e15e3b41e",
   "metadata": {
    "tags": []
   },
   "outputs": [],
   "source": [
    "dct = Dictionary(tokenized)\n",
    "dct.filter_extremes(no_below=5, no_above=0.3)"
   ]
  },
  {
   "cell_type": "code",
   "execution_count": 162,
   "id": "80adadbb-835d-4055-a762-47c687301689",
   "metadata": {},
   "outputs": [
    {
     "data": {
      "text/plain": [
       "2520"
      ]
     },
     "execution_count": 162,
     "metadata": {},
     "output_type": "execute_result"
    }
   ],
   "source": [
    "len(dct)"
   ]
  },
  {
   "cell_type": "code",
   "execution_count": 163,
   "id": "4073c810-0ca7-427f-9688-9962f7fd728b",
   "metadata": {},
   "outputs": [
    {
     "name": "stdout",
     "output_type": "stream",
     "text": [
      "Dictionary(2520 unique tokens: ['across', 'all', 'annotation', 'arabic', 'baselines']...)\n"
     ]
    }
   ],
   "source": [
    "print(dct)"
   ]
  },
  {
   "cell_type": "code",
   "execution_count": 164,
   "id": "3864db32-5e75-4e37-bd9e-dec3019ef8b8",
   "metadata": {},
   "outputs": [],
   "source": [
    "corpus = [dct.doc2bow(a) for a in tokenized]"
   ]
  },
  {
   "cell_type": "markdown",
   "id": "be4c389e-0e7b-4075-a25b-35fd0c3ec7c3",
   "metadata": {},
   "source": [
    "### Latent Semantic Analysis (LSA)"
   ]
  },
  {
   "cell_type": "code",
   "execution_count": 58,
   "id": "6a23f290-e1c1-4802-a2d2-78c99c312940",
   "metadata": {},
   "outputs": [],
   "source": [
    "lsi = LsiModel(corpus, id2word=dct, num_topics=20, decay=0.2)"
   ]
  },
  {
   "cell_type": "code",
   "execution_count": 59,
   "id": "320931a9-1e16-4890-8fbc-dcd1311646c7",
   "metadata": {
    "collapsed": true,
    "jupyter": {
     "outputs_hidden": true
    },
    "tags": []
   },
   "outputs": [
    {
     "data": {
      "text/plain": [
       "[(0,\n",
       "  '0.862*\"e\" + 0.299*\"de\" + 0.155*\"d\" + 0.132*\"la\" + 0.123*\"des\" + 0.122*\"les\" + 0.101*\"l\" + 0.097*\"et\" + 0.088*\"s\" + 0.082*\"le\"'),\n",
       " (1,\n",
       "  '0.218*\"word\" + 0.143*\"using\" + 0.138*\"corpus\" + 0.137*\"it\" + 0.134*\"text\" + 0.132*\"information\" + 0.128*\"translation\" + 0.123*\"neural\" + 0.122*\"or\" + 0.121*\"system\"'),\n",
       " (2,\n",
       "  '-0.761*\"word\" + -0.264*\"embeddings\" + 0.249*\"corpus\" + -0.178*\"words\" + 0.125*\"annotation\" + 0.115*\"system\" + -0.093*\"representations\" + -0.091*\"embedding\" + 0.091*\"translation\" + 0.085*\"text\"'),\n",
       " (3,\n",
       "  '0.619*\"translation\" + 0.287*\"machine\" + -0.248*\"corpus\" + 0.229*\"neural\" + 0.205*\"nmt\" + 0.157*\"system\" + -0.132*\"annotation\" + 0.122*\"english\" + -0.117*\"text\" + 0.099*\"mt\"'),\n",
       " (4,\n",
       "  '0.458*\"corpus\" + 0.302*\"word\" + 0.289*\"translation\" + -0.195*\"neural\" + 0.171*\"languages\" + 0.160*\"annotation\" + -0.153*\"learning\" + 0.152*\"english\" + -0.129*\"state\" + -0.123*\"network\"'),\n",
       " (5,\n",
       "  '-0.537*\"sentiment\" + 0.301*\"corpus\" + -0.269*\"analysis\" + 0.228*\"semantic\" + -0.140*\"text\" + -0.137*\"or\" + -0.134*\"translation\" + 0.122*\"system\" + -0.108*\"will\" + 0.106*\"relation\"'),\n",
       " (6,\n",
       "  '0.418*\"corpus\" + -0.406*\"semantic\" + 0.233*\"sentiment\" + 0.203*\"neural\" + -0.179*\"knowledge\" + -0.153*\"languages\" + -0.126*\"relations\" + 0.125*\"domain\" + 0.120*\"network\" + -0.117*\"between\"'),\n",
       " (7,\n",
       "  '0.688*\"system\" + -0.181*\"neural\" + 0.165*\"systems\" + -0.164*\"corpus\" + -0.160*\"semantic\" + -0.140*\"sentence\" + -0.140*\"annotation\" + -0.139*\"translation\" + -0.135*\"attention\" + 0.129*\"word\"'),\n",
       " (8,\n",
       "  '0.548*\"languages\" + -0.223*\"information\" + 0.214*\"training\" + -0.180*\"system\" + 0.161*\"learning\" + 0.151*\"approach\" + 0.141*\"cross\" + 0.139*\"english\" + -0.138*\"word\" + -0.131*\"corpus\"'),\n",
       " (9,\n",
       "  '-0.353*\"semantic\" + 0.292*\"learning\" + -0.247*\"sentiment\" + -0.234*\"features\" + -0.230*\"system\" + 0.172*\"knowledge\" + -0.169*\"sentence\" + 0.160*\"nlp\" + -0.146*\"information\" + 0.141*\"training\"'),\n",
       " (10,\n",
       "  '0.402*\"knowledge\" + 0.363*\"domain\" + -0.210*\"neural\" + -0.188*\"speech\" + 0.188*\"text\" + -0.160*\"features\" + -0.157*\"languages\" + 0.155*\"method\" + 0.155*\"translation\" + 0.146*\"sentiment\"'),\n",
       " (11,\n",
       "  '-0.567*\"text\" + 0.328*\"sentiment\" + 0.267*\"domain\" + 0.213*\"semantic\" + -0.208*\"information\" + 0.188*\"learning\" + -0.180*\"languages\" + 0.156*\"knowledge\" + 0.130*\"analysis\" + 0.119*\"system\"'),\n",
       " (12,\n",
       "  '-0.381*\"information\" + -0.345*\"knowledge\" + 0.337*\"semantic\" + 0.336*\"text\" + -0.207*\"languages\" + 0.194*\"learning\" + -0.189*\"de\" + -0.185*\"it\" + 0.129*\"e\" + 0.109*\"tasks\"'),\n",
       " (13,\n",
       "  '0.433*\"text\" + 0.201*\"semantic\" + 0.193*\"knowledge\" + -0.185*\"evaluation\" + 0.177*\"de\" + 0.171*\"neural\" + -0.163*\"method\" + 0.143*\"features\" + 0.140*\"et\" + -0.130*\"approach\"'),\n",
       " (14,\n",
       "  '0.466*\"et\" + 0.383*\"de\" + -0.330*\"e\" + 0.217*\"al\" + -0.203*\"neural\" + 0.174*\"d\" + 0.170*\"des\" + -0.142*\"knowledge\" + 0.121*\"en\" + 0.114*\"la\"'),\n",
       " (15,\n",
       "  '0.336*\"features\" + -0.308*\"question\" + 0.307*\"learning\" + 0.276*\"information\" + -0.230*\"questions\" + -0.188*\"text\" + -0.158*\"et\" + -0.157*\"sentiment\" + -0.151*\"answer\" + 0.151*\"it\"'),\n",
       " (16,\n",
       "  '-0.580*\"de\" + 0.370*\"et\" + 0.232*\"al\" + -0.193*\"d\" + 0.179*\"les\" + 0.156*\"e\" + -0.126*\"learning\" + -0.125*\"semantic\" + 0.123*\"nmt\" + 0.110*\"domain\"'),\n",
       " (17,\n",
       "  '-0.473*\"annotation\" + 0.260*\"features\" + -0.242*\"information\" + 0.230*\"words\" + -0.188*\"learning\" + -0.150*\"sentiment\" + 0.145*\"domain\" + -0.145*\"system\" + 0.130*\"have\" + -0.124*\"tasks\"'),\n",
       " (18,\n",
       "  '-0.381*\"features\" + 0.366*\"domain\" + -0.245*\"knowledge\" + 0.224*\"it\" + 0.187*\"words\" + 0.181*\"system\" + -0.166*\"using\" + 0.126*\"parsing\" + -0.125*\"annotation\" + 0.108*\"information\"'),\n",
       " (19,\n",
       "  '0.428*\"annotation\" + 0.263*\"domain\" + -0.242*\"corpus\" + -0.222*\"method\" + -0.221*\"semantic\" + 0.214*\"features\" + -0.194*\"learning\" + -0.174*\"using\" + -0.167*\"sentiment\" + 0.152*\"de\"')]"
      ]
     },
     "execution_count": 59,
     "metadata": {},
     "output_type": "execute_result"
    }
   ],
   "source": [
    "lsi.show_topics(20)"
   ]
  },
  {
   "cell_type": "code",
   "execution_count": 61,
   "id": "36da2234-e893-4f90-82e3-f45cae8734df",
   "metadata": {
    "tags": []
   },
   "outputs": [
    {
     "data": {
      "text/plain": [
       "[('features', -0.3812280153671461),\n",
       " ('domain', 0.3664241332007311),\n",
       " ('knowledge', -0.24539420945523566),\n",
       " ('it', 0.22406247594077064),\n",
       " ('words', 0.18685416476785296),\n",
       " ('system', 0.1808808794074729),\n",
       " ('using', -0.16605763582043478),\n",
       " ('parsing', 0.1259840150474611),\n",
       " ('annotation', -0.12515906329679294),\n",
       " ('information', 0.1075151959073353)]"
      ]
     },
     "execution_count": 61,
     "metadata": {},
     "output_type": "execute_result"
    }
   ],
   "source": [
    "lsi.show_topic(18, topn=10)"
   ]
  },
  {
   "cell_type": "code",
   "execution_count": 62,
   "id": "a6ba013f-0207-4346-a922-8f83271b4a70",
   "metadata": {},
   "outputs": [
    {
     "data": {
      "text/plain": [
       "<gensim.interfaces.TransformedCorpus at 0x1d72a800358>"
      ]
     },
     "execution_count": 62,
     "metadata": {},
     "output_type": "execute_result"
    }
   ],
   "source": [
    "lsi[corpus]"
   ]
  },
  {
   "cell_type": "code",
   "execution_count": 63,
   "id": "0e86a9f8-69a5-4484-953b-a5374b71eb1a",
   "metadata": {},
   "outputs": [],
   "source": [
    "topic_representation = lsi.projection.u"
   ]
  },
  {
   "cell_type": "code",
   "execution_count": 65,
   "id": "27085349-f8e1-412d-b6c1-d662b59af280",
   "metadata": {},
   "outputs": [
    {
     "data": {
      "text/plain": [
       "(37582, 20)"
      ]
     },
     "execution_count": 65,
     "metadata": {},
     "output_type": "execute_result"
    }
   ],
   "source": [
    "topic_representation.shape"
   ]
  },
  {
   "cell_type": "code",
   "execution_count": 66,
   "id": "44c4a76b-9554-4484-977e-94498c31dd3c",
   "metadata": {},
   "outputs": [],
   "source": [
    "topic_vectors = torch.FloatTensor(topic_representation)"
   ]
  },
  {
   "cell_type": "markdown",
   "id": "9eaa74f5-3f63-414f-bc5f-c96ed8b909ca",
   "metadata": {},
   "source": [
    "### PCA"
   ]
  },
  {
   "cell_type": "code",
   "execution_count": null,
   "id": "7d3ae756-fc0a-4749-8d5e-2ff2974d7351",
   "metadata": {},
   "outputs": [],
   "source": [
    "trans_topics = np.transpose(topic_representation)\n",
    "trans_topics.shape"
   ]
  },
  {
   "cell_type": "code",
   "execution_count": null,
   "id": "06385ae2-3efb-41cf-addd-c05801390ab0",
   "metadata": {},
   "outputs": [],
   "source": [
    "pca = PCA(n_components=64)\n",
    "pca_topics = pca.fit_transform(trans_topics)\n",
    "pca_topics.shape"
   ]
  },
  {
   "cell_type": "code",
   "execution_count": null,
   "id": "86aa179f-85a3-44bb-96da-4cad18b1861a",
   "metadata": {
    "tags": []
   },
   "outputs": [],
   "source": [
    "pca_trans = np.transpose(pca_topics)"
   ]
  },
  {
   "cell_type": "code",
   "execution_count": null,
   "id": "407451da-3962-4e32-951a-8ddf01129eff",
   "metadata": {},
   "outputs": [],
   "source": [
    "pca_topics_reshaped = pca_trans.reshape(2, 32, 256)\n",
    "type(pca_topics_reshaped)"
   ]
  },
  {
   "cell_type": "markdown",
   "id": "aeb5c04b-471d-4557-ba19-badf9bad12d8",
   "metadata": {
    "tags": []
   },
   "source": [
    "## Conditioned LSTM"
   ]
  },
  {
   "cell_type": "code",
   "execution_count": 203,
   "id": "82a6de5d-722f-447c-be5e-3c1b4f8b9dfa",
   "metadata": {},
   "outputs": [],
   "source": [
    "class ConditionedLSTM(nn.Module):\n",
    "    \n",
    "    def __init__(self, n_hidden=256, n_layers=2, drop_prob=0.2, lr=0.001):\n",
    "        super().__init__()\n",
    "\n",
    "        self.drop_prob = drop_prob\n",
    "        self.n_layers = n_layers\n",
    "        self.n_hidden = n_hidden\n",
    "        self.lr = lr\n",
    "        \n",
    "        vocab_size = len(w2v_model.wv)\n",
    "        \n",
    "        self.emb_layer = nn.Embedding.from_pretrained(w2v_tensors)\n",
    "\n",
    "        ## define the LSTM\n",
    "        self.lstm = nn.LSTM(100, n_hidden, n_layers, \n",
    "                            dropout=drop_prob, batch_first=True)\n",
    "        \n",
    "        ## define a dropout layer\n",
    "        self.dropout = nn.Dropout(drop_prob)\n",
    "        \n",
    "        ## define the fully-connected layer\n",
    "        self.fc = nn.Linear(n_hidden, vocab_size)      \n",
    "    \n",
    "    def forward(self, x, hidden):\n",
    "        ''' Forward pass through the network. \n",
    "            These inputs are x, and the hidden/cell state `hidden`. '''\n",
    "        \n",
    "        x = x.long()\n",
    "\n",
    "        ## pass input through embedding layer\n",
    "        embedded = self.emb_layer(x)     \n",
    "        \n",
    "        ## Get the outputs and the new hidden state from the lstm\n",
    "        lstm_output, hidden = self.lstm(embedded, hidden)\n",
    "        \n",
    "        ## pass through a dropout layer\n",
    "        out = self.dropout(lstm_output)\n",
    "        \n",
    "        #out = out.contiguous().view(-1, self.n_hidden) \n",
    "        out = out.reshape(-1, self.n_hidden) \n",
    "\n",
    "        ## put \"out\" through the fully-connected layer\n",
    "        out = self.fc(out)\n",
    "\n",
    "        # return the final output and the hidden state\n",
    "        return out, hidden\n",
    "    \n",
    "    \n",
    "    def init_hidden(self, batch_size):\n",
    "        ''' initializes hidden state '''\n",
    "\n",
    "        hidden = (torch.FloatTensor(pca_trans.reshape(self.n_layers, batch_size, self.n_hidden)),\n",
    "                 torch.ones(self.n_layers, batch_size, self.n_hidden))\n",
    "\n",
    "        return hidden"
   ]
  },
  {
   "cell_type": "code",
   "execution_count": 234,
   "id": "b8b2143a-22ba-4535-801d-37fb06ec47df",
   "metadata": {},
   "outputs": [],
   "source": [
    "n_hidden = 256\n",
    "batch_size = 64\n",
    "n_layers = 3"
   ]
  },
  {
   "cell_type": "code",
   "execution_count": 235,
   "id": "0ad5be56-300f-4513-9a3d-61e6281d095d",
   "metadata": {},
   "outputs": [],
   "source": [
    "# LSA\n",
    "lsi = LsiModel(corpus, id2word=dct, num_topics=n_hidden, decay=0.2)\n",
    "trans_topics = np.transpose(lsi.projection.u)\n",
    "\n",
    "# PCA|\n",
    "pca_topics = PCA(n_components=n_layers*batch_size, svd_solver='full').fit_transform(trans_topics)\n",
    "pca_trans = np.transpose(pca_topics)"
   ]
  },
  {
   "cell_type": "code",
   "execution_count": 236,
   "id": "318c4949-55c3-40d9-a382-9cc1ef9b9d62",
   "metadata": {},
   "outputs": [
    {
     "name": "stdout",
     "output_type": "stream",
     "text": [
      "ConditionedLSTM(\n",
      "  (emb_layer): Embedding(9569, 100)\n",
      "  (lstm): LSTM(100, 256, num_layers=3, batch_first=True, dropout=0.2)\n",
      "  (dropout): Dropout(p=0.2, inplace=False)\n",
      "  (fc): Linear(in_features=256, out_features=9569, bias=True)\n",
      ")\n"
     ]
    }
   ],
   "source": [
    "# instantiate the model\n",
    "model = ConditionedLSTM(n_hidden=n_hidden, n_layers=n_layers)\n",
    "\n",
    "model.cpu()\n",
    "\n",
    "print(model)"
   ]
  },
  {
   "cell_type": "code",
   "execution_count": 237,
   "id": "be4497a4-357f-47eb-9466-5e3001770e69",
   "metadata": {},
   "outputs": [],
   "source": [
    "def train(model, epochs=10, batch_size=32, lr=0.001, clip=1, print_every=32):\n",
    "    \n",
    "    # optimizer\n",
    "    opt = torch.optim.Adam(model.parameters(), lr=lr)\n",
    "    \n",
    "    # loss\n",
    "    criterion = nn.CrossEntropyLoss()\n",
    "    \n",
    "    # push model to CPU\n",
    "    model.cpu()\n",
    "    \n",
    "    counter = 0\n",
    "\n",
    "    model.train()\n",
    "\n",
    "    for e in range(epochs):\n",
    "        \n",
    "        for x, y in get_batches(x_int, y_int, batch_size):\n",
    "            counter+= 1\n",
    "            \n",
    "            # initialize hidden state\n",
    "            h = model.init_hidden(batch_size)\n",
    "            \n",
    "            # convert numpy arrays to PyTorch arrays\n",
    "            inputs, targets = torch.from_numpy(x), torch.from_numpy(y)\n",
    "            \n",
    "            # push tensors to GPU\n",
    "            inputs, targets = inputs.cpu(), targets.cpu()\n",
    "\n",
    "            # detach hidden states\n",
    "            h = tuple([each.data for each in h])\n",
    "\n",
    "            # zero accumulated gradients\n",
    "            model.zero_grad()\n",
    "            \n",
    "            # get the output from the model\n",
    "            output, h = model(inputs, h)\n",
    "            \n",
    "            # calculate the loss and perform backprop\n",
    "            loss = criterion(output, targets.view(-1).long())\n",
    "\n",
    "            # back-propagate error\n",
    "            loss.backward()\n",
    "\n",
    "            # `clip_grad_norm` helps prevent the exploding gradient problem in RNNs / LSTMs.\n",
    "            nn.utils.clip_grad_norm_(model.parameters(), clip)\n",
    "\n",
    "            # update weigths\n",
    "            opt.step()            \n",
    "            \n",
    "            if counter % print_every == 0:\n",
    "            \n",
    "              print(\"Epoch: {}/{} -\".format(e+1, epochs),\n",
    "                    \"Step: {} -\".format(counter),\n",
    "                    \"Loss: {}\".format(loss))"
   ]
  },
  {
   "cell_type": "code",
   "execution_count": 238,
   "id": "58eb0a03-1ec7-49c7-9dfc-530a10219de9",
   "metadata": {},
   "outputs": [],
   "source": [
    "epochs = 20\n",
    "path = 'weights/cond_lstm.pt'\n",
    "loss = 0.2\n",
    "\n",
    "optimizer = torch.optim.Adam(model.parameters(), lr=0.001)\n",
    "criterion = nn.CrossEntropyLoss()"
   ]
  },
  {
   "cell_type": "code",
   "execution_count": 239,
   "id": "16d0cf0d-d128-4eb5-b5b9-8209f006a0ce",
   "metadata": {
    "tags": []
   },
   "outputs": [
    {
     "name": "stdout",
     "output_type": "stream",
     "text": [
      "Epoch: 1/20 - Step: 4 - Loss: 9.094103813171387\n",
      "Epoch: 1/20 - Step: 8 - Loss: 8.207086563110352\n",
      "Epoch: 1/20 - Step: 12 - Loss: 7.28662109375\n",
      "Epoch: 1/20 - Step: 16 - Loss: 7.0488996505737305\n",
      "Epoch: 1/20 - Step: 20 - Loss: 6.928389072418213\n",
      "Epoch: 2/20 - Step: 24 - Loss: 6.978840351104736\n",
      "Epoch: 2/20 - Step: 28 - Loss: 6.922019958496094\n",
      "Epoch: 2/20 - Step: 32 - Loss: 6.974577903747559\n",
      "Epoch: 2/20 - Step: 36 - Loss: 6.861565589904785\n",
      "Epoch: 2/20 - Step: 40 - Loss: 6.821847438812256\n",
      "Epoch: 2/20 - Step: 44 - Loss: 6.800374507904053\n",
      "Epoch: 3/20 - Step: 48 - Loss: 7.03978157043457\n",
      "Epoch: 3/20 - Step: 52 - Loss: 6.947199821472168\n",
      "Epoch: 3/20 - Step: 56 - Loss: 6.8963847160339355\n",
      "Epoch: 3/20 - Step: 60 - Loss: 6.830890655517578\n",
      "Epoch: 3/20 - Step: 64 - Loss: 6.849308013916016\n",
      "Epoch: 3/20 - Step: 68 - Loss: 7.050714492797852\n",
      "Epoch: 4/20 - Step: 72 - Loss: 6.874112606048584\n",
      "Epoch: 4/20 - Step: 76 - Loss: 7.313183784484863\n",
      "Epoch: 4/20 - Step: 80 - Loss: 6.838290214538574\n",
      "Epoch: 4/20 - Step: 84 - Loss: 6.835853576660156\n",
      "Epoch: 4/20 - Step: 88 - Loss: 6.832327842712402\n",
      "Epoch: 4/20 - Step: 92 - Loss: 6.9528489112854\n",
      "Epoch: 5/20 - Step: 96 - Loss: 6.866661548614502\n",
      "Epoch: 5/20 - Step: 100 - Loss: 6.8383355140686035\n",
      "Epoch: 5/20 - Step: 104 - Loss: 6.785312652587891\n",
      "Epoch: 5/20 - Step: 108 - Loss: 6.882395267486572\n",
      "Epoch: 5/20 - Step: 112 - Loss: 6.78199577331543\n",
      "Epoch: 6/20 - Step: 116 - Loss: 6.815550327301025\n",
      "Epoch: 6/20 - Step: 120 - Loss: 6.784154415130615\n",
      "Epoch: 6/20 - Step: 124 - Loss: 6.927429676055908\n",
      "Epoch: 6/20 - Step: 128 - Loss: 6.836246490478516\n",
      "Epoch: 6/20 - Step: 132 - Loss: 6.792593955993652\n",
      "Epoch: 6/20 - Step: 136 - Loss: 6.752262115478516\n",
      "Epoch: 7/20 - Step: 140 - Loss: 6.9864935874938965\n",
      "Epoch: 7/20 - Step: 144 - Loss: 6.909878253936768\n",
      "Epoch: 7/20 - Step: 148 - Loss: 6.8782057762146\n",
      "Epoch: 7/20 - Step: 152 - Loss: 6.818880558013916\n",
      "Epoch: 7/20 - Step: 156 - Loss: 6.838442802429199\n",
      "Epoch: 7/20 - Step: 160 - Loss: 7.026266574859619\n",
      "Epoch: 8/20 - Step: 164 - Loss: 6.857906341552734\n",
      "Epoch: 8/20 - Step: 168 - Loss: 7.289886951446533\n",
      "Epoch: 8/20 - Step: 172 - Loss: 6.825680732727051\n",
      "Epoch: 8/20 - Step: 176 - Loss: 6.824988842010498\n",
      "Epoch: 8/20 - Step: 180 - Loss: 6.8095927238464355\n",
      "Epoch: 8/20 - Step: 184 - Loss: 6.93353271484375\n",
      "Epoch: 9/20 - Step: 188 - Loss: 6.85097074508667\n",
      "Epoch: 9/20 - Step: 192 - Loss: 6.830447196960449\n",
      "Epoch: 9/20 - Step: 196 - Loss: 6.774363040924072\n",
      "Epoch: 9/20 - Step: 200 - Loss: 6.8649210929870605\n",
      "Epoch: 9/20 - Step: 204 - Loss: 6.7672295570373535\n",
      "Epoch: 10/20 - Step: 208 - Loss: 6.8033928871154785\n",
      "Epoch: 10/20 - Step: 212 - Loss: 6.766119003295898\n",
      "Epoch: 10/20 - Step: 216 - Loss: 6.912203788757324\n",
      "Epoch: 10/20 - Step: 220 - Loss: 6.820012092590332\n",
      "Epoch: 10/20 - Step: 224 - Loss: 6.7781524658203125\n",
      "Epoch: 10/20 - Step: 228 - Loss: 6.746735572814941\n",
      "Epoch: 11/20 - Step: 232 - Loss: 6.973430633544922\n",
      "Epoch: 11/20 - Step: 236 - Loss: 6.893616199493408\n",
      "Epoch: 11/20 - Step: 240 - Loss: 6.859697341918945\n",
      "Epoch: 11/20 - Step: 244 - Loss: 6.797529697418213\n",
      "Epoch: 11/20 - Step: 248 - Loss: 6.820318222045898\n",
      "Epoch: 11/20 - Step: 252 - Loss: 7.009122371673584\n",
      "Epoch: 12/20 - Step: 256 - Loss: 6.843084335327148\n",
      "Epoch: 12/20 - Step: 260 - Loss: 7.269816875457764\n",
      "Epoch: 12/20 - Step: 264 - Loss: 6.804736137390137\n",
      "Epoch: 12/20 - Step: 268 - Loss: 6.806389808654785\n",
      "Epoch: 12/20 - Step: 272 - Loss: 6.79910945892334\n",
      "Epoch: 12/20 - Step: 276 - Loss: 6.9231061935424805\n",
      "Epoch: 13/20 - Step: 280 - Loss: 6.8340678215026855\n",
      "Epoch: 13/20 - Step: 284 - Loss: 6.815587997436523\n",
      "Epoch: 13/20 - Step: 288 - Loss: 6.760161399841309\n",
      "Epoch: 13/20 - Step: 292 - Loss: 6.851956367492676\n",
      "Epoch: 13/20 - Step: 296 - Loss: 6.757728099822998\n",
      "Epoch: 14/20 - Step: 300 - Loss: 6.781670570373535\n",
      "Epoch: 14/20 - Step: 304 - Loss: 6.750528335571289\n",
      "Epoch: 14/20 - Step: 308 - Loss: 6.897478103637695\n",
      "Epoch: 14/20 - Step: 312 - Loss: 6.808241844177246\n",
      "Epoch: 14/20 - Step: 316 - Loss: 6.764658451080322\n",
      "Epoch: 14/20 - Step: 320 - Loss: 6.734029769897461\n",
      "Epoch: 15/20 - Step: 324 - Loss: 6.959492206573486\n",
      "Epoch: 15/20 - Step: 328 - Loss: 6.882303237915039\n",
      "Epoch: 15/20 - Step: 332 - Loss: 6.847585201263428\n",
      "Epoch: 15/20 - Step: 336 - Loss: 6.787951946258545\n",
      "Epoch: 15/20 - Step: 340 - Loss: 6.815686225891113\n",
      "Epoch: 15/20 - Step: 344 - Loss: 6.9946722984313965\n",
      "Epoch: 16/20 - Step: 348 - Loss: 6.830652713775635\n",
      "Epoch: 16/20 - Step: 352 - Loss: 7.262251853942871\n",
      "Epoch: 16/20 - Step: 356 - Loss: 6.802465438842773\n",
      "Epoch: 16/20 - Step: 360 - Loss: 6.797199726104736\n",
      "Epoch: 16/20 - Step: 364 - Loss: 6.7907490730285645\n",
      "Epoch: 16/20 - Step: 368 - Loss: 6.90797758102417\n",
      "Epoch: 17/20 - Step: 372 - Loss: 6.825186729431152\n",
      "Epoch: 17/20 - Step: 376 - Loss: 6.806214809417725\n",
      "Epoch: 17/20 - Step: 380 - Loss: 6.756625175476074\n",
      "Epoch: 17/20 - Step: 384 - Loss: 6.843904972076416\n",
      "Epoch: 17/20 - Step: 388 - Loss: 6.750284194946289\n",
      "Epoch: 18/20 - Step: 392 - Loss: 6.778311729431152\n",
      "Epoch: 18/20 - Step: 396 - Loss: 6.744775772094727\n",
      "Epoch: 18/20 - Step: 400 - Loss: 6.89097261428833\n",
      "Epoch: 18/20 - Step: 404 - Loss: 6.800966739654541\n",
      "Epoch: 18/20 - Step: 408 - Loss: 6.754607677459717\n",
      "Epoch: 18/20 - Step: 412 - Loss: 6.72585391998291\n",
      "Epoch: 19/20 - Step: 416 - Loss: 6.945211887359619\n",
      "Epoch: 19/20 - Step: 420 - Loss: 6.879082679748535\n",
      "Epoch: 19/20 - Step: 424 - Loss: 6.840118885040283\n",
      "Epoch: 19/20 - Step: 428 - Loss: 6.782192707061768\n",
      "Epoch: 19/20 - Step: 432 - Loss: 6.807549953460693\n",
      "Epoch: 19/20 - Step: 436 - Loss: 6.989055633544922\n",
      "Epoch: 20/20 - Step: 440 - Loss: 6.825922012329102\n",
      "Epoch: 20/20 - Step: 444 - Loss: 7.249057292938232\n",
      "Epoch: 20/20 - Step: 448 - Loss: 6.7873640060424805\n",
      "Epoch: 20/20 - Step: 452 - Loss: 6.787373065948486\n",
      "Epoch: 20/20 - Step: 456 - Loss: 6.782720565795898\n",
      "Epoch: 20/20 - Step: 460 - Loss: 6.900195598602295\n"
     ]
    }
   ],
   "source": [
    "train(model, batch_size=batch_size, epochs=epochs, print_every=4)"
   ]
  },
  {
   "cell_type": "code",
   "execution_count": 240,
   "id": "c9171143-818e-423f-a030-0a1fe9393c0e",
   "metadata": {},
   "outputs": [
    {
     "name": "stderr",
     "output_type": "stream",
     "text": [
      "D:\\giuse\\Conda\\envs\\thesis\\lib\\site-packages\\torch\\serialization.py:292: UserWarning: Couldn't retrieve source code for container of type CrossEntropyLoss. It won't be checked for correctness upon loading.\n",
      "  \"type \" + obj.__name__ + \". It won't be checked \"\n"
     ]
    }
   ],
   "source": [
    "torch.save({\n",
    "            'epoch': epochs,\n",
    "            'model_state_dict': model.state_dict(),\n",
    "            'optimizer_state_dict': optimizer.state_dict(),\n",
    "            'loss': criterion\n",
    "            }, path)"
   ]
  },
  {
   "cell_type": "code",
   "execution_count": null,
   "id": "18f00790-265c-40d9-8eb3-0e35797daab1",
   "metadata": {},
   "outputs": [],
   "source": []
  },
  {
   "cell_type": "code",
   "execution_count": 228,
   "id": "1542bc82-cb1a-4ddc-af39-be52eb00bf72",
   "metadata": {},
   "outputs": [],
   "source": [
    "# predict next token\n",
    "def predict(model, t, h=None): # default value as None for first iteration\n",
    "         \n",
    "    # tensor inputs\n",
    "    x = np.array([[token2int[t]]])\n",
    "    inputs = torch.from_numpy(x)\n",
    "  \n",
    "    # push to CPU\n",
    "    inputs = inputs.cpu()\n",
    "\n",
    "    # detach hidden state from history\n",
    "    h = tuple([each.data for each in h])\n",
    "\n",
    "    # get the output of the model\n",
    "    out, h = model(inputs, h)\n",
    "\n",
    "    # get the token probabilities\n",
    "    p = F.softmax(out, dim=1).data\n",
    "\n",
    "    p = p.cpu()\n",
    "\n",
    "    p = p.numpy()\n",
    "    p = p.reshape(p.shape[1],)\n",
    "\n",
    "    # get indices of top 3 values\n",
    "    top_n_idx = p.argsort()[-5:][::-1]\n",
    "\n",
    "    # randomly select one of the three indices\n",
    "    sampled_token_index = top_n_idx[random.sample([0,1,2,3,4],1)[0]]\n",
    "\n",
    "    # return the encoded value of the predicted char and the hidden state\n",
    "    return int2token[sampled_token_index], h"
   ]
  },
  {
   "cell_type": "code",
   "execution_count": 229,
   "id": "6d200b9a-586c-46af-89f6-2e2f05839baa",
   "metadata": {},
   "outputs": [],
   "source": [
    "gen_batch_size = 1"
   ]
  },
  {
   "cell_type": "code",
   "execution_count": 230,
   "id": "2cdc8a3c-73b7-4139-8c51-38f9fecf82cd",
   "metadata": {},
   "outputs": [],
   "source": [
    "# PCA\n",
    "gen_pca_topics = PCA(n_components=n_layers * gen_batch_size, svd_solver='full').fit_transform(trans_topics)\n",
    "gen_pca_trans = np.transpose(gen_pca_topics)"
   ]
  },
  {
   "cell_type": "code",
   "execution_count": 231,
   "id": "913b9806-ea23-469f-89a6-0d7ff46a33ec",
   "metadata": {},
   "outputs": [],
   "source": [
    "# function to generate text\n",
    "def generate(model, size, prompt='in this paper'):\n",
    "        \n",
    "    # push to CPU\n",
    "    model.cpu()\n",
    "    \n",
    "    model.eval()\n",
    "    \n",
    "    h = (torch.FloatTensor(gen_pca_trans.reshape(n_layers, gen_batch_size, n_hidden)),\n",
    "         torch.ones(n_layers, gen_batch_size, n_hidden))\n",
    "\n",
    "    toks = prompt.split()\n",
    "\n",
    "    # predict next token\n",
    "    for t in prompt.split():\n",
    "        token, h = predict(model, t, h)\n",
    "    \n",
    "    toks.append(token)\n",
    "\n",
    "    # predict subsequent tokens\n",
    "    for i in range(size-1):\n",
    "        token, h = predict(model, toks[-1], h)\n",
    "        toks.append(token)\n",
    "\n",
    "    return ' '.join(toks)"
   ]
  },
  {
   "cell_type": "code",
   "execution_count": 233,
   "id": "645a8dd9-4a9c-4059-8c23-28e753ca0cdd",
   "metadata": {},
   "outputs": [
    {
     "data": {
      "text/plain": [
       "'in this paper we to a to a the to a of and of a to the to a a of to to the the of and the the a the the the to a a and the of a the of a and a of a to and to the and the of'"
      ]
     },
     "execution_count": 233,
     "metadata": {},
     "output_type": "execute_result"
    }
   ],
   "source": [
    "generate(model, 50, 'in this paper we')"
   ]
  },
  {
   "cell_type": "code",
   "execution_count": null,
   "id": "524a1e11-ef43-428a-9db9-a3f418018314",
   "metadata": {},
   "outputs": [],
   "source": []
  }
 ],
 "metadata": {
  "kernelspec": {
   "display_name": "Python 3",
   "language": "python",
   "name": "python3"
  },
  "language_info": {
   "codemirror_mode": {
    "name": "ipython",
    "version": 3
   },
   "file_extension": ".py",
   "mimetype": "text/x-python",
   "name": "python",
   "nbconvert_exporter": "python",
   "pygments_lexer": "ipython3",
   "version": "3.6.13"
  }
 },
 "nbformat": 4,
 "nbformat_minor": 5
}
