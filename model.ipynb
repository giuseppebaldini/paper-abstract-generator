{
 "cells": [
  {
   "cell_type": "markdown",
   "id": "0f2731b1-f80b-4587-9834-5f7d3402ee79",
   "metadata": {
    "tags": []
   },
   "source": [
    "# Conditioned LSTM"
   ]
  },
  {
   "cell_type": "code",
   "execution_count": 1,
   "id": "6c322678-97e7-44ed-8155-d14cfd47a726",
   "metadata": {},
   "outputs": [
    {
     "name": "stderr",
     "output_type": "stream",
     "text": [
      "D:\\giuse\\Conda\\envs\\thesis\\lib\\site-packages\\gensim\\similarities\\__init__.py:15: UserWarning: The gensim.similarities.levenshtein submodule is disabled, because the optional Levenshtein package <https://pypi.org/project/python-Levenshtein/> is unavailable. Install Levenhstein (e.g. `pip install python-Levenshtein`) to suppress this warning.\n",
      "  warnings.warn(msg)\n"
     ]
    }
   ],
   "source": [
    "import math\n",
    "import random\n",
    "\n",
    "import numpy as np\n",
    "\n",
    "import torch\n",
    "from torch import nn\n",
    "import torch.nn.functional as F\n",
    "from torch.utils.data.sampler import SubsetRandomSampler\n",
    "\n",
    "import matplotlib.pyplot as plt\n",
    "\n",
    "from sklearn.decomposition import PCA\n",
    "\n",
    "import gensim\n",
    "from gensim.models import KeyedVectors\n",
    "from gensim.models.lsimodel import LsiModel\n",
    "from gensim.corpora.dictionary import Dictionary"
   ]
  },
  {
   "cell_type": "markdown",
   "id": "e3f89a46-8f42-477f-90ff-592fffa0b62b",
   "metadata": {
    "tags": []
   },
   "source": [
    "## Data"
   ]
  },
  {
   "cell_type": "code",
   "execution_count": 2,
   "id": "fe343191-55af-48bb-b966-55ad552efcb3",
   "metadata": {},
   "outputs": [],
   "source": [
    "with open('data/tokenized.txt','r') as f:\n",
    "    tokenized = eval(f.read())\n",
    "    \n",
    "with open('data/tokens.txt','r') as f:\n",
    "    tokens = eval(f.read())"
   ]
  },
  {
   "cell_type": "code",
   "execution_count": 3,
   "id": "f210f4c1-b171-4e41-be01-ee4dd311b430",
   "metadata": {},
   "outputs": [],
   "source": [
    "x_arr = np.load('data/x.npy')\n",
    "y_arr = np.load('data/y.npy')"
   ]
  },
  {
   "cell_type": "code",
   "execution_count": 4,
   "id": "89c71560-f7a1-437a-b023-fd9004a7b611",
   "metadata": {},
   "outputs": [
    {
     "data": {
      "text/plain": [
       "(5841, 100)"
      ]
     },
     "execution_count": 4,
     "metadata": {},
     "output_type": "execute_result"
    }
   ],
   "source": [
    "x_arr.shape"
   ]
  },
  {
   "cell_type": "code",
   "execution_count": 5,
   "id": "d4b21bf4-ad35-4c76-abc0-307060aa3463",
   "metadata": {},
   "outputs": [],
   "source": [
    "valid_split = 0.2"
   ]
  },
  {
   "cell_type": "code",
   "execution_count": 6,
   "id": "f4084a92-0f22-4e42-ab06-95ebeffccf4f",
   "metadata": {},
   "outputs": [],
   "source": [
    "dataset_len = len(x_arr)\n",
    "ids = list(range(dataset_len))"
   ]
  },
  {
   "cell_type": "code",
   "execution_count": 7,
   "id": "e13ec988-2ff5-47f3-b15c-c48307304e1a",
   "metadata": {},
   "outputs": [],
   "source": [
    "val_len = int(np.floor(valid_split * dataset_len))\n",
    "val_ids = np.random.choice(ids, size=val_len, replace=False)"
   ]
  },
  {
   "cell_type": "code",
   "execution_count": 8,
   "id": "dd395d6c-bada-4844-a2e0-4926815bf17f",
   "metadata": {},
   "outputs": [],
   "source": [
    "x_val = np.array(x_arr)[val_ids] \n",
    "y_val = np.array(y_arr)[val_ids]"
   ]
  },
  {
   "cell_type": "code",
   "execution_count": 9,
   "id": "11ca0ddd-101d-437c-a1d6-8b43eb9da709",
   "metadata": {},
   "outputs": [
    {
     "data": {
      "text/plain": [
       "((1168, 100), (1168, 100))"
      ]
     },
     "execution_count": 9,
     "metadata": {},
     "output_type": "execute_result"
    }
   ],
   "source": [
    "x_val.shape, y_val.shape"
   ]
  },
  {
   "cell_type": "code",
   "execution_count": 10,
   "id": "67520dd9-c365-44c1-8f2d-9ebed3878bda",
   "metadata": {},
   "outputs": [],
   "source": [
    "x_train = np.delete(x_arr, val_ids, axis=0)\n",
    "y_train = np.delete(y_arr, val_ids, axis=0)"
   ]
  },
  {
   "cell_type": "code",
   "execution_count": 11,
   "id": "c5147fa1-457d-44b2-a9da-c58739c7ba9e",
   "metadata": {},
   "outputs": [
    {
     "data": {
      "text/plain": [
       "((4673, 100), (4673, 100))"
      ]
     },
     "execution_count": 11,
     "metadata": {},
     "output_type": "execute_result"
    }
   ],
   "source": [
    "x_train.shape, y_train.shape"
   ]
  },
  {
   "cell_type": "code",
   "execution_count": 12,
   "id": "129df162-b5dd-4fc5-9ffa-63b8765ec982",
   "metadata": {},
   "outputs": [],
   "source": [
    "def batches(x_arr, y_arr, batch_size):\n",
    "    \n",
    "    pos = 0\n",
    "    \n",
    "    for n in range(batch_size, x_arr.shape[0], batch_size):\n",
    "        x = x_arr[pos:n]\n",
    "        y = y_arr[pos:n]\n",
    "        pos = n\n",
    "        \n",
    "        yield x, y"
   ]
  },
  {
   "cell_type": "code",
   "execution_count": 13,
   "id": "27066b95-79ce-4403-97d8-1b918ca73497",
   "metadata": {},
   "outputs": [],
   "source": [
    "x_data = {'train': x_train , 'val': x_val}\n",
    "y_data = {'train': y_train , 'val': y_val}"
   ]
  },
  {
   "cell_type": "markdown",
   "id": "e9823008-e8f0-46e4-a20d-c6a7915b97b3",
   "metadata": {
    "tags": []
   },
   "source": [
    "## Word2Vec"
   ]
  },
  {
   "cell_type": "code",
   "execution_count": 14,
   "id": "0b4ae5c6-cf7a-4286-ab02-9700f0eb6c57",
   "metadata": {},
   "outputs": [],
   "source": [
    "w2v_model = gensim.models.KeyedVectors.load(\"w2v.model\", mmap='r')"
   ]
  },
  {
   "cell_type": "code",
   "execution_count": 15,
   "id": "b755d9f8-b239-4ae6-a05e-0484e125cc9c",
   "metadata": {},
   "outputs": [
    {
     "data": {
      "text/plain": [
       "(17862, 100)"
      ]
     },
     "execution_count": 15,
     "metadata": {},
     "output_type": "execute_result"
    }
   ],
   "source": [
    "vocab_size, emdedding_size = w2v_model.wv.vectors.shape\n",
    "vocab_size, emdedding_size"
   ]
  },
  {
   "cell_type": "code",
   "execution_count": 16,
   "id": "b2fa4c61-c375-42d9-8c23-a6a39478fbb7",
   "metadata": {},
   "outputs": [
    {
     "data": {
      "text/plain": [
       "100"
      ]
     },
     "execution_count": 16,
     "metadata": {},
     "output_type": "execute_result"
    }
   ],
   "source": [
    "embedding_size = w2v_model.wv.vectors.shape[1]\n",
    "embedding_size"
   ]
  },
  {
   "cell_type": "code",
   "execution_count": 17,
   "id": "f3f57a05-44f3-4f17-81db-49792038b2a9",
   "metadata": {},
   "outputs": [],
   "source": [
    "w2v_tensors = torch.FloatTensor(w2v_model.wv.vectors)"
   ]
  },
  {
   "cell_type": "markdown",
   "id": "67cbd194-1eee-4b01-abdd-5de52fc08690",
   "metadata": {
    "tags": []
   },
   "source": [
    "## Topic Modelling"
   ]
  },
  {
   "cell_type": "code",
   "execution_count": 18,
   "id": "b8b2143a-22ba-4535-801d-37fb06ec47df",
   "metadata": {},
   "outputs": [],
   "source": [
    "# model hyperparams used as params for LSA and PCA\n",
    "n_hidden = 256\n",
    "batch_size = 64\n",
    "n_layers = 3"
   ]
  },
  {
   "cell_type": "markdown",
   "id": "801312e8-aed1-41a9-85cb-9b220b850255",
   "metadata": {},
   "source": [
    "### Corpus"
   ]
  },
  {
   "cell_type": "code",
   "execution_count": 19,
   "id": "74c738d7-37a5-4109-a15b-644e15e3b41e",
   "metadata": {
    "tags": []
   },
   "outputs": [],
   "source": [
    "dct = Dictionary(tokenized)\n",
    "dct.filter_extremes(no_below=5, no_above=0.3)"
   ]
  },
  {
   "cell_type": "code",
   "execution_count": 20,
   "id": "80adadbb-835d-4055-a762-47c687301689",
   "metadata": {},
   "outputs": [
    {
     "data": {
      "text/plain": [
       "5485"
      ]
     },
     "execution_count": 20,
     "metadata": {},
     "output_type": "execute_result"
    }
   ],
   "source": [
    "len(dct)"
   ]
  },
  {
   "cell_type": "code",
   "execution_count": 21,
   "id": "4073c810-0ca7-427f-9688-9962f7fd728b",
   "metadata": {},
   "outputs": [
    {
     "name": "stdout",
     "output_type": "stream",
     "text": [
      "Dictionary(5485 unique tokens: ['across', 'all', 'annotation', 'arabic', 'baselines']...)\n"
     ]
    }
   ],
   "source": [
    "print(dct)"
   ]
  },
  {
   "cell_type": "code",
   "execution_count": 22,
   "id": "3864db32-5e75-4e37-bd9e-dec3019ef8b8",
   "metadata": {},
   "outputs": [],
   "source": [
    "corpus = [dct.doc2bow(a) for a in tokenized]"
   ]
  },
  {
   "cell_type": "markdown",
   "id": "e03e1a2d-98a7-45c5-8dd6-7851aa323e51",
   "metadata": {},
   "source": [
    "### Latent Semantic Analysis (LSA)"
   ]
  },
  {
   "cell_type": "code",
   "execution_count": 23,
   "id": "9ffbc817-9458-491f-a8d1-ee7d9fabb6bc",
   "metadata": {},
   "outputs": [],
   "source": [
    "lsi = LsiModel(corpus, id2word=dct, num_topics=n_hidden, decay=0.2)"
   ]
  },
  {
   "cell_type": "code",
   "execution_count": 24,
   "id": "ef742f30-a219-408b-a39a-bc77dc2e8637",
   "metadata": {},
   "outputs": [
    {
     "data": {
      "text/plain": [
       "[(0,\n",
       "  '-0.862*\"e\" + -0.293*\"de\" + -0.163*\"d\" + -0.125*\"les\" + -0.122*\"la\" + -0.121*\"des\" + -0.108*\"l\" + -0.095*\"et\" + -0.087*\"s\" + -0.081*\"le\"'),\n",
       " (1,\n",
       "  '0.177*\"word\" + 0.151*\"text\" + 0.137*\"learning\" + 0.135*\"using\" + 0.134*\"information\" + 0.132*\"it\" + 0.130*\"performance\" + 0.126*\"tasks\" + 0.122*\"training\" + 0.121*\"or\"'),\n",
       " (2,\n",
       "  '-0.777*\"word\" + -0.237*\"embeddings\" + -0.202*\"words\" + 0.142*\"text\" + -0.107*\"languages\" + 0.100*\"domain\" + 0.096*\"knowledge\" + 0.094*\"dataset\" + 0.091*\"question\" + 0.083*\"training\"'),\n",
       " (3,\n",
       "  '0.663*\"translation\" + 0.271*\"english\" + 0.270*\"machine\" + 0.168*\"nmt\" + 0.158*\"languages\" + -0.126*\"information\" + 0.118*\"parallel\" + 0.117*\"mt\" + -0.110*\"knowledge\" + 0.096*\"source\"'),\n",
       " (4,\n",
       "  '-0.305*\"corpus\" + 0.185*\"neural\" + 0.184*\"training\" + -0.180*\"languages\" + 0.162*\"translation\" + -0.154*\"speech\" + 0.152*\"tasks\" + 0.144*\"propose\" + -0.135*\"system\" + 0.134*\"sentence\"')]"
      ]
     },
     "execution_count": 24,
     "metadata": {},
     "output_type": "execute_result"
    }
   ],
   "source": [
    "lsi.show_topics(5)"
   ]
  },
  {
   "cell_type": "code",
   "execution_count": 25,
   "id": "5b70180a-f67f-4092-9569-40997bf0b218",
   "metadata": {},
   "outputs": [
    {
     "data": {
      "text/plain": [
       "[('translation', 0.6633289995938222),\n",
       " ('english', 0.2709146302982518),\n",
       " ('machine', 0.2704907609861921),\n",
       " ('nmt', 0.16818859043068632),\n",
       " ('languages', 0.15798442798251336),\n",
       " ('information', -0.12648352967900076),\n",
       " ('parallel', 0.1184804697673785),\n",
       " ('mt', 0.11745677543873267),\n",
       " ('knowledge', -0.11031036182134815),\n",
       " ('source', 0.09550332661415212)]"
      ]
     },
     "execution_count": 25,
     "metadata": {},
     "output_type": "execute_result"
    }
   ],
   "source": [
    "lsi.show_topic(3, topn=10)"
   ]
  },
  {
   "cell_type": "code",
   "execution_count": 26,
   "id": "a6d2d4cc-f09c-4096-9c53-1e6d7d05eafe",
   "metadata": {},
   "outputs": [],
   "source": [
    "trans_topics = np.transpose(lsi.projection.u)"
   ]
  },
  {
   "cell_type": "markdown",
   "id": "0ae62faf-ac59-4f61-87a7-bf2de09c82cb",
   "metadata": {},
   "source": [
    "### Principal Component Analysis (PCA)"
   ]
  },
  {
   "cell_type": "code",
   "execution_count": 27,
   "id": "88fd01de-ac01-43ef-a370-6bd234108e6d",
   "metadata": {},
   "outputs": [],
   "source": [
    "pca_topics = PCA(n_components=n_layers*batch_size, svd_solver='full').fit_transform(trans_topics)"
   ]
  },
  {
   "cell_type": "code",
   "execution_count": 28,
   "id": "8d50757e-d8ca-482a-88b7-99636cf4f4c6",
   "metadata": {},
   "outputs": [],
   "source": [
    "pca_trans = np.transpose(pca_topics)"
   ]
  },
  {
   "cell_type": "markdown",
   "id": "17b1570d-87e9-4581-9f83-3c9b54956822",
   "metadata": {
    "tags": []
   },
   "source": [
    "## Models"
   ]
  },
  {
   "cell_type": "markdown",
   "id": "ca08093e-f769-4dc9-8c2e-2753e70772d7",
   "metadata": {
    "tags": []
   },
   "source": [
    "### Conditioned LSTM"
   ]
  },
  {
   "cell_type": "code",
   "execution_count": 29,
   "id": "82a6de5d-722f-447c-be5e-3c1b4f8b9dfa",
   "metadata": {
    "tags": []
   },
   "outputs": [],
   "source": [
    "class ConditionedLSTM(nn.Module):\n",
    "    \n",
    "    def __init__(self, n_hidden=256, n_layers=2, drop_prob=0.2, lr=0.001):\n",
    "        super().__init__()\n",
    "\n",
    "        self.drop_prob = drop_prob\n",
    "        self.n_layers = n_layers\n",
    "        self.n_hidden = n_hidden\n",
    "        self.lr = lr\n",
    "        \n",
    "        self.emb_layer = nn.Embedding(vocab_size, embedding_size)\n",
    "\n",
    "        # LSTM\n",
    "        self.lstm = nn.LSTM(embedding_size, n_hidden, n_layers, \n",
    "                            dropout=drop_prob, batch_first=True)\n",
    "        \n",
    "        # dropout layer\n",
    "        self.dropout = nn.Dropout(drop_prob)\n",
    "        \n",
    "        # fully-connected layer\n",
    "        self.fc = nn.Linear(n_hidden, vocab_size)      \n",
    "    \n",
    "    def forward(self, x, hidden):\n",
    "        ''' Forward pass through the network. \n",
    "            These inputs are x, and the hidden/cell state `hidden`. '''\n",
    "        \n",
    "        x = x.long()\n",
    "\n",
    "        # pass input through embedding layer\n",
    "        embedded = self.emb_layer(x)     \n",
    "        \n",
    "        # get outputs and new hidden state from the lstm\n",
    "        lstm_output, hidden = self.lstm(embedded, hidden)\n",
    "        \n",
    "        # pass through a dropout layer\n",
    "        out = self.dropout(lstm_output)\n",
    "        \n",
    "        # flatten out\n",
    "        out = out.reshape(-1, self.n_hidden) \n",
    "\n",
    "        # put \"out\" through the fully-connected layer\n",
    "        out = self.fc(out)\n",
    "\n",
    "        # return the final output and the hidden state\n",
    "        return out, hidden\n",
    "    \n",
    "    \n",
    "    def init_hidden(self, batch_size):\n",
    "        ''' initializes hidden state '''\n",
    "\n",
    "        hidden = (torch.FloatTensor(pca_trans.reshape(self.n_layers, batch_size, self.n_hidden)),\n",
    "                 torch.ones(self.n_layers, batch_size, self.n_hidden))\n",
    "\n",
    "        return hidden"
   ]
  },
  {
   "cell_type": "code",
   "execution_count": 30,
   "id": "385453f3-8dc1-46e1-b9c2-d37088ab4ee6",
   "metadata": {},
   "outputs": [
    {
     "name": "stdout",
     "output_type": "stream",
     "text": [
      "ConditionedLSTM(\n",
      "  (emb_layer): Embedding(17862, 100)\n",
      "  (lstm): LSTM(100, 256, num_layers=3, batch_first=True, dropout=0.2)\n",
      "  (dropout): Dropout(p=0.2, inplace=False)\n",
      "  (fc): Linear(in_features=256, out_features=17862, bias=True)\n",
      ")\n"
     ]
    }
   ],
   "source": [
    "# instantiate the model\n",
    "cond_lstm = ConditionedLSTM(n_hidden=n_hidden, n_layers=n_layers)\n",
    "\n",
    "print(cond_lstm)"
   ]
  },
  {
   "cell_type": "markdown",
   "id": "f7e4e0f1-f4e5-46cf-afed-4f9941b79994",
   "metadata": {
    "tags": []
   },
   "source": [
    "### Condtiioned LSTM + Word2Vec"
   ]
  },
  {
   "cell_type": "code",
   "execution_count": 31,
   "id": "6a9b0329-f90a-4121-9308-931b5c2b6b5c",
   "metadata": {
    "tags": []
   },
   "outputs": [],
   "source": [
    "class CondLSTM_Word2Vec(nn.Module):\n",
    "    \n",
    "    def __init__(self, n_hidden=256, n_layers=2, drop_prob=0.2, lr=0.001):\n",
    "        super().__init__()\n",
    "\n",
    "        self.drop_prob = drop_prob\n",
    "        self.n_layers = n_layers\n",
    "        self.n_hidden = n_hidden\n",
    "        self.lr = lr\n",
    "        \n",
    "        self.emb_layer = nn.Embedding.from_pretrained(w2v_tensors)\n",
    "\n",
    "        # LSTM\n",
    "        self.lstm = nn.LSTM(embedding_size, n_hidden, n_layers, \n",
    "                            dropout=drop_prob, batch_first=True)\n",
    "        \n",
    "        # dropout layer\n",
    "        self.dropout = nn.Dropout(drop_prob)\n",
    "        \n",
    "        # fully-connected layer\n",
    "        self.fc = nn.Linear(n_hidden, vocab_size)      \n",
    "    \n",
    "    def forward(self, x, hidden):\n",
    "        ''' Forward pass through the network. \n",
    "            These inputs are x, and the hidden/cell state `hidden`. '''\n",
    "        \n",
    "        x = x.long()\n",
    "\n",
    "        # pass input through embedding layer\n",
    "        embedded = self.emb_layer(x)     \n",
    "        \n",
    "        # get outputs and new hidden state from the lstm\n",
    "        lstm_output, hidden = self.lstm(embedded, hidden)\n",
    "        \n",
    "        # pass through a dropout layer\n",
    "        out = self.dropout(lstm_output)\n",
    "        \n",
    "        # flatten out\n",
    "        out = out.reshape(-1, self.n_hidden) \n",
    "\n",
    "        # put \"out\" through the fully-connected layer\n",
    "        out = self.fc(out)\n",
    "\n",
    "        # return the final output and the hidden state\n",
    "        return out, hidden\n",
    "    \n",
    "    \n",
    "    def init_hidden(self, batch_size):\n",
    "        ''' initializes hidden state '''\n",
    "\n",
    "        hidden = (torch.FloatTensor(pca_trans.reshape(self.n_layers, batch_size, self.n_hidden)),\n",
    "                 torch.ones(self.n_layers, batch_size, self.n_hidden))\n",
    "\n",
    "        return hidden"
   ]
  },
  {
   "cell_type": "code",
   "execution_count": 32,
   "id": "318c4949-55c3-40d9-a382-9cc1ef9b9d62",
   "metadata": {
    "tags": []
   },
   "outputs": [
    {
     "name": "stdout",
     "output_type": "stream",
     "text": [
      "CondLSTM_Word2Vec(\n",
      "  (emb_layer): Embedding(17862, 100)\n",
      "  (lstm): LSTM(100, 256, num_layers=3, batch_first=True, dropout=0.2)\n",
      "  (dropout): Dropout(p=0.2, inplace=False)\n",
      "  (fc): Linear(in_features=256, out_features=17862, bias=True)\n",
      ")\n"
     ]
    }
   ],
   "source": [
    "# instantiate the model\n",
    "cond_lstm_w2v = CondLSTM_Word2Vec(n_hidden=n_hidden, n_layers=n_layers, drop_prob=0)\n",
    "\n",
    "print(cond_lstm_w2v)"
   ]
  },
  {
   "cell_type": "markdown",
   "id": "6e7e7eba-ecc4-4c76-b121-7b59b496bbdc",
   "metadata": {
    "tags": []
   },
   "source": [
    "## Training"
   ]
  },
  {
   "cell_type": "code",
   "execution_count": 33,
   "id": "d3dc1f2f-8f97-402d-a896-af196d1e88d9",
   "metadata": {},
   "outputs": [],
   "source": [
    "def train(model, epochs=10, batch_size=32, lr=0.001, clip=1, print_every=32):\n",
    "    \n",
    "    # optimizer\n",
    "    opt = torch.optim.Adam(model.parameters(), lr=lr)\n",
    "    \n",
    "    # loss criterion\n",
    "    criterion = nn.CrossEntropyLoss()\n",
    "    \n",
    "    # loss values\n",
    "    train_loss = []\n",
    "    val_loss = []\n",
    "    \n",
    "    # dict to assing to right loss list according to phase\n",
    "    losses = {'train': train_loss , 'val': val_loss}\n",
    "\n",
    "    for e in range(epochs):\n",
    "        \n",
    "        for phase in ['train', 'val']:\n",
    "            model.train(True) if phase == 'train' else model.train(False)\n",
    "            \n",
    "            batch = 0\n",
    "\n",
    "            train_epoch_loss = []\n",
    "            val_epoch_loss = []\n",
    "            \n",
    "            # dict to assing to right epoch loss list according to phase\n",
    "            epoch_loss = {'train': train_epoch_loss , 'val': val_epoch_loss} \n",
    "\n",
    "            for x, y in batches(x_data[phase], y_data[phase], batch_size):\n",
    "\n",
    "                batch += 1\n",
    "\n",
    "                # initialize hidden state\n",
    "                h = model.init_hidden(batch_size)\n",
    "\n",
    "                # convert numpy arrays to PyTorch arrays\n",
    "                inputs, targets = torch.from_numpy(x), torch.from_numpy(y)\n",
    "\n",
    "                # detach hidden states\n",
    "                h = tuple([each.data for each in h])\n",
    "\n",
    "                # zero accumulated gradients\n",
    "                model.zero_grad()\n",
    "\n",
    "                # get the output from the model\n",
    "                output, h = model(inputs, h)\n",
    "\n",
    "                # calculate the loss\n",
    "                loss = criterion(output, targets.view(-1).long())\n",
    "\n",
    "                if phase == 'train':\n",
    "                    # back-propagate error\n",
    "                    loss.backward()\n",
    "\n",
    "                    # `clip_grad_norm` helps prevent exploding gradient\n",
    "                    nn.utils.clip_grad_norm_(model.parameters(), clip)\n",
    "\n",
    "                    # update weigths\n",
    "                    opt.step()\n",
    "                \n",
    "                # add current batch loss to epoch loss list\n",
    "                epoch_loss[phase].append(loss.item())\n",
    "\n",
    "                # show epoch - batch - loss every n batches\n",
    "                if batch % print_every == 0:\n",
    "\n",
    "                    tot_batches = int(x_data[phase].shape[0] / batch_size)\n",
    "\n",
    "                    print(\"Epoch: {}/{} -\".format(e+1, epochs),\n",
    "                          \"Batch: {}/{} -\".format(batch, tot_batches),\n",
    "                          \"{} loss: {:.5f}\".format(phase.capitalize(), loss))\n",
    "                    \n",
    "            # calculate average epoch loss\n",
    "            avg_epoch_loss = sum(epoch_loss[phase])/len(epoch_loss[phase])\n",
    "                    \n",
    "            # print average train and val loss at the end of each epoch\n",
    "            print(\"\\nEpoch: {}/{} -\".format(e+1, epochs),\n",
    "                  \"Average {} loss: {:.5f}\\n\".format(phase, avg_epoch_loss))           \n",
    "\n",
    "            # save average epoch loss for training and validation\n",
    "            losses[phase].append(avg_epoch_loss)\n",
    "\n",
    "    return train_loss, val_loss"
   ]
  },
  {
   "cell_type": "code",
   "execution_count": 34,
   "id": "58eb0a03-1ec7-49c7-9dfc-530a10219de9",
   "metadata": {},
   "outputs": [],
   "source": [
    "epochs = 10\n",
    "path = 'weights/cond_lstm_val.pt'\n",
    "loss = 0.2\n",
    "\n",
    "optimizer = torch.optim.Adam(cond_lstm.parameters(), lr=0.001)\n",
    "criterion = nn.CrossEntropyLoss()"
   ]
  },
  {
   "cell_type": "code",
   "execution_count": 35,
   "id": "c9171143-818e-423f-a030-0a1fe9393c0e",
   "metadata": {},
   "outputs": [
    {
     "name": "stderr",
     "output_type": "stream",
     "text": [
      "D:\\giuse\\Conda\\envs\\thesis\\lib\\site-packages\\torch\\serialization.py:292: UserWarning: Couldn't retrieve source code for container of type CrossEntropyLoss. It won't be checked for correctness upon loading.\n",
      "  \"type \" + obj.__name__ + \". It won't be checked \"\n"
     ]
    }
   ],
   "source": [
    "# save checkpoints\n",
    "torch.save({\n",
    "            'epoch': epochs,\n",
    "            'model_state_dict': cond_lstm.state_dict(),\n",
    "            'optimizer_state_dict': optimizer.state_dict(),\n",
    "            'loss': criterion\n",
    "            }, path)"
   ]
  },
  {
   "cell_type": "code",
   "execution_count": 36,
   "id": "83fc79af-27cf-4951-9d4d-6f47b15a8e3b",
   "metadata": {
    "collapsed": true,
    "jupyter": {
     "outputs_hidden": true
    },
    "tags": []
   },
   "outputs": [
    {
     "name": "stdout",
     "output_type": "stream",
     "text": [
      "Updating loss after training\n",
      "Updating loss after training\n",
      "Updating loss after training\n",
      "Updating loss after training\n",
      "Updating loss after training\n",
      "Epoch: 1/20 - Batch: 5/73 - Train loss: 9.66679\n",
      "Updating loss after training\n",
      "Updating loss after training\n",
      "Updating loss after training\n",
      "Updating loss after training\n",
      "Updating loss after training\n",
      "Epoch: 1/20 - Batch: 10/73 - Train loss: 8.05498\n",
      "Updating loss after training\n",
      "Updating loss after training\n",
      "Updating loss after training\n",
      "Updating loss after training\n",
      "Updating loss after training\n",
      "Epoch: 1/20 - Batch: 15/73 - Train loss: 7.17266\n",
      "Updating loss after training\n",
      "Updating loss after training\n",
      "Updating loss after training\n",
      "Updating loss after training\n",
      "Updating loss after training\n",
      "Epoch: 1/20 - Batch: 20/73 - Train loss: 7.06228\n",
      "Updating loss after training\n",
      "Updating loss after training\n",
      "Updating loss after training\n",
      "Updating loss after training\n",
      "Updating loss after training\n",
      "Epoch: 1/20 - Batch: 25/73 - Train loss: 7.07005\n",
      "Updating loss after training\n",
      "Updating loss after training\n",
      "Updating loss after training\n",
      "Updating loss after training\n",
      "Updating loss after training\n",
      "Epoch: 1/20 - Batch: 30/73 - Train loss: 6.99402\n",
      "Updating loss after training\n",
      "Updating loss after training\n",
      "Updating loss after training\n",
      "Updating loss after training\n",
      "Updating loss after training\n",
      "Epoch: 1/20 - Batch: 35/73 - Train loss: 6.98216\n",
      "Updating loss after training\n",
      "Updating loss after training\n",
      "Updating loss after training\n",
      "Updating loss after training\n",
      "Updating loss after training\n",
      "Epoch: 1/20 - Batch: 40/73 - Train loss: 6.94385\n",
      "Updating loss after training\n",
      "Updating loss after training\n",
      "Updating loss after training\n",
      "Updating loss after training\n",
      "Updating loss after training\n",
      "Epoch: 1/20 - Batch: 45/73 - Train loss: 6.87422\n",
      "Updating loss after training\n",
      "Updating loss after training\n",
      "Updating loss after training\n",
      "Updating loss after training\n",
      "Updating loss after training\n",
      "Epoch: 1/20 - Batch: 50/73 - Train loss: 6.88767\n",
      "Updating loss after training\n",
      "Updating loss after training\n",
      "Updating loss after training\n",
      "Updating loss after training\n",
      "Updating loss after training\n",
      "Epoch: 1/20 - Batch: 55/73 - Train loss: 6.95901\n",
      "Updating loss after training\n",
      "Updating loss after training\n",
      "Updating loss after training\n",
      "Updating loss after training\n",
      "Updating loss after training\n",
      "Epoch: 1/20 - Batch: 60/73 - Train loss: 7.36183\n",
      "Updating loss after training\n",
      "Updating loss after training\n",
      "Updating loss after training\n",
      "Updating loss after training\n",
      "Updating loss after training\n",
      "Epoch: 1/20 - Batch: 65/73 - Train loss: 6.93914\n",
      "Updating loss after training\n",
      "Updating loss after training\n",
      "Updating loss after training\n",
      "Updating loss after training\n",
      "Updating loss after training\n",
      "Epoch: 1/20 - Batch: 70/73 - Train loss: 7.01906\n",
      "Updating loss after training\n",
      "Updating loss after training\n",
      "Updating loss after training\n",
      "\n",
      "Epoch: 1/20 - Average train loss: 7.40407\n",
      "\n",
      "Epoch: 1/20 - Batch: 5/18 - Val loss: 6.93634\n",
      "Epoch: 1/20 - Batch: 10/18 - Val loss: 7.01027\n",
      "Epoch: 1/20 - Batch: 15/18 - Val loss: 7.00766\n",
      "\n",
      "Epoch: 1/20 - Average val loss: 6.99338\n",
      "\n",
      "Updating loss after training\n",
      "Updating loss after training\n",
      "Updating loss after training\n",
      "Updating loss after training\n",
      "Updating loss after training\n",
      "Epoch: 2/20 - Batch: 5/73 - Train loss: 7.16135\n",
      "Updating loss after training\n",
      "Updating loss after training\n",
      "Updating loss after training\n",
      "Updating loss after training\n",
      "Updating loss after training\n",
      "Epoch: 2/20 - Batch: 10/73 - Train loss: 6.91478\n",
      "Updating loss after training\n",
      "Updating loss after training\n",
      "Updating loss after training\n",
      "Updating loss after training\n",
      "Updating loss after training\n",
      "Epoch: 2/20 - Batch: 15/73 - Train loss: 6.84181\n",
      "Updating loss after training\n",
      "Updating loss after training\n",
      "Updating loss after training\n",
      "Updating loss after training\n",
      "Updating loss after training\n",
      "Epoch: 2/20 - Batch: 20/73 - Train loss: 6.96911\n",
      "Updating loss after training\n",
      "Updating loss after training\n",
      "Updating loss after training\n",
      "Updating loss after training\n",
      "Updating loss after training\n",
      "Epoch: 2/20 - Batch: 25/73 - Train loss: 6.93865\n",
      "Updating loss after training\n",
      "Updating loss after training\n",
      "Updating loss after training\n",
      "Updating loss after training\n",
      "Updating loss after training\n",
      "Epoch: 2/20 - Batch: 30/73 - Train loss: 6.88582\n",
      "Updating loss after training\n",
      "Updating loss after training\n",
      "Updating loss after training\n",
      "Updating loss after training\n",
      "Updating loss after training\n",
      "Epoch: 2/20 - Batch: 35/73 - Train loss: 6.89514\n",
      "Updating loss after training\n",
      "Updating loss after training\n",
      "Updating loss after training\n",
      "Updating loss after training\n",
      "Updating loss after training\n",
      "Epoch: 2/20 - Batch: 40/73 - Train loss: 6.86645\n",
      "Updating loss after training\n",
      "Updating loss after training\n",
      "Updating loss after training\n",
      "Updating loss after training\n",
      "Updating loss after training\n",
      "Epoch: 2/20 - Batch: 45/73 - Train loss: 6.83260\n",
      "Updating loss after training\n",
      "Updating loss after training\n",
      "Updating loss after training\n",
      "Updating loss after training\n",
      "Updating loss after training\n",
      "Epoch: 2/20 - Batch: 50/73 - Train loss: 6.82640\n",
      "Updating loss after training\n",
      "Updating loss after training\n",
      "Updating loss after training\n",
      "Updating loss after training\n",
      "Updating loss after training\n",
      "Epoch: 2/20 - Batch: 55/73 - Train loss: 6.92015\n",
      "Updating loss after training\n",
      "Updating loss after training\n",
      "Updating loss after training\n",
      "Updating loss after training\n",
      "Updating loss after training\n",
      "Epoch: 2/20 - Batch: 60/73 - Train loss: 7.27986\n",
      "Updating loss after training\n",
      "Updating loss after training\n",
      "Updating loss after training\n",
      "Updating loss after training\n",
      "Updating loss after training\n",
      "Epoch: 2/20 - Batch: 65/73 - Train loss: 6.89393\n",
      "Updating loss after training\n",
      "Updating loss after training\n",
      "Updating loss after training\n",
      "Updating loss after training\n",
      "Updating loss after training\n",
      "Epoch: 2/20 - Batch: 70/73 - Train loss: 6.96940\n",
      "Updating loss after training\n",
      "Updating loss after training\n",
      "Updating loss after training\n",
      "\n",
      "Epoch: 2/20 - Average train loss: 6.98048\n",
      "\n",
      "Epoch: 2/20 - Batch: 5/18 - Val loss: 6.93361\n",
      "Epoch: 2/20 - Batch: 10/18 - Val loss: 7.01240\n",
      "Epoch: 2/20 - Batch: 15/18 - Val loss: 7.00735\n",
      "\n",
      "Epoch: 2/20 - Average val loss: 6.99254\n",
      "\n",
      "Updating loss after training\n",
      "Updating loss after training\n",
      "Updating loss after training\n",
      "Updating loss after training\n",
      "Updating loss after training\n",
      "Epoch: 3/20 - Batch: 5/73 - Train loss: 7.13453\n",
      "Updating loss after training\n",
      "Updating loss after training\n",
      "Updating loss after training\n",
      "Updating loss after training\n",
      "Updating loss after training\n",
      "Epoch: 3/20 - Batch: 10/73 - Train loss: 6.92031\n",
      "Updating loss after training\n",
      "Updating loss after training\n",
      "Updating loss after training\n",
      "Updating loss after training\n",
      "Updating loss after training\n",
      "Epoch: 3/20 - Batch: 15/73 - Train loss: 6.83668\n",
      "Updating loss after training\n",
      "Updating loss after training\n",
      "Updating loss after training\n",
      "Updating loss after training\n",
      "Updating loss after training\n",
      "Epoch: 3/20 - Batch: 20/73 - Train loss: 6.96715\n",
      "Updating loss after training\n",
      "Updating loss after training\n",
      "Updating loss after training\n",
      "Updating loss after training\n",
      "Updating loss after training\n",
      "Epoch: 3/20 - Batch: 25/73 - Train loss: 6.93213\n",
      "Updating loss after training\n",
      "Updating loss after training\n",
      "Updating loss after training\n",
      "Updating loss after training\n",
      "Updating loss after training\n",
      "Epoch: 3/20 - Batch: 30/73 - Train loss: 6.88432\n",
      "Updating loss after training\n",
      "Updating loss after training\n",
      "Updating loss after training\n",
      "Updating loss after training\n",
      "Updating loss after training\n",
      "Epoch: 3/20 - Batch: 35/73 - Train loss: 6.89142\n",
      "Updating loss after training\n",
      "Updating loss after training\n",
      "Updating loss after training\n",
      "Updating loss after training\n",
      "Updating loss after training\n",
      "Epoch: 3/20 - Batch: 40/73 - Train loss: 6.85774\n",
      "Updating loss after training\n",
      "Updating loss after training\n",
      "Updating loss after training\n",
      "Updating loss after training\n",
      "Updating loss after training\n",
      "Epoch: 3/20 - Batch: 45/73 - Train loss: 6.83092\n",
      "Updating loss after training\n",
      "Updating loss after training\n",
      "Updating loss after training\n",
      "Updating loss after training\n",
      "Updating loss after training\n",
      "Epoch: 3/20 - Batch: 50/73 - Train loss: 6.81769\n",
      "Updating loss after training\n",
      "Updating loss after training\n",
      "Updating loss after training\n",
      "Updating loss after training\n",
      "Updating loss after training\n",
      "Epoch: 3/20 - Batch: 55/73 - Train loss: 6.90812\n",
      "Updating loss after training\n",
      "Updating loss after training\n",
      "Updating loss after training\n",
      "Updating loss after training\n",
      "Updating loss after training\n",
      "Epoch: 3/20 - Batch: 60/73 - Train loss: 7.25799\n",
      "Updating loss after training\n",
      "Updating loss after training\n",
      "Updating loss after training\n",
      "Updating loss after training\n",
      "Updating loss after training\n",
      "Epoch: 3/20 - Batch: 65/73 - Train loss: 6.87856\n",
      "Updating loss after training\n",
      "Updating loss after training\n",
      "Updating loss after training\n",
      "Updating loss after training\n",
      "Updating loss after training\n",
      "Epoch: 3/20 - Batch: 70/73 - Train loss: 6.95780\n",
      "Updating loss after training\n",
      "Updating loss after training\n",
      "Updating loss after training\n",
      "\n",
      "Epoch: 3/20 - Average train loss: 6.97100\n",
      "\n",
      "Epoch: 3/20 - Batch: 5/18 - Val loss: 6.93309\n",
      "Epoch: 3/20 - Batch: 10/18 - Val loss: 7.01301\n",
      "Epoch: 3/20 - Batch: 15/18 - Val loss: 7.00753\n",
      "\n",
      "Epoch: 3/20 - Average val loss: 6.99220\n",
      "\n",
      "Updating loss after training\n",
      "Updating loss after training\n",
      "Updating loss after training\n",
      "Updating loss after training\n",
      "Updating loss after training\n",
      "Epoch: 4/20 - Batch: 5/73 - Train loss: 7.12648\n",
      "Updating loss after training\n",
      "Updating loss after training\n",
      "Updating loss after training\n",
      "Updating loss after training\n",
      "Updating loss after training\n",
      "Epoch: 4/20 - Batch: 10/73 - Train loss: 6.90792\n",
      "Updating loss after training\n",
      "Updating loss after training\n",
      "Updating loss after training\n",
      "Updating loss after training\n",
      "Updating loss after training\n",
      "Epoch: 4/20 - Batch: 15/73 - Train loss: 6.83377\n",
      "Updating loss after training\n",
      "Updating loss after training\n",
      "Updating loss after training\n",
      "Updating loss after training\n",
      "Updating loss after training\n",
      "Epoch: 4/20 - Batch: 20/73 - Train loss: 6.95216\n",
      "Updating loss after training\n",
      "Updating loss after training\n",
      "Updating loss after training\n",
      "Updating loss after training\n",
      "Updating loss after training\n",
      "Epoch: 4/20 - Batch: 25/73 - Train loss: 6.92397\n",
      "Updating loss after training\n",
      "Updating loss after training\n",
      "Updating loss after training\n",
      "Updating loss after training\n",
      "Updating loss after training\n",
      "Epoch: 4/20 - Batch: 30/73 - Train loss: 6.87631\n",
      "Updating loss after training\n",
      "Updating loss after training\n",
      "Updating loss after training\n",
      "Updating loss after training\n",
      "Updating loss after training\n",
      "Epoch: 4/20 - Batch: 35/73 - Train loss: 6.87438\n",
      "Updating loss after training\n",
      "Updating loss after training\n",
      "Updating loss after training\n",
      "Updating loss after training\n",
      "Updating loss after training\n",
      "Epoch: 4/20 - Batch: 40/73 - Train loss: 6.85650\n",
      "Updating loss after training\n",
      "Updating loss after training\n",
      "Updating loss after training\n",
      "Updating loss after training\n",
      "Updating loss after training\n",
      "Epoch: 4/20 - Batch: 45/73 - Train loss: 6.82143\n",
      "Updating loss after training\n",
      "Updating loss after training\n",
      "Updating loss after training\n",
      "Updating loss after training\n",
      "Updating loss after training\n",
      "Epoch: 4/20 - Batch: 50/73 - Train loss: 6.80784\n",
      "Updating loss after training\n",
      "Updating loss after training\n",
      "Updating loss after training\n",
      "Updating loss after training\n",
      "Updating loss after training\n",
      "Epoch: 4/20 - Batch: 55/73 - Train loss: 6.89795\n",
      "Updating loss after training\n",
      "Updating loss after training\n",
      "Updating loss after training\n",
      "Updating loss after training\n",
      "Updating loss after training\n",
      "Epoch: 4/20 - Batch: 60/73 - Train loss: 7.24146\n",
      "Updating loss after training\n",
      "Updating loss after training\n",
      "Updating loss after training\n",
      "Updating loss after training\n",
      "Updating loss after training\n",
      "Epoch: 4/20 - Batch: 65/73 - Train loss: 6.86926\n",
      "Updating loss after training\n",
      "Updating loss after training\n",
      "Updating loss after training\n",
      "Updating loss after training\n",
      "Updating loss after training\n",
      "Epoch: 4/20 - Batch: 70/73 - Train loss: 6.94587\n",
      "Updating loss after training\n",
      "Updating loss after training\n",
      "Updating loss after training\n",
      "\n",
      "Epoch: 4/20 - Average train loss: 6.96060\n",
      "\n",
      "Epoch: 4/20 - Batch: 5/18 - Val loss: 6.93130\n",
      "Epoch: 4/20 - Batch: 10/18 - Val loss: 7.01178\n",
      "Epoch: 4/20 - Batch: 15/18 - Val loss: 7.00574\n",
      "\n",
      "Epoch: 4/20 - Average val loss: 6.99039\n",
      "\n",
      "Updating loss after training\n",
      "Updating loss after training\n",
      "Updating loss after training\n",
      "Updating loss after training\n",
      "Updating loss after training\n",
      "Epoch: 5/20 - Batch: 5/73 - Train loss: 7.10858\n",
      "Updating loss after training\n",
      "Updating loss after training\n",
      "Updating loss after training\n",
      "Updating loss after training\n",
      "Updating loss after training\n",
      "Epoch: 5/20 - Batch: 10/73 - Train loss: 6.90118\n",
      "Updating loss after training\n",
      "Updating loss after training\n",
      "Updating loss after training\n",
      "Updating loss after training\n",
      "Updating loss after training\n",
      "Epoch: 5/20 - Batch: 15/73 - Train loss: 6.82913\n",
      "Updating loss after training\n",
      "Updating loss after training\n",
      "Updating loss after training\n",
      "Updating loss after training\n",
      "Updating loss after training\n",
      "Epoch: 5/20 - Batch: 20/73 - Train loss: 6.94338\n",
      "Updating loss after training\n",
      "Updating loss after training\n",
      "Updating loss after training\n",
      "Updating loss after training\n",
      "Updating loss after training\n",
      "Epoch: 5/20 - Batch: 25/73 - Train loss: 6.91962\n",
      "Updating loss after training\n",
      "Updating loss after training\n",
      "Updating loss after training\n",
      "Updating loss after training\n",
      "Updating loss after training\n",
      "Epoch: 5/20 - Batch: 30/73 - Train loss: 6.86992\n",
      "Updating loss after training\n",
      "Updating loss after training\n",
      "Updating loss after training\n",
      "Updating loss after training\n",
      "Updating loss after training\n",
      "Epoch: 5/20 - Batch: 35/73 - Train loss: 6.87219\n",
      "Updating loss after training\n",
      "Updating loss after training\n",
      "Updating loss after training\n",
      "Updating loss after training\n",
      "Updating loss after training\n",
      "Epoch: 5/20 - Batch: 40/73 - Train loss: 6.84828\n",
      "Updating loss after training\n",
      "Updating loss after training\n",
      "Updating loss after training\n",
      "Updating loss after training\n",
      "Updating loss after training\n",
      "Epoch: 5/20 - Batch: 45/73 - Train loss: 6.81750\n",
      "Updating loss after training\n",
      "Updating loss after training\n",
      "Updating loss after training\n",
      "Updating loss after training\n",
      "Updating loss after training\n",
      "Epoch: 5/20 - Batch: 50/73 - Train loss: 6.80225\n",
      "Updating loss after training\n",
      "Updating loss after training\n",
      "Updating loss after training\n",
      "Updating loss after training\n",
      "Updating loss after training\n",
      "Epoch: 5/20 - Batch: 55/73 - Train loss: 6.89890\n",
      "Updating loss after training\n",
      "Updating loss after training\n",
      "Updating loss after training\n",
      "Updating loss after training\n",
      "Updating loss after training\n",
      "Epoch: 5/20 - Batch: 60/73 - Train loss: 7.23435\n",
      "Updating loss after training\n",
      "Updating loss after training\n",
      "Updating loss after training\n",
      "Updating loss after training\n",
      "Updating loss after training\n",
      "Epoch: 5/20 - Batch: 65/73 - Train loss: 6.86305\n",
      "Updating loss after training\n",
      "Updating loss after training\n",
      "Updating loss after training\n",
      "Updating loss after training\n",
      "Updating loss after training\n",
      "Epoch: 5/20 - Batch: 70/73 - Train loss: 6.94461\n",
      "Updating loss after training\n",
      "Updating loss after training\n",
      "Updating loss after training\n",
      "\n",
      "Epoch: 5/20 - Average train loss: 6.95294\n",
      "\n",
      "Epoch: 5/20 - Batch: 5/18 - Val loss: 6.93133\n",
      "Epoch: 5/20 - Batch: 10/18 - Val loss: 7.01365\n",
      "Epoch: 5/20 - Batch: 15/18 - Val loss: 7.00501\n",
      "\n",
      "Epoch: 5/20 - Average val loss: 6.99052\n",
      "\n",
      "Updating loss after training\n",
      "Updating loss after training\n",
      "Updating loss after training\n",
      "Updating loss after training\n",
      "Updating loss after training\n",
      "Epoch: 6/20 - Batch: 5/73 - Train loss: 7.09684\n",
      "Updating loss after training\n",
      "Updating loss after training\n",
      "Updating loss after training\n",
      "Updating loss after training\n",
      "Updating loss after training\n",
      "Epoch: 6/20 - Batch: 10/73 - Train loss: 6.89635\n",
      "Updating loss after training\n",
      "Updating loss after training\n",
      "Updating loss after training\n",
      "Updating loss after training\n",
      "Updating loss after training\n",
      "Epoch: 6/20 - Batch: 15/73 - Train loss: 6.82273\n",
      "Updating loss after training\n",
      "Updating loss after training\n",
      "Updating loss after training\n",
      "Updating loss after training\n",
      "Updating loss after training\n",
      "Epoch: 6/20 - Batch: 20/73 - Train loss: 6.94125\n",
      "Updating loss after training\n",
      "Updating loss after training\n",
      "Updating loss after training\n",
      "Updating loss after training\n",
      "Updating loss after training\n",
      "Epoch: 6/20 - Batch: 25/73 - Train loss: 6.90865\n",
      "Updating loss after training\n",
      "Updating loss after training\n",
      "Updating loss after training\n",
      "Updating loss after training\n",
      "Updating loss after training\n",
      "Epoch: 6/20 - Batch: 30/73 - Train loss: 6.86977\n",
      "Updating loss after training\n",
      "Updating loss after training\n",
      "Updating loss after training\n",
      "Updating loss after training\n",
      "Updating loss after training\n",
      "Epoch: 6/20 - Batch: 35/73 - Train loss: 6.86915\n",
      "Updating loss after training\n",
      "Updating loss after training\n",
      "Updating loss after training\n",
      "Updating loss after training\n",
      "Updating loss after training\n",
      "Epoch: 6/20 - Batch: 40/73 - Train loss: 6.84822\n",
      "Updating loss after training\n",
      "Updating loss after training\n",
      "Updating loss after training\n",
      "Updating loss after training\n",
      "Updating loss after training\n",
      "Epoch: 6/20 - Batch: 45/73 - Train loss: 6.81444\n",
      "Updating loss after training\n",
      "Updating loss after training\n",
      "Updating loss after training\n",
      "Updating loss after training\n",
      "Updating loss after training\n",
      "Epoch: 6/20 - Batch: 50/73 - Train loss: 6.79881\n",
      "Updating loss after training\n",
      "Updating loss after training\n",
      "Updating loss after training\n",
      "Updating loss after training\n",
      "Updating loss after training\n",
      "Epoch: 6/20 - Batch: 55/73 - Train loss: 6.89134\n",
      "Updating loss after training\n",
      "Updating loss after training\n",
      "Updating loss after training\n",
      "Updating loss after training\n",
      "Updating loss after training\n",
      "Epoch: 6/20 - Batch: 60/73 - Train loss: 7.22301\n",
      "Updating loss after training\n",
      "Updating loss after training\n",
      "Updating loss after training\n",
      "Updating loss after training\n",
      "Updating loss after training\n",
      "Epoch: 6/20 - Batch: 65/73 - Train loss: 6.86265\n",
      "Updating loss after training\n",
      "Updating loss after training\n",
      "Updating loss after training\n",
      "Updating loss after training\n",
      "Updating loss after training\n",
      "Epoch: 6/20 - Batch: 70/73 - Train loss: 6.93824\n",
      "Updating loss after training\n",
      "Updating loss after training\n",
      "Updating loss after training\n",
      "\n",
      "Epoch: 6/20 - Average train loss: 6.94667\n",
      "\n",
      "Epoch: 6/20 - Batch: 5/18 - Val loss: 6.92908\n",
      "Epoch: 6/20 - Batch: 10/18 - Val loss: 7.01186\n",
      "Epoch: 6/20 - Batch: 15/18 - Val loss: 7.00102\n",
      "\n",
      "Epoch: 6/20 - Average val loss: 6.98670\n",
      "\n",
      "Updating loss after training\n",
      "Updating loss after training\n",
      "Updating loss after training\n",
      "Updating loss after training\n",
      "Updating loss after training\n",
      "Epoch: 7/20 - Batch: 5/73 - Train loss: 7.09502\n"
     ]
    },
    {
     "ename": "KeyboardInterrupt",
     "evalue": "",
     "output_type": "error",
     "traceback": [
      "\u001b[1;31m---------------------------------------------------------------------------\u001b[0m",
      "\u001b[1;31mKeyboardInterrupt\u001b[0m                         Traceback (most recent call last)",
      "\u001b[1;32m<ipython-input-36-6833c16b8554>\u001b[0m in \u001b[0;36m<module>\u001b[1;34m\u001b[0m\n\u001b[1;32m----> 1\u001b[1;33m \u001b[0mtrain_loss\u001b[0m\u001b[1;33m,\u001b[0m \u001b[0mval_loss\u001b[0m \u001b[1;33m=\u001b[0m \u001b[0mtrain\u001b[0m\u001b[1;33m(\u001b[0m\u001b[0mcond_lstm\u001b[0m\u001b[1;33m,\u001b[0m \u001b[0mbatch_size\u001b[0m\u001b[1;33m=\u001b[0m\u001b[0mbatch_size\u001b[0m\u001b[1;33m,\u001b[0m \u001b[0mepochs\u001b[0m\u001b[1;33m=\u001b[0m\u001b[1;36m20\u001b[0m\u001b[1;33m,\u001b[0m \u001b[0mprint_every\u001b[0m\u001b[1;33m=\u001b[0m\u001b[1;36m5\u001b[0m\u001b[1;33m)\u001b[0m\u001b[1;33m\u001b[0m\u001b[1;33m\u001b[0m\u001b[0m\n\u001b[0m",
      "\u001b[1;32m<ipython-input-33-ad51297a849e>\u001b[0m in \u001b[0;36mtrain\u001b[1;34m(model, epochs, batch_size, lr, clip, print_every)\u001b[0m\n\u001b[0;32m     51\u001b[0m                 \u001b[1;32mif\u001b[0m \u001b[0mphase\u001b[0m \u001b[1;33m==\u001b[0m \u001b[1;34m'train'\u001b[0m\u001b[1;33m:\u001b[0m\u001b[1;33m\u001b[0m\u001b[1;33m\u001b[0m\u001b[0m\n\u001b[0;32m     52\u001b[0m                     \u001b[1;31m# back-propagate error\u001b[0m\u001b[1;33m\u001b[0m\u001b[1;33m\u001b[0m\u001b[1;33m\u001b[0m\u001b[0m\n\u001b[1;32m---> 53\u001b[1;33m                     \u001b[0mloss\u001b[0m\u001b[1;33m.\u001b[0m\u001b[0mbackward\u001b[0m\u001b[1;33m(\u001b[0m\u001b[1;33m)\u001b[0m\u001b[1;33m\u001b[0m\u001b[1;33m\u001b[0m\u001b[0m\n\u001b[0m\u001b[0;32m     54\u001b[0m \u001b[1;33m\u001b[0m\u001b[0m\n\u001b[0;32m     55\u001b[0m                     \u001b[1;31m# `clip_grad_norm` helps prevent exploding gradient\u001b[0m\u001b[1;33m\u001b[0m\u001b[1;33m\u001b[0m\u001b[1;33m\u001b[0m\u001b[0m\n",
      "\u001b[1;32mD:\\giuse\\Conda\\envs\\thesis\\lib\\site-packages\\torch\\tensor.py\u001b[0m in \u001b[0;36mbackward\u001b[1;34m(self, gradient, retain_graph, create_graph)\u001b[0m\n\u001b[0;32m    164\u001b[0m                 \u001b[0mproducts\u001b[0m\u001b[1;33m.\u001b[0m \u001b[0mDefaults\u001b[0m \u001b[0mto\u001b[0m\u001b[0;31m \u001b[0m\u001b[0;31m`\u001b[0m\u001b[0;31m`\u001b[0m\u001b[1;32mFalse\u001b[0m\u001b[0;31m`\u001b[0m\u001b[0;31m`\u001b[0m\u001b[1;33m.\u001b[0m\u001b[1;33m\u001b[0m\u001b[1;33m\u001b[0m\u001b[0m\n\u001b[0;32m    165\u001b[0m         \"\"\"\n\u001b[1;32m--> 166\u001b[1;33m         \u001b[0mtorch\u001b[0m\u001b[1;33m.\u001b[0m\u001b[0mautograd\u001b[0m\u001b[1;33m.\u001b[0m\u001b[0mbackward\u001b[0m\u001b[1;33m(\u001b[0m\u001b[0mself\u001b[0m\u001b[1;33m,\u001b[0m \u001b[0mgradient\u001b[0m\u001b[1;33m,\u001b[0m \u001b[0mretain_graph\u001b[0m\u001b[1;33m,\u001b[0m \u001b[0mcreate_graph\u001b[0m\u001b[1;33m)\u001b[0m\u001b[1;33m\u001b[0m\u001b[1;33m\u001b[0m\u001b[0m\n\u001b[0m\u001b[0;32m    167\u001b[0m \u001b[1;33m\u001b[0m\u001b[0m\n\u001b[0;32m    168\u001b[0m     \u001b[1;32mdef\u001b[0m \u001b[0mregister_hook\u001b[0m\u001b[1;33m(\u001b[0m\u001b[0mself\u001b[0m\u001b[1;33m,\u001b[0m \u001b[0mhook\u001b[0m\u001b[1;33m)\u001b[0m\u001b[1;33m:\u001b[0m\u001b[1;33m\u001b[0m\u001b[1;33m\u001b[0m\u001b[0m\n",
      "\u001b[1;32mD:\\giuse\\Conda\\envs\\thesis\\lib\\site-packages\\torch\\autograd\\__init__.py\u001b[0m in \u001b[0;36mbackward\u001b[1;34m(tensors, grad_tensors, retain_graph, create_graph, grad_variables)\u001b[0m\n\u001b[0;32m     97\u001b[0m     Variable._execution_engine.run_backward(\n\u001b[0;32m     98\u001b[0m         \u001b[0mtensors\u001b[0m\u001b[1;33m,\u001b[0m \u001b[0mgrad_tensors\u001b[0m\u001b[1;33m,\u001b[0m \u001b[0mretain_graph\u001b[0m\u001b[1;33m,\u001b[0m \u001b[0mcreate_graph\u001b[0m\u001b[1;33m,\u001b[0m\u001b[1;33m\u001b[0m\u001b[1;33m\u001b[0m\u001b[0m\n\u001b[1;32m---> 99\u001b[1;33m         allow_unreachable=True)  # allow_unreachable flag\n\u001b[0m\u001b[0;32m    100\u001b[0m \u001b[1;33m\u001b[0m\u001b[0m\n\u001b[0;32m    101\u001b[0m \u001b[1;33m\u001b[0m\u001b[0m\n",
      "\u001b[1;31mKeyboardInterrupt\u001b[0m: "
     ]
    }
   ],
   "source": [
    "train_loss, val_loss = train(cond_lstm, batch_size=batch_size, epochs=20, print_every=5)"
   ]
  },
  {
   "cell_type": "code",
   "execution_count": null,
   "id": "b900b276-f2c6-430c-97c8-8a5aac95971e",
   "metadata": {},
   "outputs": [],
   "source": [
    "train_loss_w2v, val_loss_w2v = train(cond_lstm_w2v, batch_size=batch_size, epochs=20, print_every=5)"
   ]
  },
  {
   "cell_type": "code",
   "execution_count": null,
   "id": "4183078a-09f0-4a41-9c39-26db09deda1e",
   "metadata": {},
   "outputs": [
    {
     "data": {
      "text/plain": [
       "6.8643065558539496"
      ]
     },
     "execution_count": 52,
     "metadata": {},
     "output_type": "execute_result"
    }
   ],
   "source": [
    "loss = min(val_loss)"
   ]
  },
  {
   "cell_type": "code",
   "execution_count": 55,
   "id": "67d843da-1da5-41ff-a2e1-fde07c8c0fe5",
   "metadata": {},
   "outputs": [
    {
     "data": {
      "text/plain": [
       "957.4816494960307"
      ]
     },
     "execution_count": 55,
     "metadata": {},
     "output_type": "execute_result"
    }
   ],
   "source": [
    "perplexity = math.exp(loss)\n",
    "perplexity"
   ]
  },
  {
   "cell_type": "markdown",
   "id": "ba89627b-3be6-44f7-9fda-4fdf55d6c71f",
   "metadata": {
    "tags": []
   },
   "source": [
    "### Saving / Loading"
   ]
  },
  {
   "cell_type": "code",
   "execution_count": null,
   "id": "8800402e-da35-4466-9735-896cf7640a50",
   "metadata": {},
   "outputs": [],
   "source": [
    "torch.save(cond_lstm_w2v.state_dict(), path)"
   ]
  },
  {
   "cell_type": "code",
   "execution_count": null,
   "id": "fc5115f3-1009-448a-9560-4200dc90928f",
   "metadata": {},
   "outputs": [],
   "source": [
    "cond_lstm_w2v.load_state_dict(torch.load(path))"
   ]
  },
  {
   "cell_type": "code",
   "execution_count": null,
   "id": "b514b226-8530-4fcf-9bf1-1b91cef49268",
   "metadata": {},
   "outputs": [],
   "source": [
    "cond_lstm_w2v.eval()"
   ]
  },
  {
   "cell_type": "code",
   "execution_count": null,
   "id": "a7f627ac-1cca-4628-97a9-731307742eb1",
   "metadata": {},
   "outputs": [],
   "source": [
    "for param_tensor in cond_lstm_w2v.state_dict():\n",
    "    print(param_tensor, \"\\t\", cond_lstm_w2v.state_dict()[param_tensor].size())"
   ]
  },
  {
   "cell_type": "markdown",
   "id": "7e6d2cfe-fa23-43f0-ac9a-873c02886fb6",
   "metadata": {
    "tags": []
   },
   "source": [
    "## Generation"
   ]
  },
  {
   "cell_type": "code",
   "execution_count": 38,
   "id": "9fec25ee-1384-4327-bf8f-2b574865057a",
   "metadata": {},
   "outputs": [],
   "source": [
    "def word_to_id(word):\n",
    "    return w2v_model.wv.key_to_index[word]\n",
    "\n",
    "def id_to_word(id):\n",
    "    return w2v_model.wv.index_to_key[id]"
   ]
  },
  {
   "cell_type": "code",
   "execution_count": 39,
   "id": "1542bc82-cb1a-4ddc-af39-be52eb00bf72",
   "metadata": {},
   "outputs": [],
   "source": [
    "# predict next token\n",
    "def predict(model, t, h=None): # default value as None for first iteration\n",
    "         \n",
    "    # tensor inputs\n",
    "    x = np.array([[word_to_id(t)]])\n",
    "    inputs = torch.from_numpy(x)\n",
    "\n",
    "    # detach hidden state from history\n",
    "    h = tuple([each.data for each in h])\n",
    "\n",
    "    # get the output of the model\n",
    "    out, h = model(inputs, h)\n",
    "\n",
    "    # get the token probabilities\n",
    "    p = F.softmax(out, dim=1).data\n",
    "    \n",
    "    p = p.numpy()\n",
    "    p = p.reshape(p.shape[1],)\n",
    "\n",
    "    # get indices of top n values\n",
    "    top_ids = p.argsort()[-10:][::-1]\n",
    "\n",
    "    # sample id of next word from top n values\n",
    "    next_id = top_ids[random.sample([0,1,2,3,4,5,6,7,8,9],1)[0]]\n",
    "\n",
    "    # return the value of the predicted word and the hidden state\n",
    "    return id_to_word(next_id), h"
   ]
  },
  {
   "cell_type": "code",
   "execution_count": 40,
   "id": "6d200b9a-586c-46af-89f6-2e2f05839baa",
   "metadata": {},
   "outputs": [],
   "source": [
    "gen_batch_size = 1"
   ]
  },
  {
   "cell_type": "code",
   "execution_count": 41,
   "id": "2cdc8a3c-73b7-4139-8c51-38f9fecf82cd",
   "metadata": {},
   "outputs": [],
   "source": [
    "# PCA for generation batch size\n",
    "gen_pca_topics = PCA(n_components=n_layers * gen_batch_size, svd_solver='full').fit_transform(trans_topics)\n",
    "gen_pca_trans = np.transpose(gen_pca_topics)"
   ]
  },
  {
   "cell_type": "code",
   "execution_count": 42,
   "id": "913b9806-ea23-469f-89a6-0d7ff46a33ec",
   "metadata": {},
   "outputs": [],
   "source": [
    "# function to generate text\n",
    "def generate(model=cond_lstm, n=10, prompt='in this paper'):\n",
    "    \n",
    "    model.eval()\n",
    "    \n",
    "    h = (torch.FloatTensor(gen_pca_trans.reshape(n_layers, gen_batch_size, n_hidden)),\n",
    "         torch.ones(n_layers, gen_batch_size, n_hidden))\n",
    "\n",
    "    words = prompt.split()\n",
    "\n",
    "    # predict next token\n",
    "    for t in prompt.split():\n",
    "        token, h = predict(model, t, h)\n",
    "    \n",
    "    words.append(token)\n",
    "\n",
    "    # predict subsequent tokens\n",
    "    for i in range(n-1):\n",
    "        token, h = predict(model, words[-1], h)\n",
    "        words.append(token)\n",
    "\n",
    "    return ' '.join(words)"
   ]
  },
  {
   "cell_type": "code",
   "execution_count": 43,
   "id": "adab21b4-3b4c-42bb-be3c-a66726aaaafe",
   "metadata": {},
   "outputs": [
    {
     "data": {
      "text/plain": [
       "'in this paper to and this language a a this be of of an be word we a of language in word language that a be paper to word a of and word word we be of this paper on to language a a paper for language a word we language of of'"
      ]
     },
     "execution_count": 43,
     "metadata": {},
     "output_type": "execute_result"
    }
   ],
   "source": [
    "generate(model=cond_lstm_w2v, n=50)"
   ]
  },
  {
   "cell_type": "code",
   "execution_count": 44,
   "id": "be8a26be-7a2e-4e3c-be86-fff764e819fd",
   "metadata": {},
   "outputs": [
    {
     "data": {
      "text/plain": [
       "'a better method to present of this an word language we the language this and this the paper in a and paper we a and an a the of word language that is of paper of an the word in be paper on to language the and word to a paper on language this and be a an this of an word the the and and a language for be paper in an an of be this language to present word word we an and and language for word this and and and be to word a an word and be paper we present'"
      ]
     },
     "execution_count": 44,
     "metadata": {},
     "output_type": "execute_result"
    }
   ],
   "source": [
    "generate(model=cond_lstm_w2v, n=100, prompt='a better method to')"
   ]
  },
  {
   "cell_type": "markdown",
   "id": "7ec48bd6-4fd3-4d53-9d9a-ed9f4d4c048b",
   "metadata": {
    "tags": []
   },
   "source": [
    "## Evaluation"
   ]
  },
  {
   "cell_type": "code",
   "execution_count": null,
   "id": "dbe735f7-b224-471c-b3be-14a0462607c9",
   "metadata": {},
   "outputs": [],
   "source": []
  }
 ],
 "metadata": {
  "kernelspec": {
   "display_name": "Python 3",
   "language": "python",
   "name": "python3"
  },
  "language_info": {
   "codemirror_mode": {
    "name": "ipython",
    "version": 3
   },
   "file_extension": ".py",
   "mimetype": "text/x-python",
   "name": "python",
   "nbconvert_exporter": "python",
   "pygments_lexer": "ipython3",
   "version": "3.6.13"
  }
 },
 "nbformat": 4,
 "nbformat_minor": 5
}
